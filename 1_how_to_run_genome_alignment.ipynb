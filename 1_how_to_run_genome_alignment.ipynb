{
 "cells": [
  {
   "cell_type": "markdown",
   "metadata": {
    "collapsed": true,
    "pycharm": {
     "name": "#%% md\n"
    }
   },
   "source": [
    "# How to run genome alignment\n",
    "\n",
    "Purpose is to map raw reads to reference genome.\n",
    "\n",
    "Input:\n",
    " * fastq files (raw reads)\n",
    "\n",
    "Output:\n",
    " * bam alignment file (aligned to reference genome)\n",
    " * bam tabix index file for fast chrom and position range lookups\n",
    "\n",
    "## Dependencies\n",
    "\n",
    "### Install\n",
    "\n",
    "`bowtie2` and `samtools`\n",
    "\n",
    "Example using bioconda:\n",
    " * https://anaconda.org/bioconda/samtools\n",
    " * https://anaconda.org/bioconda/bowtie2\n",
    "\n",
    "### Download reference genome (hg38)\n",
    "\n",
    "Download `GCA_000001405.15_GRCh38_full_analysis_set.fna.gz`, `GCA_000001405.15_GRCh38_full_analysis_set.fna.fai` and `GCA_000001405.15_GRCh38_full_analysis_set.fna.bowtie_index.tar.gz` files from [ncbi](ftp://ftp.ncbi.nlm.nih.gov/genomes/all/GCA/000/001/405/GCA_000001405.22_GRCh38.p7/GRCh38_major_release_seqs_for_alignment_pipelines).\n",
    "\n",
    "## Run the alignment\n",
    "\n",
    "If running locally make sure you have around 10-30h to spare and 300GB of free hard disk."
   ]
  },
  {
   "cell_type": "code",
   "execution_count": null,
   "outputs": [],
   "source": [
    "%%time\n",
    "! #bowtie2-build /path/to/ref_gen/GCA_000001405.22_GRCh38.p7_genomic.fna.gz /path/to/ref_gen/index_bowtie_GRCh38.p7 # create bowtie2 index if you didn't download it\n",
    "! bowtie2 -p 7 -x /path/to/ref_gen/index_bowtie_GRCh38.p7 -1 /path/to/data/my_genome_fastq_001.fastq.gz -2 /path/to/data/my_genome_fastq_002.fastq.gz -S /path/to/data/my_genome_hg38.p7.unsorted.sam # p for number of process; -x index refers to the bowtie index folder"
   ],
   "metadata": {
    "collapsed": false,
    "pycharm": {
     "name": "#%%\n"
    }
   }
  },
  {
   "cell_type": "markdown",
   "source": [
    "Need to sort alignment results and make them easily searchable (create tabix index which enables quick read lookups based on contig and position range)."
   ],
   "metadata": {
    "collapsed": false,
    "pycharm": {
     "name": "#%% md\n"
    }
   }
  },
  {
   "cell_type": "code",
   "execution_count": null,
   "outputs": [],
   "source": [
    "%%time\n",
    "! samtools sort -@ 7 /path/to/data/GENOME12345_hg38.p7.unsorted.bam -o /path/to/data/GENOME12345_hg38.p7.bam # decreases the size of the alignment file to around 40GB; -@ for number of parallel threads\n",
    "! samtools index -@ 7 /path/to/data/GENOME12345_hg38.p7.bam # created GENOME12345_hg38.p7.bam.bai index file for fast lookups; -@ for number of parallel threads"
   ],
   "metadata": {
    "collapsed": false,
    "pycharm": {
     "name": "#%%\n"
    }
   }
  }
 ],
 "metadata": {
  "kernelspec": {
   "display_name": "Python 3",
   "language": "python",
   "name": "python3"
  },
  "language_info": {
   "codemirror_mode": {
    "name": "ipython",
    "version": 2
   },
   "file_extension": ".py",
   "mimetype": "text/x-python",
   "name": "python",
   "nbconvert_exporter": "python",
   "pygments_lexer": "ipython2",
   "version": "2.7.6"
  }
 },
 "nbformat": 4,
 "nbformat_minor": 0
}