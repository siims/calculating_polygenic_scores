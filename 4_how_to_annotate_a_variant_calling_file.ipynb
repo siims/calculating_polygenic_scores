{
 "cells": [
  {
   "cell_type": "markdown",
   "metadata": {
    "collapsed": true,
    "pycharm": {
     "name": "#%% md\n"
    }
   },
   "source": [
    "# How to annotate a variant calling file?\n",
    "\n",
    "What are RS id numbers?\n",
    "\n",
    "> The rs number is an accession number used by researchers and databases to refer to specific SNPs. It stands for Reference SNP cluster ID. [source: 23andme](https://customercare.23andme.com/hc/en-us/articles/212196908-What-are-rs-numbers-rsid-)\n",
    "\n",
    "Raw vcf files don't have RS ids included. RR ids are good to use when they are available as they are reference genome build agnostic - meaning easy to use for variance lookups across different genome builds.\n",
    "\n",
    "This notebook will show how to use tool called [annovar](https://www.openbioinformatics.org/annovar/) (free for personal and academical usage) to annotate a vcf file with RS IDs.\n",
    "\n",
    "### Shortcomings\n",
    "\n",
    "1. Relying on correctness of `annovar` annotations. Haven't properly validated the results."
   ]
  },
  {
   "cell_type": "code",
   "execution_count": null,
   "outputs": [],
   "source": [
    "from pathlib import Path\n",
    "import re"
   ],
   "metadata": {
    "collapsed": false,
    "pycharm": {
     "name": "#%%\n"
    }
   }
  },
  {
   "cell_type": "markdown",
   "source": [
    "## Inputs"
   ],
   "metadata": {
    "collapsed": false,
    "pycharm": {
     "name": "#%% md\n"
    }
   }
  },
  {
   "cell_type": "code",
   "source": [
    "project_root_dir = Path(\"/home/s/src/search_your_dna/\")\n",
    "raw_vcf_file = \"data/GFX0237425.GRCh38.p7.vcf\""
   ],
   "metadata": {
    "collapsed": false,
    "pycharm": {
     "name": "#%%\n"
    }
   },
   "execution_count": null,
   "outputs": []
  },
  {
   "cell_type": "markdown",
   "source": [
    "## Outputs"
   ],
   "metadata": {
    "collapsed": false,
    "pycharm": {
     "name": "#%% md\n"
    }
   }
  },
  {
   "cell_type": "code",
   "execution_count": null,
   "outputs": [],
   "source": [
    "annovar_hg38_metadata_dir = \"data/hg38\"\n",
    "annotated_vcf_file = \"data/GFX0237425.GRCh38.p7.annotated.vcf\"\n",
    "annotated_vcf_compressed_file = f\"{annotated_vcf_file}.gz\"\n",
    "annotated_vcf_tabix_file = f\"{annotated_vcf_compressed_file}.tbi\"\n",
    "annotated_vcf_rsidx_file = f\"{annotated_vcf_compressed_file}.rsidx\"\n",
    "\n",
    "# not really relevant and can be deleted after\n",
    "annovar_annotated_vcf_file = \"data/GFX0237425.GRCh38.p7.raw_annotated.vcf\""
   ],
   "metadata": {
    "collapsed": false,
    "pycharm": {
     "name": "#%%\n"
    }
   }
  },
  {
   "cell_type": "markdown",
   "source": [
    "## Using Annovar to annotate variance call file\n",
    "\n",
    "Example from: https://annovar.openbioinformatics.org/en/latest/user-guide/startup/"
   ],
   "metadata": {
    "collapsed": false,
    "pycharm": {
     "name": "#%% md\n"
    }
   }
  },
  {
   "cell_type": "code",
   "execution_count": null,
   "outputs": [],
   "source": [
    "# replace path values /path/to/annovar and /project_root_dir/annovar_hg38_metadata_dir\n",
    "!/path/to/annovar/annotate_variation.pl -buildver hg38 -downdb -webfrom annovar avsnp150 /project_root_dir/annovar_hg38_metadata_dir"
   ],
   "metadata": {
    "collapsed": false,
    "pycharm": {
     "name": "#%%\n"
    }
   }
  },
  {
   "cell_type": "code",
   "execution_count": null,
   "outputs": [],
   "source": [
    "# replace path values /path/to/annovar, /project_root_dir/raw_vcf_file.vcf, /project_root_dir/annovar_hg38_metadata_dir, /project_root_dir/annovar_annotated_vcf_file\n",
    "!/path/to/annovar /table_annovar.pl /project_root_dir/raw_vcf_file.vcf /project_root_dir/annovar_hg38_metadata_dir -buildver hg38 -out /project_root_dir/annovar_annotated_vcf_file -remove -protocol avsnp150 -operation gx,f -nastring . -vcfinput -polish"
   ],
   "metadata": {
    "collapsed": false,
    "pycharm": {
     "name": "#%%\n"
    }
   }
  },
  {
   "cell_type": "markdown",
   "source": [
    "### Move rsid to the ID columns\n",
    "\n",
    "Unfortunately annovar doesn't populate ID field in the vcf file, but add RS ids to the `info` column. Having ID column filled with RS ids is useful for creating indices to make lookups based on RS ids fast."
   ],
   "metadata": {
    "collapsed": false,
    "pycharm": {
     "name": "#%% md\n"
    }
   }
  },
  {
   "cell_type": "code",
   "execution_count": null,
   "outputs": [],
   "source": [
    "header_pattern = \"#CHROM\\tPOS\\tID\"\n",
    "with open(str(project_root_dir / annovar_annotated_vcf_file), \"r\") as raw_f:\n",
    "    with open(str(project_root_dir / annotated_vcf_file), \"w\") as new_f:\n",
    "        passed_header = False\n",
    "        for line_text in raw_f:\n",
    "            if not passed_header:\n",
    "                if re.search(header_pattern, line_text):\n",
    "                    passed_header = True\n",
    "                new_f.writelines([line_text])\n",
    "            else:\n",
    "                line_parts = line_text.split(\"\\t\")\n",
    "                rsid_from_info = next(filter(lambda t: \"avsnp150\" in t, line_parts[-3].split(\";\"))).split(\"=\")[1]\n",
    "                line_parts[2] = rsid_from_info\n",
    "                new_f.writelines([\"\\t\".join(line_parts)])"
   ],
   "metadata": {
    "collapsed": false,
    "pycharm": {
     "name": "#%%\n"
    }
   }
  },
  {
   "cell_type": "markdown",
   "source": [
    "### Compress and create tabix index"
   ],
   "metadata": {
    "collapsed": false,
    "pycharm": {
     "name": "#%% md\n"
    }
   }
  },
  {
   "cell_type": "code",
   "execution_count": null,
   "outputs": [],
   "source": [
    "# replace path values /project_root_dir/annotated_vcf_file.vcf and /project_root_dir/annotated_vcf_file.vcf.gz\n",
    "!bgzip -c /project_root_dir/annotated_vcf_file.vcf > /project_root_dir/annotated_vcf_file.vcf.gz\n",
    "!tabix -p vcf /project_root_dir/annotated_vcf_file.vcf.gz"
   ],
   "metadata": {
    "collapsed": false,
    "pycharm": {
     "name": "#%%\n"
    }
   }
  },
  {
   "cell_type": "markdown",
   "source": [
    "### Create index for rsid"
   ],
   "metadata": {
    "collapsed": false,
    "pycharm": {
     "name": "#%% md\n"
    }
   }
  },
  {
   "cell_type": "code",
   "execution_count": null,
   "outputs": [],
   "source": [
    "# replace path values /project_root_dir/annotated_vcf_file.vcf.gz and /project_root_dir/annotated_vcf_file.vcf.rsidx\n",
    "!rsidx index /project_root_dir/annotated_vcf_file.vcf.gz /project_root_dir/annotated_vcf_file.vcf.rsidx"
   ],
   "metadata": {
    "collapsed": false,
    "pycharm": {
     "name": "#%%\n"
    }
   }
  }
 ],
 "metadata": {
  "kernelspec": {
   "display_name": "Python 3",
   "language": "python",
   "name": "python3"
  },
  "language_info": {
   "codemirror_mode": {
    "name": "ipython",
    "version": 2
   },
   "file_extension": ".py",
   "mimetype": "text/x-python",
   "name": "python",
   "nbconvert_exporter": "python",
   "pygments_lexer": "ipython2",
   "version": "2.7.6"
  }
 },
 "nbformat": 4,
 "nbformat_minor": 0
}