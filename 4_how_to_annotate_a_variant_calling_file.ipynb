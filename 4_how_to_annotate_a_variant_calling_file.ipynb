{
 "cells": [
  {
   "cell_type": "markdown",
   "metadata": {
    "collapsed": true,
    "pycharm": {
     "name": "#%% md\n"
    }
   },
   "source": [
    "# How to annotate a variant calling file?\n",
    "\n",
    "What are RS id numbers?\n",
    "\n",
    "> The rs number is an accession number used by researchers and databases to refer to specific SNPs. It stands for Reference SNP cluster ID. [source: 23andme](https://customercare.23andme.com/hc/en-us/articles/212196908-What-are-rs-numbers-rsid-)\n",
    "\n",
    "Raw vcf files don't have RS ids included. RR ids are good to use when they are available as they are reference genome build agnostic - meaning easy to use for variance lookups across different genome builds.\n",
    "\n",
    "This notebook will show how to use tool called [annovar](https://www.openbioinformatics.org/annovar/) (free for personal and academical usage) to annotate a vcf file with RS IDs.\n",
    "\n",
    "*Current shortcomings:*\n",
    "\n",
    "1. Relying on correctness of `annovar` annotations. Haven't properly validated the results."
   ]
  },
  {
   "cell_type": "code",
   "execution_count": null,
   "outputs": [],
   "source": [
    "from pathlib import Path\n",
    "import re\n",
    "from typing import List"
   ],
   "metadata": {
    "collapsed": false,
    "pycharm": {
     "name": "#%%\n"
    }
   }
  },
  {
   "cell_type": "markdown",
   "source": [
    "## Inputs"
   ],
   "metadata": {
    "collapsed": false,
    "pycharm": {
     "name": "#%% md\n"
    }
   }
  },
  {
   "cell_type": "code",
   "source": [
    "root_path = Path(\"/home/s/src/search_your_dna\")\n",
    "root_path.mkdir(parents=True, exist_ok=True)\n",
    "\n",
    "raw_vcf_file = root_path / \"data\" / \"GFX0237425.GRCh38.p7.vcf\""
   ],
   "metadata": {
    "collapsed": false,
    "pycharm": {
     "name": "#%%\n"
    }
   },
   "execution_count": null,
   "outputs": []
  },
  {
   "cell_type": "markdown",
   "source": [
    "## Outputs"
   ],
   "metadata": {
    "collapsed": false,
    "pycharm": {
     "name": "#%% md\n"
    }
   }
  },
  {
   "cell_type": "code",
   "execution_count": null,
   "outputs": [],
   "source": [
    "output_path = root_path / \"data\" / \"output_4\"\n",
    "output_path.mkdir(parents=True, exist_ok=True)\n",
    "\n",
    "annovar_hg38_metadata_dir = output_path / \"hg38\"\n",
    "rsid_annotated_vcf_file = output_path / \"GFX0237425.GRCh38.p7.rsid_annotated.vcf\"\n",
    "rsid_annotated_vcf_compressed_file = rsid_annotated_vcf_file.parent / f\"{rsid_annotated_vcf_file.name}.gz\"\n",
    "rsid_annotated_vcf_tabix_file = rsid_annotated_vcf_compressed_file.parent / f\"{rsid_annotated_vcf_compressed_file}.tbi\"\n",
    "rsid_annotated_vcf_rsidx_file = rsid_annotated_vcf_compressed_file.parent / f\"{rsid_annotated_vcf_compressed_file}.rsidx\"\n",
    "\n",
    "# not really relevant and can be deleted after\n",
    "annovar_annotated_vcf_file = output_path / \"GFX0237425.GRCh38.p7.rsid_annotated.hg38_multianno.vcf\""
   ],
   "metadata": {
    "collapsed": false,
    "pycharm": {
     "name": "#%%\n"
    }
   }
  },
  {
   "cell_type": "markdown",
   "source": [
    "## Using Annovar to annotate variance call file\n",
    "\n",
    "Example from: https://annovar.openbioinformatics.org/en/latest/user-guide/startup/\n",
    "\n",
    "*NOTE: annovar doesn't handle compressed vcf files, make sure to uncompress vcf before feeding it in to annovar for annotations.*"
   ],
   "metadata": {
    "collapsed": false,
    "pycharm": {
     "name": "#%% md\n"
    }
   }
  },
  {
   "cell_type": "code",
   "execution_count": null,
   "outputs": [],
   "source": [
    "# replace path values /path/to/annovar and /path/to/annovar_hg38_metadata_dir\n",
    "!/path/to/annovar/annotate_variation.pl -buildver hg38 -downdb -webfrom annovar avsnp150 /path/to/annovar_hg38_metadata_dir"
   ],
   "metadata": {
    "collapsed": false,
    "pycharm": {
     "name": "#%%\n"
    }
   }
  },
  {
   "cell_type": "code",
   "execution_count": null,
   "outputs": [],
   "source": [
    "# replace path values /path/to/annovar, /path/to/raw_vcf_file, /path/to/annovar_hg38_metadata_dir, /path/to/annovar_annotated_vcf_file\n",
    "!/path/to/annovar/table_annovar.pl /path/to/raw_vcf_file /path/to/annovar_hg38_metadata_dir -buildver hg38 -out /path/to/annovar_annotated_vcf_file -remove -protocol avsnp150 -operation f -nastring . -vcfinput -polish"
   ],
   "metadata": {
    "collapsed": false,
    "pycharm": {
     "name": "#%%\n"
    }
   }
  },
  {
   "cell_type": "markdown",
   "source": [
    "### Move rsid to the ID columns\n",
    "\n",
    "Unfortunately annovar doesn't populate ID field in the vcf file, but add RS ids to the `info` column. Having ID column filled with RS ids is useful for creating indices to make lookups based on RS ids fast."
   ],
   "metadata": {
    "collapsed": false,
    "pycharm": {
     "name": "#%% md\n"
    }
   }
  },
  {
   "cell_type": "code",
   "execution_count": null,
   "outputs": [],
   "source": [
    "header_pattern = \"#CHROM\\tPOS\\tID\"\n",
    "def get_rsid_from_info_column(row: List[str]) -> str:\n",
    "    return next(filter(lambda t: \"avsnp150\" in t, row[-3].split(\";\"))).split(\"=\")[1]\n",
    "\n",
    "with open(annovar_annotated_vcf_file, \"r\") as raw_f:\n",
    "    with open(rsid_annotated_vcf_file, \"w\") as new_f:\n",
    "        passed_header = False\n",
    "        for line_text in raw_f:\n",
    "            if not passed_header:\n",
    "                if re.search(header_pattern, line_text):\n",
    "                    passed_header = True\n",
    "                new_f.writelines([line_text])\n",
    "            else:\n",
    "                line_parts = line_text.split(\"\\t\")\n",
    "                rsid_from_info = get_rsid_from_info_column(line_parts)\n",
    "                line_parts[2] = rsid_from_info\n",
    "                new_f.writelines([\"\\t\".join(line_parts)])"
   ],
   "metadata": {
    "collapsed": false,
    "pycharm": {
     "name": "#%%\n"
    }
   }
  },
  {
   "cell_type": "markdown",
   "source": [
    "### Compress and create tabix index"
   ],
   "metadata": {
    "collapsed": false,
    "pycharm": {
     "name": "#%% md\n"
    }
   }
  },
  {
   "cell_type": "code",
   "execution_count": null,
   "outputs": [],
   "source": [
    "# replace path values /path/to/rsid_annotated_vcf_file and /path/to/rsid_annotated_vcf_compressed_file\n",
    "!bgzip -c /path/to/rsid_annotated_vcf_file > /path/to/rsid_annotated_vcf_compressed_file\n",
    "!tabix -p vcf /path/to/rsid_annotated_vcf_compressed_file"
   ],
   "metadata": {
    "collapsed": false,
    "pycharm": {
     "name": "#%%\n"
    }
   }
  },
  {
   "cell_type": "markdown",
   "source": [
    "### Create index for rsid"
   ],
   "metadata": {
    "collapsed": false,
    "pycharm": {
     "name": "#%% md\n"
    }
   }
  },
  {
   "cell_type": "code",
   "execution_count": null,
   "outputs": [],
   "source": [
    "# replace path values /path/to/rsid_annotated_vcf_compressed_file and /path/to/rsid_annotated_vcf_rsidx_file\n",
    "!rsidx index /path/to/rsid_annotated_vcf_compressed_file /path/to/rsid_annotated_vcf_rsidx_file"
   ],
   "metadata": {
    "collapsed": false,
    "pycharm": {
     "name": "#%%\n"
    }
   }
  }
 ],
 "metadata": {
  "kernelspec": {
   "display_name": "Python 3",
   "language": "python",
   "name": "python3"
  },
  "language_info": {
   "codemirror_mode": {
    "name": "ipython",
    "version": 2
   },
   "file_extension": ".py",
   "mimetype": "text/x-python",
   "name": "python",
   "nbconvert_exporter": "python",
   "pygments_lexer": "ipython2",
   "version": "2.7.6"
  }
 },
 "nbformat": 4,
 "nbformat_minor": 0
}