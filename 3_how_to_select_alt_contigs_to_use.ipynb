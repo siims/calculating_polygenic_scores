{
 "cells": [
  {
   "cell_type": "markdown",
   "metadata": {
    "collapsed": true,
    "pycharm": {
     "name": "#%% md\n"
    }
   },
   "source": [
    "# How to select alt contigs to use\n",
    "\n",
    "## What is a contig?\n",
    "\n",
    "> A contig (from contiguous) is a set of overlapping DNA segments that together represent a consensus region of DNA. In bottom-up sequencing projects, a contig refers to overlapping sequence data (reads); in top-down sequencing projects, contig refers to the overlapping clones that form a physical map of the genome that is used to guide sequencing and assembly. Contigs can thus refer both to overlapping DNA sequence and to overlapping physical segments (fragments) contained in clones depending on the context. [source: wiki](https://en.wikipedia.org/wiki/Contig)\n",
    "\n",
    "Available contigs can be accessed via the reference genome, they are visible in the alignment file and vcf file headers:\n",
    "\n",
    "```python\n",
    "# How to list them for alignment file\n",
    "import pysam\n",
    "alignment = pysam.AlignmentFile(\"/path/to/alignment/file.bam\", \"rb\")\n",
    "\n",
    "print(\"contigs:\", alignment.header.references)\n",
    "```\n",
    "\n",
    "It is not enough to use only the main chromosome contigs (`chr1`, `chr2`, ..., `chr22`, `chrX`, `chrY`, `chrMT`), as your region in the main contig might have lower coverage than some of the alternative contigs for that region. Potentially leaving to incorrect genotype values for some chr-pos values. To know what alternative contig to use for an individual one would need to select contigs from alignment based on the conting read coverage.\n",
    "\n",
    "This can be done very easily by counting number of reads aligned to specific region in main contigs and alternative contigs. Because same read can be aligned to multiple contigs.\n",
    "\n",
    "This notebook includes code to generate a metadata file which lists read counts for each region and contig.\n",
    "\n",
    "## Shortcomings:\n",
    "\n",
    "1. Haven't found good tutorials online which show how alternative contigs should be handled. Have validated this approach only with a single bioinformatician.\n",
    "2. Not sure what to do with unlocalized contigs.\n",
    "3. Output higher read coverage vcf file header doesn't reflect what transformation was done."
   ]
  },
  {
   "cell_type": "code",
   "execution_count": 16,
   "outputs": [],
   "source": [
    "%reload_ext autoreload\n",
    "%autoreload 2\n",
    "\n",
    "import json\n",
    "from pathlib import Path\n",
    "import pandas as pd\n",
    "import pysam\n",
    "from search_your_dna.hg_util import get_assembly_metadata_df\n",
    "\n",
    "from search_your_dna.util import read_raw_zipped_vcf_file, get_vcf_file_header_line_number, calc_alt_contigs_to_use"
   ],
   "metadata": {
    "collapsed": false,
    "pycharm": {
     "name": "#%%\n"
    }
   }
  },
  {
   "cell_type": "markdown",
   "source": [
    "## Inputs"
   ],
   "metadata": {
    "collapsed": false,
    "pycharm": {
     "name": "#%% md\n"
    }
   }
  },
  {
   "cell_type": "code",
   "execution_count": 29,
   "outputs": [],
   "source": [
    "project_root_path = Path(\"/home/s/src/search_your_dna/\")\n",
    "project_root_path.mkdir(parents=True, exist_ok=True)\n",
    "\n",
    "alignment_bam_file = \"data/my_genome_data/GFX0237425.GRCh38.p7.bam\"\n",
    "alignment_data = pysam.AlignmentFile(alignment_bam_file, \"rb\")\n",
    "\n",
    "vcf_uncompressed_file = \"data/GFX0237425.GRCh38.p7.vcf\"\n",
    "vcf_file = \"data/GFX0237425.GRCh38.p7.vcf.gz\"\n",
    "vcf_tabix_file = \"data/GFX0237425.GRCh38.p7.vcf.gz\"\n",
    "\n",
    "# metadata files can be obtained from reference genome build's file server: ftp://ftp.ncbi.nlm.nih.gov/genomes/all/GCA/000/001/405/GCA_000001405.22_GRCh38.p7/\n",
    "assembly_report_file = \"data/grch38.p7/GCA_000001405.22_GRCh38.p7_assembly_report.txt\"\n",
    "assembly_regions_file = \"data/grch38.p7/GCA_000001405.22_GRCh38.p7_assembly_regions.txt\""
   ],
   "metadata": {
    "collapsed": false,
    "pycharm": {
     "name": "#%%\n"
    }
   }
  },
  {
   "cell_type": "markdown",
   "source": [
    "## Outputs"
   ],
   "metadata": {
    "collapsed": false,
    "pycharm": {
     "name": "#%% md\n"
    }
   }
  },
  {
   "cell_type": "code",
   "execution_count": 18,
   "outputs": [],
   "source": [
    "region_contig_read_counts_file = \"data/region_contig_read_counts.json\"\n",
    "vcf_file_with_high_coverage_contigs_used = \"data/GFX0237425.GRCh38.p7.using_high_coverage_alt_contigs.vcf\""
   ],
   "metadata": {
    "collapsed": false,
    "pycharm": {
     "name": "#%%\n"
    }
   }
  },
  {
   "cell_type": "markdown",
   "source": [
    "## Calculate alignment metadata to select contig with highest read coverage\n",
    "\n",
    "### Read in the alignment and assembly metadata"
   ],
   "metadata": {
    "collapsed": false,
    "pycharm": {
     "name": "#%% md\n"
    }
   }
  },
  {
   "cell_type": "code",
   "execution_count": 19,
   "outputs": [
    {
     "data": {
      "text/plain": "        region_name chromosome  chromosome_start  chromosome_stop  \\\n0         REGION108          1           2448811          2791270   \n1    PRAME_REGION_1          1          12818488         13312803   \n7         REGION109          1          30352191         30456601   \n11             1Q21          1         144488706        144674781   \n12          REGION2          1         153700531        153865738   \n..              ...        ...               ...              ...   \n318          CYP2D6         22          42077656         42253758   \n319          CYP2D6         22          42077656         42253758   \n326       REGION187          X            319338           601516   \n327       REGION187          X            319338           601516   \n328       REGION188          X          79965154         80097082   \n\n    scaffold_role scaffold_genbank_accn scaffold_refseq_accn assembly_unit_x  \\\n0    alt-scaffold            KI270762.1          NT_187515.1  ALT_REF_LOCI_1   \n1    alt-scaffold            KI270766.1          NT_187517.1  ALT_REF_LOCI_1   \n7    alt-scaffold            KI270760.1          NT_187514.1  ALT_REF_LOCI_1   \n11   alt-scaffold            KI270765.1          NT_187520.1  ALT_REF_LOCI_1   \n12   alt-scaffold            GL383518.1       NW_003315905.1  ALT_REF_LOCI_1   \n..            ...                   ...                  ...             ...   \n318  alt-scaffold            KB663609.1       NW_004504305.1  ALT_REF_LOCI_2   \n319  alt-scaffold            KI270928.1          NT_187682.1  ALT_REF_LOCI_3   \n326  alt-scaffold            KI270880.1          NT_187634.1  ALT_REF_LOCI_1   \n327  alt-scaffold            KI270913.1          NT_187667.1  ALT_REF_LOCI_2   \n328  alt-scaffold            KI270881.1          NT_187635.1  ALT_REF_LOCI_1   \n\n      sequence_name sequence_role assigned_molecule  \\\n0     HSCHR1_1_CTG3  alt-scaffold                 1   \n1     HSCHR1_2_CTG3  alt-scaffold                 1   \n7    HSCHR1_1_CTG11  alt-scaffold                 1   \n11   HSCHR1_4_CTG31  alt-scaffold                 1   \n12   HSCHR1_1_CTG31  alt-scaffold                 1   \n..              ...           ...               ...   \n318  HSCHR22_2_CTG1  alt-scaffold                22   \n319  HSCHR22_3_CTG1  alt-scaffold                22   \n326   HSCHRX_1_CTG3  alt-scaffold                 X   \n327   HSCHRX_2_CTG3  alt-scaffold                 X   \n328  HSCHRX_2_CTG12  alt-scaffold                 X   \n\n    assigned_molecule_location/type genbank_accn relationship     refseq_accn  \\\n0                        Chromosome   KI270762.1            =     NT_187515.1   \n1                        Chromosome   KI270766.1            =     NT_187517.1   \n7                        Chromosome   KI270760.1            =     NT_187514.1   \n11                       Chromosome   KI270765.1            =     NT_187520.1   \n12                       Chromosome   GL383518.1            =  NW_003315905.1   \n..                              ...          ...          ...             ...   \n318                      Chromosome   KB663609.1            =  NW_004504305.1   \n319                      Chromosome   KI270928.1            =     NT_187682.1   \n326                      Chromosome   KI270880.1            =     NT_187634.1   \n327                      Chromosome   KI270913.1            =     NT_187667.1   \n328                      Chromosome   KI270881.1            =     NT_187635.1   \n\n    assembly_unit_y sequence_length       ucsc_style_name  \n0    ALT_REF_LOCI_1          354444   chr1_KI270762v1_alt  \n1    ALT_REF_LOCI_1          256271   chr1_KI270766v1_alt  \n7    ALT_REF_LOCI_1          109528   chr1_KI270760v1_alt  \n11   ALT_REF_LOCI_1          185285   chr1_KI270765v1_alt  \n12   ALT_REF_LOCI_1          182439   chr1_GL383518v1_alt  \n..              ...             ...                   ...  \n318  ALT_REF_LOCI_2           74013  chr22_KB663609v1_alt  \n319  ALT_REF_LOCI_3          176103  chr22_KI270928v1_alt  \n326  ALT_REF_LOCI_1          284869   chrX_KI270880v1_alt  \n327  ALT_REF_LOCI_2          274009   chrX_KI270913v1_alt  \n328  ALT_REF_LOCI_1          144206   chrX_KI270881v1_alt  \n\n[261 rows x 18 columns]",
      "text/html": "<div>\n<style scoped>\n    .dataframe tbody tr th:only-of-type {\n        vertical-align: middle;\n    }\n\n    .dataframe tbody tr th {\n        vertical-align: top;\n    }\n\n    .dataframe thead th {\n        text-align: right;\n    }\n</style>\n<table border=\"1\" class=\"dataframe\">\n  <thead>\n    <tr style=\"text-align: right;\">\n      <th></th>\n      <th>region_name</th>\n      <th>chromosome</th>\n      <th>chromosome_start</th>\n      <th>chromosome_stop</th>\n      <th>scaffold_role</th>\n      <th>scaffold_genbank_accn</th>\n      <th>scaffold_refseq_accn</th>\n      <th>assembly_unit_x</th>\n      <th>sequence_name</th>\n      <th>sequence_role</th>\n      <th>assigned_molecule</th>\n      <th>assigned_molecule_location/type</th>\n      <th>genbank_accn</th>\n      <th>relationship</th>\n      <th>refseq_accn</th>\n      <th>assembly_unit_y</th>\n      <th>sequence_length</th>\n      <th>ucsc_style_name</th>\n    </tr>\n  </thead>\n  <tbody>\n    <tr>\n      <th>0</th>\n      <td>REGION108</td>\n      <td>1</td>\n      <td>2448811</td>\n      <td>2791270</td>\n      <td>alt-scaffold</td>\n      <td>KI270762.1</td>\n      <td>NT_187515.1</td>\n      <td>ALT_REF_LOCI_1</td>\n      <td>HSCHR1_1_CTG3</td>\n      <td>alt-scaffold</td>\n      <td>1</td>\n      <td>Chromosome</td>\n      <td>KI270762.1</td>\n      <td>=</td>\n      <td>NT_187515.1</td>\n      <td>ALT_REF_LOCI_1</td>\n      <td>354444</td>\n      <td>chr1_KI270762v1_alt</td>\n    </tr>\n    <tr>\n      <th>1</th>\n      <td>PRAME_REGION_1</td>\n      <td>1</td>\n      <td>12818488</td>\n      <td>13312803</td>\n      <td>alt-scaffold</td>\n      <td>KI270766.1</td>\n      <td>NT_187517.1</td>\n      <td>ALT_REF_LOCI_1</td>\n      <td>HSCHR1_2_CTG3</td>\n      <td>alt-scaffold</td>\n      <td>1</td>\n      <td>Chromosome</td>\n      <td>KI270766.1</td>\n      <td>=</td>\n      <td>NT_187517.1</td>\n      <td>ALT_REF_LOCI_1</td>\n      <td>256271</td>\n      <td>chr1_KI270766v1_alt</td>\n    </tr>\n    <tr>\n      <th>7</th>\n      <td>REGION109</td>\n      <td>1</td>\n      <td>30352191</td>\n      <td>30456601</td>\n      <td>alt-scaffold</td>\n      <td>KI270760.1</td>\n      <td>NT_187514.1</td>\n      <td>ALT_REF_LOCI_1</td>\n      <td>HSCHR1_1_CTG11</td>\n      <td>alt-scaffold</td>\n      <td>1</td>\n      <td>Chromosome</td>\n      <td>KI270760.1</td>\n      <td>=</td>\n      <td>NT_187514.1</td>\n      <td>ALT_REF_LOCI_1</td>\n      <td>109528</td>\n      <td>chr1_KI270760v1_alt</td>\n    </tr>\n    <tr>\n      <th>11</th>\n      <td>1Q21</td>\n      <td>1</td>\n      <td>144488706</td>\n      <td>144674781</td>\n      <td>alt-scaffold</td>\n      <td>KI270765.1</td>\n      <td>NT_187520.1</td>\n      <td>ALT_REF_LOCI_1</td>\n      <td>HSCHR1_4_CTG31</td>\n      <td>alt-scaffold</td>\n      <td>1</td>\n      <td>Chromosome</td>\n      <td>KI270765.1</td>\n      <td>=</td>\n      <td>NT_187520.1</td>\n      <td>ALT_REF_LOCI_1</td>\n      <td>185285</td>\n      <td>chr1_KI270765v1_alt</td>\n    </tr>\n    <tr>\n      <th>12</th>\n      <td>REGION2</td>\n      <td>1</td>\n      <td>153700531</td>\n      <td>153865738</td>\n      <td>alt-scaffold</td>\n      <td>GL383518.1</td>\n      <td>NW_003315905.1</td>\n      <td>ALT_REF_LOCI_1</td>\n      <td>HSCHR1_1_CTG31</td>\n      <td>alt-scaffold</td>\n      <td>1</td>\n      <td>Chromosome</td>\n      <td>GL383518.1</td>\n      <td>=</td>\n      <td>NW_003315905.1</td>\n      <td>ALT_REF_LOCI_1</td>\n      <td>182439</td>\n      <td>chr1_GL383518v1_alt</td>\n    </tr>\n    <tr>\n      <th>...</th>\n      <td>...</td>\n      <td>...</td>\n      <td>...</td>\n      <td>...</td>\n      <td>...</td>\n      <td>...</td>\n      <td>...</td>\n      <td>...</td>\n      <td>...</td>\n      <td>...</td>\n      <td>...</td>\n      <td>...</td>\n      <td>...</td>\n      <td>...</td>\n      <td>...</td>\n      <td>...</td>\n      <td>...</td>\n      <td>...</td>\n    </tr>\n    <tr>\n      <th>318</th>\n      <td>CYP2D6</td>\n      <td>22</td>\n      <td>42077656</td>\n      <td>42253758</td>\n      <td>alt-scaffold</td>\n      <td>KB663609.1</td>\n      <td>NW_004504305.1</td>\n      <td>ALT_REF_LOCI_2</td>\n      <td>HSCHR22_2_CTG1</td>\n      <td>alt-scaffold</td>\n      <td>22</td>\n      <td>Chromosome</td>\n      <td>KB663609.1</td>\n      <td>=</td>\n      <td>NW_004504305.1</td>\n      <td>ALT_REF_LOCI_2</td>\n      <td>74013</td>\n      <td>chr22_KB663609v1_alt</td>\n    </tr>\n    <tr>\n      <th>319</th>\n      <td>CYP2D6</td>\n      <td>22</td>\n      <td>42077656</td>\n      <td>42253758</td>\n      <td>alt-scaffold</td>\n      <td>KI270928.1</td>\n      <td>NT_187682.1</td>\n      <td>ALT_REF_LOCI_3</td>\n      <td>HSCHR22_3_CTG1</td>\n      <td>alt-scaffold</td>\n      <td>22</td>\n      <td>Chromosome</td>\n      <td>KI270928.1</td>\n      <td>=</td>\n      <td>NT_187682.1</td>\n      <td>ALT_REF_LOCI_3</td>\n      <td>176103</td>\n      <td>chr22_KI270928v1_alt</td>\n    </tr>\n    <tr>\n      <th>326</th>\n      <td>REGION187</td>\n      <td>X</td>\n      <td>319338</td>\n      <td>601516</td>\n      <td>alt-scaffold</td>\n      <td>KI270880.1</td>\n      <td>NT_187634.1</td>\n      <td>ALT_REF_LOCI_1</td>\n      <td>HSCHRX_1_CTG3</td>\n      <td>alt-scaffold</td>\n      <td>X</td>\n      <td>Chromosome</td>\n      <td>KI270880.1</td>\n      <td>=</td>\n      <td>NT_187634.1</td>\n      <td>ALT_REF_LOCI_1</td>\n      <td>284869</td>\n      <td>chrX_KI270880v1_alt</td>\n    </tr>\n    <tr>\n      <th>327</th>\n      <td>REGION187</td>\n      <td>X</td>\n      <td>319338</td>\n      <td>601516</td>\n      <td>alt-scaffold</td>\n      <td>KI270913.1</td>\n      <td>NT_187667.1</td>\n      <td>ALT_REF_LOCI_2</td>\n      <td>HSCHRX_2_CTG3</td>\n      <td>alt-scaffold</td>\n      <td>X</td>\n      <td>Chromosome</td>\n      <td>KI270913.1</td>\n      <td>=</td>\n      <td>NT_187667.1</td>\n      <td>ALT_REF_LOCI_2</td>\n      <td>274009</td>\n      <td>chrX_KI270913v1_alt</td>\n    </tr>\n    <tr>\n      <th>328</th>\n      <td>REGION188</td>\n      <td>X</td>\n      <td>79965154</td>\n      <td>80097082</td>\n      <td>alt-scaffold</td>\n      <td>KI270881.1</td>\n      <td>NT_187635.1</td>\n      <td>ALT_REF_LOCI_1</td>\n      <td>HSCHRX_2_CTG12</td>\n      <td>alt-scaffold</td>\n      <td>X</td>\n      <td>Chromosome</td>\n      <td>KI270881.1</td>\n      <td>=</td>\n      <td>NT_187635.1</td>\n      <td>ALT_REF_LOCI_1</td>\n      <td>144206</td>\n      <td>chrX_KI270881v1_alt</td>\n    </tr>\n  </tbody>\n</table>\n<p>261 rows × 18 columns</p>\n</div>"
     },
     "execution_count": 19,
     "metadata": {},
     "output_type": "execute_result"
    }
   ],
   "source": [
    "assembly_metadata_df = get_assembly_metadata_df(assembly_report_file = assembly_report_file, assembly_regions_file=assembly_regions_file)\n",
    "assembly_metadata_df"
   ],
   "metadata": {
    "collapsed": false,
    "pycharm": {
     "name": "#%%\n"
    }
   }
  },
  {
   "cell_type": "code",
   "execution_count": 20,
   "outputs": [
    {
     "data": {
      "text/plain": "\"Total contigs 456. excluding #195 unlocalized contigs eg. there isn't a region determined.\""
     },
     "execution_count": 20,
     "metadata": {},
     "output_type": "execute_result"
    }
   ],
   "source": [
    "contigs = set(alignment_data.header.references)\n",
    "ucsc_style_names = set(assembly_metadata_df[\"ucsc_style_name\"].to_list())\n",
    "\n",
    "f\"Total contigs {len(contigs)}. excluding #{len(contigs - ucsc_style_names)} unlocalized contigs eg. there isn't a region determined.\""
   ],
   "metadata": {
    "collapsed": false,
    "pycharm": {
     "name": "#%%\n"
    }
   }
  },
  {
   "cell_type": "markdown",
   "source": [
    "### Get alt contig read lengths per region"
   ],
   "metadata": {
    "collapsed": false,
    "pycharm": {
     "name": "#%% md\n"
    }
   }
  },
  {
   "cell_type": "code",
   "execution_count": 11,
   "outputs": [],
   "source": [
    "%%time\n",
    "\n",
    "alt_contig_region_read_lengths = {}\n",
    "for region, contigs_df in assembly_metadata_df[[\"region_name\", \"ucsc_style_name\"]].groupby(by=\"region_name\"):\n",
    "    alt_contig_region_read_lengths[region] = {}\n",
    "    for contig in contigs_df[\"ucsc_style_name\"].to_list():\n",
    "        reads = alignment_data.fetch(contig)\n",
    "        alt_contig_region_read_lengths[region][contig] = len(list(reads))"
   ],
   "metadata": {
    "collapsed": false,
    "pycharm": {
     "name": "#%%\n"
    }
   }
  },
  {
   "cell_type": "markdown",
   "source": [
    "### Get main contig read values per region"
   ],
   "metadata": {
    "collapsed": false,
    "pycharm": {
     "name": "#%% md\n"
    }
   }
  },
  {
   "cell_type": "code",
   "execution_count": 12,
   "outputs": [],
   "source": [
    "region_based_chrom_start_stop_df = assembly_metadata_df[[\"region_name\",\"chromosome\",\"chromosome_start\",\"chromosome_stop\"]].groupby(by=\"region_name\")\n",
    "\n",
    "main_contig_region_reads = {}\n",
    "for region, chrom_start_stop_df in region_based_chrom_start_stop_df:\n",
    "    contig = \"chr\" + chrom_start_stop_df.iloc[0,:][\"chromosome\"]\n",
    "    start = chrom_start_stop_df.iloc[0,:][\"chromosome_start\"]\n",
    "    stop = chrom_start_stop_df.iloc[0,:][\"chromosome_stop\"]\n",
    "    reads = alignment_data.fetch(contig=contig,start=start, stop=stop)\n",
    "    main_contig_region_reads[region] = list(reads)\n"
   ],
   "metadata": {
    "collapsed": false,
    "pycharm": {
     "name": "#%%\n"
    }
   }
  },
  {
   "cell_type": "markdown",
   "source": [
    "### Put together main contig and alternative contig reads lengths per region"
   ],
   "metadata": {
    "collapsed": false
   }
  },
  {
   "cell_type": "code",
   "execution_count": 13,
   "outputs": [],
   "source": [
    "aggregated_region_contig_reads = {}\n",
    "for region in alt_contig_region_read_lengths:\n",
    "    aggregated_region_contig_reads[region] = {}\n",
    "    aggregated_region_contig_reads[region][\"main\"] = len(main_contig_region_reads[region])\n",
    "    for contig, read_lengths in alt_contig_region_read_lengths[region].items():\n",
    "        aggregated_region_contig_reads[region][contig] = read_lengths"
   ],
   "metadata": {
    "collapsed": false,
    "pycharm": {
     "name": "#%%\n"
    }
   }
  },
  {
   "cell_type": "markdown",
   "source": [
    "### Store region to contig lengths in a file"
   ],
   "metadata": {
    "collapsed": false
   }
  },
  {
   "cell_type": "code",
   "execution_count": null,
   "outputs": [],
   "source": [
    "with open(project_root_path / region_contig_read_counts_file, \"w\") as f:\n",
    "    json.dump(aggregated_region_contig_reads, f, indent=2)"
   ],
   "metadata": {
    "collapsed": false,
    "pycharm": {
     "name": "#%%\n"
    }
   }
  },
  {
   "cell_type": "markdown",
   "source": [
    "## Create a new vcf file using higher coverage alternative contigs"
   ],
   "metadata": {
    "collapsed": false,
    "pycharm": {
     "name": "#%% md\n"
    }
   }
  },
  {
   "cell_type": "code",
   "execution_count": 13,
   "outputs": [],
   "source": [
    "raw_vcf_df = read_raw_zipped_vcf_file(project_root_path / vcf_file)"
   ],
   "metadata": {
    "collapsed": false,
    "pycharm": {
     "name": "#%%\n"
    }
   }
  },
  {
   "cell_type": "code",
   "execution_count": 14,
   "outputs": [
    {
     "data": {
      "text/plain": "                      #CHROM    POS ID REF ALT     QUAL FILTER  \\\n4210153  chrX_KI270913v1_alt   4776  .   T   G  16.5123      .   \n4210154  chrX_KI270913v1_alt   6190  .   A   G  25.4267      .   \n4210155  chrX_KI270913v1_alt  14047  .   A   G  5.43549      .   \n4210156  chrX_KI270913v1_alt  20472  .   C   A  16.5123      .   \n4210157  chrX_KI270913v1_alt  91906  .   G   A  5.75677      .   \n\n                                                      INFO FORMAT  \\\n4210153  DP=8;VDB=0.691871;SGB=-0.651104;MQ0F=0;AC=2;AN...  GT:PL   \n4210154  DP=20;VDB=0.572958;SGB=-0.688148;MQSB=0.619153...  GT:PL   \n4210155  DP=36;VDB=0.829467;SGB=-0.691153;RPB=0.801226;...  GT:PL   \n4210156  DP=5;VDB=0.902899;SGB=-0.556411;MQSB=0;MQ0F=0;...  GT:PL   \n4210157  DP=27;VDB=0.403817;SGB=-0.692562;MQSB=1;MQ0F=0...  GT:PL   \n\n        /home/s/Dropbox/Siim/health/genetest_2020/GFX0237425.GRCh38.p7_v2.bam  \n4210153                                        1/1:46,24,0                     \n4210154                                        1/1:55,45,0                     \n4210155                                         0/1:34,0,5                     \n4210156                                        1/1:46,12,0                     \n4210157                                        1/1:34,66,0                     ",
      "text/html": "<div>\n<style scoped>\n    .dataframe tbody tr th:only-of-type {\n        vertical-align: middle;\n    }\n\n    .dataframe tbody tr th {\n        vertical-align: top;\n    }\n\n    .dataframe thead th {\n        text-align: right;\n    }\n</style>\n<table border=\"1\" class=\"dataframe\">\n  <thead>\n    <tr style=\"text-align: right;\">\n      <th></th>\n      <th>#CHROM</th>\n      <th>POS</th>\n      <th>ID</th>\n      <th>REF</th>\n      <th>ALT</th>\n      <th>QUAL</th>\n      <th>FILTER</th>\n      <th>INFO</th>\n      <th>FORMAT</th>\n      <th>/home/s/Dropbox/Siim/health/genetest_2020/GFX0237425.GRCh38.p7_v2.bam</th>\n    </tr>\n  </thead>\n  <tbody>\n    <tr>\n      <th>4210153</th>\n      <td>chrX_KI270913v1_alt</td>\n      <td>4776</td>\n      <td>.</td>\n      <td>T</td>\n      <td>G</td>\n      <td>16.5123</td>\n      <td>.</td>\n      <td>DP=8;VDB=0.691871;SGB=-0.651104;MQ0F=0;AC=2;AN...</td>\n      <td>GT:PL</td>\n      <td>1/1:46,24,0</td>\n    </tr>\n    <tr>\n      <th>4210154</th>\n      <td>chrX_KI270913v1_alt</td>\n      <td>6190</td>\n      <td>.</td>\n      <td>A</td>\n      <td>G</td>\n      <td>25.4267</td>\n      <td>.</td>\n      <td>DP=20;VDB=0.572958;SGB=-0.688148;MQSB=0.619153...</td>\n      <td>GT:PL</td>\n      <td>1/1:55,45,0</td>\n    </tr>\n    <tr>\n      <th>4210155</th>\n      <td>chrX_KI270913v1_alt</td>\n      <td>14047</td>\n      <td>.</td>\n      <td>A</td>\n      <td>G</td>\n      <td>5.43549</td>\n      <td>.</td>\n      <td>DP=36;VDB=0.829467;SGB=-0.691153;RPB=0.801226;...</td>\n      <td>GT:PL</td>\n      <td>0/1:34,0,5</td>\n    </tr>\n    <tr>\n      <th>4210156</th>\n      <td>chrX_KI270913v1_alt</td>\n      <td>20472</td>\n      <td>.</td>\n      <td>C</td>\n      <td>A</td>\n      <td>16.5123</td>\n      <td>.</td>\n      <td>DP=5;VDB=0.902899;SGB=-0.556411;MQSB=0;MQ0F=0;...</td>\n      <td>GT:PL</td>\n      <td>1/1:46,12,0</td>\n    </tr>\n    <tr>\n      <th>4210157</th>\n      <td>chrX_KI270913v1_alt</td>\n      <td>91906</td>\n      <td>.</td>\n      <td>G</td>\n      <td>A</td>\n      <td>5.75677</td>\n      <td>.</td>\n      <td>DP=27;VDB=0.403817;SGB=-0.692562;MQSB=1;MQ0F=0...</td>\n      <td>GT:PL</td>\n      <td>1/1:34,66,0</td>\n    </tr>\n  </tbody>\n</table>\n</div>"
     },
     "execution_count": 14,
     "metadata": {},
     "output_type": "execute_result"
    }
   ],
   "source": [
    "raw_vcf_df[raw_vcf_df[\"#CHROM\"] == \"chrX_KI270913v1_alt\"].head()"
   ],
   "metadata": {
    "collapsed": false,
    "pycharm": {
     "name": "#%%\n"
    }
   }
  },
  {
   "cell_type": "code",
   "execution_count": 21,
   "outputs": [
    {
     "data": {
      "text/plain": "   chrom      start       stop               contig     region\n18     1    2448811    2791270  chr1_KI270762v1_alt  REGION108\n19     1   30352191   30456601  chr1_KI270760v1_alt  REGION109\n0      1  144488706  144674781  chr1_KI270765v1_alt       1Q21\n69     1  153700531  153865738  chr1_GL383518v1_alt    REGION2\n73     1  198370083  198725175  chr1_GL383520v2_alt    REGION3",
      "text/html": "<div>\n<style scoped>\n    .dataframe tbody tr th:only-of-type {\n        vertical-align: middle;\n    }\n\n    .dataframe tbody tr th {\n        vertical-align: top;\n    }\n\n    .dataframe thead th {\n        text-align: right;\n    }\n</style>\n<table border=\"1\" class=\"dataframe\">\n  <thead>\n    <tr style=\"text-align: right;\">\n      <th></th>\n      <th>chrom</th>\n      <th>start</th>\n      <th>stop</th>\n      <th>contig</th>\n      <th>region</th>\n    </tr>\n  </thead>\n  <tbody>\n    <tr>\n      <th>18</th>\n      <td>1</td>\n      <td>2448811</td>\n      <td>2791270</td>\n      <td>chr1_KI270762v1_alt</td>\n      <td>REGION108</td>\n    </tr>\n    <tr>\n      <th>19</th>\n      <td>1</td>\n      <td>30352191</td>\n      <td>30456601</td>\n      <td>chr1_KI270760v1_alt</td>\n      <td>REGION109</td>\n    </tr>\n    <tr>\n      <th>0</th>\n      <td>1</td>\n      <td>144488706</td>\n      <td>144674781</td>\n      <td>chr1_KI270765v1_alt</td>\n      <td>1Q21</td>\n    </tr>\n    <tr>\n      <th>69</th>\n      <td>1</td>\n      <td>153700531</td>\n      <td>153865738</td>\n      <td>chr1_GL383518v1_alt</td>\n      <td>REGION2</td>\n    </tr>\n    <tr>\n      <th>73</th>\n      <td>1</td>\n      <td>198370083</td>\n      <td>198725175</td>\n      <td>chr1_GL383520v2_alt</td>\n      <td>REGION3</td>\n    </tr>\n  </tbody>\n</table>\n</div>"
     },
     "execution_count": 21,
     "metadata": {},
     "output_type": "execute_result"
    }
   ],
   "source": [
    "with open(project_root_path / region_contig_read_counts_file, \"r\") as f:\n",
    "    region_contig_read_counts = json.load(f)\n",
    "\n",
    "alt_contigs_to_use = calc_alt_contigs_to_use(region_contig_read_counts, assembly_metadata_df)\n",
    "# df with columns: \"chrom\", \"start\", \"stop\", \"contig\", \"region\"\n",
    "alt_contigs_to_use = alt_contigs_to_use.sort_values(by=[\"chrom\", \"start\"])#, ascending=False)\n",
    "alt_contigs_to_use.head()"
   ],
   "metadata": {
    "collapsed": false,
    "pycharm": {
     "name": "#%%\n"
    }
   }
  },
  {
   "cell_type": "markdown",
   "source": [
    "### Remove main contig parts that shouldn't be used"
   ],
   "metadata": {
    "collapsed": false
   }
  },
  {
   "cell_type": "code",
   "execution_count": 22,
   "outputs": [
    {
     "name": "stdout",
     "output_type": "stream",
     "text": [
      "chr1_KI270762v1_alt vcf length before 4210639\n",
      "\t\tlength after 4210605\n",
      "\t\t\tremoved snps 34\n",
      "chr1_KI270760v1_alt vcf length before 4210605\n",
      "\t\tlength after 4210585\n",
      "\t\t\tremoved snps 20\n",
      "chr1_KI270765v1_alt vcf length before 4210585\n",
      "\t\tlength after 4210582\n",
      "\t\t\tremoved snps 3\n",
      "chr1_GL383518v1_alt vcf length before 4210582\n",
      "\t\tlength after 4210574\n",
      "\t\t\tremoved snps 8\n",
      "chr1_GL383520v2_alt vcf length before 4210574\n",
      "\t\tlength after 4210560\n",
      "\t\t\tremoved snps 14\n",
      "chr1_KI270763v1_alt vcf length before 4210560\n",
      "\t\tlength after 4210536\n",
      "\t\t\tremoved snps 24\n",
      "chr1_KI270761v1_alt vcf length before 4210536\n",
      "\t\tlength after 4210535\n",
      "\t\t\tremoved snps 1\n",
      "chr10_GL383545v1_alt vcf length before 4210535\n",
      "\t\tlength after 4210508\n",
      "\t\t\tremoved snps 27\n",
      "chr10_GL383546v1_alt vcf length before 4210508\n",
      "\t\tlength after 4210501\n",
      "\t\t\tremoved snps 7\n",
      "chr11_KI270832v1_alt vcf length before 4210501\n",
      "\t\tlength after 4210497\n",
      "\t\t\tremoved snps 4\n",
      "chr11_KI270903v1_alt vcf length before 4210497\n",
      "\t\tlength after 4210497\n",
      "\t\t\tremoved snps 0\n",
      "chr11_GL383547v1_alt vcf length before 4210497\n",
      "\t\tlength after 4210482\n",
      "\t\t\tremoved snps 15\n",
      "chr12_GL877875v1_alt vcf length before 4210482\n",
      "\t\tlength after 4210463\n",
      "\t\t\tremoved snps 19\n",
      "chr12_KI270904v1_alt vcf length before 4210463\n",
      "\t\tlength after 4210450\n",
      "\t\t\tremoved snps 13\n",
      "chr12_KI270835v1_alt vcf length before 4210450\n",
      "\t\tlength after 4210439\n",
      "\t\t\tremoved snps 11\n",
      "chr12_GL383550v2_alt vcf length before 4210439\n",
      "\t\tlength after 4210414\n",
      "\t\t\tremoved snps 25\n",
      "chr12_GL383553v2_alt vcf length before 4210414\n",
      "\t\tlength after 4210410\n",
      "\t\t\tremoved snps 4\n",
      "chr12_KI270834v1_alt vcf length before 4210410\n",
      "\t\tlength after 4210398\n",
      "\t\t\tremoved snps 12\n",
      "chr12_KI270833v1_alt vcf length before 4210398\n",
      "\t\tlength after 4210392\n",
      "\t\t\tremoved snps 6\n",
      "chr13_KI270839v1_alt vcf length before 4210392\n",
      "\t\tlength after 4210364\n",
      "\t\t\tremoved snps 28\n",
      "chr13_KI270841v1_alt vcf length before 4210364\n",
      "\t\tlength after 4210350\n",
      "\t\t\tremoved snps 14\n",
      "chr14_KI270844v1_alt vcf length before 4210350\n",
      "\t\tlength after 4210329\n",
      "\t\t\tremoved snps 21\n",
      "chr14_KI270846v1_alt vcf length before 4210329\n",
      "\t\tlength after 4210206\n",
      "\t\t\tremoved snps 123\n",
      "chr15_GL383555v2_alt vcf length before 4210206\n",
      "\t\tlength after 4210177\n",
      "\t\t\tremoved snps 29\n",
      "chr15_KI270850v1_alt vcf length before 4210177\n",
      "\t\tlength after 4210130\n",
      "\t\t\tremoved snps 47\n",
      "chr16_KI270855v1_alt vcf length before 4210130\n",
      "\t\tlength after 4210093\n",
      "\t\t\tremoved snps 37\n",
      "chr16_KI270853v1_alt vcf length before 4210093\n",
      "\t\tlength after 4210010\n",
      "\t\t\tremoved snps 83\n",
      "chr16_GL383557v1_alt vcf length before 4210010\n",
      "\t\tlength after 4210006\n",
      "\t\t\tremoved snps 4\n",
      "chr17_GL383563v3_alt vcf length before 4210006\n",
      "\t\tlength after 4209981\n",
      "\t\t\tremoved snps 25\n",
      "chr17_GL383565v1_alt vcf length before 4209981\n",
      "\t\tlength after 4209979\n",
      "\t\t\tremoved snps 2\n",
      "chr17_KI270859v1_alt vcf length before 4209979\n",
      "\t\tlength after 4209962\n",
      "\t\t\tremoved snps 17\n",
      "chr17_GL383566v1_alt vcf length before 4209962\n",
      "\t\tlength after 4209957\n",
      "\t\t\tremoved snps 5\n",
      "chr18_KI270864v1_alt vcf length before 4209957\n",
      "\t\tlength after 4209951\n",
      "\t\t\tremoved snps 6\n",
      "chr18_GL383567v1_alt vcf length before 4209951\n",
      "\t\tlength after 4209939\n",
      "\t\t\tremoved snps 12\n",
      "chr18_GL383571v1_alt vcf length before 4209939\n",
      "\t\tlength after 4209930\n",
      "\t\t\tremoved snps 9\n",
      "chr18_GL383568v1_alt vcf length before 4209930\n",
      "\t\tlength after 4209921\n",
      "\t\t\tremoved snps 9\n",
      "chr18_KI270911v1_alt vcf length before 4209921\n",
      "\t\tlength after 4209920\n",
      "\t\t\tremoved snps 1\n",
      "chr18_KI270863v1_alt vcf length before 4209920\n",
      "\t\tlength after 4209890\n",
      "\t\t\tremoved snps 30\n",
      "chr19_GL383576v1_alt vcf length before 4209890\n",
      "\t\tlength after 4209886\n",
      "\t\t\tremoved snps 4\n",
      "chr19_GL383574v1_alt vcf length before 4209886\n",
      "\t\tlength after 4209880\n",
      "\t\t\tremoved snps 6\n",
      "chr19_KI270866v1_alt vcf length before 4209880\n",
      "\t\tlength after 4209869\n",
      "\t\t\tremoved snps 11\n",
      "chr2_KI270773v1_alt vcf length before 4209869\n",
      "\t\tlength after 4209867\n",
      "\t\t\tremoved snps 2\n",
      "chr2_KI270774v1_alt vcf length before 4209867\n",
      "\t\tlength after 4209836\n",
      "\t\t\tremoved snps 31\n",
      "chr2_KI270769v1_alt vcf length before 4209836\n",
      "\t\tlength after 4209801\n",
      "\t\t\tremoved snps 35\n",
      "chr2_KI270772v1_alt vcf length before 4209801\n",
      "\t\tlength after 4209704\n",
      "\t\t\tremoved snps 97\n",
      "chr2_KI270775v1_alt vcf length before 4209704\n",
      "\t\tlength after 4209703\n",
      "\t\t\tremoved snps 1\n",
      "chr2_KI270771v1_alt vcf length before 4209703\n",
      "\t\tlength after 4209700\n",
      "\t\t\tremoved snps 3\n",
      "chr2_GL582966v2_alt vcf length before 4209700\n",
      "\t\tlength after 4209697\n",
      "\t\t\tremoved snps 3\n",
      "chr2_GL383522v1_alt vcf length before 4209697\n",
      "\t\tlength after 4209696\n",
      "\t\t\tremoved snps 1\n",
      "chr21_GL383578v2_alt vcf length before 4209696\n",
      "\t\tlength after 4209695\n",
      "\t\t\tremoved snps 1\n",
      "chr21_KI270874v1_alt vcf length before 4209695\n",
      "\t\tlength after 4209681\n",
      "\t\t\tremoved snps 14\n",
      "chr21_KI270873v1_alt vcf length before 4209681\n",
      "\t\tlength after 4209680\n",
      "\t\t\tremoved snps 1\n",
      "chr21_GL383579v2_alt vcf length before 4209680\n",
      "\t\tlength after 4209675\n",
      "\t\t\tremoved snps 5\n",
      "chr21_GL383580v2_alt vcf length before 4209675\n",
      "\t\tlength after 4209666\n",
      "\t\t\tremoved snps 9\n",
      "chr21_GL383581v2_alt vcf length before 4209666\n",
      "\t\tlength after 4209652\n",
      "\t\t\tremoved snps 14\n",
      "chr21_KI270872v1_alt vcf length before 4209652\n",
      "\t\tlength after 4209645\n",
      "\t\t\tremoved snps 7\n",
      "chr22_KI270875v1_alt vcf length before 4209645\n",
      "\t\tlength after 4209620\n",
      "\t\t\tremoved snps 25\n",
      "chr22_KI270878v1_alt vcf length before 4209620\n",
      "\t\tlength after 4209605\n",
      "\t\t\tremoved snps 15\n",
      "chr22_KI270879v1_alt vcf length before 4209605\n",
      "\t\tlength after 4209573\n",
      "\t\t\tremoved snps 32\n",
      "chr22_KI270876v1_alt vcf length before 4209573\n",
      "\t\tlength after 4209571\n",
      "\t\t\tremoved snps 2\n",
      "chr22_KI270877v1_alt vcf length before 4209571\n",
      "\t\tlength after 4209547\n",
      "\t\t\tremoved snps 24\n",
      "chr22_KI270928v1_alt vcf length before 4209547\n",
      "\t\tlength after 4209541\n",
      "\t\t\tremoved snps 6\n",
      "chr3_JH636055v2_alt vcf length before 4209541\n",
      "\t\tlength after 4209530\n",
      "\t\t\tremoved snps 11\n",
      "chr3_KI270783v1_alt vcf length before 4209530\n",
      "\t\tlength after 4209511\n",
      "\t\t\tremoved snps 19\n",
      "chr3_KI270780v1_alt vcf length before 4209511\n",
      "\t\tlength after 4209493\n",
      "\t\t\tremoved snps 18\n",
      "chr3_GL383526v1_alt vcf length before 4209493\n",
      "\t\tlength after 4209480\n",
      "\t\t\tremoved snps 13\n",
      "chr3_KI270777v1_alt vcf length before 4209480\n",
      "\t\tlength after 4209452\n",
      "\t\t\tremoved snps 28\n",
      "chr3_KI270778v1_alt vcf length before 4209452\n",
      "\t\tlength after 4209443\n",
      "\t\t\tremoved snps 9\n",
      "chr3_KI270781v1_alt vcf length before 4209443\n",
      "\t\tlength after 4209428\n",
      "\t\t\tremoved snps 15\n",
      "chr3_KI270779v1_alt vcf length before 4209428\n",
      "\t\tlength after 4209425\n",
      "\t\t\tremoved snps 3\n",
      "chr3_KI270782v1_alt vcf length before 4209425\n",
      "\t\tlength after 4209418\n",
      "\t\t\tremoved snps 7\n",
      "chr4_KI270787v1_alt vcf length before 4209418\n",
      "\t\tlength after 4209408\n",
      "\t\t\tremoved snps 10\n",
      "chr4_GL383527v1_alt vcf length before 4209408\n",
      "\t\tlength after 4209390\n",
      "\t\t\tremoved snps 18\n",
      "chr4_KI270785v1_alt vcf length before 4209390\n",
      "\t\tlength after 4209373\n",
      "\t\t\tremoved snps 17\n",
      "chr5_KI270792v1_alt vcf length before 4209373\n",
      "\t\tlength after 4209354\n",
      "\t\t\tremoved snps 19\n",
      "chr5_KI270791v1_alt vcf length before 4209354\n",
      "\t\tlength after 4209339\n",
      "\t\t\tremoved snps 15\n",
      "chr5_GL949742v1_alt vcf length before 4209339\n",
      "\t\tlength after 4209322\n",
      "\t\t\tremoved snps 17\n",
      "chr5_GL383530v1_alt vcf length before 4209322\n",
      "\t\tlength after 4209322\n",
      "\t\t\tremoved snps 0\n",
      "chr5_GL383531v1_alt vcf length before 4209322\n",
      "\t\tlength after 4209303\n",
      "\t\t\tremoved snps 19\n",
      "chr5_KI270795v1_alt vcf length before 4209303\n",
      "\t\tlength after 4209296\n",
      "\t\t\tremoved snps 7\n",
      "chr6_KI270800v1_alt vcf length before 4209296\n",
      "\t\tlength after 4209281\n",
      "\t\t\tremoved snps 15\n",
      "chr6_KI270799v1_alt vcf length before 4209281\n",
      "\t\tlength after 4209261\n",
      "\t\t\tremoved snps 20\n",
      "chr6_GL383533v1_alt vcf length before 4209261\n",
      "\t\tlength after 4209248\n",
      "\t\t\tremoved snps 13\n",
      "chr6_KB021644v2_alt vcf length before 4209248\n",
      "\t\tlength after 4209230\n",
      "\t\t\tremoved snps 18\n",
      "chr6_KI270797v1_alt vcf length before 4209230\n",
      "\t\tlength after 4209230\n",
      "\t\t\tremoved snps 0\n",
      "chr7_KI270899v1_alt vcf length before 4209230\n",
      "\t\tlength after 4209212\n",
      "\t\t\tremoved snps 18\n",
      "chr7_KI270808v1_alt vcf length before 4209212\n",
      "\t\tlength after 4209176\n",
      "\t\t\tremoved snps 36\n",
      "chr7_KI270805v1_alt vcf length before 4209176\n",
      "\t\tlength after 4209106\n",
      "\t\t\tremoved snps 70\n",
      "chr8_KI270814v1_alt vcf length before 4209106\n",
      "\t\tlength after 4209103\n",
      "\t\t\tremoved snps 3\n",
      "chr8_KI270810v1_alt vcf length before 4209103\n",
      "\t\tlength after 4209102\n",
      "\t\t\tremoved snps 1\n",
      "chr8_KI270819v1_alt vcf length before 4209102\n",
      "\t\tlength after 4209092\n",
      "\t\t\tremoved snps 10\n",
      "chr8_KI270820v1_alt vcf length before 4209092\n",
      "\t\tlength after 4209087\n",
      "\t\t\tremoved snps 5\n",
      "chr8_KI270815v1_alt vcf length before 4209087\n",
      "\t\tlength after 4209085\n",
      "\t\t\tremoved snps 2\n",
      "chr9_GL383539v1_alt vcf length before 4209085\n",
      "\t\tlength after 4209067\n",
      "\t\t\tremoved snps 18\n",
      "chr9_GL383541v1_alt vcf length before 4209067\n",
      "\t\tlength after 4209039\n",
      "\t\t\tremoved snps 28\n",
      "chr9_GL383542v1_alt vcf length before 4209039\n",
      "\t\tlength after 4209031\n",
      "\t\t\tremoved snps 8\n",
      "chr9_KI270823v1_alt vcf length before 4209031\n",
      "\t\tlength after 4209014\n",
      "\t\t\tremoved snps 17\n",
      "chrX_KI270913v1_alt vcf length before 4209014\n",
      "\t\tlength after 4209004\n",
      "\t\t\tremoved snps 10\n",
      "CPU times: user 1min 52s, sys: 14.3 s, total: 2min 7s\n",
      "Wall time: 2min 6s\n"
     ]
    }
   ],
   "source": [
    "%%time\n",
    "\n",
    "for index, row in list(alt_contigs_to_use.iterrows()):\n",
    "    length_before = raw_vcf_df.shape[0]\n",
    "    print(row[\"contig\"], \"vcf length before\", length_before)\n",
    "    raw_vcf_df = raw_vcf_df[~((raw_vcf_df[\"#CHROM\"] == \"chr\" + row[\"chrom\"]) & (row[\"start\"] <= raw_vcf_df[\"POS\"]) & (raw_vcf_df[\"POS\"] <= row[\"stop\"]))]\n",
    "    print(\"\\t\\tlength after\", raw_vcf_df.shape[0])\n",
    "    print(\"\\t\\t\\tremoved snps\", length_before - raw_vcf_df.shape[0])"
   ],
   "metadata": {
    "collapsed": false,
    "pycharm": {
     "name": "#%%\n"
    }
   }
  },
  {
   "cell_type": "markdown",
   "source": [
    "### Make alt contigs that should be used part of main contig"
   ],
   "metadata": {
    "collapsed": false
   }
  },
  {
   "cell_type": "code",
   "execution_count": 23,
   "outputs": [
    {
     "name": "stdout",
     "output_type": "stream",
     "text": [
      "chr1_KI270762v1_alt vcf length before 4209004\n",
      "\t\talt_contig length 19\n",
      "\t\tlength after 4209004\n",
      "\t\t\tlost snps 0\n",
      "chr1_KI270760v1_alt vcf length before 4209004\n",
      "\t\talt_contig length 26\n",
      "\t\tlength after 4209004\n",
      "\t\t\tlost snps 0\n",
      "chr1_KI270765v1_alt vcf length before 4209004\n",
      "\t\talt_contig length 8\n",
      "\t\tlength after 4209004\n",
      "\t\t\tlost snps 0\n",
      "chr1_GL383518v1_alt vcf length before 4209004\n",
      "\t\talt_contig length 3\n",
      "\t\tlength after 4209004\n",
      "\t\t\tlost snps 0\n",
      "chr1_GL383520v2_alt vcf length before 4209004\n",
      "\t\talt_contig length 39\n",
      "\t\tlength after 4209004\n",
      "\t\t\tlost snps 0\n",
      "chr1_KI270763v1_alt vcf length before 4209004\n",
      "\t\talt_contig length 23\n",
      "\t\tlength after 4209004\n",
      "\t\t\tlost snps 0\n",
      "chr1_KI270761v1_alt vcf length before 4209004\n",
      "\t\talt_contig length 0\n",
      "\t\tlength after 4209004\n",
      "\t\t\tlost snps 0\n",
      "chr10_GL383545v1_alt vcf length before 4209004\n",
      "\t\talt_contig length 94\n",
      "\t\tlength after 4209004\n",
      "\t\t\tlost snps 0\n",
      "chr10_GL383546v1_alt vcf length before 4209004\n",
      "\t\talt_contig length 14\n",
      "\t\tlength after 4209004\n",
      "\t\t\tlost snps 0\n",
      "chr11_KI270832v1_alt vcf length before 4209004\n",
      "\t\talt_contig length 7\n",
      "\t\tlength after 4209004\n",
      "\t\t\tlost snps 0\n",
      "chr11_KI270903v1_alt vcf length before 4209004\n",
      "\t\talt_contig length 23\n",
      "\t\tlength after 4209004\n",
      "\t\t\tlost snps 0\n",
      "chr11_GL383547v1_alt vcf length before 4209004\n",
      "\t\talt_contig length 44\n",
      "\t\tlength after 4209004\n",
      "\t\t\tlost snps 0\n",
      "chr12_GL877875v1_alt vcf length before 4209004\n",
      "\t\talt_contig length 36\n",
      "\t\tlength after 4209004\n",
      "\t\t\tlost snps 0\n",
      "chr12_KI270904v1_alt vcf length before 4209004\n",
      "\t\talt_contig length 15\n",
      "\t\tlength after 4209004\n",
      "\t\t\tlost snps 0\n",
      "chr12_KI270835v1_alt vcf length before 4209004\n",
      "\t\talt_contig length 18\n",
      "\t\tlength after 4209004\n",
      "\t\t\tlost snps 0\n",
      "chr12_GL383550v2_alt vcf length before 4209004\n",
      "\t\talt_contig length 31\n",
      "\t\tlength after 4209004\n",
      "\t\t\tlost snps 0\n",
      "chr12_GL383553v2_alt vcf length before 4209004\n",
      "\t\talt_contig length 7\n",
      "\t\tlength after 4209004\n",
      "\t\t\tlost snps 0\n",
      "chr12_KI270834v1_alt vcf length before 4209004\n",
      "\t\talt_contig length 5\n",
      "\t\tlength after 4209004\n",
      "\t\t\tlost snps 0\n",
      "chr12_KI270833v1_alt vcf length before 4209004\n",
      "\t\talt_contig length 8\n",
      "\t\tlength after 4209004\n",
      "\t\t\tlost snps 0\n",
      "chr13_KI270839v1_alt vcf length before 4209004\n",
      "\t\talt_contig length 23\n",
      "\t\tlength after 4209004\n",
      "\t\t\tlost snps 0\n",
      "chr13_KI270841v1_alt vcf length before 4209004\n",
      "\t\talt_contig length 14\n",
      "\t\tlength after 4209004\n",
      "\t\t\tlost snps 0\n",
      "chr14_KI270844v1_alt vcf length before 4209004\n",
      "\t\talt_contig length 27\n",
      "\t\tlength after 4209004\n",
      "\t\t\tlost snps 0\n",
      "chr14_KI270846v1_alt vcf length before 4209004\n",
      "\t\talt_contig length 154\n",
      "\t\tlength after 4209004\n",
      "\t\t\tlost snps 0\n",
      "chr15_GL383555v2_alt vcf length before 4209004\n",
      "\t\talt_contig length 42\n",
      "\t\tlength after 4209004\n",
      "\t\t\tlost snps 0\n",
      "chr15_KI270850v1_alt vcf length before 4209004\n",
      "\t\talt_contig length 65\n",
      "\t\tlength after 4209004\n",
      "\t\t\tlost snps 0\n",
      "chr16_KI270855v1_alt vcf length before 4209004\n",
      "\t\talt_contig length 40\n",
      "\t\tlength after 4209004\n",
      "\t\t\tlost snps 0\n",
      "chr16_KI270853v1_alt vcf length before 4209004\n",
      "\t\talt_contig length 80\n",
      "\t\tlength after 4209004\n",
      "\t\t\tlost snps 0\n",
      "chr16_GL383557v1_alt vcf length before 4209004\n",
      "\t\talt_contig length 14\n",
      "\t\tlength after 4209004\n",
      "\t\t\tlost snps 0\n",
      "chr17_GL383563v3_alt vcf length before 4209004\n",
      "\t\talt_contig length 43\n",
      "\t\tlength after 4209004\n",
      "\t\t\tlost snps 0\n",
      "chr17_GL383565v1_alt vcf length before 4209004\n",
      "\t\talt_contig length 5\n",
      "\t\tlength after 4209004\n",
      "\t\t\tlost snps 0\n",
      "chr17_KI270859v1_alt vcf length before 4209004\n",
      "\t\talt_contig length 17\n",
      "\t\tlength after 4209004\n",
      "\t\t\tlost snps 0\n",
      "chr17_GL383566v1_alt vcf length before 4209004\n",
      "\t\talt_contig length 15\n",
      "\t\tlength after 4209004\n",
      "\t\t\tlost snps 0\n",
      "chr18_KI270864v1_alt vcf length before 4209004\n",
      "\t\talt_contig length 26\n",
      "\t\tlength after 4209004\n",
      "\t\t\tlost snps 0\n",
      "chr18_GL383567v1_alt vcf length before 4209004\n",
      "\t\talt_contig length 6\n",
      "\t\tlength after 4209004\n",
      "\t\t\tlost snps 0\n",
      "chr18_GL383571v1_alt vcf length before 4209004\n",
      "\t\talt_contig length 53\n",
      "\t\tlength after 4209004\n",
      "\t\t\tlost snps 0\n",
      "chr18_GL383568v1_alt vcf length before 4209004\n",
      "\t\talt_contig length 42\n",
      "\t\tlength after 4209004\n",
      "\t\t\tlost snps 0\n",
      "chr18_KI270911v1_alt vcf length before 4209004\n",
      "\t\talt_contig length 2\n",
      "\t\tlength after 4209004\n",
      "\t\t\tlost snps 0\n",
      "chr18_KI270863v1_alt vcf length before 4209004\n",
      "\t\talt_contig length 29\n",
      "\t\tlength after 4209004\n",
      "\t\t\tlost snps 0\n",
      "chr19_GL383576v1_alt vcf length before 4209004\n",
      "\t\talt_contig length 5\n",
      "\t\tlength after 4209004\n",
      "\t\t\tlost snps 0\n",
      "chr19_GL383574v1_alt vcf length before 4209004\n",
      "\t\talt_contig length 22\n",
      "\t\tlength after 4209004\n",
      "\t\t\tlost snps 0\n",
      "chr19_KI270866v1_alt vcf length before 4209004\n",
      "\t\talt_contig length 36\n",
      "\t\tlength after 4209004\n",
      "\t\t\tlost snps 0\n",
      "chr2_KI270773v1_alt vcf length before 4209004\n",
      "\t\talt_contig length 3\n",
      "\t\tlength after 4209004\n",
      "\t\t\tlost snps 0\n",
      "chr2_KI270774v1_alt vcf length before 4209004\n",
      "\t\talt_contig length 57\n",
      "\t\tlength after 4209004\n",
      "\t\t\tlost snps 0\n",
      "chr2_KI270769v1_alt vcf length before 4209004\n",
      "\t\talt_contig length 26\n",
      "\t\tlength after 4209004\n",
      "\t\t\tlost snps 0\n",
      "chr2_KI270772v1_alt vcf length before 4209004\n",
      "\t\talt_contig length 151\n",
      "\t\tlength after 4209004\n",
      "\t\t\tlost snps 0\n",
      "chr2_KI270775v1_alt vcf length before 4209004\n",
      "\t\talt_contig length 8\n",
      "\t\tlength after 4209004\n",
      "\t\t\tlost snps 0\n",
      "chr2_KI270771v1_alt vcf length before 4209004\n",
      "\t\talt_contig length 7\n",
      "\t\tlength after 4209004\n",
      "\t\t\tlost snps 0\n",
      "chr2_GL582966v2_alt vcf length before 4209004\n",
      "\t\talt_contig length 1\n",
      "\t\tlength after 4209004\n",
      "\t\t\tlost snps 0\n",
      "chr2_GL383522v1_alt vcf length before 4209004\n",
      "\t\talt_contig length 6\n",
      "\t\tlength after 4209004\n",
      "\t\t\tlost snps 0\n",
      "chr21_GL383578v2_alt vcf length before 4209004\n",
      "\t\talt_contig length 31\n",
      "\t\tlength after 4209004\n",
      "\t\t\tlost snps 0\n",
      "chr21_KI270874v1_alt vcf length before 4209004\n",
      "\t\talt_contig length 10\n",
      "\t\tlength after 4209004\n",
      "\t\t\tlost snps 0\n",
      "chr21_KI270873v1_alt vcf length before 4209004\n",
      "\t\talt_contig length 5\n",
      "\t\tlength after 4209004\n",
      "\t\t\tlost snps 0\n",
      "chr21_GL383579v2_alt vcf length before 4209004\n",
      "\t\talt_contig length 5\n",
      "\t\tlength after 4209004\n",
      "\t\t\tlost snps 0\n",
      "chr21_GL383580v2_alt vcf length before 4209004\n",
      "\t\talt_contig length 9\n",
      "\t\tlength after 4209004\n",
      "\t\t\tlost snps 0\n",
      "chr21_GL383581v2_alt vcf length before 4209004\n",
      "\t\talt_contig length 49\n",
      "\t\tlength after 4209004\n",
      "\t\t\tlost snps 0\n",
      "chr21_KI270872v1_alt vcf length before 4209004\n",
      "\t\talt_contig length 5\n",
      "\t\tlength after 4209004\n",
      "\t\t\tlost snps 0\n",
      "chr22_KI270875v1_alt vcf length before 4209004\n",
      "\t\talt_contig length 28\n",
      "\t\tlength after 4209004\n",
      "\t\t\tlost snps 0\n",
      "chr22_KI270878v1_alt vcf length before 4209004\n",
      "\t\talt_contig length 117\n",
      "\t\tlength after 4209004\n",
      "\t\t\tlost snps 0\n",
      "chr22_KI270879v1_alt vcf length before 4209004\n",
      "\t\talt_contig length 71\n",
      "\t\tlength after 4209004\n",
      "\t\t\tlost snps 0\n",
      "chr22_KI270876v1_alt vcf length before 4209004\n",
      "\t\talt_contig length 11\n",
      "\t\tlength after 4209004\n",
      "\t\t\tlost snps 0\n",
      "chr22_KI270877v1_alt vcf length before 4209004\n",
      "\t\talt_contig length 21\n",
      "\t\tlength after 4209004\n",
      "\t\t\tlost snps 0\n",
      "chr22_KI270928v1_alt vcf length before 4209004\n",
      "\t\talt_contig length 5\n",
      "\t\tlength after 4209004\n",
      "\t\t\tlost snps 0\n",
      "chr3_JH636055v2_alt vcf length before 4209004\n",
      "\t\talt_contig length 24\n",
      "\t\tlength after 4209004\n",
      "\t\t\tlost snps 0\n",
      "chr3_KI270783v1_alt vcf length before 4209004\n",
      "\t\talt_contig length 21\n",
      "\t\tlength after 4209004\n",
      "\t\t\tlost snps 0\n",
      "chr3_KI270780v1_alt vcf length before 4209004\n",
      "\t\talt_contig length 18\n",
      "\t\tlength after 4209004\n",
      "\t\t\tlost snps 0\n",
      "chr3_GL383526v1_alt vcf length before 4209004\n",
      "\t\talt_contig length 37\n",
      "\t\tlength after 4209004\n",
      "\t\t\tlost snps 0\n",
      "chr3_KI270777v1_alt vcf length before 4209004\n",
      "\t\talt_contig length 21\n",
      "\t\tlength after 4209004\n",
      "\t\t\tlost snps 0\n",
      "chr3_KI270778v1_alt vcf length before 4209004\n",
      "\t\talt_contig length 21\n",
      "\t\tlength after 4209004\n",
      "\t\t\tlost snps 0\n",
      "chr3_KI270781v1_alt vcf length before 4209004\n",
      "\t\talt_contig length 22\n",
      "\t\tlength after 4209004\n",
      "\t\t\tlost snps 0\n",
      "chr3_KI270779v1_alt vcf length before 4209004\n",
      "\t\talt_contig length 3\n",
      "\t\tlength after 4209004\n",
      "\t\t\tlost snps 0\n",
      "chr3_KI270782v1_alt vcf length before 4209004\n",
      "\t\talt_contig length 6\n",
      "\t\tlength after 4209004\n",
      "\t\t\tlost snps 0\n",
      "chr4_KI270787v1_alt vcf length before 4209004\n",
      "\t\talt_contig length 11\n",
      "\t\tlength after 4209004\n",
      "\t\t\tlost snps 0\n",
      "chr4_GL383527v1_alt vcf length before 4209004\n",
      "\t\talt_contig length 22\n",
      "\t\tlength after 4209004\n",
      "\t\t\tlost snps 0\n",
      "chr4_KI270785v1_alt vcf length before 4209004\n",
      "\t\talt_contig length 9\n",
      "\t\tlength after 4209004\n",
      "\t\t\tlost snps 0\n",
      "chr5_KI270792v1_alt vcf length before 4209004\n",
      "\t\talt_contig length 23\n",
      "\t\tlength after 4209004\n",
      "\t\t\tlost snps 0\n",
      "chr5_KI270791v1_alt vcf length before 4209004\n",
      "\t\talt_contig length 10\n",
      "\t\tlength after 4209004\n",
      "\t\t\tlost snps 0\n",
      "chr5_GL949742v1_alt vcf length before 4209004\n",
      "\t\talt_contig length 4\n",
      "\t\tlength after 4209004\n",
      "\t\t\tlost snps 0\n",
      "chr5_GL383530v1_alt vcf length before 4209004\n",
      "\t\talt_contig length 5\n",
      "\t\tlength after 4209004\n",
      "\t\t\tlost snps 0\n",
      "chr5_GL383531v1_alt vcf length before 4209004\n",
      "\t\talt_contig length 27\n",
      "\t\tlength after 4209004\n",
      "\t\t\tlost snps 0\n",
      "chr5_KI270795v1_alt vcf length before 4209004\n",
      "\t\talt_contig length 58\n",
      "\t\tlength after 4209004\n",
      "\t\t\tlost snps 0\n",
      "chr6_KI270800v1_alt vcf length before 4209004\n",
      "\t\talt_contig length 33\n",
      "\t\tlength after 4209004\n",
      "\t\t\tlost snps 0\n",
      "chr6_KI270799v1_alt vcf length before 4209004\n",
      "\t\talt_contig length 32\n",
      "\t\tlength after 4209004\n",
      "\t\t\tlost snps 0\n",
      "chr6_GL383533v1_alt vcf length before 4209004\n",
      "\t\talt_contig length 29\n",
      "\t\tlength after 4209004\n",
      "\t\t\tlost snps 0\n",
      "chr6_KB021644v2_alt vcf length before 4209004\n",
      "\t\talt_contig length 30\n",
      "\t\tlength after 4209004\n",
      "\t\t\tlost snps 0\n",
      "chr6_KI270797v1_alt vcf length before 4209004\n",
      "\t\talt_contig length 2\n",
      "\t\tlength after 4209004\n",
      "\t\t\tlost snps 0\n",
      "chr7_KI270899v1_alt vcf length before 4209004\n",
      "\t\talt_contig length 11\n",
      "\t\tlength after 4209004\n",
      "\t\t\tlost snps 0\n",
      "chr7_KI270808v1_alt vcf length before 4209004\n",
      "\t\talt_contig length 37\n",
      "\t\tlength after 4209004\n",
      "\t\t\tlost snps 0\n",
      "chr7_KI270805v1_alt vcf length before 4209004\n",
      "\t\talt_contig length 43\n",
      "\t\tlength after 4209004\n",
      "\t\t\tlost snps 0\n",
      "chr8_KI270814v1_alt vcf length before 4209004\n",
      "\t\talt_contig length 0\n",
      "\t\tlength after 4209004\n",
      "\t\t\tlost snps 0\n",
      "chr8_KI270810v1_alt vcf length before 4209004\n",
      "\t\talt_contig length 4\n",
      "\t\tlength after 4209004\n",
      "\t\t\tlost snps 0\n",
      "chr8_KI270819v1_alt vcf length before 4209004\n",
      "\t\talt_contig length 16\n",
      "\t\tlength after 4209004\n",
      "\t\t\tlost snps 0\n",
      "chr8_KI270820v1_alt vcf length before 4209004\n",
      "\t\talt_contig length 4\n",
      "\t\tlength after 4209004\n",
      "\t\t\tlost snps 0\n",
      "chr8_KI270815v1_alt vcf length before 4209004\n",
      "\t\talt_contig length 5\n",
      "\t\tlength after 4209004\n",
      "\t\t\tlost snps 0\n",
      "chr9_GL383539v1_alt vcf length before 4209004\n",
      "\t\talt_contig length 16\n",
      "\t\tlength after 4209004\n",
      "\t\t\tlost snps 0\n",
      "chr9_GL383541v1_alt vcf length before 4209004\n",
      "\t\talt_contig length 26\n",
      "\t\tlength after 4209004\n",
      "\t\t\tlost snps 0\n",
      "chr9_GL383542v1_alt vcf length before 4209004\n",
      "\t\talt_contig length 9\n",
      "\t\tlength after 4209004\n",
      "\t\t\tlost snps 0\n",
      "chr9_KI270823v1_alt vcf length before 4209004\n",
      "\t\talt_contig length 22\n",
      "\t\tlength after 4209004\n",
      "\t\t\tlost snps 0\n",
      "chrX_KI270913v1_alt vcf length before 4209004\n",
      "\t\talt_contig length 7\n",
      "\t\tlength after 4209004\n",
      "\t\t\tlost snps 0\n",
      "CPU times: user 5min 29s, sys: 1min 30s, total: 7min\n",
      "Wall time: 7min\n"
     ]
    }
   ],
   "source": [
    "%%time\n",
    "\n",
    "def transform_row(contig_start):\n",
    "    def _transform(row):\n",
    "        row[\"#CHROM\"] = row[\"#CHROM\"].split(\"_\")[0]\n",
    "        row[\"POS\"] = contig_start + row[\"POS\"]\n",
    "        return row\n",
    "    return _transform\n",
    "\n",
    "for index, row in list(alt_contigs_to_use.iterrows()):\n",
    "    length_before = raw_vcf_df.shape[0]\n",
    "    print(row[\"contig\"], \"vcf length before\", length_before)\n",
    "    alt_contig_rows_in_raw_vcf_df = raw_vcf_df[raw_vcf_df[\"#CHROM\"] == row[\"contig\"]]\n",
    "    raw_vcf_df = raw_vcf_df[raw_vcf_df[\"#CHROM\"] != row[\"contig\"]]\n",
    "    updated_alt_contig_rows_in_raw_vcf_df = alt_contig_rows_in_raw_vcf_df.apply(transform_row(row[\"start\"]), axis=\"columns\")\n",
    "    raw_vcf_df = raw_vcf_df.append(updated_alt_contig_rows_in_raw_vcf_df, ignore_index=True)\n",
    "    print(\"\\t\\talt_contig length\", updated_alt_contig_rows_in_raw_vcf_df.shape[0])\n",
    "    print(\"\\t\\tlength after\", raw_vcf_df.shape[0])\n",
    "    print(\"\\t\\t\\tlost snps\", raw_vcf_df.shape[0] - length_before)\n"
   ],
   "metadata": {
    "collapsed": false,
    "pycharm": {
     "name": "#%%\n"
    }
   }
  },
  {
   "cell_type": "markdown",
   "source": [
    "### Remove all other alt contigs"
   ],
   "metadata": {
    "collapsed": false
   }
  },
  {
   "cell_type": "code",
   "execution_count": 24,
   "outputs": [
    {
     "name": "stdout",
     "output_type": "stream",
     "text": [
      "\t\tlength before 4209004\n",
      "\t\tlength after 4186295\n"
     ]
    }
   ],
   "source": [
    "CHROM_TO_KEEP = [\n",
    "    \"chr1\",\n",
    "    \"chr2\",\n",
    "    \"chr3\",\n",
    "    \"chr4\",\n",
    "    \"chr5\",\n",
    "    \"chr6\",\n",
    "    \"chr7\",\n",
    "    \"chr8\",\n",
    "    \"chr9\",\n",
    "    \"chr10\",\n",
    "    \"chr11\",\n",
    "    \"chr12\",\n",
    "    \"chr13\",\n",
    "    \"chr14\",\n",
    "    \"chr15\",\n",
    "    \"chr16\",\n",
    "    \"chr17\",\n",
    "    \"chr18\",\n",
    "    \"chr19\",\n",
    "    \"chr20\",\n",
    "    \"chr21\",\n",
    "    \"chr22\",\n",
    "    \"chrX\",\n",
    "    \"chrY\",\n",
    "    \"chrM\",\n",
    "]\n",
    "\n",
    "print(\"\\t\\tlength before\", raw_vcf_df.shape[0])\n",
    "raw_vcf_df = raw_vcf_df[raw_vcf_df[\"#CHROM\"].isin(CHROM_TO_KEEP)]\n",
    "print(\"\\t\\tlength after\", raw_vcf_df.shape[0])"
   ],
   "metadata": {
    "collapsed": false,
    "pycharm": {
     "name": "#%%\n"
    }
   }
  },
  {
   "cell_type": "markdown",
   "source": [
    "### Sort new vcf"
   ],
   "metadata": {
    "collapsed": false
   }
  },
  {
   "cell_type": "code",
   "execution_count": 25,
   "outputs": [],
   "source": [
    "raw_vcf_df = raw_vcf_df.sort_values(by=[\"#CHROM\", \"POS\"], ignore_index=True)"
   ],
   "metadata": {
    "collapsed": false,
    "pycharm": {
     "name": "#%%\n"
    }
   }
  },
  {
   "cell_type": "markdown",
   "source": [
    "### Store new vcf\n",
    "\n",
    "#### Create new vcf header"
   ],
   "metadata": {
    "collapsed": false
   }
  },
  {
   "cell_type": "code",
   "execution_count": 31,
   "outputs": [],
   "source": [
    "header_row_number = get_vcf_file_header_line_number(file_name=project_root_path / vcf_uncompressed_file)\n",
    "row_counter = 0\n",
    "header_text = []\n",
    "with open(project_root_path / vcf_uncompressed_file, \"r\") as f:\n",
    "    for line_text in f:\n",
    "        if row_counter >= header_row_number:\n",
    "            break\n",
    "        row_counter += 1\n",
    "        if line_text.startswith(\"##contig=<ID=\"):\n",
    "            contig = line_text.replace(\"##contig=<ID=\", \"\").split(\",\")[0]\n",
    "            if contig not in CHROM_TO_KEEP:\n",
    "                continue\n",
    "        header_text.append(line_text)"
   ],
   "metadata": {
    "collapsed": false,
    "pycharm": {
     "name": "#%%\n"
    }
   }
  },
  {
   "cell_type": "markdown",
   "source": [
    "#### Write vcf file"
   ],
   "metadata": {
    "collapsed": false,
    "pycharm": {
     "name": "#%% md\n"
    }
   }
  },
  {
   "cell_type": "code",
   "execution_count": 32,
   "outputs": [],
   "source": [
    "with open(project_root_path / vcf_file_with_high_coverage_contigs_used, \"w\") as f:\n",
    "    f.writelines(header_text)\n",
    "    raw_vcf_df.to_csv(f, sep=\"\\t\", index=None)"
   ],
   "metadata": {
    "collapsed": false,
    "pycharm": {
     "name": "#%%\n"
    }
   }
  },
  {
   "cell_type": "code",
   "execution_count": null,
   "outputs": [],
   "source": [],
   "metadata": {
    "collapsed": false,
    "pycharm": {
     "name": "#%%\n"
    }
   }
  }
 ],
 "metadata": {
  "kernelspec": {
   "display_name": "Python 3",
   "language": "python",
   "name": "python3"
  },
  "language_info": {
   "codemirror_mode": {
    "name": "ipython",
    "version": 2
   },
   "file_extension": ".py",
   "mimetype": "text/x-python",
   "name": "python",
   "nbconvert_exporter": "python",
   "pygments_lexer": "ipython2",
   "version": "2.7.6"
  }
 },
 "nbformat": 4,
 "nbformat_minor": 0
}