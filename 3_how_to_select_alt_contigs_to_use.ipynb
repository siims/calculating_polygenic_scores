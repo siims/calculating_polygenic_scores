{
 "cells": [
  {
   "cell_type": "markdown",
   "metadata": {
    "collapsed": true,
    "pycharm": {
     "name": "#%% md\n"
    }
   },
   "source": [
    "# How to select alt contigs to use\n",
    "\n",
    "## What is a contig?\n",
    "\n",
    "> A contig (from contiguous) is a set of overlapping DNA segments that together represent a consensus region of DNA. In bottom-up sequencing projects, a contig refers to overlapping sequence data (reads); in top-down sequencing projects, contig refers to the overlapping clones that form a physical map of the genome that is used to guide sequencing and assembly. Contigs can thus refer both to overlapping DNA sequence and to overlapping physical segments (fragments) contained in clones depending on the context. [source: wiki](https://en.wikipedia.org/wiki/Contig)\n",
    "\n",
    "Available contigs can be accessed via the reference genome, they are visible in the alignment file and vcf file headers:\n",
    "\n",
    "```python\n",
    "# How to list them for alignment file\n",
    "import pysam\n",
    "alignment = pysam.AlignmentFile(\"/path/to/alignment/file.bam\", \"rb\")\n",
    "\n",
    "print(\"contigs:\", alignment.header.references)\n",
    "```\n",
    "\n",
    "It is not enough to use only the main chromosome contigs (`chr1`, `chr2`, ..., `chr22`, `chrX`, `chrY`, `chrMT`), as your region in the main contig might have lower coverage than some of the alternative contigs for that region. Potentially leaving to incorrect genotype values for some chr-pos values. To know what alternative contig to use for an individual one would need to select contigs from alignment based on the conting read coverage.\n",
    "\n",
    "This can be done very easily by counting number of reads aligned to specific region in main contigs and alternative contigs. Because same read can be aligned to multiple contigs.\n",
    "\n",
    "This notebook includes code to generate a metadata file which lists read counts for each region and contig.\n",
    "\n",
    "## Shortcomings:\n",
    "\n",
    "1. Haven't found good tutorials online which show how alternative contigs should be handled. Have validated this approach only with a single bioinformatician.\n",
    "2. Not sure what to do with unlocalized contigs.\n",
    "3. Output higher read coverage vcf file header doesn't reflect what transformation was done."
   ]
  },
  {
   "cell_type": "code",
   "execution_count": null,
   "outputs": [],
   "source": [
    "%reload_ext autoreload\n",
    "%autoreload 2\n",
    "\n",
    "import json\n",
    "from pathlib import Path\n",
    "import pandas as pd\n",
    "import pysam\n",
    "from search_your_dna.hg_util import get_assembly_metadata_df\n",
    "\n",
    "from search_your_dna.util import read_raw_zipped_vcf_file, get_vcf_file_header_line_number, calc_alt_contigs_to_use"
   ],
   "metadata": {
    "collapsed": false,
    "pycharm": {
     "name": "#%%\n"
    }
   }
  },
  {
   "cell_type": "markdown",
   "source": [
    "## Inputs"
   ],
   "metadata": {
    "collapsed": false,
    "pycharm": {
     "name": "#%% md\n"
    }
   }
  },
  {
   "cell_type": "code",
   "execution_count": null,
   "outputs": [],
   "source": [
    "project_root_path = Path(\"/home/s/src/search_your_dna/\")\n",
    "project_root_path.mkdir(parents=True, exist_ok=True)\n",
    "\n",
    "alignment_bam_file = \"data/my_genome_data/GFX0237425.GRCh38.p7.bam\"\n",
    "alignment_data = pysam.AlignmentFile(alignment_bam_file, \"rb\")\n",
    "\n",
    "vcf_uncompressed_file = \"data/GFX0237425.GRCh38.p7.vcf\"\n",
    "vcf_file = \"data/GFX0237425.GRCh38.p7.vcf.gz\"\n",
    "vcf_tabix_file = \"data/GFX0237425.GRCh38.p7.vcf.gz\"\n",
    "\n",
    "# metadata files can be obtained from reference genome build's file server: ftp://ftp.ncbi.nlm.nih.gov/genomes/all/GCA/000/001/405/GCA_000001405.22_GRCh38.p7/\n",
    "assembly_report_file = \"data/grch38.p7/GCA_000001405.22_GRCh38.p7_assembly_report.txt\"\n",
    "assembly_regions_file = \"data/grch38.p7/GCA_000001405.22_GRCh38.p7_assembly_regions.txt\""
   ],
   "metadata": {
    "collapsed": false,
    "pycharm": {
     "name": "#%%\n"
    }
   }
  },
  {
   "cell_type": "markdown",
   "source": [
    "## Outputs"
   ],
   "metadata": {
    "collapsed": false,
    "pycharm": {
     "name": "#%% md\n"
    }
   }
  },
  {
   "cell_type": "code",
   "execution_count": null,
   "outputs": [],
   "source": [
    "region_contig_read_counts_file = \"data/region_contig_read_counts.json\"\n",
    "vcf_file_with_high_coverage_contigs_used = \"data/GFX0237425.GRCh38.p7.using_high_coverage_alt_contigs.vcf\""
   ],
   "metadata": {
    "collapsed": false,
    "pycharm": {
     "name": "#%%\n"
    }
   }
  },
  {
   "cell_type": "markdown",
   "source": [
    "## Calculate alignment metadata to select contig with highest read coverage\n",
    "\n",
    "### Read in the alignment and assembly metadata"
   ],
   "metadata": {
    "collapsed": false,
    "pycharm": {
     "name": "#%% md\n"
    }
   }
  },
  {
   "cell_type": "code",
   "execution_count": null,
   "outputs": [],
   "source": [
    "assembly_metadata_df = get_assembly_metadata_df(assembly_report_file = assembly_report_file, assembly_regions_file=assembly_regions_file)\n",
    "assembly_metadata_df"
   ],
   "metadata": {
    "collapsed": false,
    "pycharm": {
     "name": "#%%\n"
    }
   }
  },
  {
   "cell_type": "code",
   "execution_count": null,
   "outputs": [],
   "source": [
    "contigs = set(alignment_data.header.references)\n",
    "ucsc_style_names = set(assembly_metadata_df[\"ucsc_style_name\"].to_list())\n",
    "\n",
    "f\"Total contigs {len(contigs)}. excluding #{len(contigs - ucsc_style_names)} unlocalized contigs eg. there isn't a region determined.\""
   ],
   "metadata": {
    "collapsed": false,
    "pycharm": {
     "name": "#%%\n"
    }
   }
  },
  {
   "cell_type": "markdown",
   "source": [
    "### Get alt contig read lengths per region"
   ],
   "metadata": {
    "collapsed": false,
    "pycharm": {
     "name": "#%% md\n"
    }
   }
  },
  {
   "cell_type": "code",
   "execution_count": null,
   "outputs": [],
   "source": [
    "%%time\n",
    "\n",
    "alt_contig_region_read_lengths = {}\n",
    "for region, contigs_df in assembly_metadata_df[[\"region_name\", \"ucsc_style_name\"]].groupby(by=\"region_name\"):\n",
    "    alt_contig_region_read_lengths[region] = {}\n",
    "    for contig in contigs_df[\"ucsc_style_name\"].to_list():\n",
    "        reads = alignment_data.fetch(contig)\n",
    "        alt_contig_region_read_lengths[region][contig] = len(list(reads))"
   ],
   "metadata": {
    "collapsed": false,
    "pycharm": {
     "name": "#%%\n"
    }
   }
  },
  {
   "cell_type": "markdown",
   "source": [
    "### Get main contig read values per region"
   ],
   "metadata": {
    "collapsed": false,
    "pycharm": {
     "name": "#%% md\n"
    }
   }
  },
  {
   "cell_type": "code",
   "execution_count": null,
   "outputs": [],
   "source": [
    "region_based_chrom_start_stop_df = assembly_metadata_df[[\"region_name\",\"chromosome\",\"chromosome_start\",\"chromosome_stop\"]].groupby(by=\"region_name\")\n",
    "\n",
    "main_contig_region_reads = {}\n",
    "for region, chrom_start_stop_df in region_based_chrom_start_stop_df:\n",
    "    contig = \"chr\" + chrom_start_stop_df.iloc[0,:][\"chromosome\"]\n",
    "    start = chrom_start_stop_df.iloc[0,:][\"chromosome_start\"]\n",
    "    stop = chrom_start_stop_df.iloc[0,:][\"chromosome_stop\"]\n",
    "    reads = alignment_data.fetch(contig=contig,start=start, stop=stop)\n",
    "    main_contig_region_reads[region] = list(reads)\n"
   ],
   "metadata": {
    "collapsed": false,
    "pycharm": {
     "name": "#%%\n"
    }
   }
  },
  {
   "cell_type": "markdown",
   "source": [
    "### Put together main contig and alternative contig reads lengths per region"
   ],
   "metadata": {
    "collapsed": false
   }
  },
  {
   "cell_type": "code",
   "execution_count": null,
   "outputs": [],
   "source": [
    "aggregated_region_contig_reads = {}\n",
    "for region in alt_contig_region_read_lengths:\n",
    "    aggregated_region_contig_reads[region] = {}\n",
    "    aggregated_region_contig_reads[region][\"main\"] = len(main_contig_region_reads[region])\n",
    "    for contig, read_lengths in alt_contig_region_read_lengths[region].items():\n",
    "        aggregated_region_contig_reads[region][contig] = read_lengths"
   ],
   "metadata": {
    "collapsed": false,
    "pycharm": {
     "name": "#%%\n"
    }
   }
  },
  {
   "cell_type": "markdown",
   "source": [
    "### Store region to contig lengths in a file"
   ],
   "metadata": {
    "collapsed": false
   }
  },
  {
   "cell_type": "code",
   "execution_count": null,
   "outputs": [],
   "source": [
    "with open(project_root_path / region_contig_read_counts_file, \"w\") as f:\n",
    "    json.dump(aggregated_region_contig_reads, f, indent=2)"
   ],
   "metadata": {
    "collapsed": false,
    "pycharm": {
     "name": "#%%\n"
    }
   }
  },
  {
   "cell_type": "markdown",
   "source": [
    "## Create a new vcf file using higher coverage alternative contigs"
   ],
   "metadata": {
    "collapsed": false,
    "pycharm": {
     "name": "#%% md\n"
    }
   }
  },
  {
   "cell_type": "code",
   "execution_count": null,
   "outputs": [],
   "source": [
    "raw_vcf_df = read_raw_zipped_vcf_file(project_root_path / vcf_file)"
   ],
   "metadata": {
    "collapsed": false,
    "pycharm": {
     "name": "#%%\n"
    }
   }
  },
  {
   "cell_type": "code",
   "execution_count": null,
   "outputs": [],
   "source": [
    "raw_vcf_df[raw_vcf_df[\"#CHROM\"] == \"chrX_KI270913v1_alt\"].head()"
   ],
   "metadata": {
    "collapsed": false,
    "pycharm": {
     "name": "#%%\n"
    }
   }
  },
  {
   "cell_type": "code",
   "execution_count": null,
   "outputs": [],
   "source": [
    "with open(project_root_path / region_contig_read_counts_file, \"r\") as f:\n",
    "    region_contig_read_counts = json.load(f)\n",
    "\n",
    "alt_contigs_to_use = calc_alt_contigs_to_use(region_contig_read_counts, assembly_metadata_df)\n",
    "# df with columns: \"chrom\", \"start\", \"stop\", \"contig\", \"region\"\n",
    "alt_contigs_to_use = alt_contigs_to_use.sort_values(by=[\"chrom\", \"start\"])#, ascending=False)\n",
    "alt_contigs_to_use.head()"
   ],
   "metadata": {
    "collapsed": false,
    "pycharm": {
     "name": "#%%\n"
    }
   }
  },
  {
   "cell_type": "markdown",
   "source": [
    "### Remove main contig parts that shouldn't be used"
   ],
   "metadata": {
    "collapsed": false
   }
  },
  {
   "cell_type": "code",
   "execution_count": null,
   "outputs": [],
   "source": [
    "%%time\n",
    "\n",
    "for index, row in list(alt_contigs_to_use.iterrows()):\n",
    "    length_before = raw_vcf_df.shape[0]\n",
    "    # print(row[\"contig\"], \"vcf length before\", length_before)\n",
    "    raw_vcf_df = raw_vcf_df[~((raw_vcf_df[\"#CHROM\"] == \"chr\" + row[\"chrom\"]) & (row[\"start\"] <= raw_vcf_df[\"POS\"]) & (raw_vcf_df[\"POS\"] <= row[\"stop\"]))]\n",
    "    # print(\"\\t\\tlength after\", raw_vcf_df.shape[0])\n",
    "    # print(\"\\t\\t\\tremoved snps\", length_before - raw_vcf_df.shape[0])"
   ],
   "metadata": {
    "collapsed": false,
    "pycharm": {
     "name": "#%%\n"
    }
   }
  },
  {
   "cell_type": "markdown",
   "source": [
    "### Make alt contigs that should be used part of main contig"
   ],
   "metadata": {
    "collapsed": false
   }
  },
  {
   "cell_type": "code",
   "execution_count": null,
   "outputs": [],
   "source": [
    "%%time\n",
    "\n",
    "def transform_row(contig_start):\n",
    "    def _transform(row):\n",
    "        row[\"#CHROM\"] = row[\"#CHROM\"].split(\"_\")[0]\n",
    "        row[\"POS\"] = contig_start + row[\"POS\"]\n",
    "        return row\n",
    "    return _transform\n",
    "\n",
    "for index, row in list(alt_contigs_to_use.iterrows()):\n",
    "    length_before = raw_vcf_df.shape[0]\n",
    "    # print(row[\"contig\"], \"vcf length before\", length_before)\n",
    "    alt_contig_rows_in_raw_vcf_df = raw_vcf_df[raw_vcf_df[\"#CHROM\"] == row[\"contig\"]]\n",
    "    raw_vcf_df = raw_vcf_df[raw_vcf_df[\"#CHROM\"] != row[\"contig\"]]\n",
    "    updated_alt_contig_rows_in_raw_vcf_df = alt_contig_rows_in_raw_vcf_df.apply(transform_row(row[\"start\"]), axis=\"columns\")\n",
    "    raw_vcf_df = raw_vcf_df.append(updated_alt_contig_rows_in_raw_vcf_df, ignore_index=True)\n",
    "    # print(\"\\t\\talt_contig length\", updated_alt_contig_rows_in_raw_vcf_df.shape[0])\n",
    "    # print(\"\\t\\tlength after\", raw_vcf_df.shape[0])\n",
    "    # print(\"\\t\\t\\tlost snps\", raw_vcf_df.shape[0] - length_before)\n"
   ],
   "metadata": {
    "collapsed": false,
    "pycharm": {
     "name": "#%%\n"
    }
   }
  },
  {
   "cell_type": "markdown",
   "source": [
    "### Remove all other alt contigs"
   ],
   "metadata": {
    "collapsed": false
   }
  },
  {
   "cell_type": "code",
   "execution_count": null,
   "outputs": [],
   "source": [
    "CHROM_TO_KEEP = [\n",
    "    \"chr1\",\n",
    "    \"chr2\",\n",
    "    \"chr3\",\n",
    "    \"chr4\",\n",
    "    \"chr5\",\n",
    "    \"chr6\",\n",
    "    \"chr7\",\n",
    "    \"chr8\",\n",
    "    \"chr9\",\n",
    "    \"chr10\",\n",
    "    \"chr11\",\n",
    "    \"chr12\",\n",
    "    \"chr13\",\n",
    "    \"chr14\",\n",
    "    \"chr15\",\n",
    "    \"chr16\",\n",
    "    \"chr17\",\n",
    "    \"chr18\",\n",
    "    \"chr19\",\n",
    "    \"chr20\",\n",
    "    \"chr21\",\n",
    "    \"chr22\",\n",
    "    \"chrX\",\n",
    "    \"chrY\",\n",
    "    \"chrM\",\n",
    "]\n",
    "\n",
    "print(\"\\t\\tlength before\", raw_vcf_df.shape[0])\n",
    "raw_vcf_df = raw_vcf_df[raw_vcf_df[\"#CHROM\"].isin(CHROM_TO_KEEP)]\n",
    "print(\"\\t\\tlength after\", raw_vcf_df.shape[0])"
   ],
   "metadata": {
    "collapsed": false,
    "pycharm": {
     "name": "#%%\n"
    }
   }
  },
  {
   "cell_type": "markdown",
   "source": [
    "### Sort new vcf"
   ],
   "metadata": {
    "collapsed": false
   }
  },
  {
   "cell_type": "code",
   "execution_count": null,
   "outputs": [],
   "source": [
    "raw_vcf_df = raw_vcf_df.sort_values(by=[\"#CHROM\", \"POS\"], ignore_index=True)"
   ],
   "metadata": {
    "collapsed": false,
    "pycharm": {
     "name": "#%%\n"
    }
   }
  },
  {
   "cell_type": "markdown",
   "source": [
    "### Store new vcf\n",
    "\n",
    "#### Create new vcf header"
   ],
   "metadata": {
    "collapsed": false
   }
  },
  {
   "cell_type": "code",
   "execution_count": null,
   "outputs": [],
   "source": [
    "header_row_number = get_vcf_file_header_line_number(file_name=project_root_path / vcf_uncompressed_file)\n",
    "row_counter = 0\n",
    "header_text = []\n",
    "with open(project_root_path / vcf_uncompressed_file, \"r\") as f:\n",
    "    for line_text in f:\n",
    "        if row_counter >= header_row_number:\n",
    "            break\n",
    "        row_counter += 1\n",
    "        if line_text.startswith(\"##contig=<ID=\"):\n",
    "            contig = line_text.replace(\"##contig=<ID=\", \"\").split(\",\")[0]\n",
    "            if contig not in CHROM_TO_KEEP:\n",
    "                continue\n",
    "        header_text.append(line_text)"
   ],
   "metadata": {
    "collapsed": false,
    "pycharm": {
     "name": "#%%\n"
    }
   }
  },
  {
   "cell_type": "markdown",
   "source": [
    "#### Write vcf file"
   ],
   "metadata": {
    "collapsed": false,
    "pycharm": {
     "name": "#%% md\n"
    }
   }
  },
  {
   "cell_type": "code",
   "execution_count": null,
   "outputs": [],
   "source": [
    "with open(project_root_path / vcf_file_with_high_coverage_contigs_used, \"w\") as f:\n",
    "    f.writelines(header_text)\n",
    "    raw_vcf_df.to_csv(f, sep=\"\\t\", index=None)"
   ],
   "metadata": {
    "collapsed": false,
    "pycharm": {
     "name": "#%%\n"
    }
   }
  },
  {
   "cell_type": "code",
   "execution_count": null,
   "outputs": [],
   "source": [],
   "metadata": {
    "collapsed": false,
    "pycharm": {
     "name": "#%%\n"
    }
   }
  }
 ],
 "metadata": {
  "kernelspec": {
   "display_name": "Python 3",
   "language": "python",
   "name": "python3"
  },
  "language_info": {
   "codemirror_mode": {
    "name": "ipython",
    "version": 2
   },
   "file_extension": ".py",
   "mimetype": "text/x-python",
   "name": "python",
   "nbconvert_exporter": "python",
   "pygments_lexer": "ipython2",
   "version": "2.7.6"
  }
 },
 "nbformat": 4,
 "nbformat_minor": 0
}