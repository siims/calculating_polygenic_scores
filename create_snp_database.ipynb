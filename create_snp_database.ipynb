{
 "cells": [
  {
   "cell_type": "markdown",
   "source": [
    "# Creating snp database"
   ],
   "metadata": {
    "collapsed": false
   }
  },
  {
   "cell_type": "code",
   "execution_count": null,
   "outputs": [],
   "source": [
    "import sqlite3\n",
    "from pathlib import Path\n",
    "\n",
    "import pandas as pd\n",
    "import pysam\n",
    "\n",
    "from search_your_dna.snp_store import persist_all_snps_to_db, create_snp_db_schema, create_snp_db_chrom_pos_index, \\\n",
    "    create_snp_db_rsid_index"
   ],
   "metadata": {
    "collapsed": false,
    "pycharm": {
     "name": "#%%\n"
    }
   }
  },
  {
   "cell_type": "code",
   "execution_count": null,
   "outputs": [],
   "source": [
    "bam_file_old = \"/home/s/Dropbox/Siim/health/genetest_2020/GFX0237425.bam\"\n",
    "bam_file = \"/home/s/Dropbox/Siim/health/genetest_2020/GFX0237425.GRCh38.p7.bam\"\n",
    "alignment_data_old = pysam.AlignmentFile(bam_file_old, \"rb\")\n",
    "alignment_data = pysam.AlignmentFile(bam_file, \"rb\")"
   ],
   "metadata": {
    "collapsed": false,
    "pycharm": {
     "name": "#%%\n"
    }
   }
  },
  {
   "cell_type": "code",
   "execution_count": null,
   "outputs": [],
   "source": [
    "snp_db_file = \"/home/s/src/search_your_dna/data/ncbi_snpdb_all_ids.sqlite\"\n",
    "assert not Path(snp_db_file).exists(), \"Warning! This is intended to be run only for populating a new database.\""
   ],
   "metadata": {
    "collapsed": false,
    "pycharm": {
     "name": "#%%\n"
    }
   }
  },
  {
   "cell_type": "markdown",
   "source": [
    "## Create SQL database"
   ],
   "metadata": {
    "collapsed": false,
    "pycharm": {
     "name": "#%% md\n"
    }
   }
  },
  {
   "cell_type": "code",
   "execution_count": null,
   "outputs": [],
   "source": [
    "create_snp_db_schema(snp_db_file=snp_db_file)\n"
   ],
   "metadata": {
    "collapsed": false,
    "pycharm": {
     "name": "#%%\n"
    }
   }
  },
  {
   "cell_type": "markdown",
   "source": [
    "## get all SNP chr/pos values from ncbi"
   ],
   "metadata": {
    "collapsed": false,
    "pycharm": {
     "name": "#%% md\n"
    }
   }
  },
  {
   "cell_type": "markdown",
   "source": [
    "available for download in: https://ftp.ncbi.nih.gov/snp/organisms/human_9606/VCF/\n",
    "as `00-All.vcf.gz`"
   ],
   "metadata": {
    "collapsed": false
   }
  },
  {
   "cell_type": "markdown",
   "source": [
    "## Store results in a sqlite db"
   ],
   "metadata": {
    "collapsed": false
   }
  },
  {
   "cell_type": "code",
   "execution_count": null,
   "outputs": [],
   "source": [
    "all_rsid_file = \"/home/s/src/search_your_dna/data/00-All.vcf\"\n",
    "conn = sqlite3.connect(snp_db_file)"
   ],
   "metadata": {
    "collapsed": false,
    "pycharm": {
     "name": "#%%\n"
    }
   }
  },
  {
   "cell_type": "code",
   "execution_count": null,
   "outputs": [],
   "source": [
    "%%time\n",
    "persist_all_snps_to_db(conn, all_rsid_file)"
   ],
   "metadata": {
    "collapsed": false,
    "pycharm": {
     "name": "#%%\n"
    }
   }
  },
  {
   "cell_type": "markdown",
   "source": [
    "## Build indices for fast lookups"
   ],
   "metadata": {
    "collapsed": false,
    "pycharm": {
     "name": "#%% md\n"
    }
   }
  },
  {
   "cell_type": "code",
   "execution_count": null,
   "outputs": [],
   "source": [
    "create_snp_db_chrom_pos_index(snp_db_file=snp_db_file)\n",
    "create_snp_db_rsid_index(snp_db_file=snp_db_file)"
   ],
   "metadata": {
    "collapsed": false,
    "pycharm": {
     "name": "#%%\n"
    }
   }
  },
  {
   "cell_type": "markdown",
   "source": [
    "## find my genotype for all SNP values\n"
   ],
   "metadata": {
    "collapsed": false
   }
  },
  {
   "cell_type": "code",
   "execution_count": null,
   "outputs": [],
   "source": [
    "snp_values = [\"rs9380142\", \"rs587696773\"]\n",
    "\n"
   ],
   "metadata": {
    "collapsed": false,
    "pycharm": {
     "name": "#%%\n"
    }
   }
  }
 ],
 "metadata": {
  "kernelspec": {
   "display_name": "Python 3",
   "language": "python",
   "name": "python3"
  },
  "language_info": {
   "codemirror_mode": {
    "name": "ipython",
    "version": 2
   },
   "file_extension": ".py",
   "mimetype": "text/x-python",
   "name": "python",
   "nbconvert_exporter": "python",
   "pygments_lexer": "ipython2",
   "version": "2.7.6"
  }
 },
 "nbformat": 4,
 "nbformat_minor": 0
}