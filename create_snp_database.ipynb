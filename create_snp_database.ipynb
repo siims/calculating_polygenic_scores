{
 "cells": [
  {
   "cell_type": "markdown",
   "source": [
    "# Creating snp database"
   ],
   "metadata": {
    "collapsed": false
   }
  },
  {
   "cell_type": "code",
   "execution_count": null,
   "outputs": [],
   "source": [
    "import json\n",
    "import sqlite3\n",
    "import time\n",
    "from pathlib import Path\n",
    "from typing import Dict\n",
    "\n",
    "import pandas as pd\n",
    "import pysam\n",
    "from search_your_dna.hg_util import get_assembly_metadata_df\n",
    "\n",
    "from search_your_dna.snp_store import persist_all_snps_to_db, create_snp_db_schema, create_snp_db_chrom_pos_index, \\\n",
    "    create_snp_db_rsid_index, insert_genotype_to_db\n",
    "from search_your_dna.util import CHROM_LIST, get_my_snps_for_chromosome, _get_contig, get_chrom_reads_in_pos, \\\n",
    "    calc_genotype_for_chrom_snp_reads"
   ],
   "metadata": {
    "collapsed": false,
    "pycharm": {
     "name": "#%%\n"
    }
   }
  },
  {
   "cell_type": "code",
   "execution_count": null,
   "outputs": [],
   "source": [
    "snp_db_file = \"/home/s/src/search_your_dna/data/ncbi_snpdb_all_ids.sqlite\""
   ],
   "metadata": {
    "collapsed": false,
    "pycharm": {
     "name": "#%%\n"
    }
   }
  },
  {
   "cell_type": "markdown",
   "source": [
    "## Create SQL database"
   ],
   "metadata": {
    "collapsed": false,
    "pycharm": {
     "name": "#%% md\n"
    }
   }
  },
  {
   "cell_type": "code",
   "execution_count": null,
   "outputs": [],
   "source": [
    "assert not Path(snp_db_file).exists(), \"Warning! This is intended to be run only for populating a new database.\"\n",
    "create_snp_db_schema(snp_db_file=snp_db_file)"
   ],
   "metadata": {
    "collapsed": false,
    "pycharm": {
     "name": "#%%\n"
    }
   }
  },
  {
   "cell_type": "markdown",
   "source": [
    "## get all SNP chr/pos values from ncbi"
   ],
   "metadata": {
    "collapsed": false,
    "pycharm": {
     "name": "#%% md\n"
    }
   }
  },
  {
   "cell_type": "markdown",
   "source": [
    "available for download in: https://ftp.ncbi.nih.gov/snp/organisms/human_9606/VCF/\n",
    "as `00-All.vcf.gz`"
   ],
   "metadata": {
    "collapsed": false
   }
  },
  {
   "cell_type": "markdown",
   "source": [
    "## Store results in a sqlite db"
   ],
   "metadata": {
    "collapsed": false
   }
  },
  {
   "cell_type": "code",
   "execution_count": null,
   "outputs": [],
   "source": [
    "all_rsid_file = \"/home/s/src/search_your_dna/data/00-All.vcf\"\n",
    "conn = sqlite3.connect(snp_db_file)"
   ],
   "metadata": {
    "collapsed": false,
    "pycharm": {
     "name": "#%%\n"
    }
   }
  },
  {
   "cell_type": "code",
   "execution_count": null,
   "outputs": [],
   "source": [
    "%%time\n",
    "persist_all_snps_to_db(conn, all_rsid_file)"
   ],
   "metadata": {
    "collapsed": false,
    "pycharm": {
     "name": "#%%\n"
    }
   }
  },
  {
   "cell_type": "markdown",
   "source": [
    "## Build indices for fast lookups"
   ],
   "metadata": {
    "collapsed": false,
    "pycharm": {
     "name": "#%% md\n"
    }
   }
  },
  {
   "cell_type": "code",
   "execution_count": null,
   "outputs": [],
   "source": [
    "%%time\n",
    "create_snp_db_chrom_pos_index(snp_db_file=snp_db_file)\n",
    "create_snp_db_rsid_index(snp_db_file=snp_db_file)"
   ],
   "metadata": {
    "collapsed": false,
    "pycharm": {
     "name": "#%%\n"
    }
   }
  },
  {
   "cell_type": "markdown",
   "source": [
    "## Store my genotype\n",
    "\n",
    "**important**\n",
    "\n",
    "Depends on resulting json file `region_contig_read_counts.json` that can be generated from notebook: `selecting_contigs_for_alignment.ipynb`.\n",
    "\n",
    "It is important for selecting reference genome contigs to use."
   ],
   "metadata": {
    "collapsed": false,
    "pycharm": {
     "name": "#%% md\n"
    }
   }
  },
  {
   "cell_type": "code",
   "execution_count": null,
   "outputs": [],
   "source": [
    "bam_file_grch37 = \"/home/s/Dropbox/Siim/health/genetest_2020/GFX0237425.bam\"\n",
    "bam_file = \"/home/s/Dropbox/Siim/health/genetest_2020/GFX0237425.GRCh38.p7_v2.bam\"\n",
    "alignment_data_grch37 = pysam.AlignmentFile(bam_file_grch37, \"rb\")\n",
    "alignment_data_grch38 = pysam.AlignmentFile(bam_file, \"rb\")\n",
    "\n",
    "with open(\"my_grch38_p7_build/region_contig_read_counts.json\", \"r\") as f:\n",
    "    region_contig_read_counts = json.load(f)\n",
    "\n",
    "assembly_report_file = \"data/grch38.p7/GCA_000001405.22_GRCh38.p7_assembly_report.txt\"\n",
    "assembly_regions_file = \"data/grch38.p7/GCA_000001405.22_GRCh38.p7_assembly_regions.txt\"\n",
    "\n",
    "assembly_metadata_df = get_assembly_metadata_df(assembly_report_file = assembly_report_file, assembly_regions_file=assembly_regions_file)"
   ],
   "metadata": {
    "collapsed": false,
    "pycharm": {
     "name": "#%%\n"
    }
   }
  },
  {
   "cell_type": "markdown",
   "source": [
    "### Select contigs to use"
   ],
   "metadata": {
    "collapsed": false,
    "pycharm": {
     "name": "#%% md\n"
    }
   }
  },
  {
   "cell_type": "code",
   "execution_count": null,
   "outputs": [],
   "source": [
    "def calc_alt_contigs_to_use(region_contig_read_counts, assembly_metadata_df):\n",
    "    alt_contigs_to_use = pd.DataFrame(columns=[\"chrom\", \"start\", \"stop\", \"contig\", \"region\"])\n",
    "    for region, contig_read_count in region_contig_read_counts.items():\n",
    "        region_metadata_df = assembly_metadata_df[assembly_metadata_df[\"region_name\"] == region]\n",
    "        chrom = region_metadata_df[\"chromosome\"].iloc[0]\n",
    "        chrom_start = region_metadata_df[\"chromosome_start\"].iloc[0]\n",
    "        chrom_stop = region_metadata_df[\"chromosome_stop\"].iloc[0]\n",
    "\n",
    "        regions_contig_with_highest_coverage = sorted(contig_read_count.items(), key=lambda item: item[1])[-1]\n",
    "        current_contig = regions_contig_with_highest_coverage[0]\n",
    "        if current_contig != \"main\":\n",
    "            alt_contigs_to_use = alt_contigs_to_use.append({\"chrom\": chrom, \"start\": chrom_start, \"stop\": chrom_stop, \"contig\": current_contig, \"region\": region}, ignore_index=True)\n",
    "    return alt_contigs_to_use\n",
    "alt_contigs_to_use = calc_alt_contigs_to_use(region_contig_read_counts, assembly_metadata_df)\n",
    "\n",
    "res_df = pd.DataFrame(columns=[\"chrom\", \"pos\", \"genotype\"])\n",
    "\n",
    "for chrom in CHROM_LIST[::-1][:4]:\n",
    "    print(\"inserting chrom\", chrom)\n",
    "    start_time = time.time()\n",
    "    # setting these here to flush away previous values from the memory\n",
    "    genotype_df = None\n",
    "    genotype_main_df = pd.DataFrame(columns=[\"chrom\", \"pos\", \"genotype\"])\n",
    "    genotype_alt_contigs_df = pd.DataFrame(columns=[\"chrom\", \"pos\", \"genotype\"])\n",
    "    ## get main assembly genotype values\n",
    "    # genotype_main_df = get_my_snps_for_chromosome(alignment_data=alignment_data_grch38, snp_db_file=snp_db_file, chrom=chrom)\n",
    "    getting_main_snp_finish_time = time.time()\n",
    "    ## get active alt contig values\n",
    "    chrom_alt_contigs = alt_contigs_to_use[alt_contigs_to_use[\"chrom\"] == chrom]\n",
    "    for chrom_alt_contig_dict in chrom_alt_contigs.to_dict(orient=\"records\"):\n",
    "        start = chrom_alt_contig_dict[\"start\"]\n",
    "        stop = chrom_alt_contig_dict[\"stop\"]\n",
    "        region = chrom_alt_contig_dict[\"region\"]\n",
    "        contig = chrom_alt_contig_dict[\"contig\"]\n",
    "        print(f\"\\tLooking into contig {contig}\")\n",
    "        _conn = sqlite3.connect(snp_db_file)\n",
    "\n",
    "        contig_rsid_pos_df = pd.read_sql_query(f\"SELECT rsid, pos FROM all_snp_pos WHERE chrom = '{chrom}' AND pos >= {start} AND pos <= {stop}\", con=_conn)\n",
    "        print(f\"\\tFound #{len(contig_rsid_pos_df.index)} snps in the database\")\n",
    "        rel_positions = set(contig_rsid_pos_df[\"pos\"].apply(lambda pos: pos - start))\n",
    "        my_alt_contig_relative_pos_snp_reads = get_chrom_reads_in_pos(alignment_data=alignment_data_grch38, contig=contig, positions=rel_positions)\n",
    "        my_alt_contig_snp_reads = {\n",
    "            ## FIXME: need to check! have a hunch that I'd need to do `start + rel_pos - 1` here.\n",
    "            start + rel_pos - 1: reads for rel_pos, reads in my_alt_contig_relative_pos_snp_reads.items()\n",
    "        }\n",
    "        my_alt_contig_genotype_df = calc_genotype_for_chrom_snp_reads(my_alt_contig_snp_reads)\n",
    "        my_alt_contig_genotype_df[\"chrom\"] = chrom\n",
    "        genotype_alt_contigs_df = pd.concat([genotype_alt_contigs_df, my_alt_contig_genotype_df], ignore_index=True)\n",
    "\n",
    "    ## merge main and alt contig values so that if some chrom/pos match then prefer alt contigs\n",
    "    genotype_df = pd.concat([genotype_main_df[~genotype_main_df[\"pos\"].isin(genotype_alt_contigs_df[\"pos\"])], genotype_alt_contigs_df], sort=True)\n",
    "    getting_alt_contig_snp_finish_time = time.time()\n",
    "\n",
    "    # insert_genotype_to_db(snp_db_file=snp_db_file, genotype_df=genotype_df)\n",
    "    inserting_snp_time = time.time()\n",
    "    print(f\"\\tTime for getting snp info: {getting_main_snp_finish_time - start_time}/{getting_alt_contig_snp_finish_time - getting_main_snp_finish_time}. SQL insert took: {inserting_snp_time - getting_alt_contig_snp_finish_time}\")\n",
    "    res_df = pd.concat([res_df, genotype_df])"
   ],
   "metadata": {
    "collapsed": false,
    "pycharm": {
     "name": "#%%\n"
    }
   }
  },
  {
   "cell_type": "code",
   "execution_count": null,
   "outputs": [],
   "source": [],
   "metadata": {
    "collapsed": false,
    "pycharm": {
     "name": "#%%\n"
    }
   }
  }
 ],
 "metadata": {
  "kernelspec": {
   "display_name": "Python 3",
   "language": "python",
   "name": "python3"
  },
  "language_info": {
   "codemirror_mode": {
    "name": "ipython",
    "version": 2
   },
   "file_extension": ".py",
   "mimetype": "text/x-python",
   "name": "python",
   "nbconvert_exporter": "python",
   "pygments_lexer": "ipython2",
   "version": "2.7.6"
  }
 },
 "nbformat": 4,
 "nbformat_minor": 0
}