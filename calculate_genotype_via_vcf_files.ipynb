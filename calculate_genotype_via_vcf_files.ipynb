{
 "cells": [
  {
   "cell_type": "markdown",
   "source": [
    "# Searching for an alternative way to calculate my genotype"
   ],
   "metadata": {
    "collapsed": false,
    "pycharm": {
     "name": "#%% md\n"
    }
   }
  },
  {
   "cell_type": "code",
   "execution_count": null,
   "metadata": {
    "collapsed": true
   },
   "outputs": [],
   "source": [
    "import pysam\n",
    "import glob\n",
    "import gzip\n",
    "import json\n",
    "import re\n",
    "import shutil\n",
    "import sqlite3\n",
    "import time\n",
    "from collections import defaultdict\n",
    "from functools import reduce\n",
    "from pathlib import Path\n",
    "from typing import Any, List, Union, Dict, Iterable, Set\n",
    "\n",
    "import numpy as np\n",
    "import pandas as pd\n",
    "import pysam\n",
    "import requests\n",
    "from IPython.core.display import display\n",
    "\n",
    "from search_your_dna.hg_util import get_assembly_metadata_df\n",
    "from search_your_dna.pgscatalog import calc_polygenic_score\n",
    "from search_your_dna.snp_store import create_snp_db_rsid_index, insert_genotype_to_db\n",
    "from search_your_dna.util import CHROM_LIST, get_my_snps_for_chromosome, get_chrom_reads_in_pos, is_alignment_supported, \\\n",
    "    calc_genotype_for_chrom_snp_reads"
   ]
  },
  {
   "cell_type": "markdown",
   "source": [
    "General idea is to use my vcf file and all vcf file to search for my genotype.\n",
    "\n",
    "* Search needs to support inputs: chrom-pos_hg38_v7 or rsid\n",
    "* Ideally, it would need to support accepting lists and return genotype for pgs files.\n",
    "* Also search needs to take into consideration alt contigs with higher read coverage than main chromosome section.\n",
    "* Output needs to be genotype string either single, double or in case of insertions longer strings. Deletions marked with D.\n",
    "\n",
    "### Search by chrom-pos_hg38_v7\n",
    "\n",
    "look up entries first from my vcf file. if nothing found look up value from the alignment file. if nothing found, look up value from reference genome.\n",
    "\n",
    "### Search by rsid\n",
    "\n",
    "First look up chrom-pos_hg38_v7 values from the all vcf file. follow chrom-pos_hg38_v7 search process.\n",
    "\n",
    "\n",
    "### Search details\n",
    "\n",
    "Take into account alt contigs when fetching stuff from my vcf.\n",
    "Return genotype, need to check AC values in my vcf info field.\n",
    "Consider looking into doing imputation?\n"
   ],
   "metadata": {
    "collapsed": false
   }
  },
  {
   "cell_type": "code",
   "execution_count": null,
   "outputs": [],
   "source": [
    "project_root_dir = \"/home/s/src/search_your_dna/\"\n",
    "\n",
    "vcf_my = pysam.VariantFile(f\"{project_root_dir}/data/my_genome_data/GFX0237425.GRCh38.p7.vcf.gz\")\n",
    "vcf_all = pysam.VariantFile(f\"{project_root_dir}/data/grch38.p7/00-All.vcf.gz\")\n",
    "\n",
    "# rs9380142_pos = 29831017\n",
    "#\n",
    "# my_recs = {}\n",
    "# for id, rec in enumerate(vcf_my.fetch(\"chr6\", rs9380142_pos - 100000, rs9380142_pos+20)): # rs9380142 is visible here\n",
    "#     print(rec)\n",
    "#     my_recs[id] = rec\n",
    "# for rec in vcf_all.fetch(\"6\", rs9380142_pos - 1, rs9380142_pos):\n",
    "#     print(rec)\n",
    "# rs9380142_pos_on_contig = rs9380142_pos - 28510120 # 28510120 start of alt contig\n",
    "# for rec in vcf_my.fetch('chr6_GL000254v2_alt', rs9380142_pos_on_contig - 10):\n",
    "#     print(rec)\n",
    "\n",
    "bam_file_grch37 = f\"{project_root_dir}/data/my_genome_data/GFX0237425.bam\"\n",
    "bam_file_hg38 = f\"{project_root_dir}/data/my_genome_data/GFX0237425.GRCh38.p7.bam\"\n",
    "alignment_data_hg37 = pysam.AlignmentFile(bam_file_grch37, \"rb\")\n",
    "alignment_data_hg38 = pysam.AlignmentFile(bam_file_hg38, \"rb\")\n",
    "\n",
    "with open(f\"{project_root_dir}/my_grch38_p7_build/region_contig_read_counts.json\", \"r\") as f:\n",
    "    region_contig_read_counts = json.load(f)\n",
    "\n",
    "assembly_report_file = f\"{project_root_dir}/data/grch38.p7/GCA_000001405.22_GRCh38.p7_assembly_report.txt\"\n",
    "assembly_regions_file = f\"{project_root_dir}/data/grch38.p7/GCA_000001405.22_GRCh38.p7_assembly_regions.txt\"\n",
    "\n",
    "assembly_metadata_df = get_assembly_metadata_df(assembly_report_file=assembly_report_file,\n",
    "                                                assembly_regions_file=assembly_regions_file)\n",
    "\n",
    "\n",
    "def calc_alt_contigs_to_use(region_contig_read_counts, assembly_metadata_df):\n",
    "    alt_contigs_to_use = pd.DataFrame(columns=[\"chrom\", \"start\", \"stop\", \"contig\", \"region\"])\n",
    "    for region, contig_read_count in region_contig_read_counts.items():\n",
    "        region_metadata_df = assembly_metadata_df[assembly_metadata_df[\"region_name\"] == region]\n",
    "        chrom = region_metadata_df[\"chromosome\"].iloc[0]\n",
    "        chrom_start = region_metadata_df[\"chromosome_start\"].iloc[0]\n",
    "        chrom_stop = region_metadata_df[\"chromosome_stop\"].iloc[0]\n",
    "\n",
    "        regions_contig_with_highest_coverage = sorted(contig_read_count.items(), key=lambda item: item[1])[-1]\n",
    "        current_contig = regions_contig_with_highest_coverage[0]\n",
    "        if current_contig != \"main\":\n",
    "            alt_contigs_to_use = alt_contigs_to_use.append(\n",
    "                {\"chrom\": chrom, \"start\": chrom_start, \"stop\": chrom_stop, \"contig\": current_contig, \"region\": region},\n",
    "                ignore_index=True)\n",
    "    return alt_contigs_to_use\n",
    "\n",
    "alt_contigs_to_use = calc_alt_contigs_to_use(region_contig_read_counts, assembly_metadata_df)\n",
    "\n",
    "res_df = pd.DataFrame(columns=[\"rsid\", \"chrom\", \"pos\", \"genotype\"])"
   ],
   "metadata": {
    "collapsed": false,
    "pycharm": {
     "name": "#%%\n"
    }
   }
  },
  {
   "cell_type": "markdown",
   "source": [
    "### Implement search by chrom-pos_hg38_v7\n"
   ],
   "metadata": {
    "collapsed": false,
    "pycharm": {
     "name": "#%% md\n"
    }
   }
  },
  {
   "cell_type": "code",
   "execution_count": null,
   "outputs": [],
   "source": [
    "def find_contig_and_pos_to_use(chrom, pos):\n",
    "    contig = chrom\n",
    "    contig_position = pos\n",
    "\n",
    "\n",
    "    possible_alt_config_to_use = alt_contigs_to_use[(alt_contigs_to_use[\"chrom\"] == chrom) & (alt_contigs_to_use[\"start\"] <= pos) & (pos <= alt_contigs_to_use[\"stop\"])]\n",
    "\n",
    "    if len(possible_alt_config_to_use) != 0:\n",
    "        contig = possible_alt_config_to_use[\"contig\"].to_list()[0]\n",
    "        metadata = assembly_metadata_df[assembly_metadata_df[\"ucsc_style_name\"] == contig]\n",
    "        alt_contig_chrom_start_pos = metadata[\"chromosome_start\"].to_list()[0]\n",
    "        contig_position = pos -  alt_contig_chrom_start_pos\n",
    "    return contig, contig_position\n",
    "\n",
    "def find_genome_from_the_vcf_file(chrom, pos):\n",
    "    contig, contig_position = find_contig_and_pos_to_use(chrom, pos)\n",
    "\n",
    "    for id, rec in enumerate(vcf_my.fetch(contig, contig_position - 10, contig_position + 10)):\n",
    "        print(\"my \", rec)\n",
    "    for id, rec in enumerate(vcf_my.fetch(f\"chr{chrom}\", pos - 10, pos + 10)):\n",
    "        print(\"mym\", rec)\n",
    "    for id, rec in enumerate(vcf_all.fetch(chrom, pos - 10, pos + 10)):\n",
    "        print(\"all\", rec)\n",
    "\n",
    "# find_genome_from_the_vcf_file(\"5\", 1081122) # rs959632155\n",
    "# find_genome_from_the_vcf_file(\"5\", 1081236) # rs9380142\n",
    "find_genome_from_the_vcf_file(\"5\", 1081553) #\n"
   ],
   "metadata": {
    "collapsed": false,
    "pycharm": {
     "name": "#%%\n"
    }
   }
  },
  {
   "cell_type": "markdown",
   "source": [
    "#### Need to check statistics how many alt contig rsids I can find."
   ],
   "metadata": {
    "collapsed": false,
    "pycharm": {
     "name": "#%% md\n"
    }
   }
  },
  {
   "cell_type": "code",
   "execution_count": null,
   "outputs": [],
   "source": [
    "ran = False\n",
    "xmy = {}\n",
    "xall = {}\n",
    "xcomp = defaultdict()\n",
    "for _, row in alt_contigs_to_use.iterrows():\n",
    "    if ran:\n",
    "        continue\n",
    "    print(row[\"contig\"], row[\"chrom\"], row[\"start\"], row[\"stop\"])\n",
    "\n",
    "    for index, rec_my in enumerate(vcf_my.fetch(row[\"contig\"])):\n",
    "        # print(\"my\", rec_my)\n",
    "        xmy[index] = rec_my\n",
    "        xall = {}\n",
    "        for index_2, rec_all in enumerate(vcf_all.fetch(row[\"chrom\"], row[\"start\"] + rec_my.start - 1, row[\"start\"] + rec_my.stop + 1)):\n",
    "            # print(\"all\", rec_all)\n",
    "            xall[index_2] = (rec_all.ref, rec_all.alts)\n",
    "        xcomp[index] = {\"my\": (rec_my.ref, rec_my.alts), \"al\": xall}\n",
    "    ran = True\n"
   ],
   "metadata": {
    "collapsed": false,
    "pycharm": {
     "name": "#%%\n"
    }
   }
  }
 ],
 "metadata": {
  "kernelspec": {
   "display_name": "Python 3",
   "language": "python",
   "name": "python3"
  },
  "language_info": {
   "codemirror_mode": {
    "name": "ipython",
    "version": 2
   },
   "file_extension": ".py",
   "mimetype": "text/x-python",
   "name": "python",
   "nbconvert_exporter": "python",
   "pygments_lexer": "ipython2",
   "version": "2.7.6"
  }
 },
 "nbformat": 4,
 "nbformat_minor": 0
}