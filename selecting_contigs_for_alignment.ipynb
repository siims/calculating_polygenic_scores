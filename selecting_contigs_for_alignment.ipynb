{
 "cells": [
  {
   "cell_type": "markdown",
   "metadata": {
    "collapsed": true,
    "pycharm": {
     "name": "#%% md\n"
    }
   },
   "source": [
    "# Selecting contigs for alignment\n",
    "\n",
    "## Problem\n",
    "Missing read values from main contig.\n",
    "\n",
    "Turned out that there are multiple alt contigs for the same region. Which make it not possible to do local decision making for determining which reads to use. Alt contigs should not be mix-and-matched, if one is selected then it should be used in its entirety.\n",
    "\n",
    "## Exploring solutions\n",
    "\n",
    "### Calculate alignment metadata to select contig with highest read coverage\n",
    "\n",
    "Select contigs based on read coverage."
   ]
  },
  {
   "cell_type": "code",
   "execution_count": 7,
   "outputs": [],
   "source": [
    "import json\n",
    "import pandas as pd\n",
    "import pysam\n",
    "\n",
    "from search_your_dna.util import get_file_header_line_number, CHROM_LIST"
   ],
   "metadata": {
    "collapsed": false,
    "pycharm": {
     "name": "#%%\n"
    }
   }
  },
  {
   "cell_type": "markdown",
   "source": [
    "#### Read in the alignment and assembly metadata"
   ],
   "metadata": {
    "collapsed": false,
    "pycharm": {
     "name": "#%% md\n"
    }
   }
  },
  {
   "cell_type": "code",
   "execution_count": 8,
   "outputs": [
    {
     "data": {
      "text/plain": "        region_name chromosome  chromosome_start  chromosome_stop  \\\n0         REGION108          1           2448811          2791270   \n1    PRAME_REGION_1          1          12818488         13312803   \n7         REGION109          1          30352191         30456601   \n11             1Q21          1         144488706        144674781   \n12          REGION2          1         153700531        153865738   \n..              ...        ...               ...              ...   \n318          CYP2D6         22          42077656         42253758   \n319          CYP2D6         22          42077656         42253758   \n326       REGION187          X            319338           601516   \n327       REGION187          X            319338           601516   \n328       REGION188          X          79965154         80097082   \n\n    scaffold_role scaffold_genbank_accn scaffold_refseq_accn assembly_unit_x  \\\n0    alt-scaffold            KI270762.1          NT_187515.1  ALT_REF_LOCI_1   \n1    alt-scaffold            KI270766.1          NT_187517.1  ALT_REF_LOCI_1   \n7    alt-scaffold            KI270760.1          NT_187514.1  ALT_REF_LOCI_1   \n11   alt-scaffold            KI270765.1          NT_187520.1  ALT_REF_LOCI_1   \n12   alt-scaffold            GL383518.1       NW_003315905.1  ALT_REF_LOCI_1   \n..            ...                   ...                  ...             ...   \n318  alt-scaffold            KB663609.1       NW_004504305.1  ALT_REF_LOCI_2   \n319  alt-scaffold            KI270928.1          NT_187682.1  ALT_REF_LOCI_3   \n326  alt-scaffold            KI270880.1          NT_187634.1  ALT_REF_LOCI_1   \n327  alt-scaffold            KI270913.1          NT_187667.1  ALT_REF_LOCI_2   \n328  alt-scaffold            KI270881.1          NT_187635.1  ALT_REF_LOCI_1   \n\n      sequence_name sequence_role assigned_molecule  \\\n0     HSCHR1_1_CTG3  alt-scaffold                 1   \n1     HSCHR1_2_CTG3  alt-scaffold                 1   \n7    HSCHR1_1_CTG11  alt-scaffold                 1   \n11   HSCHR1_4_CTG31  alt-scaffold                 1   \n12   HSCHR1_1_CTG31  alt-scaffold                 1   \n..              ...           ...               ...   \n318  HSCHR22_2_CTG1  alt-scaffold                22   \n319  HSCHR22_3_CTG1  alt-scaffold                22   \n326   HSCHRX_1_CTG3  alt-scaffold                 X   \n327   HSCHRX_2_CTG3  alt-scaffold                 X   \n328  HSCHRX_2_CTG12  alt-scaffold                 X   \n\n    assigned_molecule_location/type genbank_accn relationship     refseq_accn  \\\n0                        Chromosome   KI270762.1            =     NT_187515.1   \n1                        Chromosome   KI270766.1            =     NT_187517.1   \n7                        Chromosome   KI270760.1            =     NT_187514.1   \n11                       Chromosome   KI270765.1            =     NT_187520.1   \n12                       Chromosome   GL383518.1            =  NW_003315905.1   \n..                              ...          ...          ...             ...   \n318                      Chromosome   KB663609.1            =  NW_004504305.1   \n319                      Chromosome   KI270928.1            =     NT_187682.1   \n326                      Chromosome   KI270880.1            =     NT_187634.1   \n327                      Chromosome   KI270913.1            =     NT_187667.1   \n328                      Chromosome   KI270881.1            =     NT_187635.1   \n\n    assembly_unit_y sequence_length       ucsc_style_name  \n0    ALT_REF_LOCI_1          354444   chr1_KI270762v1_alt  \n1    ALT_REF_LOCI_1          256271   chr1_KI270766v1_alt  \n7    ALT_REF_LOCI_1          109528   chr1_KI270760v1_alt  \n11   ALT_REF_LOCI_1          185285   chr1_KI270765v1_alt  \n12   ALT_REF_LOCI_1          182439   chr1_GL383518v1_alt  \n..              ...             ...                   ...  \n318  ALT_REF_LOCI_2           74013  chr22_KB663609v1_alt  \n319  ALT_REF_LOCI_3          176103  chr22_KI270928v1_alt  \n326  ALT_REF_LOCI_1          284869   chrX_KI270880v1_alt  \n327  ALT_REF_LOCI_2          274009   chrX_KI270913v1_alt  \n328  ALT_REF_LOCI_1          144206   chrX_KI270881v1_alt  \n\n[261 rows x 18 columns]",
      "text/html": "<div>\n<style scoped>\n    .dataframe tbody tr th:only-of-type {\n        vertical-align: middle;\n    }\n\n    .dataframe tbody tr th {\n        vertical-align: top;\n    }\n\n    .dataframe thead th {\n        text-align: right;\n    }\n</style>\n<table border=\"1\" class=\"dataframe\">\n  <thead>\n    <tr style=\"text-align: right;\">\n      <th></th>\n      <th>region_name</th>\n      <th>chromosome</th>\n      <th>chromosome_start</th>\n      <th>chromosome_stop</th>\n      <th>scaffold_role</th>\n      <th>scaffold_genbank_accn</th>\n      <th>scaffold_refseq_accn</th>\n      <th>assembly_unit_x</th>\n      <th>sequence_name</th>\n      <th>sequence_role</th>\n      <th>assigned_molecule</th>\n      <th>assigned_molecule_location/type</th>\n      <th>genbank_accn</th>\n      <th>relationship</th>\n      <th>refseq_accn</th>\n      <th>assembly_unit_y</th>\n      <th>sequence_length</th>\n      <th>ucsc_style_name</th>\n    </tr>\n  </thead>\n  <tbody>\n    <tr>\n      <th>0</th>\n      <td>REGION108</td>\n      <td>1</td>\n      <td>2448811</td>\n      <td>2791270</td>\n      <td>alt-scaffold</td>\n      <td>KI270762.1</td>\n      <td>NT_187515.1</td>\n      <td>ALT_REF_LOCI_1</td>\n      <td>HSCHR1_1_CTG3</td>\n      <td>alt-scaffold</td>\n      <td>1</td>\n      <td>Chromosome</td>\n      <td>KI270762.1</td>\n      <td>=</td>\n      <td>NT_187515.1</td>\n      <td>ALT_REF_LOCI_1</td>\n      <td>354444</td>\n      <td>chr1_KI270762v1_alt</td>\n    </tr>\n    <tr>\n      <th>1</th>\n      <td>PRAME_REGION_1</td>\n      <td>1</td>\n      <td>12818488</td>\n      <td>13312803</td>\n      <td>alt-scaffold</td>\n      <td>KI270766.1</td>\n      <td>NT_187517.1</td>\n      <td>ALT_REF_LOCI_1</td>\n      <td>HSCHR1_2_CTG3</td>\n      <td>alt-scaffold</td>\n      <td>1</td>\n      <td>Chromosome</td>\n      <td>KI270766.1</td>\n      <td>=</td>\n      <td>NT_187517.1</td>\n      <td>ALT_REF_LOCI_1</td>\n      <td>256271</td>\n      <td>chr1_KI270766v1_alt</td>\n    </tr>\n    <tr>\n      <th>7</th>\n      <td>REGION109</td>\n      <td>1</td>\n      <td>30352191</td>\n      <td>30456601</td>\n      <td>alt-scaffold</td>\n      <td>KI270760.1</td>\n      <td>NT_187514.1</td>\n      <td>ALT_REF_LOCI_1</td>\n      <td>HSCHR1_1_CTG11</td>\n      <td>alt-scaffold</td>\n      <td>1</td>\n      <td>Chromosome</td>\n      <td>KI270760.1</td>\n      <td>=</td>\n      <td>NT_187514.1</td>\n      <td>ALT_REF_LOCI_1</td>\n      <td>109528</td>\n      <td>chr1_KI270760v1_alt</td>\n    </tr>\n    <tr>\n      <th>11</th>\n      <td>1Q21</td>\n      <td>1</td>\n      <td>144488706</td>\n      <td>144674781</td>\n      <td>alt-scaffold</td>\n      <td>KI270765.1</td>\n      <td>NT_187520.1</td>\n      <td>ALT_REF_LOCI_1</td>\n      <td>HSCHR1_4_CTG31</td>\n      <td>alt-scaffold</td>\n      <td>1</td>\n      <td>Chromosome</td>\n      <td>KI270765.1</td>\n      <td>=</td>\n      <td>NT_187520.1</td>\n      <td>ALT_REF_LOCI_1</td>\n      <td>185285</td>\n      <td>chr1_KI270765v1_alt</td>\n    </tr>\n    <tr>\n      <th>12</th>\n      <td>REGION2</td>\n      <td>1</td>\n      <td>153700531</td>\n      <td>153865738</td>\n      <td>alt-scaffold</td>\n      <td>GL383518.1</td>\n      <td>NW_003315905.1</td>\n      <td>ALT_REF_LOCI_1</td>\n      <td>HSCHR1_1_CTG31</td>\n      <td>alt-scaffold</td>\n      <td>1</td>\n      <td>Chromosome</td>\n      <td>GL383518.1</td>\n      <td>=</td>\n      <td>NW_003315905.1</td>\n      <td>ALT_REF_LOCI_1</td>\n      <td>182439</td>\n      <td>chr1_GL383518v1_alt</td>\n    </tr>\n    <tr>\n      <th>...</th>\n      <td>...</td>\n      <td>...</td>\n      <td>...</td>\n      <td>...</td>\n      <td>...</td>\n      <td>...</td>\n      <td>...</td>\n      <td>...</td>\n      <td>...</td>\n      <td>...</td>\n      <td>...</td>\n      <td>...</td>\n      <td>...</td>\n      <td>...</td>\n      <td>...</td>\n      <td>...</td>\n      <td>...</td>\n      <td>...</td>\n    </tr>\n    <tr>\n      <th>318</th>\n      <td>CYP2D6</td>\n      <td>22</td>\n      <td>42077656</td>\n      <td>42253758</td>\n      <td>alt-scaffold</td>\n      <td>KB663609.1</td>\n      <td>NW_004504305.1</td>\n      <td>ALT_REF_LOCI_2</td>\n      <td>HSCHR22_2_CTG1</td>\n      <td>alt-scaffold</td>\n      <td>22</td>\n      <td>Chromosome</td>\n      <td>KB663609.1</td>\n      <td>=</td>\n      <td>NW_004504305.1</td>\n      <td>ALT_REF_LOCI_2</td>\n      <td>74013</td>\n      <td>chr22_KB663609v1_alt</td>\n    </tr>\n    <tr>\n      <th>319</th>\n      <td>CYP2D6</td>\n      <td>22</td>\n      <td>42077656</td>\n      <td>42253758</td>\n      <td>alt-scaffold</td>\n      <td>KI270928.1</td>\n      <td>NT_187682.1</td>\n      <td>ALT_REF_LOCI_3</td>\n      <td>HSCHR22_3_CTG1</td>\n      <td>alt-scaffold</td>\n      <td>22</td>\n      <td>Chromosome</td>\n      <td>KI270928.1</td>\n      <td>=</td>\n      <td>NT_187682.1</td>\n      <td>ALT_REF_LOCI_3</td>\n      <td>176103</td>\n      <td>chr22_KI270928v1_alt</td>\n    </tr>\n    <tr>\n      <th>326</th>\n      <td>REGION187</td>\n      <td>X</td>\n      <td>319338</td>\n      <td>601516</td>\n      <td>alt-scaffold</td>\n      <td>KI270880.1</td>\n      <td>NT_187634.1</td>\n      <td>ALT_REF_LOCI_1</td>\n      <td>HSCHRX_1_CTG3</td>\n      <td>alt-scaffold</td>\n      <td>X</td>\n      <td>Chromosome</td>\n      <td>KI270880.1</td>\n      <td>=</td>\n      <td>NT_187634.1</td>\n      <td>ALT_REF_LOCI_1</td>\n      <td>284869</td>\n      <td>chrX_KI270880v1_alt</td>\n    </tr>\n    <tr>\n      <th>327</th>\n      <td>REGION187</td>\n      <td>X</td>\n      <td>319338</td>\n      <td>601516</td>\n      <td>alt-scaffold</td>\n      <td>KI270913.1</td>\n      <td>NT_187667.1</td>\n      <td>ALT_REF_LOCI_2</td>\n      <td>HSCHRX_2_CTG3</td>\n      <td>alt-scaffold</td>\n      <td>X</td>\n      <td>Chromosome</td>\n      <td>KI270913.1</td>\n      <td>=</td>\n      <td>NT_187667.1</td>\n      <td>ALT_REF_LOCI_2</td>\n      <td>274009</td>\n      <td>chrX_KI270913v1_alt</td>\n    </tr>\n    <tr>\n      <th>328</th>\n      <td>REGION188</td>\n      <td>X</td>\n      <td>79965154</td>\n      <td>80097082</td>\n      <td>alt-scaffold</td>\n      <td>KI270881.1</td>\n      <td>NT_187635.1</td>\n      <td>ALT_REF_LOCI_1</td>\n      <td>HSCHRX_2_CTG12</td>\n      <td>alt-scaffold</td>\n      <td>X</td>\n      <td>Chromosome</td>\n      <td>KI270881.1</td>\n      <td>=</td>\n      <td>NT_187635.1</td>\n      <td>ALT_REF_LOCI_1</td>\n      <td>144206</td>\n      <td>chrX_KI270881v1_alt</td>\n    </tr>\n  </tbody>\n</table>\n<p>261 rows × 18 columns</p>\n</div>"
     },
     "execution_count": 8,
     "metadata": {},
     "output_type": "execute_result"
    }
   ],
   "source": [
    "bam_file = \"/home/s/Dropbox/Siim/health/genetest_2020/GFX0237425.GRCh38.p7_v2.bam\"\n",
    "alignment_data = pysam.AlignmentFile(bam_file, \"rb\")\n",
    "\n",
    "assembly_report_file = \"data/grch38.p7/GCA_000001405.22_GRCh38.p7_assembly_report.txt\"\n",
    "assembly_report_file_header_line_number = get_file_header_line_number(assembly_report_file, header_pattern=\"# Sequence-Name\\t\") # header starts with `# Sequence-Name`\n",
    "assembly_report_df = pd.read_csv(assembly_report_file, sep=\"\\t\", skiprows=assembly_report_file_header_line_number, dtype=str)\n",
    "assembly_report_df.columns = assembly_report_df.columns.str.lower()\n",
    "assembly_report_df.columns = assembly_report_df.columns.str.replace(\"-\", \"_\")\n",
    "assembly_report_df.columns = assembly_report_df.columns.str.replace(\"# \", \"\")\n",
    "\n",
    "assembly_regions_file = \"data/grch38.p7/GCA_000001405.22_GRCh38.p7_assembly_regions.txt\"\n",
    "assembly_regions_file_header_line_number = get_file_header_line_number(assembly_regions_file, header_pattern=\"# Region-Name\\t\") # header starts with `# Region-Name`\n",
    "assembly_regions_df = pd.read_csv(assembly_regions_file, sep=\"\\t\", skiprows=assembly_regions_file_header_line_number, dtype=str)\n",
    "assembly_regions_df.columns = assembly_regions_df.columns.str.lower()\n",
    "assembly_regions_df.columns = assembly_regions_df.columns.str.replace(\"-\", \"_\")\n",
    "assembly_regions_df.columns = assembly_regions_df.columns.str.replace(\"# \", \"\")\n",
    "assembly_regions_df[\"chromosome_start\"] = assembly_regions_df[\"chromosome_start\"].astype('float').astype(\"int64\")\n",
    "assembly_regions_df[\"chromosome_stop\"] = assembly_regions_df[\"chromosome_stop\"].astype('float').astype(\"int64\")\n",
    "\n",
    "assembly_metadata_df = pd.merge(assembly_regions_df, assembly_report_df, how=\"inner\", left_on=\"scaffold_genbank_accn\", right_on=\"genbank_accn\") # inner join to exclude unlocalized contigs\n",
    "assembly_metadata_df = assembly_metadata_df[assembly_metadata_df[\"ucsc_style_name\"] != \"na\"]\n",
    "assembly_metadata_df"
   ],
   "metadata": {
    "collapsed": false,
    "pycharm": {
     "name": "#%%\n"
    }
   }
  },
  {
   "cell_type": "code",
   "execution_count": 9,
   "outputs": [
    {
     "data": {
      "text/plain": "\"Total contigs 456. excluding #195 unlocalized contigs eg. there isn't a region determined.\""
     },
     "execution_count": 9,
     "metadata": {},
     "output_type": "execute_result"
    }
   ],
   "source": [
    "contigs = set(alignment_data.header.references)\n",
    "ucsc_style_names = set(assembly_metadata_df[\"ucsc_style_name\"].to_list())\n",
    "\n",
    "f\"Total contigs {len(contigs)}. excluding #{len(contigs - ucsc_style_names)} unlocalized contigs eg. there isn't a region determined.\""
   ],
   "metadata": {
    "collapsed": false,
    "pycharm": {
     "name": "#%%\n"
    }
   }
  },
  {
   "cell_type": "markdown",
   "source": [
    "#### Get alt contig read values per region"
   ],
   "metadata": {
    "collapsed": false,
    "pycharm": {
     "name": "#%% md\n"
    }
   }
  },
  {
   "cell_type": "code",
   "execution_count": 10,
   "outputs": [],
   "source": [
    "all_alt_contig_reads = {}\n",
    "for contig in sorted(ucsc_style_names):\n",
    "    # print(contig)\n",
    "    if contig in list(map(lambda chrom: \"chr\" + chrom, CHROM_LIST)):\n",
    "        continue\n",
    "    reads = alignment_data.fetch(contig)\n",
    "    all_alt_contig_reads[contig] = list(reads)"
   ],
   "metadata": {
    "collapsed": false,
    "pycharm": {
     "name": "#%%\n"
    }
   }
  },
  {
   "cell_type": "code",
   "execution_count": 11,
   "outputs": [],
   "source": [
    "alt_contig_region_reads = {}\n",
    "for region, contigs_df in assembly_metadata_df[[\"region_name\", \"ucsc_style_name\"]].groupby(by=\"region_name\"):\n",
    "    alt_contig_region_reads[region] = {}\n",
    "    for contig in contigs_df[\"ucsc_style_name\"].to_list():\n",
    "        alt_contig_region_reads[region][contig] = all_alt_contig_reads[contig]"
   ],
   "metadata": {
    "collapsed": false,
    "pycharm": {
     "name": "#%%\n"
    }
   }
  },
  {
   "cell_type": "markdown",
   "source": [
    "#### Get main contig read values per region"
   ],
   "metadata": {
    "collapsed": false,
    "pycharm": {
     "name": "#%% md\n"
    }
   }
  },
  {
   "cell_type": "code",
   "execution_count": 12,
   "outputs": [],
   "source": [
    "region_based_chrom_start_stop_df = assembly_metadata_df[[\"region_name\",\"chromosome\",\"chromosome_start\",\"chromosome_stop\"]].groupby(by=\"region_name\")\n",
    "\n",
    "main_contig_region_reads = {}\n",
    "for region, chrom_start_stop_df in region_based_chrom_start_stop_df:\n",
    "    contig = \"chr\" + chrom_start_stop_df.iloc[0,:][\"chromosome\"]\n",
    "    start = chrom_start_stop_df.iloc[0,:][\"chromosome_start\"]\n",
    "    stop = chrom_start_stop_df.iloc[0,:][\"chromosome_stop\"]\n",
    "    reads = alignment_data.fetch(contig=contig,start=start, stop=stop)\n",
    "    main_contig_region_reads[region] = list(reads)"
   ],
   "metadata": {
    "collapsed": false,
    "pycharm": {
     "name": "#%%\n"
    }
   }
  },
  {
   "cell_type": "code",
   "execution_count": 13,
   "outputs": [],
   "source": [
    "aggregated_region_contig_reads = {}\n",
    "for region in alt_contig_region_reads:\n",
    "    aggregated_region_contig_reads[region] = {}\n",
    "    aggregated_region_contig_reads[region][\"main\"] = len(main_contig_region_reads[region])\n",
    "    for contig, reads in alt_contig_region_reads[region].items():\n",
    "        aggregated_region_contig_reads[region][contig] = len(reads)"
   ],
   "metadata": {
    "collapsed": false,
    "pycharm": {
     "name": "#%%\n"
    }
   }
  },
  {
   "cell_type": "code",
   "execution_count": 14,
   "outputs": [],
   "source": [
    "with open(\"data/region_contig_read_counts.json\", \"w\") as f:\n",
    "    json.dump(aggregated_region_contig_reads, f, indent=2)"
   ],
   "metadata": {
    "collapsed": false,
    "pycharm": {
     "name": "#%%\n"
    }
   }
  },
  {
   "cell_type": "markdown",
   "source": [
    "*Exploration results: based on the region alt contig read count data it seems that selecting either contig will lose a lot of reads, which can potentially introduce mistakes into my genotype calculation. Need to check with bioinformaticians. Maybe I need to run alignment again with selecting concrete alt contigs. *"
   ],
   "metadata": {
    "collapsed": false,
    "pycharm": {
     "name": "#%% md\n"
    }
   }
  },
  {
   "cell_type": "markdown",
   "source": [
    "### Povilas suggested that reads can be mapped to multiple contigs\n",
    "\n",
    "Selected contig `chr16_KI270856v1_alt` to check for reads."
   ],
   "metadata": {
    "collapsed": false,
    "pycharm": {
     "name": "#%% md\n"
    }
   }
  },
  {
   "cell_type": "code",
   "execution_count": 15,
   "outputs": [],
   "source": [
    "chr16_KI270856v1_alt_reads = all_alt_contig_reads[\"chr16_KI270856v1_alt\"]\n",
    "chr16_KI270856v1_alt_main_equivalent_reads = main_contig_region_reads[\"REGION173\"]"
   ],
   "metadata": {
    "collapsed": false,
    "pycharm": {
     "name": "#%%\n"
    }
   }
  },
  {
   "cell_type": "code",
   "execution_count": 17,
   "outputs": [],
   "source": [
    "chr16_KI270856v1_alt_read_ids = set(map(lambda r: r.query_name, chr16_KI270856v1_alt_reads))\n",
    "chr16_KI270856v1_alt_main_equivalent_read_ids = set(map(lambda r: r.query_name, chr16_KI270856v1_alt_main_equivalent_reads))"
   ],
   "metadata": {
    "collapsed": false,
    "pycharm": {
     "name": "#%%\n"
    }
   }
  },
  {
   "cell_type": "code",
   "execution_count": 19,
   "outputs": [
    {
     "data": {
      "text/plain": "3282"
     },
     "execution_count": 19,
     "metadata": {},
     "output_type": "execute_result"
    }
   ],
   "source": [
    "len(chr16_KI270856v1_alt_main_equivalent_read_ids - chr16_KI270856v1_alt_read_ids)"
   ],
   "metadata": {
    "collapsed": false,
    "pycharm": {
     "name": "#%%\n"
    }
   }
  },
  {
   "cell_type": "code",
   "execution_count": 20,
   "outputs": [
    {
     "data": {
      "text/plain": "3171"
     },
     "execution_count": 20,
     "metadata": {},
     "output_type": "execute_result"
    }
   ],
   "source": [
    "len(chr16_KI270856v1_alt_read_ids - chr16_KI270856v1_alt_main_equivalent_read_ids)"
   ],
   "metadata": {
    "collapsed": false,
    "pycharm": {
     "name": "#%%\n"
    }
   }
  },
  {
   "cell_type": "markdown",
   "source": [
    "*Conclusion: Reads are mapped to multiple regions*"
   ],
   "metadata": {
    "collapsed": false,
    "pycharm": {
     "name": "#%% md\n"
    }
   }
  }
 ],
 "metadata": {
  "kernelspec": {
   "display_name": "Python 3",
   "language": "python",
   "name": "python3"
  },
  "language_info": {
   "codemirror_mode": {
    "name": "ipython",
    "version": 2
   },
   "file_extension": ".py",
   "mimetype": "text/x-python",
   "name": "python",
   "nbconvert_exporter": "python",
   "pygments_lexer": "ipython2",
   "version": "2.7.6"
  }
 },
 "nbformat": 4,
 "nbformat_minor": 0
}