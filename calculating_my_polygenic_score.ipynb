{
 "cells": [
  {
   "cell_type": "markdown",
   "metadata": {
    "collapsed": true,
    "pycharm": {
     "name": "#%% md\n"
    }
   },
   "source": [
    "# Calculating my polygenic scores"
   ]
  },
  {
   "cell_type": "code",
   "execution_count": 1,
   "outputs": [],
   "source": [
    "import traceback\n",
    "from glob import glob\n",
    "from pathlib import Path\n",
    "import numpy as np\n",
    "import pandas as pd\n",
    "import sqlite3\n",
    "from typing import List, Optional, Tuple, Dict\n",
    "import pysam\n",
    "import rsidx\n",
    "from tqdm import tqdm\n",
    "from search_your_dna.pgscatalog import read_or_download_pgs_scoring_file, PGS_METHOD_MAPPING_TO_METHOD_CATEGORIES, \\\n",
    "    calc_polygenic_score, calc_all_polygenic_scores, to_gene_dosage_df, clean_rsids, do_polygenic_score_calculation, \\\n",
    "    calc_all_polygenic_scores_parallel\n",
    "from search_your_dna.util import read_raw_zipped_polygenic_score_file, \\\n",
    "    read_raw_zipped_polygenic_score_file_with_chrom_pos, search_for_rsids\n",
    "\n",
    "my_vcf_file = \"data/GFX0237425.GRCh38.p7.annotated.hg38_multianno.updated.vcf\"\n",
    "max_pgs_alleles = 200"
   ],
   "metadata": {
    "collapsed": false,
    "pycharm": {
     "name": "#%%\n"
    }
   }
  },
  {
   "cell_type": "markdown",
   "source": [
    "## Calc scores which have rsids in the pgs score files"
   ],
   "metadata": {
    "collapsed": false,
    "pycharm": {
     "name": "#%% md\n"
    }
   }
  },
  {
   "cell_type": "code",
   "execution_count": 3,
   "outputs": [
    {
     "name": "stdout",
     "output_type": "stream",
     "text": [
      "calc pgs based on rsid\n"
     ]
    },
    {
     "data": {
      "text/plain": "(1.1707461914041657,\n           rsid  effect_weight  gene_dosage    effect\n 0    rs2736108      -0.064112            1 -0.064112\n 1    rs2588809       0.064570            2  0.129140\n 2     rs999737      -0.079151            1 -0.079151\n 3     rs865686      -0.107029            2 -0.214057\n 4    rs2981579       0.225062            1  0.225062\n 5    rs7072776       0.056475            2  0.112950\n 6   rs13387042      -0.128515            1 -0.128515\n 7   rs16857609       0.069619            1  0.069619\n 8    rs4973768       0.089658            2  0.179316\n 9   rs10941679       0.113150            1  0.113150\n 10    rs889312       0.111184            2  0.222367\n 11   rs2046210       0.046024            1  0.046024\n 12  rs13281615       0.090754            1  0.090754\n 13   rs2380205      -0.023166            2 -0.046333\n 14  rs10995190      -0.155134            1 -0.155134\n 15    rs704010       0.067565            1  0.067565\n 16   rs1292011      -0.081319            1 -0.081319\n 17   rs3803662       0.203512            2  0.407024\n 18      rs8170       0.030917            1  0.030917\n 19    rs616488      -0.060069            1 -0.060069\n 20   rs4849887      -0.084796            2 -0.169591\n 21   rs1550623      -0.057100            1 -0.057100\n 22   rs6762644       0.064007            1  0.064007\n 23  rs12493607       0.051548            1  0.051548\n 24   rs9790517       0.046979            1  0.046979\n 25  rs10472076       0.041046            1  0.041046\n 26   rs1432679       0.064851            2  0.129702\n 27  rs11242675      -0.058795            1 -0.058795\n 28    rs204247       0.049076            2  0.098152\n 29   rs9693444       0.070458            2  0.140917\n 30   rs6472903      -0.091677            1 -0.091677\n 31   rs7904519       0.056758            2  0.113517\n 32  rs11820646      -0.044684            1 -0.044684\n 33  rs17356907      -0.096731            1 -0.096731\n 34   rs2236007      -0.083056            1 -0.083056\n 35  rs17817449      -0.072571            1 -0.072571\n 36    rs527616      -0.043638            1 -0.043638\n 37   rs1436904      -0.054879            1 -0.054879\n 38   rs3760982       0.053825            1  0.053825\n 39    rs132390       0.103549            2  0.207098\n 40   rs4245739       0.028685            2  0.057369\n 41  rs12710696       0.037970            1  0.037970\n 42  rs11075995       0.036139            1  0.036139)"
     },
     "execution_count": 3,
     "metadata": {},
     "output_type": "execute_result"
    }
   ],
   "source": [
    "pgs_file = \"data/pgs/PGS000001.txt.gz\"\n",
    "res1 = calc_polygenic_score(my_vcf_file=my_vcf_file, pgs_file=pgs_file, hg19_rsid_chrom_pos_mapping_file=\"\", max_pgs_alleles=max_pgs_alleles)\n",
    "res1\n"
   ],
   "metadata": {
    "collapsed": false,
    "pycharm": {
     "name": "#%%\n"
    }
   }
  },
  {
   "cell_type": "markdown",
   "source": [
    "## Calc scores which have only chrom/pos values in the pgs score files\n",
    "\n",
    "### Download rsid to hg19 chrom-pos metadata files with annovar"
   ],
   "metadata": {
    "collapsed": false,
    "pycharm": {
     "name": "#%% md\n"
    }
   }
  },
  {
   "cell_type": "code",
   "execution_count": null,
   "outputs": [],
   "source": [
    "!~/bin/annovar/annotate_variation.pl -buildver hg19 -downdb -webfrom annovar avsnp150 data/humandb/"
   ],
   "metadata": {
    "collapsed": false,
    "pycharm": {
     "name": "#%%\n"
    }
   }
  },
  {
   "cell_type": "markdown",
   "source": [
    "### Create tabix index for metadata file"
   ],
   "metadata": {
    "collapsed": false,
    "pycharm": {
     "name": "#%% md\n"
    }
   }
  },
  {
   "cell_type": "code",
   "execution_count": null,
   "outputs": [],
   "source": [
    "!bgzip -c data/humandb/hg19_avsnp150.txt > data/humandb/hg19_avsnp150.txt.gz\n",
    "!tabix --begin 2 --end 3 --sequence 1 data/humandb/hg19_avsnp150.txt.gz"
   ],
   "metadata": {
    "collapsed": false,
    "pycharm": {
     "name": "#%%\n"
    }
   }
  },
  {
   "cell_type": "markdown",
   "source": [
    "### Calculate pgs score"
   ],
   "metadata": {
    "collapsed": false,
    "pycharm": {
     "name": "#%% md\n"
    }
   }
  },
  {
   "cell_type": "code",
   "execution_count": null,
   "outputs": [],
   "source": [
    "hg19_rsid_chrom_pos_mapping_file = \"data/humandb/hg19_avsnp150.txt.gz\"\n",
    "pgs_file = \"data/pgs/PGS000007.txt.gz\"\n",
    "\n",
    "res2 = calc_polygenic_score(my_vcf_file=my_vcf_file, pgs_file=pgs_file, hg19_rsid_chrom_pos_mapping_file=hg19_rsid_chrom_pos_mapping_file, max_pgs_alleles=max_pgs_alleles)"
   ],
   "metadata": {
    "collapsed": false,
    "pycharm": {
     "name": "#%%\n"
    }
   }
  },
  {
   "cell_type": "markdown",
   "source": [
    "## Calculating all PGS values for existing pgs files"
   ],
   "metadata": {
    "collapsed": false,
    "pycharm": {
     "name": "#%% md\n"
    }
   }
  },
  {
   "cell_type": "code",
   "execution_count": 2,
   "outputs": [
    {
     "name": "stdout",
     "output_type": "stream",
     "text": [
      "calc pgs based on rsid for PGS000002\n"
     ]
    }
   ],
   "source": [
    "all_pgs_scores, errors = calc_all_polygenic_scores_parallel(files=sorted(glob(\"data/pgs/PGS00*.txt.gz\")), my_vcf_file=my_vcf_file)"
   ],
   "metadata": {
    "collapsed": false,
    "pycharm": {
     "name": "#%%\n"
    }
   }
  },
  {
   "cell_type": "code",
   "execution_count": null,
   "outputs": [],
   "source": [
    "all_pgs_scores.to_csv(\"data/pgs_results.csv\", index=None, sep=\"\\t\")"
   ],
   "metadata": {
    "collapsed": false,
    "pycharm": {
     "name": "#%%\n"
    }
   }
  },
  {
   "cell_type": "code",
   "execution_count": null,
   "outputs": [],
   "source": [
    "all_pgs_scores = all_pgs_scores.sort_values(by=[\"score\",\"pgs_id\"])\n",
    "\n"
   ],
   "metadata": {
    "collapsed": false,
    "pycharm": {
     "name": "#%%\n"
    }
   }
  }
 ],
 "metadata": {
  "kernelspec": {
   "display_name": "Python 3",
   "language": "python",
   "name": "python3"
  },
  "language_info": {
   "codemirror_mode": {
    "name": "ipython",
    "version": 2
   },
   "file_extension": ".py",
   "mimetype": "text/x-python",
   "name": "python",
   "nbconvert_exporter": "python",
   "pygments_lexer": "ipython2",
   "version": "2.7.6"
  }
 },
 "nbformat": 4,
 "nbformat_minor": 0
}