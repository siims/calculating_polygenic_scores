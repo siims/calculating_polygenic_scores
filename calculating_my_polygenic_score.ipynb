{
 "cells": [
  {
   "cell_type": "markdown",
   "metadata": {
    "collapsed": true,
    "pycharm": {
     "name": "#%% md\n"
    }
   },
   "source": [
    "# Calculating my polygenic scores"
   ]
  },
  {
   "cell_type": "code",
   "execution_count": null,
   "outputs": [],
   "source": [
    "import traceback\n",
    "from glob import glob\n",
    "from pathlib import Path\n",
    "import numpy as np\n",
    "import pandas as pd\n",
    "import sqlite3\n",
    "from typing import List, Optional, Tuple, Dict\n",
    "import pysam\n",
    "import rsidx\n",
    "from tqdm import tqdm\n",
    "from search_your_dna.pgscatalog import read_or_download_pgs_scoring_file, PGS_METHOD_MAPPING_TO_METHOD_CATEGORIES, \\\n",
    "    calc_polygenic_score, calc_all_polygenic_scores, to_gene_dosage_df, clean_rsids, do_polygenic_score_calculation, \\\n",
    "    calc_all_polygenic_scores_parallel, _do_calc_polygenic_score_single_input_arg, get_pgs_id_from_filename, \\\n",
    "    get_pgs_metadata\n",
    "from search_your_dna.util import read_raw_zipped_polygenic_score_file, \\\n",
    "    read_raw_zipped_polygenic_score_file_with_chrom_pos, search_for_rsids\n",
    "\n",
    "my_vcf_file = \"data/GFX0237425.GRCh38.p7.annotated.hg38_multianno.updated.vcf\""
   ],
   "metadata": {
    "collapsed": false,
    "pycharm": {
     "name": "#%%\n"
    }
   }
  },
  {
   "cell_type": "markdown",
   "source": [
    "## Calc scores which have rsids in the pgs score files"
   ],
   "metadata": {
    "collapsed": false,
    "pycharm": {
     "name": "#%% md\n"
    }
   }
  },
  {
   "cell_type": "code",
   "execution_count": null,
   "outputs": [],
   "source": [
    "pgs_file = \"data/pgs/PGS000325.txt.gz\"\n",
    "res1 = calc_polygenic_score(my_vcf_file=my_vcf_file, pgs_file=pgs_file, hg19_rsid_chrom_pos_mapping_file=\"\", max_pgs_alleles=200)\n",
    "res1\n"
   ],
   "metadata": {
    "collapsed": false,
    "pycharm": {
     "name": "#%%\n"
    }
   }
  },
  {
   "cell_type": "markdown",
   "source": [
    "## Calc scores which have only chrom/pos values in the pgs score files\n",
    "\n",
    "### Download rsid to hg19 chrom-pos metadata files with annovar"
   ],
   "metadata": {
    "collapsed": false,
    "pycharm": {
     "name": "#%% md\n"
    }
   }
  },
  {
   "cell_type": "code",
   "execution_count": null,
   "outputs": [],
   "source": [
    "!~/bin/annovar/annotate_variation.pl -buildver hg19 -downdb -webfrom annovar avsnp150 data/humandb/"
   ],
   "metadata": {
    "collapsed": false,
    "pycharm": {
     "name": "#%%\n"
    }
   }
  },
  {
   "cell_type": "markdown",
   "source": [
    "### Create tabix index for metadata file"
   ],
   "metadata": {
    "collapsed": false,
    "pycharm": {
     "name": "#%% md\n"
    }
   }
  },
  {
   "cell_type": "code",
   "execution_count": null,
   "outputs": [],
   "source": [
    "!bgzip -c data/humandb/hg19_avsnp150.txt > data/humandb/hg19_avsnp150.txt.gz\n",
    "!tabix --begin 2 --end 3 --sequence 1 data/humandb/hg19_avsnp150.txt.gz"
   ],
   "metadata": {
    "collapsed": false,
    "pycharm": {
     "name": "#%%\n"
    }
   }
  },
  {
   "cell_type": "markdown",
   "source": [
    "### Calculate pgs score"
   ],
   "metadata": {
    "collapsed": false,
    "pycharm": {
     "name": "#%% md\n"
    }
   }
  },
  {
   "cell_type": "code",
   "execution_count": null,
   "outputs": [],
   "source": [
    "hg19_rsid_chrom_pos_mapping_file = \"data/humandb/hg19_avsnp150.txt.gz\"\n",
    "pgs_file = \"data/pgs/PGS000004.txt.gz\"\n",
    "\n",
    "res2 = calc_polygenic_score(my_vcf_file=my_vcf_file, pgs_file=pgs_file, hg19_rsid_chrom_pos_mapping_file=hg19_rsid_chrom_pos_mapping_file, max_pgs_alleles=5000)"
   ],
   "metadata": {
    "collapsed": false,
    "pycharm": {
     "name": "#%%\n"
    }
   }
  },
  {
   "cell_type": "markdown",
   "source": [
    "## Calculating all PGS values for existing pgs files"
   ],
   "metadata": {
    "collapsed": false,
    "pycharm": {
     "name": "#%% md\n"
    }
   }
  },
  {
   "cell_type": "code",
   "execution_count": null,
   "outputs": [],
   "source": [
    "%%time\n",
    "pgs_ids = [get_pgs_id_from_filename(file) for file in sorted(glob(\"data/pgs/PGS00*.txt.gz\"))]\n",
    "num_parallel_processes, max_pgs_alleles = 8, 100_000\n",
    "all_pgs_scores = calc_all_polygenic_scores_parallel(pgs_ids=pgs_ids, my_vcf_file=my_vcf_file, num_parallel_processes=num_parallel_processes, max_pgs_alleles=max_pgs_alleles)\n",
    "errors = all_pgs_scores[[\"pgs_id\", \"error\"]][~all_pgs_scores[\"error\"].isna()]\n",
    "\n",
    "pgs_metadata_df = pd.DataFrame(columns=[\"pgs_id\", \"trait\", \"method_categorized\", \"method\", \"ancestry\"])\n",
    "for pgs_metadata_file in sorted(glob(\"data/pgs/PGS00*.json\")):\n",
    "    pgs_id = Path(pgs_metadata_file).stem\n",
    "    pgs_metadata_df = pgs_metadata_df.append(get_pgs_metadata(pgs_id), ignore_index=True)\n",
    "\n",
    "\n",
    "result_df = all_pgs_scores[[\"pgs_id\", \"score\"]].set_index(\"pgs_id\").join(pgs_metadata_df.set_index(\"pgs_id\"), on=\"pgs_id\")\n",
    "\n",
    "result_df.to_csv(\"data/pgs_results.csv\", index=None, sep=\"\\t\")"
   ],
   "metadata": {
    "collapsed": false,
    "pycharm": {
     "name": "#%%\n"
    }
   }
  }
 ],
 "metadata": {
  "kernelspec": {
   "display_name": "Python 3",
   "language": "python",
   "name": "python3"
  },
  "language_info": {
   "codemirror_mode": {
    "name": "ipython",
    "version": 2
   },
   "file_extension": ".py",
   "mimetype": "text/x-python",
   "name": "python",
   "nbconvert_exporter": "python",
   "pygments_lexer": "ipython2",
   "version": "2.7.6"
  }
 },
 "nbformat": 4,
 "nbformat_minor": 0
}