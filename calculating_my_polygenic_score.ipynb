{
 "cells": [
  {
   "cell_type": "markdown",
   "metadata": {
    "collapsed": true,
    "pycharm": {
     "name": "#%% md\n"
    }
   },
   "source": [
    "# Calculating my polygenic scores"
   ]
  },
  {
   "cell_type": "code",
   "execution_count": null,
   "outputs": [],
   "source": [
    "import traceback\n",
    "from glob import glob\n",
    "from pathlib import Path\n",
    "import numpy as np\n",
    "import pandas as pd\n",
    "import sqlite3\n",
    "from typing import List, Optional, Tuple, Dict\n",
    "import pysam\n",
    "import rsidx\n",
    "from tqdm import tqdm\n",
    "from search_your_dna.pgscatalog import read_or_download_pgs_scoring_file, PGS_METHOD_MAPPING_TO_METHOD_CATEGORIES, \\\n",
    "    calc_polygenic_score, calc_all_polygenic_scores\n",
    "\n",
    "file_my_vcf = \"data/GFX0237425.GRCh38.p7.annotated.hg38_multianno.updated.vcf.gz\"\n",
    "file_my_vcf_rsidx = \"data/GFX0237425.GRCh38.p7.annotated.hg38_multianno.updated.vcf.rsidx\""
   ],
   "metadata": {
    "collapsed": false,
    "pycharm": {
     "name": "#%%\n"
    }
   }
  },
  {
   "cell_type": "code",
   "execution_count": null,
   "outputs": [],
   "source": [
    "pgs, pgs_df = calc_polygenic_score(max_pgs_alleles=1000, pgs_file=\"data/pgs/PGS000034.txt.gz\", file_my_vcf=file_my_vcf)\n",
    "pgs"
   ],
   "metadata": {
    "collapsed": false,
    "pycharm": {
     "name": "#%%\n"
    }
   }
  },
  {
   "cell_type": "markdown",
   "source": [
    "## Calc scores which have rsids in the pgs score files"
   ],
   "metadata": {
    "collapsed": false,
    "pycharm": {
     "name": "#%% md\n"
    }
   }
  },
  {
   "cell_type": "code",
   "execution_count": null,
   "outputs": [],
   "source": [
    "all_pgs_scores, errors = calc_all_polygenic_scores(files=list(glob(\"data/pgs/PGS00*.txt.gz\")), file_my_vcf=file_my_vcf)"
   ],
   "metadata": {
    "collapsed": false,
    "pycharm": {
     "name": "#%%\n"
    }
   }
  },
  {
   "cell_type": "code",
   "execution_count": null,
   "outputs": [],
   "source": [
    "all_pgs_scores.to_csv(\"data/pgs_results.csv\", index=None, sep=\"\\t\")"
   ],
   "metadata": {
    "collapsed": false,
    "pycharm": {
     "name": "#%%\n"
    }
   }
  },
  {
   "cell_type": "code",
   "execution_count": null,
   "outputs": [],
   "source": [
    "all_pgs_scores = all_pgs_scores.sort_values(by=[\"score\",\"pgs_id\"])\n"
   ],
   "metadata": {
    "collapsed": false,
    "pycharm": {
     "name": "#%%\n"
    }
   }
  },
  {
   "cell_type": "markdown",
   "source": [
    "## Calc scores which have only chrom/pos values in the pgs score files\n",
    "\n",
    "### Download rsid to hg19 chrom-pos metadata files with annovar"
   ],
   "metadata": {
    "collapsed": false,
    "pycharm": {
     "name": "#%% md\n"
    }
   }
  },
  {
   "cell_type": "code",
   "execution_count": null,
   "outputs": [],
   "source": [
    "!~/bin/annovar/annotate_variation.pl -buildver hg19 -downdb -webfrom annovar avsnp150 data/humandb/"
   ],
   "metadata": {
    "collapsed": false,
    "pycharm": {
     "name": "#%%\n"
    }
   }
  },
  {
   "cell_type": "markdown",
   "source": [
    "### Create tabix index for metadata file"
   ],
   "metadata": {
    "collapsed": false,
    "pycharm": {
     "name": "#%% md\n"
    }
   }
  },
  {
   "cell_type": "code",
   "execution_count": null,
   "outputs": [],
   "source": [
    "!bgzip -c data/humandb/hg19_avsnp150.txt > data/humandb/hg19_avsnp150.txt.gz\n",
    "!tabix --begin 2 --end 3 --sequence 1 data/humandb/hg19_avsnp150.txt.gz"
   ],
   "metadata": {
    "collapsed": false,
    "pycharm": {
     "name": "#%%\n"
    }
   }
  },
  {
   "cell_type": "markdown",
   "source": [
    "### Calculate pgs score\n",
    "*TODO*"
   ],
   "metadata": {
    "collapsed": false,
    "pycharm": {
     "name": "#%% md\n"
    }
   }
  },
  {
   "cell_type": "code",
   "execution_count": null,
   "outputs": [],
   "source": [
    "hg19_rsid_chrom_pos_mapping_file = \"data/humandb/hg19_avsnp150.txt.gz\"\n",
    "\n",
    "hg19_vcf = pysam.Tabixfile(hg19_rsid_chrom_pos_mapping_file)\n",
    "\n",
    "for rsid in hg19_vcf.fetch(\"1\", 10000, 10200):\n",
    "    print(rsid)"
   ],
   "metadata": {
    "collapsed": false,
    "pycharm": {
     "name": "#%%\n"
    }
   }
  }
 ],
 "metadata": {
  "kernelspec": {
   "display_name": "Python 3",
   "language": "python",
   "name": "python3"
  },
  "language_info": {
   "codemirror_mode": {
    "name": "ipython",
    "version": 2
   },
   "file_extension": ".py",
   "mimetype": "text/x-python",
   "name": "python",
   "nbconvert_exporter": "python",
   "pygments_lexer": "ipython2",
   "version": "2.7.6"
  }
 },
 "nbformat": 4,
 "nbformat_minor": 0
}