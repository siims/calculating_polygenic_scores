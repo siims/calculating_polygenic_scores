{
 "cells": [
  {
   "cell_type": "markdown",
   "metadata": {
    "collapsed": true,
    "pycharm": {
     "name": "#%% md\n"
    }
   },
   "source": [
    "# How to run variant calling\n",
    "\n",
    "Followed this tutorial: https://wikis.utexas.edu/display/bioiteam/Variant+calling+tutorial\n",
    "\n",
    "Inputs:\n",
    " * Alignment file (bam)\n",
    " * Reference genome fasta (fna.gz)\n",
    "\n",
    "Outputs:\n",
    " * Variant calling in binary format (.bcf)\n",
    " * Variant calling text file (.vcf)\n",
    " * Variant calling compressed gz file (.vcf.gz)\n",
    " * Variant calling tabix index file (.vcf.gz.tbi)\n",
    "\n",
    "*Current shortcomings:*\n",
    "\n",
    "1. Calculates variance only for SNPs and small indels. Doesn't look at [structural variation](https://en.wikipedia.org/wiki/Structural_variation).\n",
    "\n",
    "## Dependencies\n",
    "\n",
    "`bcftools` which comes with `samtools`\n",
    "\n",
    "## Steps\n",
    "### Find variants"
   ]
  },
  {
   "cell_type": "code",
   "execution_count": null,
   "outputs": [],
   "source": [
    "%%time\n",
    "!bcftools mpileup -Ou -f /path/to/ref/genome/GCA_000001405.15_GRCh38_full_analysis_set.fna.gz /path/to/alignment/file/genome_1.GRCh38.p7.bam | bcftools call -mv -Ob -o /path/to/alignment/file/genome_1.GRCh38.p7.bcf\n",
    "!bcftools view /path/to/alignment/file/genome_1.GRCh38.p7.bcf > /path/to/alignment/file/genome_1.GRCh38.p7.vcf"
   ],
   "metadata": {
    "collapsed": false,
    "pycharm": {
     "name": "#%%\n"
    }
   }
  },
  {
   "cell_type": "markdown",
   "source": [
    "### Enable quick lookups via tabix"
   ],
   "metadata": {
    "collapsed": false,
    "pycharm": {
     "name": "#%% md\n"
    }
   }
  },
  {
   "cell_type": "code",
   "execution_count": null,
   "outputs": [],
   "source": [
    "%%time\n",
    "!bgzip -c GENOME12345.GRCh38.p7.vcf > GENOME12345.GRCh38.p7.vcf.gz\n",
    "!tabix -p vcf GENOME12345.GRCh38.p7.vcf.gz"
   ],
   "metadata": {
    "collapsed": false,
    "pycharm": {
     "name": "#%%\n"
    }
   }
  }
 ],
 "metadata": {
  "kernelspec": {
   "display_name": "Python 3",
   "language": "python",
   "name": "python3"
  },
  "language_info": {
   "codemirror_mode": {
    "name": "ipython",
    "version": 2
   },
   "file_extension": ".py",
   "mimetype": "text/x-python",
   "name": "python",
   "nbconvert_exporter": "python",
   "pygments_lexer": "ipython2",
   "version": "2.7.6"
  }
 },
 "nbformat": 4,
 "nbformat_minor": 0
}