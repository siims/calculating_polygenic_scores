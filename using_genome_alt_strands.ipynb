{
 "cells": [
  {
   "cell_type": "markdown",
   "metadata": {
    "collapsed": true,
    "pycharm": {
     "name": "#%% md\n"
    }
   },
   "source": [
    "# Figuring out how to use ref genome alt strands\n",
    "\n",
    "## Problem\n",
    "\n",
    "After running alignment for GRCh38 reference genome some reads were aligned to alternate contig. Which made the allele values disappear from as my bam file analysis process doesn't take this into account.\n",
    "\n",
    "Namely, I was searching for snp `rs9380142` value in the new alignment file (random value that I found missing). Which based on GRCh38 build should be visible in `chr6:29,831,013-29,831,027` and based on GRCh37 can be seen in `chr6:29,798,790-29,798,804`.\n",
    "\n",
    "Purpose of this notebook is to understand how and when to use values from alternate contig.\n",
    "\n",
    "## Confirming the issue\n",
    "\n",
    "Finding the reads from the GRCh37 produced alignment file:\n",
    "```\n",
    "$ samtools view /home/s/Dropbox/Siim/health/genetest_2020/GFX0237425.bam | grep \"A00925:63:HY3V3DSXX:1:1204:8314:25629\"\n",
    "A00925:63:HY3V3DSXX:1:1204:8314:25629\t99\t6\t29798723\t60\t151M\t=\t29798778\t206\tCTCCGTCTCTGTCTCAAATTTGTGGTCCACTGAGCTATAACTTACTTCTGTATTAAAATTAGAATCTGAGTGTAAATTTACTTTTTCAAATTATTTCCAAGAGAGATTGATGGGTTAATTAAAGGAGACGATTCCTGAAATTTGAGAGACA\tF:FFF:FF,F,FFFFFFFFFFF,FFFF:FFFFF::FFFFFFFFFFFFFFFFFFFFFFFFFFFF:::F:FFF,F:FFFFFFFFF:FFFFFF,FF,FF,:FF,F:FF:FF,:FFFFFFFFF,FFFF,FF:,,FFF:,F:FFFFF,:F,F,FFF\tRG:Z:1\tAS:i:141\tXS:i:66\tNM:i:2\tXQ:i:250\n",
    "A00925:63:HY3V3DSXX:1:1204:8314:25629\t147\t6\t29798778\t60\t151M\t=\t29798723\t-206\tAAATTAGAATCTGAGTGTATATTTACTTTTTCAAATTATTTCCAAGAGAGATTGATGGGTTAATTAAAGGAGAAGATTCCTGAAATTTGAGAGACAAAATAAATGGAAGACATGAGAACTTTCCACAGTACACGTGTTTCTTGTGCTGATT\t,F:FFFF,F:F::FFFFFF:F,FFF:F::F:FFFFFFFFFF,FF:,FFF:FFFFFF,,:FFFFFF,FFFFF,,FFFFFFF:FF:FFFF:FFFFF:FF:FFFFFFFFFFFFFFFFFFFFF,FF,F:,FFFFFFFF::FF:FFFFFFFFFF:F\tRG:Z:1\tAS:i:141\tXS:i:91\tNM:i:2\tXQ:i:220\n",
    "```\n",
    "\n",
    "Finding the reads from the GRCh38.p7 produced alignment file:\n",
    "```\n",
    "$ samtools view /home/s/Dropbox/Siim/health/genetest_2020/GFX0237425.GRCh38.p7_v2.bam | grep \"A00925:63:HY3V3DSXX:1:1204:8314:25629\"\n",
    "A00925:63:HY3V3DSXX:1:1204:8314:25629\t99\tchr6_GL000254v2_alt\t1093417\t1\t151M\t=\t1093472\t206\tCTCCGTCTCTGTCTCAAATTTGTGGTCCACTGAGCTATAACTTACTTCTGTATTAAAATTAGAATCTGAGTGTAAATTTACTTTTTCAAATTATTTCCAAGAGAGATTGATGGGTTAATTAAAGGAGACGATTCCTGAAATTTGAGAGACA\tF:FFF:FF,F,FFFFFFFFFFF,FFFF:FFFFF::FFFFFFFFFFFFFFFFFFFFFFFFFFFF:::F:FFF,F:FFFFFFFFF:FFFFFF,FF,FF,:FF,F:FF:FF,:FFFFFFFFF,FFFF,FF:,,FFF:,F:FFFFF,:F,F,FFF\tAS:i:-3\tXS:i:-3\tXN:i:0\tXM:i:1\tXO:i:0\tXG:i:0\tNM:i:1\tMD:Z:128A22\tYS:i:-4\tYT:Z:CP\n",
    "A00925:63:HY3V3DSXX:1:1204:8314:25629\t147\tchr6_GL000254v2_alt\t1093472\t1\t151M\t=\t1093417\t-206\tAAATTAGAATCTGAGTGTATATTTACTTTTTCAAATTATTTCCAAGAGAGATTGATGGGTTAATTAAAGGAGAAGATTCCTGAAATTTGAGAGACAAAATAAATGGAAGACATGAGAACTTTCCACAGTACACGTGTTTCTTGTGCTGATT\t,F:FFFF,F:F::FFFFFF:F,FFF:F::F:FFFFFFFFFF,FF:,FFF:FFFFFF,,:FFFFFF,FFFFF,,FFFFFFF:FF:FFFF:FFFFF:FF:FFFFFFFFFFFFFFFFFFFFF,FF,F:,FFFFFFFF::FF:FFFFFFFFFF:F\tAS:i:-4\tXS:i:-4\tXN:i:0\tXM:i:1\tXO:i:0\tXG:i:0\tNM:i:1\tMD:Z:19A131\tYS:i:-3\tYT:Z:CP\n",
    "```\n",
    "\n",
    "Sure enough contig `chr6_GL000254v2_alt` is visible, not `chr6` like I hoped for.\n",
    "\n",
    "SNP `rs9380142` is visible here `chr6_GL000254v2_alt:1,093,484-1,093,498`; and as reference genome has changed I don't have a variance in the position anymore.\n",
    "\n",
    "## Finding a solution"
   ]
  },
  {
   "cell_type": "code",
   "execution_count": null,
   "outputs": [],
   "source": [],
   "metadata": {
    "collapsed": false,
    "pycharm": {
     "name": "#%%\n"
    }
   }
  }
 ],
 "metadata": {
  "kernelspec": {
   "display_name": "Python 3",
   "language": "python",
   "name": "python3"
  },
  "language_info": {
   "codemirror_mode": {
    "name": "ipython",
    "version": 2
   },
   "file_extension": ".py",
   "mimetype": "text/x-python",
   "name": "python",
   "nbconvert_exporter": "python",
   "pygments_lexer": "ipython2",
   "version": "2.7.6"
  }
 },
 "nbformat": 4,
 "nbformat_minor": 0
}