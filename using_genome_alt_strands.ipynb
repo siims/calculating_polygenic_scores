{
 "cells": [
  {
   "cell_type": "markdown",
   "metadata": {
    "collapsed": true,
    "pycharm": {
     "name": "#%% md\n"
    }
   },
   "source": [
    "# Figuring out how to use ref genome alt strands\n",
    "\n",
    "## Problem\n",
    "\n",
    "After running alignment for GRCh38 reference genome some reads were aligned to alternate contig. Which made the allele values disappear from as my bam file analysis process doesn't take this into account.\n",
    "\n",
    "Namely, I was searching for snp `rs9380142` value in the new alignment file (random value that I found missing). Which based on GRCh38 build should be visible in `chr6:29,831,013-29,831,027` and based on GRCh37 can be seen in `chr6:29,798,790-29,798,804` (pos `29831017`).\n",
    "\n",
    "Purpose of this notebook is to understand how and when to use values from alternate contig.\n",
    "\n",
    "## Confirming the issue\n",
    "\n",
    "Finding the reads from the GRCh37 produced alignment file:\n",
    "```\n",
    "$ samtools view /home/s/Dropbox/Siim/health/genetest_2020/GFX0237425.bam | grep \"A00925:63:HY3V3DSXX:1:1204:8314:25629\"\n",
    "A00925:63:HY3V3DSXX:1:1204:8314:25629\t99\t6\t29798723\t60\t151M\t=\t29798778\t206\tCTCCGTCTCTGTCTCAAATTTGTGGTCCACTGAGCTATAACTTACTTCTGTATTAAAATTAGAATCTGAGTGTAAATTTACTTTTTCAAATTATTTCCAAGAGAGATTGATGGGTTAATTAAAGGAGACGATTCCTGAAATTTGAGAGACA\tF:FFF:FF,F,FFFFFFFFFFF,FFFF:FFFFF::FFFFFFFFFFFFFFFFFFFFFFFFFFFF:::F:FFF,F:FFFFFFFFF:FFFFFF,FF,FF,:FF,F:FF:FF,:FFFFFFFFF,FFFF,FF:,,FFF:,F:FFFFF,:F,F,FFF\tRG:Z:1\tAS:i:141\tXS:i:66\tNM:i:2\tXQ:i:250\n",
    "A00925:63:HY3V3DSXX:1:1204:8314:25629\t147\t6\t29798778\t60\t151M\t=\t29798723\t-206\tAAATTAGAATCTGAGTGTATATTTACTTTTTCAAATTATTTCCAAGAGAGATTGATGGGTTAATTAAAGGAGAAGATTCCTGAAATTTGAGAGACAAAATAAATGGAAGACATGAGAACTTTCCACAGTACACGTGTTTCTTGTGCTGATT\t,F:FFFF,F:F::FFFFFF:F,FFF:F::F:FFFFFFFFFF,FF:,FFF:FFFFFF,,:FFFFFF,FFFFF,,FFFFFFF:FF:FFFF:FFFFF:FF:FFFFFFFFFFFFFFFFFFFFF,FF,F:,FFFFFFFF::FF:FFFFFFFFFF:F\tRG:Z:1\tAS:i:141\tXS:i:91\tNM:i:2\tXQ:i:220\n",
    "```\n",
    "\n",
    "Finding the reads from the GRCh38.p7 produced alignment file:\n",
    "```\n",
    "$ samtools view /home/s/Dropbox/Siim/health/genetest_2020/GFX0237425.GRCh38.p7_v2.bam | grep \"A00925:63:HY3V3DSXX:1:1204:8314:25629\"\n",
    "A00925:63:HY3V3DSXX:1:1204:8314:25629\t99\tchr6_GL000254v2_alt\t1093417\t1\t151M\t=\t1093472\t206\tCTCCGTCTCTGTCTCAAATTTGTGGTCCACTGAGCTATAACTTACTTCTGTATTAAAATTAGAATCTGAGTGTAAATTTACTTTTTCAAATTATTTCCAAGAGAGATTGATGGGTTAATTAAAGGAGACGATTCCTGAAATTTGAGAGACA\tF:FFF:FF,F,FFFFFFFFFFF,FFFF:FFFFF::FFFFFFFFFFFFFFFFFFFFFFFFFFFF:::F:FFF,F:FFFFFFFFF:FFFFFF,FF,FF,:FF,F:FF:FF,:FFFFFFFFF,FFFF,FF:,,FFF:,F:FFFFF,:F,F,FFF\tAS:i:-3\tXS:i:-3\tXN:i:0\tXM:i:1\tXO:i:0\tXG:i:0\tNM:i:1\tMD:Z:128A22\tYS:i:-4\tYT:Z:CP\n",
    "A00925:63:HY3V3DSXX:1:1204:8314:25629\t147\tchr6_GL000254v2_alt\t1093472\t1\t151M\t=\t1093417\t-206\tAAATTAGAATCTGAGTGTATATTTACTTTTTCAAATTATTTCCAAGAGAGATTGATGGGTTAATTAAAGGAGAAGATTCCTGAAATTTGAGAGACAAAATAAATGGAAGACATGAGAACTTTCCACAGTACACGTGTTTCTTGTGCTGATT\t,F:FFFF,F:F::FFFFFF:F,FFF:F::F:FFFFFFFFFF,FF:,FFF:FFFFFF,,:FFFFFF,FFFFF,,FFFFFFF:FF:FFFF:FFFFF:FF:FFFFFFFFFFFFFFFFFFFFF,FF,F:,FFFFFFFF::FF:FFFFFFFFFF:F\tAS:i:-4\tXS:i:-4\tXN:i:0\tXM:i:1\tXO:i:0\tXG:i:0\tNM:i:1\tMD:Z:19A131\tYS:i:-3\tYT:Z:CP\n",
    "```\n",
    "\n",
    "Sure enough contig `chr6_GL000254v2_alt` is visible, not `chr6` like I hoped for.\n",
    "\n",
    "SNP `rs9380142` is visible here `chr6_GL000254v2_alt:1,093,484-1,093,498`; and as reference genome has changed I don't have a variance in the position anymore.\n",
    "\n",
    "## Finding a solution"
   ]
  },
  {
   "cell_type": "markdown",
   "source": [
    "### First go: ref gene assembly exploring metadata\n",
    "\n",
    "Found some metadata from [here](https://www.gencodegenes.org/human/) and [here](ftp://ftp.ncbi.nlm.nih.gov/genomes/all/GCA/000/001/405/GCA_000001405.22_GRCh38.p7/)\n",
    "\n",
    "Following files seem to contain information to map alt contigs to chromosomes.\n",
    "\n",
    "#### Read in the metadata"
   ],
   "metadata": {
    "collapsed": false,
    "pycharm": {
     "name": "#%% md\n"
    }
   }
  },
  {
   "cell_type": "code",
   "execution_count": null,
   "outputs": [],
   "source": [
    "from functools import reduce\n",
    "from typing import List, Dict\n",
    "import pandas as pd\n",
    "import pysam\n",
    "from search_your_dna.util import get_file_header_line_number, get_read_values_for_allele, \\\n",
    "    _get_contig, genotype_from_reads"
   ],
   "metadata": {
    "collapsed": false,
    "pycharm": {
     "name": "#%%\n"
    }
   }
  },
  {
   "cell_type": "code",
   "execution_count": null,
   "outputs": [],
   "source": [
    "assembly_report_file = \"data/grch38.p7/GCA_000001405.22_GRCh38.p7_assembly_report.txt\"\n",
    "assembly_report_file_header_line_number = get_file_header_line_number(assembly_report_file, header_pattern=\"# Sequence-Name\\t\") # header starts with `# Sequence-Name`\n",
    "assembly_report_df = pd.read_csv(assembly_report_file, sep=\"\\t\", skiprows=assembly_report_file_header_line_number, dtype=str)\n",
    "assembly_report_df.columns = assembly_report_df.columns.str.lower()\n",
    "assembly_report_df.columns = assembly_report_df.columns.str.replace(\"-\", \"_\")\n",
    "assembly_report_df.columns = assembly_report_df.columns.str.replace(\"# \", \"\")\n",
    "assembly_report_df"
   ],
   "metadata": {
    "collapsed": false,
    "pycharm": {
     "name": "#%%\n"
    }
   }
  },
  {
   "cell_type": "code",
   "execution_count": null,
   "outputs": [],
   "source": [
    "assembly_regions_file = \"data/grch38.p7/GCA_000001405.22_GRCh38.p7_assembly_regions.txt\"\n",
    "assembly_regions_file_header_line_number = get_file_header_line_number(assembly_regions_file, header_pattern=\"# Region-Name\\t\") # header starts with `# Region-Name`\n",
    "assembly_regions_df = pd.read_csv(assembly_regions_file, sep=\"\\t\", skiprows=assembly_regions_file_header_line_number, dtype=str)\n",
    "assembly_regions_df.columns = assembly_regions_df.columns.str.lower()\n",
    "assembly_regions_df.columns = assembly_regions_df.columns.str.replace(\"-\", \"_\")\n",
    "assembly_regions_df.columns = assembly_regions_df.columns.str.replace(\"# \", \"\")\n",
    "assembly_regions_df[\"chromosome_start\"] = assembly_regions_df[\"chromosome_start\"].astype('float').astype(\"int64\")\n",
    "assembly_regions_df[\"chromosome_stop\"] = assembly_regions_df[\"chromosome_stop\"].astype('float').astype(\"int64\")\n",
    "assembly_regions_df"
   ],
   "metadata": {
    "collapsed": false,
    "pycharm": {
     "name": "#%%\n"
    }
   }
  },
  {
   "cell_type": "markdown",
   "source": [
    "##### Aggregate assembly metadata"
   ],
   "metadata": {
    "collapsed": false,
    "pycharm": {
     "name": "#%% md\n"
    }
   }
  },
  {
   "cell_type": "code",
   "execution_count": null,
   "outputs": [],
   "source": [
    "assembly_metadata_df = pd.merge(assembly_regions_df, assembly_report_df, left_on=\"scaffold_genbank_accn\", right_on=\"genbank_accn\")\n",
    "assembly_metadata_df"
   ],
   "metadata": {
    "collapsed": false,
    "pycharm": {
     "name": "#%%\n"
    }
   }
  },
  {
   "cell_type": "code",
   "execution_count": null,
   "outputs": [],
   "source": [
    "bam_file = \"/home/s/Dropbox/Siim/health/genetest_2020/GFX0237425.GRCh38.p7_v2.bam\"\n",
    "alignment_data = pysam.AlignmentFile(bam_file, \"rb\")"
   ],
   "metadata": {
    "collapsed": false,
    "pycharm": {
     "name": "#%%\n"
    }
   }
  },
  {
   "cell_type": "markdown",
   "source": [
    "#### Find mapping from chrom+pos to contigs\n",
    "\n",
    "in the end I want to be able to search for chrom+pos from alignment file taking into account alt contigs.\n",
    "meaning I need to have function that takes in chrom+pos and returns all contigs where this exists."
   ],
   "metadata": {
    "collapsed": false,
    "pycharm": {
     "name": "#%% md\n"
    }
   }
  },
  {
   "cell_type": "code",
   "execution_count": null,
   "outputs": [],
   "source": [
    "chrom = \"6\"\n",
    "pos = 29831017\n",
    "\n",
    "assembly_regions_for_chr_df = assembly_regions_df[assembly_regions_df[\"chromosome\"] == \"6\"]\n",
    "assembly_regions_for_chr_pos_df = assembly_regions_for_chr_df[(assembly_regions_for_chr_df[\"chromosome_start\"] < pos) & (assembly_regions_for_chr_df[\"chromosome_stop\"] >= pos)]\n",
    "assembly_regions_for_chr_pos_df[\"pos_on_contig\"] = pos - assembly_regions_for_chr_pos_df[\"chromosome_start\"]\n",
    "assembly_regions_for_chr_pos_df"
   ],
   "metadata": {
    "collapsed": false,
    "pycharm": {
     "name": "#%%\n"
    }
   }
  },
  {
   "cell_type": "markdown",
   "source": [
    "To contigs mapping to the ones used in the alignment file"
   ],
   "metadata": {
    "collapsed": false,
    "pycharm": {
     "name": "#%% md\n"
    }
   }
  },
  {
   "cell_type": "code",
   "execution_count": null,
   "outputs": [],
   "source": [
    "alt_contig_metadata = pd.merge(assembly_regions_for_chr_pos_df, assembly_report_df, left_on=\"scaffold_genbank_accn\", right_on=\"genbank_accn\")\n",
    "alt_contig_metadata.rename(columns={\"ucsc_style_name\": \"contig\"}, inplace=True)\n",
    "alt_contig_metadata"
   ],
   "metadata": {
    "collapsed": false,
    "pycharm": {
     "name": "#%%\n"
    }
   }
  },
  {
   "cell_type": "code",
   "execution_count": null,
   "outputs": [],
   "source": [
    "res = alt_contig_metadata[[\"pos_on_contig\", \"contig\"]]\n",
    "res.attrs[\"chrom\"] = chrom\n",
    "res.attrs[\"pos\"] = pos\n",
    "res"
   ],
   "metadata": {
    "collapsed": false,
    "pycharm": {
     "name": "#%%\n"
    }
   }
  },
  {
   "cell_type": "markdown",
   "source": [
    "#### Test getting alignment data for `rs9380142`\n"
   ],
   "metadata": {
    "collapsed": false,
    "pycharm": {
     "name": "#%% md\n"
    }
   }
  },
  {
   "cell_type": "code",
   "execution_count": null,
   "outputs": [],
   "source": [
    "def get_all_allele_contig_pos_values(\n",
    "        chrom: str,\n",
    "        pos: int,\n",
    "        alignment_data: pysam.AlignmentFile,\n",
    "        assembly_metadata: pd.DataFrame\n",
    ") -> pd.DataFrame:\n",
    "    \"\"\"\n",
    "    :param assembly_metadata: data frame with columns: \"chromosome\" (str), \"chromosome_start\" (int),\n",
    "        \"chromosome_stop\" (int) and \"ucsc_style_name\" (str as header name in the alignment file)\n",
    "    :return: data frame with two columns: \"pos_on_contig\" (int), \"contig\" (str)\n",
    "    \"\"\"\n",
    "    # get contig\n",
    "    assembly_metadata = assembly_metadata[assembly_metadata[\"chromosome\"] == chrom]\n",
    "    assembly_metadata = assembly_metadata[\n",
    "        (assembly_metadata[\"chromosome_start\"] < pos) & (assembly_metadata[\"chromosome_stop\"] >= pos)]\n",
    "    assembly_metadata[\"pos_on_contig\"] = pos - assembly_metadata[\"chromosome_start\"]\n",
    "    assembly_metadata.rename(columns={\"ucsc_style_name\": \"contig\"}, inplace=True)\n",
    "\n",
    "    main_contig = _get_contig(alignment_data=alignment_data, chrom=chrom)\n",
    "\n",
    "    contig_positions = assembly_metadata[[\"pos_on_contig\", \"contig\"]]\n",
    "    contig_positions = contig_positions.append({\"pos_on_contig\": pos, \"contig\": main_contig}, ignore_index=True)\n",
    "    contig_positions[\"pos_on_contig\"] = contig_positions[\"pos_on_contig\"].astype(\"int64\")\n",
    "\n",
    "    return contig_positions\n",
    "\n",
    "\n",
    "\n",
    "pos = 29831017\n",
    "\n",
    "def get_reads_for_allele(chrom, pos, alignment_data, assembly_metadata):\n",
    "    contig_positions = get_all_allele_contig_pos_values(\n",
    "        chrom=chrom, pos=pos, alignment_data=alignment_data, assembly_metadata=assembly_metadata\n",
    "    )\n",
    "\n",
    "    res = []\n",
    "    for index, row in contig_positions.iterrows():\n",
    "        pos_on_contig = row[\"pos_on_contig\"]\n",
    "        contig = row[\"contig\"]\n",
    "        pos_reads_per_contig = get_read_values_for_allele(alignment_data=alignment_data, pos=pos_on_contig, contig=contig)\n",
    "        if len(pos_reads_per_contig) == 0:\n",
    "            print(f\"debug: no reads on contig '{contig}'\")\n",
    "            continue\n",
    "        assert len(pos_reads_per_contig) == 1, f\"should have reads for single allele. but got #{len(pos_reads_per_contig)}\"\n",
    "        reads = list(pos_reads_per_contig.values())[0]\n",
    "        print(\"debug:\", contig, pos_reads_per_contig)\n",
    "        res.append(reads)\n",
    "\n",
    "    def return_longer_list(a: List, b: List) -> List:\n",
    "        return b if len(b) > len(a) else a\n",
    "\n",
    "    most_relevant_reads = reduce(return_longer_list, res)\n",
    "    return most_relevant_reads\n",
    "\n",
    "reads = get_reads_for_allele(chrom=\"6\", pos=pos, alignment_data=alignment_data, assembly_metadata=assembly_metadata_df)\n",
    "genotype = genotype_from_reads(reads)\n",
    "f\"chrom {chrom} pos {pos} genotype is {genotype}\""
   ],
   "metadata": {
    "collapsed": false,
    "pycharm": {
     "name": "#%%\n"
    }
   }
  },
  {
   "cell_type": "markdown",
   "source": [
    "### Testing with another rsID that I know doesn't have read in the main strand rs3131294"
   ],
   "metadata": {
    "collapsed": false
   }
  },
  {
   "cell_type": "code",
   "execution_count": null,
   "outputs": [],
   "source": [
    "chrom = \"6\"\n",
    "pos = 32212369\n",
    "reads = get_reads_for_allele(chrom=chrom, pos=pos, alignment_data=alignment_data, assembly_metadata=assembly_metadata_df)\n",
    "genotype = genotype_from_reads(reads)\n",
    "f\"chrom {chrom} pos {pos} genotype is {genotype}\""
   ],
   "metadata": {
    "collapsed": false,
    "pycharm": {
     "name": "#%%\n"
    }
   }
  },
  {
   "cell_type": "markdown",
   "source": [
    "### Testing with another rsID rs143334143"
   ],
   "metadata": {
    "collapsed": false,
    "pycharm": {
     "name": "#%% md\n"
    }
   }
  },
  {
   "cell_type": "code",
   "execution_count": null,
   "outputs": [],
   "source": [
    "chrom = \"6\"\n",
    "pos = 31153649\n",
    "reads = get_reads_for_allele(chrom=chrom, pos=pos, alignment_data=alignment_data, assembly_metadata=assembly_metadata_df)\n",
    "genotype = genotype_from_reads(reads, chrom=chrom, sex=\"male\")\n",
    "f\"chrom {chrom} pos {pos} genotype is {genotype}\""
   ],
   "metadata": {
    "collapsed": false,
    "pycharm": {
     "name": "#%%\n"
    }
   }
  },
  {
   "cell_type": "code",
   "execution_count": null,
   "outputs": [],
   "source": [],
   "metadata": {
    "collapsed": false,
    "pycharm": {
     "name": "#%%\n"
    }
   }
  }
 ],
 "metadata": {
  "kernelspec": {
   "display_name": "Python 3",
   "language": "python",
   "name": "python3"
  },
  "language_info": {
   "codemirror_mode": {
    "name": "ipython",
    "version": 2
   },
   "file_extension": ".py",
   "mimetype": "text/x-python",
   "name": "python",
   "nbconvert_exporter": "python",
   "pygments_lexer": "ipython2",
   "version": "2.7.6"
  }
 },
 "nbformat": 4,
 "nbformat_minor": 0
}