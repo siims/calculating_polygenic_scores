{
 "cells": [
  {
   "cell_type": "markdown",
   "metadata": {
    "collapsed": true,
    "pycharm": {
     "name": "#%% md\n"
    }
   },
   "source": [
    "# Figuring out how to use ref genome alt strands\n",
    "\n",
    "## Problem\n",
    "\n",
    "After running alignment for GRCh38 reference genome some reads were aligned to alternate contig. Which made the allele values disappear from as my bam file analysis process doesn't take this into account.\n",
    "\n",
    "Namely, I was searching for snp `rs9380142` value in the new alignment file (random value that I found missing). Which based on GRCh38 build should be visible in `chr6:29,831,013-29,831,027` and based on GRCh37 can be seen in `chr6:29,798,790-29,798,804` (pos `29831017`).\n",
    "\n",
    "Purpose of this notebook is to understand how and when to use values from alternate contig.\n",
    "\n",
    "## Confirming the issue\n",
    "\n",
    "Finding the reads from the GRCh37 produced alignment file:\n",
    "```\n",
    "$ samtools view /home/s/Dropbox/Siim/health/genetest_2020/GFX0237425.bam | grep \"A00925:63:HY3V3DSXX:1:1204:8314:25629\"\n",
    "A00925:63:HY3V3DSXX:1:1204:8314:25629\t99\t6\t29798723\t60\t151M\t=\t29798778\t206\tCTCCGTCTCTGTCTCAAATTTGTGGTCCACTGAGCTATAACTTACTTCTGTATTAAAATTAGAATCTGAGTGTAAATTTACTTTTTCAAATTATTTCCAAGAGAGATTGATGGGTTAATTAAAGGAGACGATTCCTGAAATTTGAGAGACA\tF:FFF:FF,F,FFFFFFFFFFF,FFFF:FFFFF::FFFFFFFFFFFFFFFFFFFFFFFFFFFF:::F:FFF,F:FFFFFFFFF:FFFFFF,FF,FF,:FF,F:FF:FF,:FFFFFFFFF,FFFF,FF:,,FFF:,F:FFFFF,:F,F,FFF\tRG:Z:1\tAS:i:141\tXS:i:66\tNM:i:2\tXQ:i:250\n",
    "A00925:63:HY3V3DSXX:1:1204:8314:25629\t147\t6\t29798778\t60\t151M\t=\t29798723\t-206\tAAATTAGAATCTGAGTGTATATTTACTTTTTCAAATTATTTCCAAGAGAGATTGATGGGTTAATTAAAGGAGAAGATTCCTGAAATTTGAGAGACAAAATAAATGGAAGACATGAGAACTTTCCACAGTACACGTGTTTCTTGTGCTGATT\t,F:FFFF,F:F::FFFFFF:F,FFF:F::F:FFFFFFFFFF,FF:,FFF:FFFFFF,,:FFFFFF,FFFFF,,FFFFFFF:FF:FFFF:FFFFF:FF:FFFFFFFFFFFFFFFFFFFFF,FF,F:,FFFFFFFF::FF:FFFFFFFFFF:F\tRG:Z:1\tAS:i:141\tXS:i:91\tNM:i:2\tXQ:i:220\n",
    "```\n",
    "\n",
    "Finding the reads from the GRCh38.p7 produced alignment file:\n",
    "```\n",
    "$ samtools view /home/s/Dropbox/Siim/health/genetest_2020/GFX0237425.GRCh38.p7_v2.bam | grep \"A00925:63:HY3V3DSXX:1:1204:8314:25629\"\n",
    "A00925:63:HY3V3DSXX:1:1204:8314:25629\t99\tchr6_GL000254v2_alt\t1093417\t1\t151M\t=\t1093472\t206\tCTCCGTCTCTGTCTCAAATTTGTGGTCCACTGAGCTATAACTTACTTCTGTATTAAAATTAGAATCTGAGTGTAAATTTACTTTTTCAAATTATTTCCAAGAGAGATTGATGGGTTAATTAAAGGAGACGATTCCTGAAATTTGAGAGACA\tF:FFF:FF,F,FFFFFFFFFFF,FFFF:FFFFF::FFFFFFFFFFFFFFFFFFFFFFFFFFFF:::F:FFF,F:FFFFFFFFF:FFFFFF,FF,FF,:FF,F:FF:FF,:FFFFFFFFF,FFFF,FF:,,FFF:,F:FFFFF,:F,F,FFF\tAS:i:-3\tXS:i:-3\tXN:i:0\tXM:i:1\tXO:i:0\tXG:i:0\tNM:i:1\tMD:Z:128A22\tYS:i:-4\tYT:Z:CP\n",
    "A00925:63:HY3V3DSXX:1:1204:8314:25629\t147\tchr6_GL000254v2_alt\t1093472\t1\t151M\t=\t1093417\t-206\tAAATTAGAATCTGAGTGTATATTTACTTTTTCAAATTATTTCCAAGAGAGATTGATGGGTTAATTAAAGGAGAAGATTCCTGAAATTTGAGAGACAAAATAAATGGAAGACATGAGAACTTTCCACAGTACACGTGTTTCTTGTGCTGATT\t,F:FFFF,F:F::FFFFFF:F,FFF:F::F:FFFFFFFFFF,FF:,FFF:FFFFFF,,:FFFFFF,FFFFF,,FFFFFFF:FF:FFFF:FFFFF:FF:FFFFFFFFFFFFFFFFFFFFF,FF,F:,FFFFFFFF::FF:FFFFFFFFFF:F\tAS:i:-4\tXS:i:-4\tXN:i:0\tXM:i:1\tXO:i:0\tXG:i:0\tNM:i:1\tMD:Z:19A131\tYS:i:-3\tYT:Z:CP\n",
    "```\n",
    "\n",
    "Sure enough contig `chr6_GL000254v2_alt` is visible, not `chr6` like I hoped for.\n",
    "\n",
    "SNP `rs9380142` is visible here `chr6_GL000254v2_alt:1,093,484-1,093,498`; and as reference genome has changed I don't have a variance in the position anymore.\n",
    "\n",
    "## Finding a solution"
   ]
  },
  {
   "cell_type": "markdown",
   "source": [
    "### First go: ref gene assembly exploring metadata\n",
    "\n",
    "Found some metadata from [here](https://www.gencodegenes.org/human/) and [here](ftp://ftp.ncbi.nlm.nih.gov/genomes/all/GCA/000/001/405/GCA_000001405.22_GRCh38.p7/)\n",
    "\n",
    "Following files seem to contain information to map alt contigs to chromosomes.\n",
    "\n",
    "#### Read in the metadata"
   ],
   "metadata": {
    "collapsed": false,
    "pycharm": {
     "name": "#%% md\n"
    }
   }
  },
  {
   "cell_type": "code",
   "execution_count": 1,
   "outputs": [],
   "source": [
    "from functools import reduce\n",
    "from typing import List, Dict\n",
    "import pandas as pd\n",
    "import pysam\n",
    "from search_your_dna.util import get_file_header_line_number, get_read_values_for_allele, \\\n",
    "    _get_contig, genotype_from_reads"
   ],
   "metadata": {
    "collapsed": false,
    "pycharm": {
     "name": "#%%\n"
    }
   }
  },
  {
   "cell_type": "code",
   "execution_count": 2,
   "outputs": [
    {
     "data": {
      "text/plain": "                      sequence_name       sequence_role assigned_molecule  \\\n0                                 1  assembled-molecule                 1   \n1                                 2  assembled-molecule                 2   \n2                                 3  assembled-molecule                 3   \n3                                 4  assembled-molecule                 4   \n4                                 5  assembled-molecule                 5   \n..                              ...                 ...               ...   \n520    HSCHR19KIR_FH13_A_HAP_CTG3_1        alt-scaffold                19   \n521  HSCHR19KIR_FH13_BA2_HAP_CTG3_1        alt-scaffold                19   \n522    HSCHR19KIR_FH15_A_HAP_CTG3_1        alt-scaffold                19   \n523     HSCHR19KIR_RP5_B_HAP_CTG3_1        alt-scaffold                19   \n524                              MT  assembled-molecule                MT   \n\n    assigned_molecule_location/type genbank_accn relationship   refseq_accn  \\\n0                        Chromosome   CM000663.2            =  NC_000001.11   \n1                        Chromosome   CM000664.2            =  NC_000002.12   \n2                        Chromosome   CM000665.2            =  NC_000003.12   \n3                        Chromosome   CM000666.2            =  NC_000004.12   \n4                        Chromosome   CM000667.2            =  NC_000005.10   \n..                              ...          ...          ...           ...   \n520                      Chromosome   KI270931.1            =   NT_187685.1   \n521                      Chromosome   KI270932.1            =   NT_187686.1   \n522                      Chromosome   KI270933.1            =   NT_187687.1   \n523                      Chromosome   GL000209.2            =   NT_113949.2   \n524                   Mitochondrion     J01415.2            =   NC_012920.1   \n\n        assembly_unit sequence_length       ucsc_style_name  \n0    Primary Assembly       248956422                  chr1  \n1    Primary Assembly       242193529                  chr2  \n2    Primary Assembly       198295559                  chr3  \n3    Primary Assembly       190214555                  chr4  \n4    Primary Assembly       181538259                  chr5  \n..                ...             ...                   ...  \n520   ALT_REF_LOCI_32          170148  chr19_KI270931v1_alt  \n521   ALT_REF_LOCI_33          215732  chr19_KI270932v1_alt  \n522   ALT_REF_LOCI_34          170537  chr19_KI270933v1_alt  \n523   ALT_REF_LOCI_35          177381  chr19_GL000209v2_alt  \n524       non-nuclear           16569                  chrM  \n\n[525 rows x 10 columns]",
      "text/html": "<div>\n<style scoped>\n    .dataframe tbody tr th:only-of-type {\n        vertical-align: middle;\n    }\n\n    .dataframe tbody tr th {\n        vertical-align: top;\n    }\n\n    .dataframe thead th {\n        text-align: right;\n    }\n</style>\n<table border=\"1\" class=\"dataframe\">\n  <thead>\n    <tr style=\"text-align: right;\">\n      <th></th>\n      <th>sequence_name</th>\n      <th>sequence_role</th>\n      <th>assigned_molecule</th>\n      <th>assigned_molecule_location/type</th>\n      <th>genbank_accn</th>\n      <th>relationship</th>\n      <th>refseq_accn</th>\n      <th>assembly_unit</th>\n      <th>sequence_length</th>\n      <th>ucsc_style_name</th>\n    </tr>\n  </thead>\n  <tbody>\n    <tr>\n      <th>0</th>\n      <td>1</td>\n      <td>assembled-molecule</td>\n      <td>1</td>\n      <td>Chromosome</td>\n      <td>CM000663.2</td>\n      <td>=</td>\n      <td>NC_000001.11</td>\n      <td>Primary Assembly</td>\n      <td>248956422</td>\n      <td>chr1</td>\n    </tr>\n    <tr>\n      <th>1</th>\n      <td>2</td>\n      <td>assembled-molecule</td>\n      <td>2</td>\n      <td>Chromosome</td>\n      <td>CM000664.2</td>\n      <td>=</td>\n      <td>NC_000002.12</td>\n      <td>Primary Assembly</td>\n      <td>242193529</td>\n      <td>chr2</td>\n    </tr>\n    <tr>\n      <th>2</th>\n      <td>3</td>\n      <td>assembled-molecule</td>\n      <td>3</td>\n      <td>Chromosome</td>\n      <td>CM000665.2</td>\n      <td>=</td>\n      <td>NC_000003.12</td>\n      <td>Primary Assembly</td>\n      <td>198295559</td>\n      <td>chr3</td>\n    </tr>\n    <tr>\n      <th>3</th>\n      <td>4</td>\n      <td>assembled-molecule</td>\n      <td>4</td>\n      <td>Chromosome</td>\n      <td>CM000666.2</td>\n      <td>=</td>\n      <td>NC_000004.12</td>\n      <td>Primary Assembly</td>\n      <td>190214555</td>\n      <td>chr4</td>\n    </tr>\n    <tr>\n      <th>4</th>\n      <td>5</td>\n      <td>assembled-molecule</td>\n      <td>5</td>\n      <td>Chromosome</td>\n      <td>CM000667.2</td>\n      <td>=</td>\n      <td>NC_000005.10</td>\n      <td>Primary Assembly</td>\n      <td>181538259</td>\n      <td>chr5</td>\n    </tr>\n    <tr>\n      <th>...</th>\n      <td>...</td>\n      <td>...</td>\n      <td>...</td>\n      <td>...</td>\n      <td>...</td>\n      <td>...</td>\n      <td>...</td>\n      <td>...</td>\n      <td>...</td>\n      <td>...</td>\n    </tr>\n    <tr>\n      <th>520</th>\n      <td>HSCHR19KIR_FH13_A_HAP_CTG3_1</td>\n      <td>alt-scaffold</td>\n      <td>19</td>\n      <td>Chromosome</td>\n      <td>KI270931.1</td>\n      <td>=</td>\n      <td>NT_187685.1</td>\n      <td>ALT_REF_LOCI_32</td>\n      <td>170148</td>\n      <td>chr19_KI270931v1_alt</td>\n    </tr>\n    <tr>\n      <th>521</th>\n      <td>HSCHR19KIR_FH13_BA2_HAP_CTG3_1</td>\n      <td>alt-scaffold</td>\n      <td>19</td>\n      <td>Chromosome</td>\n      <td>KI270932.1</td>\n      <td>=</td>\n      <td>NT_187686.1</td>\n      <td>ALT_REF_LOCI_33</td>\n      <td>215732</td>\n      <td>chr19_KI270932v1_alt</td>\n    </tr>\n    <tr>\n      <th>522</th>\n      <td>HSCHR19KIR_FH15_A_HAP_CTG3_1</td>\n      <td>alt-scaffold</td>\n      <td>19</td>\n      <td>Chromosome</td>\n      <td>KI270933.1</td>\n      <td>=</td>\n      <td>NT_187687.1</td>\n      <td>ALT_REF_LOCI_34</td>\n      <td>170537</td>\n      <td>chr19_KI270933v1_alt</td>\n    </tr>\n    <tr>\n      <th>523</th>\n      <td>HSCHR19KIR_RP5_B_HAP_CTG3_1</td>\n      <td>alt-scaffold</td>\n      <td>19</td>\n      <td>Chromosome</td>\n      <td>GL000209.2</td>\n      <td>=</td>\n      <td>NT_113949.2</td>\n      <td>ALT_REF_LOCI_35</td>\n      <td>177381</td>\n      <td>chr19_GL000209v2_alt</td>\n    </tr>\n    <tr>\n      <th>524</th>\n      <td>MT</td>\n      <td>assembled-molecule</td>\n      <td>MT</td>\n      <td>Mitochondrion</td>\n      <td>J01415.2</td>\n      <td>=</td>\n      <td>NC_012920.1</td>\n      <td>non-nuclear</td>\n      <td>16569</td>\n      <td>chrM</td>\n    </tr>\n  </tbody>\n</table>\n<p>525 rows × 10 columns</p>\n</div>"
     },
     "execution_count": 2,
     "metadata": {},
     "output_type": "execute_result"
    }
   ],
   "source": [
    "assembly_report_file = \"data/grch38.p7/GCA_000001405.22_GRCh38.p7_assembly_report.txt\"\n",
    "assembly_report_file_header_line_number = get_file_header_line_number(assembly_report_file, header_pattern=\"# Sequence-Name\\t\") # header starts with `# Sequence-Name`\n",
    "assembly_report_df = pd.read_csv(assembly_report_file, sep=\"\\t\", skiprows=assembly_report_file_header_line_number, dtype=str)\n",
    "assembly_report_df.columns = assembly_report_df.columns.str.lower()\n",
    "assembly_report_df.columns = assembly_report_df.columns.str.replace(\"-\", \"_\")\n",
    "assembly_report_df.columns = assembly_report_df.columns.str.replace(\"# \", \"\")\n",
    "assembly_report_df"
   ],
   "metadata": {
    "collapsed": false,
    "pycharm": {
     "name": "#%%\n"
    }
   }
  },
  {
   "cell_type": "code",
   "execution_count": 3,
   "outputs": [
    {
     "data": {
      "text/plain": "        region_name      chromosome  chromosome_start  chromosome_stop  \\\n0         REGION108               1           2448811          2791270   \n1    PRAME_REGION_1               1          12818488         13312803   \n2    PRAME_REGION_1               1          12818488         13312803   \n3    PRAME_REGION_1               1          12818488         13312803   \n4         REGION200               1          17157487         17460319   \n..              ...             ...               ...              ...   \n355           PAR#1               Y             10001          2781479   \n356            CENY               Y          10316945         10544039   \n357       REGION198               Y          56821510         56887902   \n358           PAR#2               Y          56887903         57217415   \n359        REGION1A  HSCHR15_4_CTG8                 1          5161414   \n\n    scaffold_role scaffold_genbank_accn scaffold_refseq_accn   assembly_unit  \n0    alt-scaffold            KI270762.1          NT_187515.1  ALT_REF_LOCI_1  \n1    alt-scaffold            KI270766.1          NT_187517.1  ALT_REF_LOCI_1  \n2       fix-patch            KQ031383.1       NW_012132914.1         PATCHES  \n3     novel-patch            KQ983255.1       NW_015495298.1         PATCHES  \n4       fix-patch            KN538361.1       NW_011332688.1         PATCHES  \n..            ...                   ...                  ...             ...  \n355           PAR                    na                   na              na  \n356           CEN                    na                   na              na  \n357     fix-patch            KN196487.1       NW_009646209.1         PATCHES  \n358           PAR                    na                   na              na  \n359     fix-patch            KN538374.1       NW_011332701.1         PATCHES  \n\n[360 rows x 8 columns]",
      "text/html": "<div>\n<style scoped>\n    .dataframe tbody tr th:only-of-type {\n        vertical-align: middle;\n    }\n\n    .dataframe tbody tr th {\n        vertical-align: top;\n    }\n\n    .dataframe thead th {\n        text-align: right;\n    }\n</style>\n<table border=\"1\" class=\"dataframe\">\n  <thead>\n    <tr style=\"text-align: right;\">\n      <th></th>\n      <th>region_name</th>\n      <th>chromosome</th>\n      <th>chromosome_start</th>\n      <th>chromosome_stop</th>\n      <th>scaffold_role</th>\n      <th>scaffold_genbank_accn</th>\n      <th>scaffold_refseq_accn</th>\n      <th>assembly_unit</th>\n    </tr>\n  </thead>\n  <tbody>\n    <tr>\n      <th>0</th>\n      <td>REGION108</td>\n      <td>1</td>\n      <td>2448811</td>\n      <td>2791270</td>\n      <td>alt-scaffold</td>\n      <td>KI270762.1</td>\n      <td>NT_187515.1</td>\n      <td>ALT_REF_LOCI_1</td>\n    </tr>\n    <tr>\n      <th>1</th>\n      <td>PRAME_REGION_1</td>\n      <td>1</td>\n      <td>12818488</td>\n      <td>13312803</td>\n      <td>alt-scaffold</td>\n      <td>KI270766.1</td>\n      <td>NT_187517.1</td>\n      <td>ALT_REF_LOCI_1</td>\n    </tr>\n    <tr>\n      <th>2</th>\n      <td>PRAME_REGION_1</td>\n      <td>1</td>\n      <td>12818488</td>\n      <td>13312803</td>\n      <td>fix-patch</td>\n      <td>KQ031383.1</td>\n      <td>NW_012132914.1</td>\n      <td>PATCHES</td>\n    </tr>\n    <tr>\n      <th>3</th>\n      <td>PRAME_REGION_1</td>\n      <td>1</td>\n      <td>12818488</td>\n      <td>13312803</td>\n      <td>novel-patch</td>\n      <td>KQ983255.1</td>\n      <td>NW_015495298.1</td>\n      <td>PATCHES</td>\n    </tr>\n    <tr>\n      <th>4</th>\n      <td>REGION200</td>\n      <td>1</td>\n      <td>17157487</td>\n      <td>17460319</td>\n      <td>fix-patch</td>\n      <td>KN538361.1</td>\n      <td>NW_011332688.1</td>\n      <td>PATCHES</td>\n    </tr>\n    <tr>\n      <th>...</th>\n      <td>...</td>\n      <td>...</td>\n      <td>...</td>\n      <td>...</td>\n      <td>...</td>\n      <td>...</td>\n      <td>...</td>\n      <td>...</td>\n    </tr>\n    <tr>\n      <th>355</th>\n      <td>PAR#1</td>\n      <td>Y</td>\n      <td>10001</td>\n      <td>2781479</td>\n      <td>PAR</td>\n      <td>na</td>\n      <td>na</td>\n      <td>na</td>\n    </tr>\n    <tr>\n      <th>356</th>\n      <td>CENY</td>\n      <td>Y</td>\n      <td>10316945</td>\n      <td>10544039</td>\n      <td>CEN</td>\n      <td>na</td>\n      <td>na</td>\n      <td>na</td>\n    </tr>\n    <tr>\n      <th>357</th>\n      <td>REGION198</td>\n      <td>Y</td>\n      <td>56821510</td>\n      <td>56887902</td>\n      <td>fix-patch</td>\n      <td>KN196487.1</td>\n      <td>NW_009646209.1</td>\n      <td>PATCHES</td>\n    </tr>\n    <tr>\n      <th>358</th>\n      <td>PAR#2</td>\n      <td>Y</td>\n      <td>56887903</td>\n      <td>57217415</td>\n      <td>PAR</td>\n      <td>na</td>\n      <td>na</td>\n      <td>na</td>\n    </tr>\n    <tr>\n      <th>359</th>\n      <td>REGION1A</td>\n      <td>HSCHR15_4_CTG8</td>\n      <td>1</td>\n      <td>5161414</td>\n      <td>fix-patch</td>\n      <td>KN538374.1</td>\n      <td>NW_011332701.1</td>\n      <td>PATCHES</td>\n    </tr>\n  </tbody>\n</table>\n<p>360 rows × 8 columns</p>\n</div>"
     },
     "execution_count": 3,
     "metadata": {},
     "output_type": "execute_result"
    }
   ],
   "source": [
    "assembly_regions_file = \"data/grch38.p7/GCA_000001405.22_GRCh38.p7_assembly_regions.txt\"\n",
    "assembly_regions_file_header_line_number = get_file_header_line_number(assembly_regions_file, header_pattern=\"# Region-Name\\t\") # header starts with `# Region-Name`\n",
    "assembly_regions_df = pd.read_csv(assembly_regions_file, sep=\"\\t\", skiprows=assembly_regions_file_header_line_number, dtype=str)\n",
    "assembly_regions_df.columns = assembly_regions_df.columns.str.lower()\n",
    "assembly_regions_df.columns = assembly_regions_df.columns.str.replace(\"-\", \"_\")\n",
    "assembly_regions_df.columns = assembly_regions_df.columns.str.replace(\"# \", \"\")\n",
    "assembly_regions_df[\"chromosome_start\"] = assembly_regions_df[\"chromosome_start\"].astype('float').astype(\"int64\")\n",
    "assembly_regions_df[\"chromosome_stop\"] = assembly_regions_df[\"chromosome_stop\"].astype('float').astype(\"int64\")\n",
    "assembly_regions_df"
   ],
   "metadata": {
    "collapsed": false,
    "pycharm": {
     "name": "#%%\n"
    }
   }
  },
  {
   "cell_type": "markdown",
   "source": [
    "##### Aggregate assembly metadata"
   ],
   "metadata": {
    "collapsed": false,
    "pycharm": {
     "name": "#%% md\n"
    }
   }
  },
  {
   "cell_type": "code",
   "execution_count": 4,
   "outputs": [
    {
     "data": {
      "text/plain": "        region_name      chromosome  chromosome_start  chromosome_stop  \\\n0         REGION108               1           2448811          2791270   \n1    PRAME_REGION_1               1          12818488         13312803   \n2    PRAME_REGION_1               1          12818488         13312803   \n3    PRAME_REGION_1               1          12818488         13312803   \n4         REGION200               1          17157487         17460319   \n..              ...             ...               ...              ...   \n326       REGION187               X            319338           601516   \n327       REGION187               X            319338           601516   \n328       REGION188               X          79965154         80097082   \n329       REGION198               Y          56821510         56887902   \n330        REGION1A  HSCHR15_4_CTG8                 1          5161414   \n\n    scaffold_role scaffold_genbank_accn scaffold_refseq_accn assembly_unit_x  \\\n0    alt-scaffold            KI270762.1          NT_187515.1  ALT_REF_LOCI_1   \n1    alt-scaffold            KI270766.1          NT_187517.1  ALT_REF_LOCI_1   \n2       fix-patch            KQ031383.1       NW_012132914.1         PATCHES   \n3     novel-patch            KQ983255.1       NW_015495298.1         PATCHES   \n4       fix-patch            KN538361.1       NW_011332688.1         PATCHES   \n..            ...                   ...                  ...             ...   \n326  alt-scaffold            KI270880.1          NT_187634.1  ALT_REF_LOCI_1   \n327  alt-scaffold            KI270913.1          NT_187667.1  ALT_REF_LOCI_2   \n328  alt-scaffold            KI270881.1          NT_187635.1  ALT_REF_LOCI_1   \n329     fix-patch            KN196487.1       NW_009646209.1         PATCHES   \n330     fix-patch            KN538374.1       NW_011332701.1         PATCHES   \n\n           sequence_name sequence_role assigned_molecule  \\\n0          HSCHR1_1_CTG3  alt-scaffold                 1   \n1          HSCHR1_2_CTG3  alt-scaffold                 1   \n2    HG1342_HG2282_PATCH     fix-patch                 1   \n3          HSCHR1_5_CTG3   novel-patch                 1   \n4           HG2095_PATCH     fix-patch                 1   \n..                   ...           ...               ...   \n326        HSCHRX_1_CTG3  alt-scaffold                 X   \n327        HSCHRX_2_CTG3  alt-scaffold                 X   \n328       HSCHRX_2_CTG12  alt-scaffold                 X   \n329         HG2062_PATCH     fix-patch                 Y   \n330         HG2139_PATCH     fix-patch                15   \n\n    assigned_molecule_location/type genbank_accn relationship     refseq_accn  \\\n0                        Chromosome   KI270762.1            =     NT_187515.1   \n1                        Chromosome   KI270766.1            =     NT_187517.1   \n2                        Chromosome   KQ031383.1            =  NW_012132914.1   \n3                        Chromosome   KQ983255.1            =  NW_015495298.1   \n4                        Chromosome   KN538361.1            =  NW_011332688.1   \n..                              ...          ...          ...             ...   \n326                      Chromosome   KI270880.1            =     NT_187634.1   \n327                      Chromosome   KI270913.1            =     NT_187667.1   \n328                      Chromosome   KI270881.1            =     NT_187635.1   \n329                      Chromosome   KN196487.1            =  NW_009646209.1   \n330                      Chromosome   KN538374.1            =  NW_011332701.1   \n\n    assembly_unit_y sequence_length      ucsc_style_name  \n0    ALT_REF_LOCI_1          354444  chr1_KI270762v1_alt  \n1    ALT_REF_LOCI_1          256271  chr1_KI270766v1_alt  \n2           PATCHES          467143                   na  \n3           PATCHES          278659                   na  \n4           PATCHES          305542                   na  \n..              ...             ...                  ...  \n326  ALT_REF_LOCI_1          284869  chrX_KI270880v1_alt  \n327  ALT_REF_LOCI_2          274009  chrX_KI270913v1_alt  \n328  ALT_REF_LOCI_1          144206  chrX_KI270881v1_alt  \n329         PATCHES          101150                   na  \n330         PATCHES         4998962                   na  \n\n[331 rows x 18 columns]",
      "text/html": "<div>\n<style scoped>\n    .dataframe tbody tr th:only-of-type {\n        vertical-align: middle;\n    }\n\n    .dataframe tbody tr th {\n        vertical-align: top;\n    }\n\n    .dataframe thead th {\n        text-align: right;\n    }\n</style>\n<table border=\"1\" class=\"dataframe\">\n  <thead>\n    <tr style=\"text-align: right;\">\n      <th></th>\n      <th>region_name</th>\n      <th>chromosome</th>\n      <th>chromosome_start</th>\n      <th>chromosome_stop</th>\n      <th>scaffold_role</th>\n      <th>scaffold_genbank_accn</th>\n      <th>scaffold_refseq_accn</th>\n      <th>assembly_unit_x</th>\n      <th>sequence_name</th>\n      <th>sequence_role</th>\n      <th>assigned_molecule</th>\n      <th>assigned_molecule_location/type</th>\n      <th>genbank_accn</th>\n      <th>relationship</th>\n      <th>refseq_accn</th>\n      <th>assembly_unit_y</th>\n      <th>sequence_length</th>\n      <th>ucsc_style_name</th>\n    </tr>\n  </thead>\n  <tbody>\n    <tr>\n      <th>0</th>\n      <td>REGION108</td>\n      <td>1</td>\n      <td>2448811</td>\n      <td>2791270</td>\n      <td>alt-scaffold</td>\n      <td>KI270762.1</td>\n      <td>NT_187515.1</td>\n      <td>ALT_REF_LOCI_1</td>\n      <td>HSCHR1_1_CTG3</td>\n      <td>alt-scaffold</td>\n      <td>1</td>\n      <td>Chromosome</td>\n      <td>KI270762.1</td>\n      <td>=</td>\n      <td>NT_187515.1</td>\n      <td>ALT_REF_LOCI_1</td>\n      <td>354444</td>\n      <td>chr1_KI270762v1_alt</td>\n    </tr>\n    <tr>\n      <th>1</th>\n      <td>PRAME_REGION_1</td>\n      <td>1</td>\n      <td>12818488</td>\n      <td>13312803</td>\n      <td>alt-scaffold</td>\n      <td>KI270766.1</td>\n      <td>NT_187517.1</td>\n      <td>ALT_REF_LOCI_1</td>\n      <td>HSCHR1_2_CTG3</td>\n      <td>alt-scaffold</td>\n      <td>1</td>\n      <td>Chromosome</td>\n      <td>KI270766.1</td>\n      <td>=</td>\n      <td>NT_187517.1</td>\n      <td>ALT_REF_LOCI_1</td>\n      <td>256271</td>\n      <td>chr1_KI270766v1_alt</td>\n    </tr>\n    <tr>\n      <th>2</th>\n      <td>PRAME_REGION_1</td>\n      <td>1</td>\n      <td>12818488</td>\n      <td>13312803</td>\n      <td>fix-patch</td>\n      <td>KQ031383.1</td>\n      <td>NW_012132914.1</td>\n      <td>PATCHES</td>\n      <td>HG1342_HG2282_PATCH</td>\n      <td>fix-patch</td>\n      <td>1</td>\n      <td>Chromosome</td>\n      <td>KQ031383.1</td>\n      <td>=</td>\n      <td>NW_012132914.1</td>\n      <td>PATCHES</td>\n      <td>467143</td>\n      <td>na</td>\n    </tr>\n    <tr>\n      <th>3</th>\n      <td>PRAME_REGION_1</td>\n      <td>1</td>\n      <td>12818488</td>\n      <td>13312803</td>\n      <td>novel-patch</td>\n      <td>KQ983255.1</td>\n      <td>NW_015495298.1</td>\n      <td>PATCHES</td>\n      <td>HSCHR1_5_CTG3</td>\n      <td>novel-patch</td>\n      <td>1</td>\n      <td>Chromosome</td>\n      <td>KQ983255.1</td>\n      <td>=</td>\n      <td>NW_015495298.1</td>\n      <td>PATCHES</td>\n      <td>278659</td>\n      <td>na</td>\n    </tr>\n    <tr>\n      <th>4</th>\n      <td>REGION200</td>\n      <td>1</td>\n      <td>17157487</td>\n      <td>17460319</td>\n      <td>fix-patch</td>\n      <td>KN538361.1</td>\n      <td>NW_011332688.1</td>\n      <td>PATCHES</td>\n      <td>HG2095_PATCH</td>\n      <td>fix-patch</td>\n      <td>1</td>\n      <td>Chromosome</td>\n      <td>KN538361.1</td>\n      <td>=</td>\n      <td>NW_011332688.1</td>\n      <td>PATCHES</td>\n      <td>305542</td>\n      <td>na</td>\n    </tr>\n    <tr>\n      <th>...</th>\n      <td>...</td>\n      <td>...</td>\n      <td>...</td>\n      <td>...</td>\n      <td>...</td>\n      <td>...</td>\n      <td>...</td>\n      <td>...</td>\n      <td>...</td>\n      <td>...</td>\n      <td>...</td>\n      <td>...</td>\n      <td>...</td>\n      <td>...</td>\n      <td>...</td>\n      <td>...</td>\n      <td>...</td>\n      <td>...</td>\n    </tr>\n    <tr>\n      <th>326</th>\n      <td>REGION187</td>\n      <td>X</td>\n      <td>319338</td>\n      <td>601516</td>\n      <td>alt-scaffold</td>\n      <td>KI270880.1</td>\n      <td>NT_187634.1</td>\n      <td>ALT_REF_LOCI_1</td>\n      <td>HSCHRX_1_CTG3</td>\n      <td>alt-scaffold</td>\n      <td>X</td>\n      <td>Chromosome</td>\n      <td>KI270880.1</td>\n      <td>=</td>\n      <td>NT_187634.1</td>\n      <td>ALT_REF_LOCI_1</td>\n      <td>284869</td>\n      <td>chrX_KI270880v1_alt</td>\n    </tr>\n    <tr>\n      <th>327</th>\n      <td>REGION187</td>\n      <td>X</td>\n      <td>319338</td>\n      <td>601516</td>\n      <td>alt-scaffold</td>\n      <td>KI270913.1</td>\n      <td>NT_187667.1</td>\n      <td>ALT_REF_LOCI_2</td>\n      <td>HSCHRX_2_CTG3</td>\n      <td>alt-scaffold</td>\n      <td>X</td>\n      <td>Chromosome</td>\n      <td>KI270913.1</td>\n      <td>=</td>\n      <td>NT_187667.1</td>\n      <td>ALT_REF_LOCI_2</td>\n      <td>274009</td>\n      <td>chrX_KI270913v1_alt</td>\n    </tr>\n    <tr>\n      <th>328</th>\n      <td>REGION188</td>\n      <td>X</td>\n      <td>79965154</td>\n      <td>80097082</td>\n      <td>alt-scaffold</td>\n      <td>KI270881.1</td>\n      <td>NT_187635.1</td>\n      <td>ALT_REF_LOCI_1</td>\n      <td>HSCHRX_2_CTG12</td>\n      <td>alt-scaffold</td>\n      <td>X</td>\n      <td>Chromosome</td>\n      <td>KI270881.1</td>\n      <td>=</td>\n      <td>NT_187635.1</td>\n      <td>ALT_REF_LOCI_1</td>\n      <td>144206</td>\n      <td>chrX_KI270881v1_alt</td>\n    </tr>\n    <tr>\n      <th>329</th>\n      <td>REGION198</td>\n      <td>Y</td>\n      <td>56821510</td>\n      <td>56887902</td>\n      <td>fix-patch</td>\n      <td>KN196487.1</td>\n      <td>NW_009646209.1</td>\n      <td>PATCHES</td>\n      <td>HG2062_PATCH</td>\n      <td>fix-patch</td>\n      <td>Y</td>\n      <td>Chromosome</td>\n      <td>KN196487.1</td>\n      <td>=</td>\n      <td>NW_009646209.1</td>\n      <td>PATCHES</td>\n      <td>101150</td>\n      <td>na</td>\n    </tr>\n    <tr>\n      <th>330</th>\n      <td>REGION1A</td>\n      <td>HSCHR15_4_CTG8</td>\n      <td>1</td>\n      <td>5161414</td>\n      <td>fix-patch</td>\n      <td>KN538374.1</td>\n      <td>NW_011332701.1</td>\n      <td>PATCHES</td>\n      <td>HG2139_PATCH</td>\n      <td>fix-patch</td>\n      <td>15</td>\n      <td>Chromosome</td>\n      <td>KN538374.1</td>\n      <td>=</td>\n      <td>NW_011332701.1</td>\n      <td>PATCHES</td>\n      <td>4998962</td>\n      <td>na</td>\n    </tr>\n  </tbody>\n</table>\n<p>331 rows × 18 columns</p>\n</div>"
     },
     "execution_count": 4,
     "metadata": {},
     "output_type": "execute_result"
    }
   ],
   "source": [
    "assembly_metadata_df = pd.merge(assembly_regions_df, assembly_report_df, left_on=\"scaffold_genbank_accn\", right_on=\"genbank_accn\")\n",
    "assembly_metadata_df"
   ],
   "metadata": {
    "collapsed": false,
    "pycharm": {
     "name": "#%%\n"
    }
   }
  },
  {
   "cell_type": "code",
   "execution_count": 6,
   "outputs": [],
   "source": [
    "bam_file = \"/home/s/Dropbox/Siim/health/genetest_2020/GFX0237425.GRCh38.p7_v2.bam\"\n",
    "alignment_data = pysam.AlignmentFile(bam_file, \"rb\")"
   ],
   "metadata": {
    "collapsed": false,
    "pycharm": {
     "name": "#%%\n"
    }
   }
  },
  {
   "cell_type": "markdown",
   "source": [
    "#### Find mapping from chrom+pos to contigs\n",
    "\n",
    "in the end I want to be able to search for chrom+pos from alignment file taking into account alt contigs.\n",
    "meaning I need to have function that takes in chrom+pos and returns all contigs where this exists."
   ],
   "metadata": {
    "collapsed": false,
    "pycharm": {
     "name": "#%% md\n"
    }
   }
  },
  {
   "cell_type": "code",
   "execution_count": 7,
   "outputs": [
    {
     "name": "stderr",
     "output_type": "stream",
     "text": [
      "<ipython-input-7-356355ea5829>:6: SettingWithCopyWarning: \n",
      "A value is trying to be set on a copy of a slice from a DataFrame.\n",
      "Try using .loc[row_indexer,col_indexer] = value instead\n",
      "\n",
      "See the caveats in the documentation: https://pandas.pydata.org/pandas-docs/stable/user_guide/indexing.html#returning-a-view-versus-a-copy\n",
      "  assembly_regions_for_chr_pos_df[\"pos_on_contig\"] = pos - assembly_regions_for_chr_pos_df[\"chromosome_start\"]\n"
     ]
    },
    {
     "data": {
      "text/plain": "    region_name chromosome  chromosome_start  chromosome_stop scaffold_role  \\\n98          MHC          6          28510120         33480577  alt-scaffold   \n99          MHC          6          28510120         33480577  alt-scaffold   \n100         MHC          6          28510120         33480577  alt-scaffold   \n101         MHC          6          28510120         33480577  alt-scaffold   \n102         MHC          6          28510120         33480577  alt-scaffold   \n103         MHC          6          28510120         33480577  alt-scaffold   \n104         MHC          6          28510120         33480577  alt-scaffold   \n105         MHC          6          28510120         33480577  alt-scaffold   \n\n    scaffold_genbank_accn scaffold_refseq_accn   assembly_unit  pos_on_contig  \n98             GL000250.2          NT_167244.2  ALT_REF_LOCI_1        1320897  \n99             GL000251.2          NT_113891.3  ALT_REF_LOCI_2        1320897  \n100            GL000252.2          NT_167245.2  ALT_REF_LOCI_3        1320897  \n101            GL000253.2          NT_167246.2  ALT_REF_LOCI_4        1320897  \n102            GL000254.2          NT_167247.2  ALT_REF_LOCI_5        1320897  \n103            GL000255.2          NT_167248.2  ALT_REF_LOCI_6        1320897  \n104            GL000256.2          NT_167249.2  ALT_REF_LOCI_7        1320897  \n105            KI270758.1          NT_187692.1  ALT_REF_LOCI_8        1320897  ",
      "text/html": "<div>\n<style scoped>\n    .dataframe tbody tr th:only-of-type {\n        vertical-align: middle;\n    }\n\n    .dataframe tbody tr th {\n        vertical-align: top;\n    }\n\n    .dataframe thead th {\n        text-align: right;\n    }\n</style>\n<table border=\"1\" class=\"dataframe\">\n  <thead>\n    <tr style=\"text-align: right;\">\n      <th></th>\n      <th>region_name</th>\n      <th>chromosome</th>\n      <th>chromosome_start</th>\n      <th>chromosome_stop</th>\n      <th>scaffold_role</th>\n      <th>scaffold_genbank_accn</th>\n      <th>scaffold_refseq_accn</th>\n      <th>assembly_unit</th>\n      <th>pos_on_contig</th>\n    </tr>\n  </thead>\n  <tbody>\n    <tr>\n      <th>98</th>\n      <td>MHC</td>\n      <td>6</td>\n      <td>28510120</td>\n      <td>33480577</td>\n      <td>alt-scaffold</td>\n      <td>GL000250.2</td>\n      <td>NT_167244.2</td>\n      <td>ALT_REF_LOCI_1</td>\n      <td>1320897</td>\n    </tr>\n    <tr>\n      <th>99</th>\n      <td>MHC</td>\n      <td>6</td>\n      <td>28510120</td>\n      <td>33480577</td>\n      <td>alt-scaffold</td>\n      <td>GL000251.2</td>\n      <td>NT_113891.3</td>\n      <td>ALT_REF_LOCI_2</td>\n      <td>1320897</td>\n    </tr>\n    <tr>\n      <th>100</th>\n      <td>MHC</td>\n      <td>6</td>\n      <td>28510120</td>\n      <td>33480577</td>\n      <td>alt-scaffold</td>\n      <td>GL000252.2</td>\n      <td>NT_167245.2</td>\n      <td>ALT_REF_LOCI_3</td>\n      <td>1320897</td>\n    </tr>\n    <tr>\n      <th>101</th>\n      <td>MHC</td>\n      <td>6</td>\n      <td>28510120</td>\n      <td>33480577</td>\n      <td>alt-scaffold</td>\n      <td>GL000253.2</td>\n      <td>NT_167246.2</td>\n      <td>ALT_REF_LOCI_4</td>\n      <td>1320897</td>\n    </tr>\n    <tr>\n      <th>102</th>\n      <td>MHC</td>\n      <td>6</td>\n      <td>28510120</td>\n      <td>33480577</td>\n      <td>alt-scaffold</td>\n      <td>GL000254.2</td>\n      <td>NT_167247.2</td>\n      <td>ALT_REF_LOCI_5</td>\n      <td>1320897</td>\n    </tr>\n    <tr>\n      <th>103</th>\n      <td>MHC</td>\n      <td>6</td>\n      <td>28510120</td>\n      <td>33480577</td>\n      <td>alt-scaffold</td>\n      <td>GL000255.2</td>\n      <td>NT_167248.2</td>\n      <td>ALT_REF_LOCI_6</td>\n      <td>1320897</td>\n    </tr>\n    <tr>\n      <th>104</th>\n      <td>MHC</td>\n      <td>6</td>\n      <td>28510120</td>\n      <td>33480577</td>\n      <td>alt-scaffold</td>\n      <td>GL000256.2</td>\n      <td>NT_167249.2</td>\n      <td>ALT_REF_LOCI_7</td>\n      <td>1320897</td>\n    </tr>\n    <tr>\n      <th>105</th>\n      <td>MHC</td>\n      <td>6</td>\n      <td>28510120</td>\n      <td>33480577</td>\n      <td>alt-scaffold</td>\n      <td>KI270758.1</td>\n      <td>NT_187692.1</td>\n      <td>ALT_REF_LOCI_8</td>\n      <td>1320897</td>\n    </tr>\n  </tbody>\n</table>\n</div>"
     },
     "execution_count": 7,
     "metadata": {},
     "output_type": "execute_result"
    }
   ],
   "source": [
    "chrom = \"6\"\n",
    "pos = 29831017\n",
    "\n",
    "assembly_regions_for_chr_df = assembly_regions_df[assembly_regions_df[\"chromosome\"] == \"6\"]\n",
    "assembly_regions_for_chr_pos_df = assembly_regions_for_chr_df[(assembly_regions_for_chr_df[\"chromosome_start\"] < pos) & (assembly_regions_for_chr_df[\"chromosome_stop\"] >= pos)]\n",
    "assembly_regions_for_chr_pos_df[\"pos_on_contig\"] = pos - assembly_regions_for_chr_pos_df[\"chromosome_start\"]\n",
    "assembly_regions_for_chr_pos_df"
   ],
   "metadata": {
    "collapsed": false,
    "pycharm": {
     "name": "#%%\n"
    }
   }
  },
  {
   "cell_type": "markdown",
   "source": [
    "To contigs mapping to the ones used in the alignment file"
   ],
   "metadata": {
    "collapsed": false,
    "pycharm": {
     "name": "#%% md\n"
    }
   }
  },
  {
   "cell_type": "code",
   "execution_count": 8,
   "outputs": [
    {
     "data": {
      "text/plain": "  region_name chromosome  chromosome_start  chromosome_stop scaffold_role  \\\n0         MHC          6          28510120         33480577  alt-scaffold   \n1         MHC          6          28510120         33480577  alt-scaffold   \n2         MHC          6          28510120         33480577  alt-scaffold   \n3         MHC          6          28510120         33480577  alt-scaffold   \n4         MHC          6          28510120         33480577  alt-scaffold   \n5         MHC          6          28510120         33480577  alt-scaffold   \n6         MHC          6          28510120         33480577  alt-scaffold   \n7         MHC          6          28510120         33480577  alt-scaffold   \n\n  scaffold_genbank_accn scaffold_refseq_accn assembly_unit_x  pos_on_contig  \\\n0            GL000250.2          NT_167244.2  ALT_REF_LOCI_1        1320897   \n1            GL000251.2          NT_113891.3  ALT_REF_LOCI_2        1320897   \n2            GL000252.2          NT_167245.2  ALT_REF_LOCI_3        1320897   \n3            GL000253.2          NT_167246.2  ALT_REF_LOCI_4        1320897   \n4            GL000254.2          NT_167247.2  ALT_REF_LOCI_5        1320897   \n5            GL000255.2          NT_167248.2  ALT_REF_LOCI_6        1320897   \n6            GL000256.2          NT_167249.2  ALT_REF_LOCI_7        1320897   \n7            KI270758.1          NT_187692.1  ALT_REF_LOCI_8        1320897   \n\n          sequence_name sequence_role assigned_molecule  \\\n0   HSCHR6_MHC_APD_CTG1  alt-scaffold                 6   \n1   HSCHR6_MHC_COX_CTG1  alt-scaffold                 6   \n2   HSCHR6_MHC_DBB_CTG1  alt-scaffold                 6   \n3  HSCHR6_MHC_MANN_CTG1  alt-scaffold                 6   \n4   HSCHR6_MHC_MCF_CTG1  alt-scaffold                 6   \n5   HSCHR6_MHC_QBL_CTG1  alt-scaffold                 6   \n6  HSCHR6_MHC_SSTO_CTG1  alt-scaffold                 6   \n7         HSCHR6_8_CTG1  alt-scaffold                 6   \n\n  assigned_molecule_location/type genbank_accn relationship  refseq_accn  \\\n0                      Chromosome   GL000250.2            =  NT_167244.2   \n1                      Chromosome   GL000251.2            =  NT_113891.3   \n2                      Chromosome   GL000252.2            =  NT_167245.2   \n3                      Chromosome   GL000253.2            =  NT_167246.2   \n4                      Chromosome   GL000254.2            =  NT_167247.2   \n5                      Chromosome   GL000255.2            =  NT_167248.2   \n6                      Chromosome   GL000256.2            =  NT_167249.2   \n7                      Chromosome   KI270758.1            =  NT_187692.1   \n\n  assembly_unit_y sequence_length               contig  \n0  ALT_REF_LOCI_1         4672374  chr6_GL000250v2_alt  \n1  ALT_REF_LOCI_2         4795265  chr6_GL000251v2_alt  \n2  ALT_REF_LOCI_3         4604811  chr6_GL000252v2_alt  \n3  ALT_REF_LOCI_4         4677643  chr6_GL000253v2_alt  \n4  ALT_REF_LOCI_5         4827813  chr6_GL000254v2_alt  \n5  ALT_REF_LOCI_6         4606388  chr6_GL000255v2_alt  \n6  ALT_REF_LOCI_7         4929269  chr6_GL000256v2_alt  \n7  ALT_REF_LOCI_8           76752  chr6_KI270758v1_alt  ",
      "text/html": "<div>\n<style scoped>\n    .dataframe tbody tr th:only-of-type {\n        vertical-align: middle;\n    }\n\n    .dataframe tbody tr th {\n        vertical-align: top;\n    }\n\n    .dataframe thead th {\n        text-align: right;\n    }\n</style>\n<table border=\"1\" class=\"dataframe\">\n  <thead>\n    <tr style=\"text-align: right;\">\n      <th></th>\n      <th>region_name</th>\n      <th>chromosome</th>\n      <th>chromosome_start</th>\n      <th>chromosome_stop</th>\n      <th>scaffold_role</th>\n      <th>scaffold_genbank_accn</th>\n      <th>scaffold_refseq_accn</th>\n      <th>assembly_unit_x</th>\n      <th>pos_on_contig</th>\n      <th>sequence_name</th>\n      <th>sequence_role</th>\n      <th>assigned_molecule</th>\n      <th>assigned_molecule_location/type</th>\n      <th>genbank_accn</th>\n      <th>relationship</th>\n      <th>refseq_accn</th>\n      <th>assembly_unit_y</th>\n      <th>sequence_length</th>\n      <th>contig</th>\n    </tr>\n  </thead>\n  <tbody>\n    <tr>\n      <th>0</th>\n      <td>MHC</td>\n      <td>6</td>\n      <td>28510120</td>\n      <td>33480577</td>\n      <td>alt-scaffold</td>\n      <td>GL000250.2</td>\n      <td>NT_167244.2</td>\n      <td>ALT_REF_LOCI_1</td>\n      <td>1320897</td>\n      <td>HSCHR6_MHC_APD_CTG1</td>\n      <td>alt-scaffold</td>\n      <td>6</td>\n      <td>Chromosome</td>\n      <td>GL000250.2</td>\n      <td>=</td>\n      <td>NT_167244.2</td>\n      <td>ALT_REF_LOCI_1</td>\n      <td>4672374</td>\n      <td>chr6_GL000250v2_alt</td>\n    </tr>\n    <tr>\n      <th>1</th>\n      <td>MHC</td>\n      <td>6</td>\n      <td>28510120</td>\n      <td>33480577</td>\n      <td>alt-scaffold</td>\n      <td>GL000251.2</td>\n      <td>NT_113891.3</td>\n      <td>ALT_REF_LOCI_2</td>\n      <td>1320897</td>\n      <td>HSCHR6_MHC_COX_CTG1</td>\n      <td>alt-scaffold</td>\n      <td>6</td>\n      <td>Chromosome</td>\n      <td>GL000251.2</td>\n      <td>=</td>\n      <td>NT_113891.3</td>\n      <td>ALT_REF_LOCI_2</td>\n      <td>4795265</td>\n      <td>chr6_GL000251v2_alt</td>\n    </tr>\n    <tr>\n      <th>2</th>\n      <td>MHC</td>\n      <td>6</td>\n      <td>28510120</td>\n      <td>33480577</td>\n      <td>alt-scaffold</td>\n      <td>GL000252.2</td>\n      <td>NT_167245.2</td>\n      <td>ALT_REF_LOCI_3</td>\n      <td>1320897</td>\n      <td>HSCHR6_MHC_DBB_CTG1</td>\n      <td>alt-scaffold</td>\n      <td>6</td>\n      <td>Chromosome</td>\n      <td>GL000252.2</td>\n      <td>=</td>\n      <td>NT_167245.2</td>\n      <td>ALT_REF_LOCI_3</td>\n      <td>4604811</td>\n      <td>chr6_GL000252v2_alt</td>\n    </tr>\n    <tr>\n      <th>3</th>\n      <td>MHC</td>\n      <td>6</td>\n      <td>28510120</td>\n      <td>33480577</td>\n      <td>alt-scaffold</td>\n      <td>GL000253.2</td>\n      <td>NT_167246.2</td>\n      <td>ALT_REF_LOCI_4</td>\n      <td>1320897</td>\n      <td>HSCHR6_MHC_MANN_CTG1</td>\n      <td>alt-scaffold</td>\n      <td>6</td>\n      <td>Chromosome</td>\n      <td>GL000253.2</td>\n      <td>=</td>\n      <td>NT_167246.2</td>\n      <td>ALT_REF_LOCI_4</td>\n      <td>4677643</td>\n      <td>chr6_GL000253v2_alt</td>\n    </tr>\n    <tr>\n      <th>4</th>\n      <td>MHC</td>\n      <td>6</td>\n      <td>28510120</td>\n      <td>33480577</td>\n      <td>alt-scaffold</td>\n      <td>GL000254.2</td>\n      <td>NT_167247.2</td>\n      <td>ALT_REF_LOCI_5</td>\n      <td>1320897</td>\n      <td>HSCHR6_MHC_MCF_CTG1</td>\n      <td>alt-scaffold</td>\n      <td>6</td>\n      <td>Chromosome</td>\n      <td>GL000254.2</td>\n      <td>=</td>\n      <td>NT_167247.2</td>\n      <td>ALT_REF_LOCI_5</td>\n      <td>4827813</td>\n      <td>chr6_GL000254v2_alt</td>\n    </tr>\n    <tr>\n      <th>5</th>\n      <td>MHC</td>\n      <td>6</td>\n      <td>28510120</td>\n      <td>33480577</td>\n      <td>alt-scaffold</td>\n      <td>GL000255.2</td>\n      <td>NT_167248.2</td>\n      <td>ALT_REF_LOCI_6</td>\n      <td>1320897</td>\n      <td>HSCHR6_MHC_QBL_CTG1</td>\n      <td>alt-scaffold</td>\n      <td>6</td>\n      <td>Chromosome</td>\n      <td>GL000255.2</td>\n      <td>=</td>\n      <td>NT_167248.2</td>\n      <td>ALT_REF_LOCI_6</td>\n      <td>4606388</td>\n      <td>chr6_GL000255v2_alt</td>\n    </tr>\n    <tr>\n      <th>6</th>\n      <td>MHC</td>\n      <td>6</td>\n      <td>28510120</td>\n      <td>33480577</td>\n      <td>alt-scaffold</td>\n      <td>GL000256.2</td>\n      <td>NT_167249.2</td>\n      <td>ALT_REF_LOCI_7</td>\n      <td>1320897</td>\n      <td>HSCHR6_MHC_SSTO_CTG1</td>\n      <td>alt-scaffold</td>\n      <td>6</td>\n      <td>Chromosome</td>\n      <td>GL000256.2</td>\n      <td>=</td>\n      <td>NT_167249.2</td>\n      <td>ALT_REF_LOCI_7</td>\n      <td>4929269</td>\n      <td>chr6_GL000256v2_alt</td>\n    </tr>\n    <tr>\n      <th>7</th>\n      <td>MHC</td>\n      <td>6</td>\n      <td>28510120</td>\n      <td>33480577</td>\n      <td>alt-scaffold</td>\n      <td>KI270758.1</td>\n      <td>NT_187692.1</td>\n      <td>ALT_REF_LOCI_8</td>\n      <td>1320897</td>\n      <td>HSCHR6_8_CTG1</td>\n      <td>alt-scaffold</td>\n      <td>6</td>\n      <td>Chromosome</td>\n      <td>KI270758.1</td>\n      <td>=</td>\n      <td>NT_187692.1</td>\n      <td>ALT_REF_LOCI_8</td>\n      <td>76752</td>\n      <td>chr6_KI270758v1_alt</td>\n    </tr>\n  </tbody>\n</table>\n</div>"
     },
     "execution_count": 8,
     "metadata": {},
     "output_type": "execute_result"
    }
   ],
   "source": [
    "alt_contig_metadata = pd.merge(assembly_regions_for_chr_pos_df, assembly_report_df, left_on=\"scaffold_genbank_accn\", right_on=\"genbank_accn\")\n",
    "alt_contig_metadata.rename(columns={\"ucsc_style_name\": \"contig\"}, inplace=True)\n",
    "alt_contig_metadata"
   ],
   "metadata": {
    "collapsed": false,
    "pycharm": {
     "name": "#%%\n"
    }
   }
  },
  {
   "cell_type": "code",
   "execution_count": 9,
   "outputs": [
    {
     "data": {
      "text/plain": "   pos_on_contig               contig\n0        1320897  chr6_GL000250v2_alt\n1        1320897  chr6_GL000251v2_alt\n2        1320897  chr6_GL000252v2_alt\n3        1320897  chr6_GL000253v2_alt\n4        1320897  chr6_GL000254v2_alt\n5        1320897  chr6_GL000255v2_alt\n6        1320897  chr6_GL000256v2_alt\n7        1320897  chr6_KI270758v1_alt",
      "text/html": "<div>\n<style scoped>\n    .dataframe tbody tr th:only-of-type {\n        vertical-align: middle;\n    }\n\n    .dataframe tbody tr th {\n        vertical-align: top;\n    }\n\n    .dataframe thead th {\n        text-align: right;\n    }\n</style>\n<table border=\"1\" class=\"dataframe\">\n  <thead>\n    <tr style=\"text-align: right;\">\n      <th></th>\n      <th>pos_on_contig</th>\n      <th>contig</th>\n    </tr>\n  </thead>\n  <tbody>\n    <tr>\n      <th>0</th>\n      <td>1320897</td>\n      <td>chr6_GL000250v2_alt</td>\n    </tr>\n    <tr>\n      <th>1</th>\n      <td>1320897</td>\n      <td>chr6_GL000251v2_alt</td>\n    </tr>\n    <tr>\n      <th>2</th>\n      <td>1320897</td>\n      <td>chr6_GL000252v2_alt</td>\n    </tr>\n    <tr>\n      <th>3</th>\n      <td>1320897</td>\n      <td>chr6_GL000253v2_alt</td>\n    </tr>\n    <tr>\n      <th>4</th>\n      <td>1320897</td>\n      <td>chr6_GL000254v2_alt</td>\n    </tr>\n    <tr>\n      <th>5</th>\n      <td>1320897</td>\n      <td>chr6_GL000255v2_alt</td>\n    </tr>\n    <tr>\n      <th>6</th>\n      <td>1320897</td>\n      <td>chr6_GL000256v2_alt</td>\n    </tr>\n    <tr>\n      <th>7</th>\n      <td>1320897</td>\n      <td>chr6_KI270758v1_alt</td>\n    </tr>\n  </tbody>\n</table>\n</div>"
     },
     "execution_count": 9,
     "metadata": {},
     "output_type": "execute_result"
    }
   ],
   "source": [
    "res = alt_contig_metadata[[\"pos_on_contig\", \"contig\"]]\n",
    "res.attrs[\"chrom\"] = chrom\n",
    "res.attrs[\"pos\"] = pos\n",
    "res"
   ],
   "metadata": {
    "collapsed": false,
    "pycharm": {
     "name": "#%%\n"
    }
   }
  },
  {
   "cell_type": "markdown",
   "source": [
    "#### Test getting alignment data for `rs9380142`\n"
   ],
   "metadata": {
    "collapsed": false,
    "pycharm": {
     "name": "#%% md\n"
    }
   }
  },
  {
   "cell_type": "code",
   "execution_count": 21,
   "outputs": [
    {
     "name": "stdout",
     "output_type": "stream",
     "text": [
      "debug: no reads on contig 'chr6_GL000250v2_alt'\n",
      "debug: chr6_GL000251v2_alt defaultdict(None, {1320897: ['G', 'G']})\n",
      "debug: chr6_GL000252v2_alt defaultdict(None, {1320897: ['A', 'A']})\n",
      "debug: chr6_GL000253v2_alt defaultdict(None, {1320897: ['C', 'C', 'C', 'C', 'C']})\n",
      "debug: chr6_GL000254v2_alt defaultdict(None, {1320897: ['G', 'G', 'G', 'G', 'G', 'G', 'G', 'G', 'G', 'G', 'G', 'G', 'G', 'G', 'G', 'G', 'G', 'G', 'G']})\n",
      "debug: chr6_GL000255v2_alt defaultdict(None, {1320897: ['T']})\n",
      "debug: chr6_GL000256v2_alt defaultdict(None, {1320897: ['C']})\n",
      "debug: no reads on contig 'chr6_KI270758v1_alt'\n",
      "debug: no reads on contig 'chr6'\n"
     ]
    },
    {
     "data": {
      "text/plain": "'chrom 6 pos 29831017 genotype is GG'"
     },
     "execution_count": 21,
     "metadata": {},
     "output_type": "execute_result"
    }
   ],
   "source": [
    "def get_all_allele_contig_pos_values(\n",
    "        chrom: str,\n",
    "        pos: int,\n",
    "        alignment_data: pysam.AlignmentFile,\n",
    "        assembly_metadata: pd.DataFrame\n",
    ") -> pd.DataFrame:\n",
    "    \"\"\"\n",
    "    :param assembly_metadata: data frame with columns: \"chromosome\" (str), \"chromosome_start\" (int),\n",
    "        \"chromosome_stop\" (int) and \"ucsc_style_name\" (str as header name in the alignment file)\n",
    "    :return: data frame with two columns: \"pos_on_contig\" (int), \"contig\" (str)\n",
    "    \"\"\"\n",
    "    # get contig\n",
    "    assembly_metadata = assembly_metadata[assembly_metadata[\"chromosome\"] == chrom]\n",
    "    assembly_metadata = assembly_metadata[\n",
    "        (assembly_metadata[\"chromosome_start\"] < pos) & (assembly_metadata[\"chromosome_stop\"] >= pos)]\n",
    "    assembly_metadata[\"pos_on_contig\"] = pos - assembly_metadata[\"chromosome_start\"]\n",
    "    assembly_metadata.rename(columns={\"ucsc_style_name\": \"contig\"}, inplace=True)\n",
    "\n",
    "    main_contig = _get_contig(alignment_data=alignment_data, chrom=chrom)\n",
    "\n",
    "    contig_positions = assembly_metadata[[\"pos_on_contig\", \"contig\"]]\n",
    "    contig_positions = contig_positions.append({\"pos_on_contig\": pos, \"contig\": main_contig}, ignore_index=True)\n",
    "    contig_positions[\"pos_on_contig\"] = contig_positions[\"pos_on_contig\"].astype(\"int64\")\n",
    "\n",
    "    return contig_positions\n",
    "\n",
    "\n",
    "\n",
    "pos = 29831017\n",
    "\n",
    "def get_reads_for_allele(chrom, pos, alignment_data, assembly_metadata):\n",
    "    contig_positions = get_all_allele_contig_pos_values(\n",
    "        chrom=chrom, pos=pos, alignment_data=alignment_data, assembly_metadata=assembly_metadata\n",
    "    )\n",
    "\n",
    "    res = []\n",
    "    for index, row in contig_positions.iterrows():\n",
    "        pos_on_contig = row[\"pos_on_contig\"]\n",
    "        contig = row[\"contig\"]\n",
    "        pos_reads_per_contig = get_read_values_for_allele(alignment_data=alignment_data, pos=pos_on_contig, contig=contig)\n",
    "        if len(pos_reads_per_contig) == 0:\n",
    "            print(f\"debug: no reads on contig '{contig}'\")\n",
    "            continue\n",
    "        assert len(pos_reads_per_contig) == 1, f\"should have reads for single allele. but got #{len(pos_reads_per_contig)}\"\n",
    "        reads = list(pos_reads_per_contig.values())[0]\n",
    "        print(\"debug:\", contig, pos_reads_per_contig)\n",
    "        res.append(reads)\n",
    "\n",
    "    def return_longer_list(a: List, b: List) -> List:\n",
    "        return b if len(b) > len(a) else a\n",
    "\n",
    "    most_relevant_reads = reduce(return_longer_list, res)\n",
    "    return most_relevant_reads\n",
    "\n",
    "reads = get_reads_for_allele(chrom=\"6\", pos=pos, alignment_data=alignment_data, assembly_metadata=assembly_metadata_df)\n",
    "genotype = genotype_from_reads(reads)\n",
    "f\"chrom {chrom} pos {pos} genotype is {genotype}\""
   ],
   "metadata": {
    "collapsed": false,
    "pycharm": {
     "name": "#%%\n"
    }
   }
  },
  {
   "cell_type": "markdown",
   "source": [
    "### Testing with another rsID that I know doesn't have read in the main strand rs3131294"
   ],
   "metadata": {
    "collapsed": false
   }
  },
  {
   "cell_type": "code",
   "execution_count": 20,
   "outputs": [
    {
     "name": "stdout",
     "output_type": "stream",
     "text": [
      "debug: chr6_GL000250v2_alt defaultdict(None, {3702249: ['A', 'A', 'A']})\n",
      "debug: no reads on contig 'chr6_GL000251v2_alt'\n",
      "debug: no reads on contig 'chr6_GL000252v2_alt'\n",
      "debug: chr6_GL000253v2_alt defaultdict(None, {3702249: ['T']})\n",
      "debug: chr6_GL000254v2_alt defaultdict(None, {3702249: ['A', 'A', 'A', 'A', 'A', 'A', 'A']})\n",
      "debug: chr6_GL000255v2_alt defaultdict(None, {3702249: ['T', 'T', 'T', 'T', 'T']})\n",
      "debug: chr6_GL000256v2_alt defaultdict(None, {3702249: ['G', 'G', 'G']})\n",
      "debug: no reads on contig 'chr6_KI270758v1_alt'\n",
      "debug: no reads on contig 'chr6'\n"
     ]
    },
    {
     "data": {
      "text/plain": "'chrom 6 pos 32212369 genotype is AA'"
     },
     "execution_count": 20,
     "metadata": {},
     "output_type": "execute_result"
    }
   ],
   "source": [
    "chrom = \"6\"\n",
    "pos = 32212369\n",
    "reads = get_reads_for_allele(chrom=chrom, pos=pos, alignment_data=alignment_data, assembly_metadata=assembly_metadata_df)\n",
    "genotype = genotype_from_reads(reads)\n",
    "f\"chrom {chrom} pos {pos} genotype is {genotype}\""
   ],
   "metadata": {
    "collapsed": false,
    "pycharm": {
     "name": "#%%\n"
    }
   }
  },
  {
   "cell_type": "markdown",
   "source": [
    "### Testing with another rsID rs143334143"
   ],
   "metadata": {
    "collapsed": false,
    "pycharm": {
     "name": "#%% md\n"
    }
   }
  },
  {
   "cell_type": "code",
   "execution_count": 19,
   "outputs": [
    {
     "name": "stdout",
     "output_type": "stream",
     "text": [
      "debug: no reads on contig 'chr6_GL000250v2_alt'\n",
      "debug: chr6_GL000251v2_alt defaultdict(None, {2643529: ['C', 'C', 'C', 'C']})\n",
      "debug: no reads on contig 'chr6_GL000252v2_alt'\n",
      "debug: chr6_GL000253v2_alt defaultdict(None, {2643529: ['C', 'C', 'C']})\n",
      "debug: chr6_GL000254v2_alt defaultdict(None, {2643529: ['G', 'G', 'G', 'G']})\n",
      "debug: chr6_GL000255v2_alt defaultdict(None, {2643529: ['G', 'G', 'G', 'G', 'G', 'G', 'G', 'G']})\n",
      "debug: chr6_GL000256v2_alt defaultdict(None, {2643529: ['C']})\n",
      "debug: no reads on contig 'chr6_KI270758v1_alt'\n",
      "debug: chr6 defaultdict(None, {31153649: ['G', 'G', 'G', 'G', 'G', 'G', 'G', 'G', 'G', 'G']})\n"
     ]
    },
    {
     "data": {
      "text/plain": "'chrom 6 pos 31153649 genotype is GG'"
     },
     "execution_count": 19,
     "metadata": {},
     "output_type": "execute_result"
    }
   ],
   "source": [
    "chrom = \"6\"\n",
    "pos = 31153649\n",
    "reads = get_reads_for_allele(chrom=chrom, pos=pos, alignment_data=alignment_data, assembly_metadata=assembly_metadata_df)\n",
    "genotype = genotype_from_reads(reads)\n",
    "f\"chrom {chrom} pos {pos} genotype is {genotype}\""
   ],
   "metadata": {
    "collapsed": false,
    "pycharm": {
     "name": "#%%\n"
    }
   }
  },
  {
   "cell_type": "code",
   "execution_count": null,
   "outputs": [],
   "source": [],
   "metadata": {
    "collapsed": false,
    "pycharm": {
     "name": "#%%\n"
    }
   }
  }
 ],
 "metadata": {
  "kernelspec": {
   "display_name": "Python 3",
   "language": "python",
   "name": "python3"
  },
  "language_info": {
   "codemirror_mode": {
    "name": "ipython",
    "version": 2
   },
   "file_extension": ".py",
   "mimetype": "text/x-python",
   "name": "python",
   "nbconvert_exporter": "python",
   "pygments_lexer": "ipython2",
   "version": "2.7.6"
  }
 },
 "nbformat": 4,
 "nbformat_minor": 0
}