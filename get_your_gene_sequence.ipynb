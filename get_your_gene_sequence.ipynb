{
 "cells": [
  {
   "cell_type": "markdown",
   "source": [
    "# Visualize my FOXO3 protein"
   ],
   "metadata": {
    "collapsed": false,
    "pycharm": {
     "name": "#%% md\n"
    }
   }
  },
  {
   "cell_type": "code",
   "execution_count": null,
   "metadata": {
    "collapsed": true
   },
   "outputs": [],
   "source": [
    "import pysam\n",
    "\n",
    "from utils.bam_vcf_utils import get_chrom_reads_in_range, calc_genotype_for_chrom_reads"
   ]
  },
  {
   "cell_type": "code",
   "execution_count": null,
   "outputs": [],
   "source": [
    "class Region:\n",
    "    def __init__(self, chrom: str, start: int, stop: int):\n",
    "        self.chrom = chrom\n",
    "        self.start = start\n",
    "        self.stop = stop\n",
    "\n",
    "FOXO3_region = Region(\"chr6\", 108559825, 108684774) # hg38 region from gene card: https://www.genecards.org/cgi-bin/carddisp.pl?gene=FOXO3\n",
    "alignment_bam_file = \"data/my_genome_data/GFX0237425.GRCh38.p7.bam\"\n",
    "alignment_data = pysam.AlignmentFile(alignment_bam_file, \"rb\")"
   ],
   "metadata": {
    "collapsed": false,
    "pycharm": {
     "name": "#%%\n"
    }
   }
  },
  {
   "cell_type": "markdown",
   "source": [
    "### Find genotype for all the FOXO3 gene positions"
   ],
   "metadata": {
    "collapsed": false,
    "pycharm": {
     "name": "#%% md\n"
    }
   }
  },
  {
   "cell_type": "code",
   "execution_count": null,
   "outputs": [],
   "source": [
    "FOXO3_pos_reads = get_chrom_reads_in_range(\n",
    "    alignment_data=alignment_data,\n",
    "    contig=FOXO3_region.chrom,\n",
    "    start=FOXO3_region.start,\n",
    "    stop=FOXO3_region.stop\n",
    ")\n",
    "FOXO3_pos_reads"
   ],
   "metadata": {
    "collapsed": false,
    "pycharm": {
     "name": "#%%\n"
    }
   }
  },
  {
   "cell_type": "code",
   "execution_count": null,
   "outputs": [],
   "source": [
    "FOXO3_pos_genotype_df = calc_genotype_for_chrom_reads(FOXO3_pos_reads, FOXO3_region.chrom, sex = \"male\")\n",
    "FOXO3_pos_genotype_df"
   ],
   "metadata": {
    "collapsed": false,
    "pycharm": {
     "name": "#%%\n"
    }
   }
  },
  {
   "cell_type": "markdown",
   "source": [
    "### How to know which nucleotide belongs to which chromosome?\n",
    "\n",
    "#### Show heterogenous positions"
   ],
   "metadata": {
    "collapsed": false,
    "pycharm": {
     "name": "#%% md\n"
    }
   }
  },
  {
   "cell_type": "code",
   "execution_count": null,
   "outputs": [],
   "source": [
    "FOXO3_pos_genotype_df[FOXO3_pos_genotype_df[\"genotype\"].str[0] != FOXO3_pos_genotype_df[\"genotype\"].str[1]]"
   ],
   "metadata": {
    "collapsed": false,
    "pycharm": {
     "name": "#%%\n"
    }
   }
  },
  {
   "cell_type": "code",
   "execution_count": null,
   "outputs": [],
   "source": [
    "FOXO3_pos_reads[108667730]"
   ],
   "metadata": {
    "collapsed": false,
    "pycharm": {
     "name": "#%%\n"
    }
   }
  }
 ],
 "metadata": {
  "kernelspec": {
   "display_name": "Python 3",
   "language": "python",
   "name": "python3"
  },
  "language_info": {
   "codemirror_mode": {
    "name": "ipython",
    "version": 2
   },
   "file_extension": ".py",
   "mimetype": "text/x-python",
   "name": "python",
   "nbconvert_exporter": "python",
   "pygments_lexer": "ipython2",
   "version": "2.7.6"
  }
 },
 "nbformat": 4,
 "nbformat_minor": 0
}