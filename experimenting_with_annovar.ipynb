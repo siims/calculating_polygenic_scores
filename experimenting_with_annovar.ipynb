{
 "cells": [
  {
   "cell_type": "markdown",
   "metadata": {
    "collapsed": true,
    "pycharm": {
     "name": "#%% md\n"
    }
   },
   "source": [
    "# Experimenting with Annovar"
   ]
  },
  {
   "cell_type": "code",
   "execution_count": null,
   "outputs": [],
   "source": [
    "import json\n",
    "import rsidx\n",
    "import re\n",
    "import sqlite3\n",
    "import pandas as pd\n",
    "import pysam\n",
    "from search_your_dna.hg_util import get_assembly_metadata_df\n",
    "from search_your_dna.util import read_raw_zipped_vcf_file, get_vcf_file_header_line_number"
   ],
   "metadata": {
    "collapsed": false,
    "pycharm": {
     "name": "#%%\n"
    }
   }
  },
  {
   "cell_type": "markdown",
   "source": [
    "## Preprocessing before annotations\n",
    "\n",
    "Had a problem around annovar not caring about alt contigs at all (couldn't match rsid to them). Thus, it feels that I need to compile a vcf file where I have incorporated needed alt contigs inside the main contig."
   ],
   "metadata": {
    "collapsed": false,
    "pycharm": {
     "name": "#%% md\n"
    }
   }
  },
  {
   "cell_type": "code",
   "source": [
    "project_root_dir = \"/home/s/src/search_your_dna/\"\n",
    "raw_vcf_file = \"data/GFX0237425.GRCh38.p7.vcf\"\n",
    "header_pattern = \"#CHROM\\s+POS\\s+ID\\s+REF\\s+ALT\""
   ],
   "metadata": {
    "collapsed": false,
    "pycharm": {
     "name": "#%%\n"
    }
   },
   "execution_count": null,
   "outputs": []
  },
  {
   "cell_type": "code",
   "source": [
    "raw_vcf_df = read_raw_zipped_vcf_file(raw_vcf_file)\n",
    "raw_vcf_df.head()"
   ],
   "metadata": {
    "collapsed": false,
    "pycharm": {
     "name": "#%%\n"
    }
   },
   "execution_count": null,
   "outputs": []
  },
  {
   "cell_type": "code",
   "source": [
    "raw_vcf_df[raw_vcf_df[\"#CHROM\"] == \"chrX_KI270913v1_alt\"].head()"
   ],
   "metadata": {
    "collapsed": false,
    "pycharm": {
     "name": "#%%\n"
    }
   },
   "execution_count": null,
   "outputs": []
  },
  {
   "cell_type": "code",
   "execution_count": null,
   "outputs": [],
   "source": [
    "with open(f\"{project_root_dir}/my_grch38_p7_build/region_contig_read_counts.json\", \"r\") as f:\n",
    "    region_contig_read_counts = json.load(f)\n",
    "\n",
    "assembly_report_file = f\"{project_root_dir}/data/grch38.p7/GCA_000001405.22_GRCh38.p7_assembly_report.txt\"\n",
    "assembly_regions_file = f\"{project_root_dir}/data/grch38.p7/GCA_000001405.22_GRCh38.p7_assembly_regions.txt\"\n",
    "\n",
    "assembly_metadata_df = get_assembly_metadata_df(assembly_report_file=assembly_report_file,\n",
    "                                                assembly_regions_file=assembly_regions_file)\n",
    "\n",
    "\n",
    "def calc_alt_contigs_to_use(region_contig_read_counts, assembly_metadata_df):\n",
    "    alt_contigs_to_use = pd.DataFrame(columns=[\"chrom\", \"start\", \"stop\", \"contig\", \"region\"])\n",
    "    for region, contig_read_count in region_contig_read_counts.items():\n",
    "        region_metadata_df = assembly_metadata_df[assembly_metadata_df[\"region_name\"] == region]\n",
    "        chrom = region_metadata_df[\"chromosome\"].iloc[0]\n",
    "        chrom_start = region_metadata_df[\"chromosome_start\"].iloc[0]\n",
    "        chrom_stop = region_metadata_df[\"chromosome_stop\"].iloc[0]\n",
    "\n",
    "        regions_contig_with_highest_coverage = sorted(contig_read_count.items(), key=lambda item: item[1])[-1]\n",
    "        current_contig = regions_contig_with_highest_coverage[0]\n",
    "        if current_contig != \"main\":\n",
    "            alt_contigs_to_use = alt_contigs_to_use.append(\n",
    "                {\"chrom\": chrom, \"start\": chrom_start, \"stop\": chrom_stop, \"contig\": current_contig, \"region\": region},\n",
    "                ignore_index=True)\n",
    "    return alt_contigs_to_use\n",
    "\n",
    "alt_contigs_to_use = calc_alt_contigs_to_use(region_contig_read_counts, assembly_metadata_df)\n",
    "alt_contigs_to_use = alt_contigs_to_use.sort_values(by=[\"chrom\", \"start\"])#, ascending=False)\n",
    "alt_contigs_to_use.head()"
   ],
   "metadata": {
    "collapsed": false,
    "pycharm": {
     "name": "#%%\n"
    }
   }
  },
  {
   "cell_type": "markdown",
   "source": [
    "### Remove main contig parts that shouldn't be used"
   ],
   "metadata": {
    "collapsed": false,
    "pycharm": {
     "name": "#%% md\n"
    }
   }
  },
  {
   "cell_type": "code",
   "execution_count": null,
   "outputs": [],
   "source": [
    "for index, row in list(alt_contigs_to_use.iterrows()):\n",
    "    length_before = raw_vcf_df.shape[0]\n",
    "    print(row[\"contig\"], \"vcf length before\", length_before)\n",
    "    raw_vcf_df = raw_vcf_df[~((raw_vcf_df[\"#CHROM\"] == \"chr\" + row[\"chrom\"]) & (row[\"start\"] <= raw_vcf_df[\"POS\"]) & (raw_vcf_df[\"POS\"] <= row[\"stop\"]))]\n",
    "    print(\"\\t\\tlength after\", raw_vcf_df.shape[0])\n",
    "    print(\"\\t\\t\\tremoved snps\", length_before - raw_vcf_df.shape[0])"
   ],
   "metadata": {
    "collapsed": false,
    "pycharm": {
     "name": "#%%\n"
    }
   }
  },
  {
   "cell_type": "markdown",
   "source": [
    "### Make alt contigs that should be used part of main contig"
   ],
   "metadata": {
    "collapsed": false,
    "pycharm": {
     "name": "#%% md\n"
    }
   }
  },
  {
   "cell_type": "code",
   "execution_count": null,
   "outputs": [],
   "source": [
    "def transform_row(contig_start):\n",
    "    def _transform(row):\n",
    "        row[\"#CHROM\"] = row[\"#CHROM\"].split(\"_\")[0]\n",
    "        row[\"POS\"] = contig_start + row[\"POS\"]\n",
    "        return row\n",
    "    return _transform\n",
    "\n",
    "for index, row in list(alt_contigs_to_use.iterrows()):\n",
    "    length_before = raw_vcf_df.shape[0]\n",
    "    print(row[\"contig\"], \"vcf length before\", length_before)\n",
    "    alt_contig_rows_in_raw_vcf_df = raw_vcf_df[raw_vcf_df[\"#CHROM\"] == row[\"contig\"]]\n",
    "    raw_vcf_df = raw_vcf_df[raw_vcf_df[\"#CHROM\"] != row[\"contig\"]]\n",
    "    updated_alt_contig_rows_in_raw_vcf_df = alt_contig_rows_in_raw_vcf_df.apply(transform_row(row[\"start\"]), axis=\"columns\")\n",
    "    raw_vcf_df = raw_vcf_df.append(updated_alt_contig_rows_in_raw_vcf_df, ignore_index=True)\n",
    "    print(\"\\t\\talt_contig length\", updated_alt_contig_rows_in_raw_vcf_df.shape[0])\n",
    "    print(\"\\t\\tlength after\", raw_vcf_df.shape[0])\n",
    "    print(\"\\t\\t\\tlost snps\", raw_vcf_df.shape[0] - length_before)"
   ],
   "metadata": {
    "collapsed": false,
    "pycharm": {
     "name": "#%%\n"
    }
   }
  },
  {
   "cell_type": "code",
   "source": [
    "raw_vcf_df.shape"
   ],
   "metadata": {
    "collapsed": false,
    "pycharm": {
     "name": "#%%\n"
    }
   },
   "execution_count": null,
   "outputs": []
  },
  {
   "cell_type": "code",
   "execution_count": null,
   "outputs": [],
   "source": [
    "alt_contig_rows_in_raw_vcf_df.tail()"
   ],
   "metadata": {
    "collapsed": false,
    "pycharm": {
     "name": "#%%\n"
    }
   }
  },
  {
   "cell_type": "code",
   "execution_count": null,
   "outputs": [],
   "source": [
    "updated_alt_contig_rows_in_raw_vcf_df.tail()"
   ],
   "metadata": {
    "collapsed": false,
    "pycharm": {
     "name": "#%%\n"
    }
   }
  },
  {
   "cell_type": "code",
   "execution_count": null,
   "outputs": [],
   "source": [
    "list(alt_contigs_to_use.iterrows())[1:2]\n"
   ],
   "metadata": {
    "collapsed": false,
    "pycharm": {
     "name": "#%%\n"
    }
   }
  },
  {
   "cell_type": "markdown",
   "source": [
    "### Remove all other alt contigs"
   ],
   "metadata": {
    "collapsed": false,
    "pycharm": {
     "name": "#%% md\n"
    }
   }
  },
  {
   "cell_type": "code",
   "execution_count": null,
   "outputs": [],
   "source": [
    "CHROM_TO_KEEP = [\n",
    "    \"chr1\",\n",
    "    \"chr2\",\n",
    "    \"chr3\",\n",
    "    \"chr4\",\n",
    "    \"chr5\",\n",
    "    \"chr6\",\n",
    "    \"chr7\",\n",
    "    \"chr8\",\n",
    "    \"chr9\",\n",
    "    \"chr10\",\n",
    "    \"chr11\",\n",
    "    \"chr12\",\n",
    "    \"chr13\",\n",
    "    \"chr14\",\n",
    "    \"chr15\",\n",
    "    \"chr16\",\n",
    "    \"chr17\",\n",
    "    \"chr18\",\n",
    "    \"chr19\",\n",
    "    \"chr20\",\n",
    "    \"chr21\",\n",
    "    \"chr22\",\n",
    "    \"chrX\",\n",
    "    \"chrY\",\n",
    "    \"chrM\",\n",
    "]\n",
    "\n",
    "print(\"\\t\\tlength before\", raw_vcf_df.shape[0])\n",
    "raw_vcf_df = raw_vcf_df[raw_vcf_df[\"#CHROM\"].isin(CHROM_TO_KEEP)]\n",
    "print(\"\\t\\tlength after\", raw_vcf_df.shape[0])"
   ],
   "metadata": {
    "collapsed": false,
    "pycharm": {
     "name": "#%%\n"
    }
   }
  },
  {
   "cell_type": "markdown",
   "source": [
    "### Sort vcf"
   ],
   "metadata": {
    "collapsed": false,
    "pycharm": {
     "name": "#%% md\n"
    }
   }
  },
  {
   "cell_type": "code",
   "source": [
    "raw_vcf_df = raw_vcf_df.sort_values(by=[\"#CHROM\", \"POS\"], ignore_index=True)"
   ],
   "metadata": {
    "collapsed": false,
    "pycharm": {
     "name": "#%%\n"
    }
   },
   "execution_count": null,
   "outputs": []
  },
  {
   "cell_type": "markdown",
   "source": [
    "### Store new vcf\n"
   ],
   "metadata": {
    "collapsed": false,
    "pycharm": {
     "name": "#%% md\n"
    }
   }
  },
  {
   "cell_type": "code",
   "execution_count": null,
   "outputs": [],
   "source": [
    "high_coverage_alt_contigs_vcf_file = \"data/GFX0237425.GRCh38.p7.using_high_coverage_alt_contigs.vcf\""
   ],
   "metadata": {
    "collapsed": false,
    "pycharm": {
     "name": "#%%\n"
    }
   }
  },
  {
   "cell_type": "code",
   "execution_count": null,
   "outputs": [],
   "source": [
    "header_row_number = get_vcf_file_header_line_number(file_name=raw_vcf_file)\n",
    "row_counter = 0\n",
    "header_text = []\n",
    "with open(raw_vcf_file, \"r\") as f:\n",
    "    for line_text in f:\n",
    "        if row_counter >= header_row_number:\n",
    "            break\n",
    "        row_counter += 1\n",
    "        if line_text.startswith(\"##contig=<ID=\"):\n",
    "            contig = line_text.replace(\"##contig=<ID=\", \"\").split(\",\")[0]\n",
    "            if contig not in CHROM_TO_KEEP:\n",
    "                continue\n",
    "        header_text.append(line_text)"
   ],
   "metadata": {
    "collapsed": false,
    "pycharm": {
     "name": "#%%\n"
    }
   }
  },
  {
   "cell_type": "code",
   "execution_count": null,
   "outputs": [],
   "source": [
    "with open(high_coverage_alt_contigs_vcf_file, \"w\") as f:\n",
    "    f.writelines(header_text)\n",
    "    raw_vcf_df.to_csv(f, sep=\"\\t\", index=None)"
   ],
   "metadata": {
    "collapsed": false,
    "pycharm": {
     "name": "#%%\n"
    }
   }
  },
  {
   "cell_type": "markdown",
   "source": [
    "## Using Annovar to annotate variance\n",
    "\n",
    "Example from: https://annovar.openbioinformatics.org/en/latest/user-guide/startup/"
   ],
   "metadata": {
    "collapsed": false,
    "pycharm": {
     "name": "#%% md\n"
    }
   }
  },
  {
   "cell_type": "code",
   "execution_count": null,
   "outputs": [],
   "source": [
    "!~/bin/annovar/annotate_variation.pl -buildver hg38 -downdb -webfrom annovar refGene data/humandb/\n",
    "!~/bin/annovar/annotate_variation.pl -buildver hg38 -downdb cytoBand data/humandb/\n",
    "!~/bin/annovar/annotate_variation.pl -buildver hg38 -downdb -webfrom annovar exac03 data/humandb/\n",
    "!~/bin/annovar/annotate_variation.pl -buildver hg38 -downdb -webfrom annovar avsnp147 data/humandb/\n",
    "!~/bin/annovar/annotate_variation.pl -buildver hg38 -downdb -webfrom annovar avsnp150 data/humandb/\n",
    "!~/bin/annovar/annotate_variation.pl -buildver hg38 -downdb -webfrom annovar dbnsfp30a data/humandb/"
   ],
   "metadata": {
    "collapsed": false,
    "pycharm": {
     "name": "#%%\n"
    }
   }
  },
  {
   "cell_type": "code",
   "execution_count": null,
   "outputs": [],
   "source": [
    "!~/bin/annovar/table_annovar.pl data/GFX0237425.GRCh38.p7.using_high_coverage_alt_contigs.vcf data/humandb/ -buildver hg38 -out data/GFX0237425.GRCh38.p7.annotated -remove -protocol refGene,avsnp150 -operation gx,f -nastring . -vcfinput -polish -xref ~/bin/annovar/example/gene_xref.txt\n",
    "# !~/bin/annovar/table_annovar.pl data/GFX0237425.GRCh38.p7.using_high_coverage_alt_contigs.vcf data/humandb/ -buildver hg38 -out data/GFX0237425.GRCh38.p7.annotated -remove -protocol refGene,cytoBand,exac03,avsnp150,dbnsfp30a -operation gx,r,f,f,f -nastring . -vcfinput -polish -xref ~/bin/annovar/example/gene_xref.txt"
   ],
   "metadata": {
    "collapsed": false,
    "pycharm": {
     "name": "#%%\n"
    }
   }
  },
  {
   "cell_type": "markdown",
   "source": [
    "### Move rsid to the ID columns"
   ],
   "metadata": {
    "collapsed": false,
    "pycharm": {
     "name": "#%% md\n"
    }
   }
  },
  {
   "cell_type": "code",
   "execution_count": null,
   "outputs": [],
   "source": [
    "header_pattern = \"#CHROM\\tPOS\\tID\"\n",
    "with open(str(\"data/GFX0237425.GRCh38.p7.annotated.hg38_multianno.vcf\"), \"r\") as raw_f:\n",
    "    with open(str(\"data/GFX0237425.GRCh38.p7.annotated.hg38_multianno.updated.vcf\"), \"w\") as new_f:\n",
    "        passed_header = False\n",
    "        for line_text in raw_f:\n",
    "            if not passed_header:\n",
    "                if re.search(header_pattern, line_text):\n",
    "                    passed_header = True\n",
    "                new_f.writelines([line_text])\n",
    "            else:\n",
    "                line_parts = line_text.split(\"\\t\")\n",
    "                rsid_from_info = next(filter(lambda t: \"avsnp150\" in t, line_parts[-3].split(\";\"))).split(\"=\")[1]\n",
    "                line_parts[2] = rsid_from_info\n",
    "                new_f.writelines([\"\\t\".join(line_parts)])"
   ],
   "metadata": {
    "collapsed": false,
    "pycharm": {
     "name": "#%%\n"
    }
   }
  },
  {
   "cell_type": "markdown",
   "source": [
    "### Compress and create tabix index"
   ],
   "metadata": {
    "collapsed": false,
    "pycharm": {
     "name": "#%% md\n"
    }
   }
  },
  {
   "cell_type": "code",
   "execution_count": null,
   "outputs": [],
   "source": [
    "!bgzip -c data/GFX0237425.GRCh38.p7.annotated.hg38_multianno.updated.vcf > data/GFX0237425.GRCh38.p7.annotated.hg38_multianno.updated.vcf.gz\n",
    "!tabix -p vcf data/GFX0237425.GRCh38.p7.annotated.hg38_multianno.updated.vcf.gz"
   ],
   "metadata": {
    "collapsed": false,
    "pycharm": {
     "name": "#%%\n"
    }
   }
  },
  {
   "cell_type": "markdown",
   "source": [
    "### Create index for rsid"
   ],
   "metadata": {
    "collapsed": false,
    "pycharm": {
     "name": "#%% md\n"
    }
   }
  },
  {
   "cell_type": "code",
   "execution_count": null,
   "outputs": [],
   "source": [
    "!rsidx index data/GFX0237425.GRCh38.p7.annotated.hg38_multianno.updated.vcf.gz data/GFX0237425.GRCh38.p7.annotated.hg38_multianno.updated.vcf.rsidx"
   ],
   "metadata": {
    "collapsed": false,
    "pycharm": {
     "name": "#%%\n"
    }
   }
  },
  {
   "cell_type": "markdown",
   "source": [
    "## Viewing results"
   ],
   "metadata": {
    "collapsed": false,
    "pycharm": {
     "name": "#%% md\n"
    }
   }
  },
  {
   "cell_type": "code",
   "execution_count": null,
   "outputs": [],
   "source": [
    "vcf_my = pysam.VariantFile(\"data/GFX0237425.GRCh38.p7.annotated.hg38_multianno.updated.vcf.gz\")\n",
    "\n",
    "recs = {}\n",
    "# for id, rec in enumerate(vcf_my.fetch(\"chr1\", 30404080, 30404280)):\n",
    "# for id, rec in enumerate(vcf_my.fetch(\"chr6\", 30404080, 30404280)):\n",
    "for id, rec in enumerate(vcf_my.fetch(\"chr6\", 29_831_013, 29_831_027)):\n",
    "# for id, rec in enumerate(vcf_my.fetch(\"chr8_KI270810v1_alt\")):\n",
    "# for id, rec in enumerate(vcf_my.fetch(\"chr8_KI270814v1_alt\")):\n",
    "# for id, rec in enumerate(vcf_my.fetch(\"chr6_GL000254v2_alt\")):\n",
    "# for id, rec in enumerate(vcf_my.fetch(\"chr16_KI270853v1_alt\")):\n",
    "    print((rec.info[\"avsnp150\"][0], str(rec)))\n",
    "    recs[id] = (rec.info[\"avsnp150\"], rec)\n",
    "\n",
    "# rs9380142_pos = 29831017\n",
    "# recs = {}\n",
    "# for id, rec in enumerate(vcf_my.fetch(\"chr6\", rs9380142_pos - 100000, rs9380142_pos + 10000)): # rs9380142 is visible here\n",
    "#     print(rec)\n",
    "#     recs[id] = rec"
   ],
   "metadata": {
    "collapsed": false,
    "pycharm": {
     "name": "#%%\n"
    }
   }
  },
  {
   "cell_type": "code",
   "execution_count": null,
   "outputs": [],
   "source": [
    "rsidlist = ['rs1260965680', 'rs1309677886', 'rs1174660622', 'rs1291927541', \"rs4259577\", \"rs9380142\"]\n",
    "with sqlite3.connect(\"data/GFX0237425.GRCh38.p7.annotated.hg38_multianno.updated.vcf.gz.rsidx\") as db, open(\"data/GFX0237425.GRCh38.p7.annotated.hg38_multianno.updated.vcf.gz\", 'r') as vcf_f:\n",
    "    res = next(rsidx.search.search(rsidlist, db, \"data/data/GFX0237425.GRCh38.p7.annotated.hg38_multianno.updated.vcf.gz\"))\n",
    "    print(res)"
   ],
   "metadata": {
    "collapsed": false,
    "pycharm": {
     "name": "#%%\n"
    }
   }
  }
 ],
 "metadata": {
  "kernelspec": {
   "display_name": "Python 3",
   "language": "python",
   "name": "python3"
  },
  "language_info": {
   "codemirror_mode": {
    "name": "ipython",
    "version": 2
   },
   "file_extension": ".py",
   "mimetype": "text/x-python",
   "name": "python",
   "nbconvert_exporter": "python",
   "pygments_lexer": "ipython2",
   "version": "2.7.6"
  }
 },
 "nbformat": 4,
 "nbformat_minor": 0
}