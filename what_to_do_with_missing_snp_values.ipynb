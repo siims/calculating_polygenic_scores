{
 "cells": [
  {
   "cell_type": "markdown",
   "source": [
    "# Missing snp values in my chromosome\n",
    "\n",
    "Problem: after using the highest coverage alt contigs there were still many missing snp values for hg38."
   ],
   "metadata": {
    "collapsed": false,
    "pycharm": {
     "name": "#%% md\n"
    }
   }
  },
  {
   "cell_type": "code",
   "execution_count": null,
   "metadata": {
    "collapsed": true
   },
   "outputs": [],
   "source": [
    "import re\n",
    "from collections import defaultdict\n",
    "from typing import Optional, Union, List, Dict\n",
    "import pandas as pd\n",
    "import numpy as np\n",
    "import pysam\n",
    "from search_your_dna.util import get_chrom_reads_in_range, _get_contig\n",
    "\n",
    "missing_read_count_per_chrom = pd.DataFrame([\n",
    "    [\"1\",\t101791],\n",
    "    [\"2\",\t67426],\n",
    "    [\"3\",\t43433],\n",
    "    [\"4\",\t52966],\n",
    "    [\"5\",\t57445],\n",
    "    [\"6\",\t182353],\n",
    "    [\"7\",\t45498],\n",
    "    [\"8\",\t50272],\n",
    "    [\"9\",\t45889],\n",
    "    [\"10\",\t48119],\n",
    "    [\"11\",\t32284],\n",
    "    [\"12\",\t55814],\n",
    "    [\"13\",\t63840],\n",
    "    [\"14\",\t30236],\n",
    "    [\"15\",\t56842],\n",
    "    [\"16\",\t27492],\n",
    "    [\"17\",\t75705],\n",
    "    [\"18\",\t32489],\n",
    "    [\"19\",\t64677],\n",
    "    [\"20\",\t38252],\n",
    "    [\"21\",\t13239],\n",
    "    [\"22\",\t15351],\n",
    "    [\"X\",\t57470],\n",
    "    [\"Y\",\t1078]]\n",
    ")\n",
    "missing_read_count_per_chrom\n"
   ]
  },
  {
   "cell_type": "markdown",
   "source": [
    "Had a look in the 00-All.vcf.gz (from https://ftp.ncbi.nih.gov/snp/organisms/human_9606/VCF/) and it seems that there are many SNPs that have multiple nucleotide values for SNP reference allele values. My analysis so far hasn't taken into account this at all.\n",
    "\n",
    "ex: chrom 1 pos 29659. has REF `TG` and ALT `T`.\n",
    "\n",
    "My SNP database shows `T` in this SNP position. This leaves ambiguity. Let's have a look what are some values around it with IGV viewer.\n",
    "\n",
    "IGV viewer shows `T` in positions 29659 and `G` in position 29660.\n",
    "\n",
    "I think it is better to filter out SNP values that have multiple values on the REF column. Currently, it causes false positives.\n",
    "\n",
    "Still curious to know what are these SNPs.\n",
    "\n",
    "- ncbi tells that `rs1306082948` is a deletion of `G` in chr1:29660\n",
    "- ncbi tells that `rs1424255478` is an indel of `CCTCCCGGAAGCTCCC(GCC)2GC` in chr1:29327-29355\n",
    "- ncbi tells that `rs1228409428` is an indel of `GAGTA` in chr1:52457-52463\n",
    "\n",
    "\n",
    "Seems like snp db has extra to SNPs also indels (and maybe some other?). [Wiki says](https://en.wikipedia.org/wiki/DbSNP):\n",
    "\n",
    "```\n",
    "Although the name of the database implies a collection of one class of polymorphisms only (i.e., single nucleotide polymorphisms (SNPs)), it in fact contains a range of molecular variation: (1) SNPs, (2) short deletion and insertion polymorphisms (indels/DIPs), (3) microsatellite markers or short tandem repeats (STRs), (4) multinucleotide polymorphisms (MNPs), (5) heterozygous sequences, and (6) named variants.\n",
    "```\n",
    "\n",
    "I'd assume this file has all these different types.\n",
    "\n",
    "My processing doesn't take into account anything except SNV. Based on how single nucleotide deletions are represented in the 00-All.vcf.gz file (from: https://ftp.ncbi.nih.gov/snp/organisms/human_9606/VCF/) it seems that I might have either missing rsid values for deletions pos values for deletion (if there is a snp on the previous location).\n",
    "\n",
    "I think correct solution would be to parse 00-All.vcf.gz file again (from https://ftp.ncbi.nih.gov/snp/organisms/human_9606/VCF/) and including only SNVs and short INDELS (excluding longer indel). Logic for this could be sth like:\n",
    "\n",
    "```python\n",
    "if len(REF_col_value) == 1 and len(ALT_col_value) == 1:\n",
    "    process_snv(row)\n",
    "elif len(REF_col_value) == 1 and len(REF_col_value) > 1:\n",
    "    process_insertion(row)\n",
    "elif len(REF_col_value) > 1 and len(REF_col_value) == 1:\n",
    "    process_deletion(row) # need to read INFO field RSPOS value, as it gives true rsid position. Should read always that.\n",
    "else:\n",
    "    raise Exception(\"Unknown rsid type\")\n",
    "```"
   ],
   "metadata": {
    "collapsed": false,
    "pycharm": {
     "name": "#%% md\n"
    }
   }
  },
  {
   "cell_type": "code",
   "execution_count": null,
   "outputs": [],
   "source": [
    "all_rsid_file = \"/home/s/src/search_your_dna/data/00-All.vcf\"\n",
    "header_pattern = \"#CHROM\\s+POS\\s+ID\\s+REF\\s+ALT\\s+QUAL\\s+FILTER\\s+INFO\"\n",
    "snvs = []\n",
    "insertions = []\n",
    "deletions = []\n",
    "unknown = []\n",
    "def process_snv(row):\n",
    "    snvs.append(row)\n",
    "def process_insertion(row):\n",
    "    insertions.append(row)\n",
    "def process_deletion(line_parts):\n",
    "    deletions.append(line_parts)\n",
    "\n",
    "def all_strings_single_letters(strings) -> bool:\n",
    "    return np.all([len(s) == 1 for s in strings])\n",
    "def all_strings_double_or_single_letters(strings) -> bool:\n",
    "    return np.all([len(s) <= 2 for s in strings])\n",
    "\n",
    "with open(str(all_rsid_file), \"r\") as f:\n",
    "    passed_header = False\n",
    "    for line_text in f:\n",
    "        if not passed_header:\n",
    "            if re.search(header_pattern, line_text):\n",
    "                passed_header = True\n",
    "        else:\n",
    "            line_parts = line_text.split(\"\\t\")\n",
    "            if line_parts[0] != \"1\":\n",
    "                break\n",
    "            REF_col_value = line_parts[3]\n",
    "            ref_nucleotides = REF_col_value.split(\",\")\n",
    "            ALT_col_value = line_parts[4]\n",
    "            alt_nucleotides = ALT_col_value.split(\",\")\n",
    "            if all_strings_single_letters(ref_nucleotides) and all_strings_single_letters(alt_nucleotides):\n",
    "                process_snv(line_parts)\n",
    "            elif all_strings_single_letters(ref_nucleotides) and all_strings_double_or_single_letters(alt_nucleotides):\n",
    "                process_insertion(line_parts)\n",
    "            elif all_strings_double_or_single_letters(ref_nucleotides) and all_strings_single_letters(alt_nucleotides):\n",
    "                process_deletion(line_parts) # need to read INFO field RSPOS value, as it gives true rsid position. Should read always that.\n",
    "            else:\n",
    "                unknown.append(line_parts)"
   ],
   "metadata": {
    "collapsed": false,
    "pycharm": {
     "name": "#%%\n"
    }
   }
  },
  {
   "cell_type": "markdown",
   "source": [
    "creating index for newly created vcf files. necessary for fetch\n",
    "```bash\n",
    "cd /some/dir/path/to/vcf/files\n",
    "for filename in *.vcf; do\n",
    "bgzip -c \"$filename\" > \"$filename\".gz\n",
    "tabix -p vcf \"$filename\".gz\n",
    "done\n",
    "```"
   ],
   "metadata": {
    "collapsed": false,
    "pycharm": {
     "name": "#%% md\n"
    }
   }
  },
  {
   "cell_type": "code",
   "execution_count": null,
   "outputs": [],
   "source": [
    "vcf_1 = pysam.VariantFile(\"/home/s/src/search_your_dna/data/ncbi_snpdb_all_vcf/ncbi_snpdb_all_chr1.vcf.gz\")\n",
    "vcf_10 = pysam.VariantFile(\"/home/s/src/search_your_dna/data/ncbi_snpdb_all_vcf/ncbi_snpdb_all_chr10.vcf.gz\")\n",
    "\n",
    "recs = {}\n",
    "# for rec in vcf_10.fetch(\"10\", 110581962, 110581962 + 200):\n",
    "# for rec in vcf_1.fetch(\"1\", 94800, 94830): # deletion\n",
    "for rec in vcf_1.fetch(\"1\", 104150, 104170): # insertion\n",
    "    print(rec)\n",
    "    recs[rec.id] = rec\n",
    "\n",
    "# res = vcf_10.fetch(\"10\", 110581962)\n",
    "# res = vcf_1.fetch(\"chr1\", 52457, 52463)\n",
    "# res"
   ],
   "metadata": {
    "collapsed": false,
    "pycharm": {
     "name": "#%%\n"
    }
   }
  },
  {
   "cell_type": "code",
   "execution_count": null,
   "outputs": [],
   "source": [
    "print (rec.info)\n",
    "print (dict(zip(rec.info.keys(), rec.info.values())))\n",
    "# print (rec.info[\"DP\"])"
   ],
   "metadata": {
    "collapsed": false,
    "pycharm": {
     "name": "#%%\n"
    }
   }
  },
  {
   "cell_type": "code",
   "execution_count": null,
   "outputs": [],
   "source": [
    "bam_file_grch37 = \"/home/s/Dropbox/Siim/health/genetest_2020/GFX0237425.bam\"\n",
    "bam_file_hg38_v1 = \"/home/s/Dropbox/Siim/health/genetest_2020/GFX0237425.GRCh38.p7.bam\"\n",
    "bam_file_hg38_v2 = \"/home/s/Dropbox/Siim/health/genetest_2020/GFX0237425.GRCh38.p7_v2.bam\"\n",
    "alignment_data_grch37 = pysam.AlignmentFile(bam_file_grch37, \"rb\")\n",
    "alignment_data_grch38_v1 = pysam.AlignmentFile(bam_file_hg38_v1, \"rb\")\n",
    "alignment_data_grch38_v2 = pysam.AlignmentFile(bam_file_hg38_v2, \"rb\")\n",
    "pileupreads = []\n",
    "def get_chrom_reads_in_range(\n",
    "        alignment_data,\n",
    "        start: int,\n",
    "        stop: int,\n",
    "        contig: Optional[str] = None,\n",
    "        chrom: Optional[Union[int, str]] = None\n",
    ") -> Dict[int, List[str]]:\n",
    "    global pileupreads\n",
    "    if contig is None:\n",
    "        contig = _get_contig(alignment_data=alignment_data, chrom=str(chrom))\n",
    "    sequence = defaultdict()\n",
    "    for pileup_column in alignment_data.pileup(contig, start, stop):\n",
    "        # print (\"\\ncoverage at base %s = %s\" % (pileup_column.pos, pileup_column.n), \"pileups\", len(pileup_column.pileups))\n",
    "        pos = pileup_column.pos + 1  # NOTE: pileup is 0 based, thus +1 is needed\n",
    "        if pos != 104160:\n",
    "            continue\n",
    "        try:\n",
    "            if len(pileup_column.pileups) == 0:\n",
    "                raise RuntimeWarning(\"No reads found\")\n",
    "            reads_at_current_position = []\n",
    "            for pileupread in pileup_column.pileups:\n",
    "                pileupreads.append(pileupread)\n",
    "                if pileupread.is_del:\n",
    "                    reads_at_current_position.append(\"D\")\n",
    "                if pileupread.indel:\n",
    "                    # need to handle insertions\n",
    "                    ...\n",
    "                else:\n",
    "                    # print(pileupread.alignment.query_name, pileupread.alignment.query_sequence[pileupread.query_position])\n",
    "                    # print('\\tbase in read %s = %s' % (pileupread.alignment.query_name, pileupread.alignment.query_sequence[pileupread.query_position]))\n",
    "                    reads_at_current_position.append(pileupread.alignment.query_sequence[pileupread.query_position])\n",
    "            sequence[pos] = reads_at_current_position\n",
    "        except RuntimeWarning:\n",
    "            ...\n",
    "            # print(f\"Chromosome {chrom} position {pos} does not have any READS\")\n",
    "    return sequence\n",
    "\n",
    "\n",
    "# reads = get_chrom_reads_in_range(alignment_data_grch38, 94800, 94830, chrom=\"1\") # deletion\n",
    "reads = get_chrom_reads_in_range(alignment_data_grch38_v2, 104158, 104162, chrom=\"1\") # insertion\n",
    "reads"
   ],
   "metadata": {
    "collapsed": false,
    "pycharm": {
     "name": "#%%\n"
    }
   }
  },
  {
   "cell_type": "code",
   "execution_count": null,
   "outputs": [],
   "source": [
    "a = list(filter(lambda r: r.indel, pileupreads))"
   ],
   "metadata": {
    "collapsed": false,
    "pycharm": {
     "name": "#%%\n"
    }
   }
  },
  {
   "cell_type": "code",
   "execution_count": null,
   "outputs": [],
   "source": [
    "list(map(lambda r: r.alignment.query_sequence[r.query_position], a))"
   ],
   "metadata": {
    "collapsed": false,
    "pycharm": {
     "name": "#%%\n"
    }
   }
  },
  {
   "cell_type": "markdown",
   "source": [
    "# How to calculate my variance?\n",
    "\n",
    "1. [X] Compute alignment.\n",
    "2. [X] Have a list of allele CHR-POS values that I want to get variance for\n",
    "\n",
    "    * Tutorial: https://wikis.utexas.edu/display/bioiteam/Variant+calling+tutorial\n",
    "    * chr-pos needs to be in FASTA format.\n",
    "    * can I get variance in FASTA from here? https://ftp.ncbi.nih.gov/snp/organisms/human_9606/rs_fasta/ >> NO\n",
    "    * using the reference genome fasta file\n",
    "      ```\n",
    "      bcftools mpileup -Ou -f ~/Downloads/GCA_000001405.15_GRCh38_full_analysis_set.fna.gz ~/Dropbox/Siim/health/genetest_2020/GFX0237425.GRCh38.p7_v2.bam | bcftools call -mv -Ob -o ~/Downloads/GFX0237425.GRCh38.p7.bcf\n",
    "      bcftools view ~/Downloads/GFX0237425.GRCh38.p7.bcf > ~/Downloads/GFX0237425.GRCh38.p7.vcf\n",
    "      bgzip -c ~/Downloads/GFX0237425.GRCh38.p7.vcf > ~/Downloads/GFX0237425.GRCh38.p7.vcf.gz\n",
    "      tabix -p vcf ~/Downloads/GFX0237425.GRCh38.p7.vcf.gz\n",
    "      ```\n",
    "3. [X] Using standard bioinformatics tools to compute VCF file for CHR-POS (would be a huge file)\n",
    "4. [X] create tabix index file for VCF file\n",
    "5. [X] Need to check how to get right genotype values out from that\n",
    "6. [X] If it is still slow to query variance values from VCF file put them to a sql db with index"
   ],
   "metadata": {
    "collapsed": false,
    "pycharm": {
     "name": "#%% md\n"
    }
   }
  },
  {
   "cell_type": "markdown",
   "source": [
    "## Try to find genotype for missing SNV `rs9380142`"
   ],
   "metadata": {
    "collapsed": false,
    "pycharm": {
     "name": "#%% md\n"
    }
   }
  },
  {
   "cell_type": "code",
   "execution_count": null,
   "outputs": [],
   "source": [
    "my_vcf = pysam.VariantFile(\"/home/s/Dropbox/Siim/health/genetest_2020/GFX0237425.GRCh38.p7.vcf.gz\")\n",
    "rs9380142_pos = 29831017\n",
    "\n",
    "my_recs = {}\n",
    "for rec in my_vcf.fetch(\"chr6\", rs9380142_pos - 1, rs9380142_pos): # rs9380142 is visible here\n",
    "    print(rec)\n",
    "    my_recs[rec.id] = rec"
   ],
   "metadata": {
    "collapsed": false,
    "pycharm": {
     "name": "#%%\n"
    }
   }
  },
  {
   "cell_type": "markdown",
   "source": [
    "## Given no variance found need to look allele up in the reference genome\n",
    "\n",
    "### First idea is to try to look it up in the all snp vcf file"
   ],
   "metadata": {
    "collapsed": false,
    "pycharm": {
     "name": "#%% md\n"
    }
   }
  },
  {
   "cell_type": "code",
   "execution_count": null,
   "outputs": [],
   "source": [
    "vcf_all = pysam.VariantFile(\"/home/s/src/search_your_dna/data/00-All.vcf.gz\") # from https://ftp.ncbi.nih.gov/snp/organisms/human_9606/VCF/\n",
    "recs_all = {}\n",
    "for rec in vcf_all.fetch(\"6\", rs9380142_pos - 1, rs9380142_pos):\n",
    "    print(rec)\n",
    "    recs_all[rec.id] = rec"
   ],
   "metadata": {
    "collapsed": false,
    "pycharm": {
     "name": "#%%\n"
    }
   }
  },
  {
   "cell_type": "code",
   "execution_count": null,
   "outputs": [],
   "source": [
    "rs9380142_pos_on_contig = rs9380142_pos - 28510120 # 28510120 start of alt contig\n",
    "for rec in my_vcf.fetch('chr6_GL000254v2_alt', rs9380142_pos_on_contig - 10):\n",
    "    print(rec)"
   ],
   "metadata": {
    "collapsed": false,
    "pycharm": {
     "name": "#%%\n"
    }
   }
  },
  {
   "cell_type": "markdown",
   "source": [
    "*Based on this quick experiment, it seems all data can be put together based on my VCF file and ALL VCF file*\n",
    "\n",
    "There will be logic related to querying variance from the right alt contig.\n",
    "\n",
    "\n"
   ],
   "metadata": {
    "collapsed": false,
    "pycharm": {
     "name": "#%% md\n"
    }
   }
  }
 ],
 "metadata": {
  "kernelspec": {
   "display_name": "Python 3",
   "language": "python",
   "name": "python3"
  },
  "language_info": {
   "codemirror_mode": {
    "name": "ipython",
    "version": 2
   },
   "file_extension": ".py",
   "mimetype": "text/x-python",
   "name": "python",
   "nbconvert_exporter": "python",
   "pygments_lexer": "ipython2",
   "version": "2.7.6"
  }
 },
 "nbformat": 4,
 "nbformat_minor": 0
}