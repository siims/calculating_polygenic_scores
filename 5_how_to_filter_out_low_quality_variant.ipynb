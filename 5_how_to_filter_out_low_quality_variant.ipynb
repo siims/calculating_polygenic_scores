{
 "cells": [
  {
   "cell_type": "markdown",
   "source": [
    "# Applying threshold on quality and read depth\n",
    "\n",
    "Used `bcftools` [see](https://samtools.github.io/bcftools/howtos/variant-calling.html) for more details.\n",
    "\n",
    "TODO: Look into [VQSLOD](https://gatk.broadinstitute.org/hc/en-us/articles/360035531112--How-to-Filter-variants-either-with-VQSR-or-by-hard-filtering) filtering.\n",
    "\n",
    "## Understanding which threshold to choose\n",
    "\n",
    "### Looked into data `QUAL` column."
   ],
   "metadata": {
    "collapsed": false,
    "pycharm": {
     "name": "#%% md\n"
    }
   }
  },
  {
   "cell_type": "code",
   "execution_count": 17,
   "outputs": [],
   "source": [
    "from utils.bam_vcf_utils import read_raw_zipped_vcf_file"
   ],
   "metadata": {
    "collapsed": false,
    "pycharm": {
     "name": "#%%\n"
    }
   }
  },
  {
   "cell_type": "code",
   "execution_count": 18,
   "outputs": [],
   "source": [
    "root_dir = \"/path/to/project/data/root\"\n",
    "vcf38 = root_dir + \"GENOME.unfiltered.vcf.gz\""
   ],
   "metadata": {
    "collapsed": false,
    "pycharm": {
     "name": "#%%\n"
    }
   }
  },
  {
   "cell_type": "code",
   "execution_count": 19,
   "outputs": [],
   "source": [
    "vcf38_df = read_raw_zipped_vcf_file(vcf38)\n",
    "vcf38_df[[\"QUAL\"]] = vcf38_df[[\"QUAL\"]].astype(float)\n",
    "vcf38_df"
   ],
   "metadata": {
    "collapsed": false,
    "pycharm": {
     "name": "#%%\n"
    }
   }
  },
  {
   "cell_type": "markdown",
   "source": [
    "#### See distribution of quality values"
   ],
   "metadata": {
    "collapsed": false,
    "pycharm": {
     "name": "#%% md\n"
    }
   }
  },
  {
   "cell_type": "code",
   "execution_count": 20,
   "outputs": [
    {
     "data": {
      "text/plain": "array([[<AxesSubplot:title={'center':'QUAL'}>]], dtype=object)"
     },
     "execution_count": 20,
     "metadata": {},
     "output_type": "execute_result"
    },
    {
     "data": {
      "text/plain": "<Figure size 432x288 with 1 Axes>",
      "image/png": "[encoded data removed]"
     },
     "metadata": {
      "needs_background": "light"
     },
     "output_type": "display_data"
    }
   ],
   "source": [
    "vcf38_df[[\"QUAL\"]].hist(bins=20)"
   ],
   "metadata": {
    "collapsed": false,
    "pycharm": {
     "name": "#%%\n"
    }
   }
  },
  {
   "cell_type": "code",
   "execution_count": 21,
   "outputs": [
    {
     "data": {
      "text/plain": "           QUAL\n0.03  11.508759\n0.05  19.521000\n0.10  41.750700\n0.20  80.000000",
      "text/html": "<div>\n<style scoped>\n    .dataframe tbody tr th:only-of-type {\n        vertical-align: middle;\n    }\n\n    .dataframe tbody tr th {\n        vertical-align: top;\n    }\n\n    .dataframe thead th {\n        text-align: right;\n    }\n</style>\n<table border=\"1\" class=\"dataframe\">\n  <thead>\n    <tr style=\"text-align: right;\">\n      <th></th>\n      <th>QUAL</th>\n    </tr>\n  </thead>\n  <tbody>\n    <tr>\n      <th>0.03</th>\n      <td>11.508759</td>\n    </tr>\n    <tr>\n      <th>0.05</th>\n      <td>19.521000</td>\n    </tr>\n    <tr>\n      <th>0.10</th>\n      <td>41.750700</td>\n    </tr>\n    <tr>\n      <th>0.20</th>\n      <td>80.000000</td>\n    </tr>\n  </tbody>\n</table>\n</div>"
     },
     "execution_count": 21,
     "metadata": {},
     "output_type": "execute_result"
    }
   ],
   "source": [
    "vcf38_df[[\"QUAL\"]].quantile([.03, .05, .1, .2])"
   ],
   "metadata": {
    "collapsed": false,
    "pycharm": {
     "name": "#%%\n"
    }
   }
  },
  {
   "cell_type": "markdown",
   "source": [
    "### Do filtering\n",
    "\n",
    "Arbitrarily thresholds picked:\n",
    " - Quality threshold of `20` to remove very uncertain variants - removed around 5% of them (`QUAL` column in vcf)\n",
    " - Sequencing depth threshold `10` for X30 sequencing (`INFO/DP` in vcf) \n",
    "\n",
    "Run filtering:"
   ],
   "metadata": {
    "collapsed": false,
    "pycharm": {
     "name": "#%% md\n"
    }
   }
  },
  {
   "cell_type": "code",
   "execution_count": 23,
   "outputs": [],
   "source": [
    "%%bash\n",
    "\n",
    "set -x\n",
    "VCF_UNFILTERED_GZ=/path/to/vcf/GENOME12345.vcf.gz\n",
    "VCF_FILTERED=/path/to/vcf/output/GENOME12345.filtered.vcf\n",
    "VCF_FILTERED_GZ=$VCF_FILTERED\".gz\"\n",
    "\n",
    "time bcftools view -i '%QUAL>20 && INFO/DP>10' $VCF_UNFILTERED_GZ > $VCF_FILTERED\n",
    "bgzip -c $VCF_FILTERED > $VCF_FILTERED_GZ\n",
    "tabix -p vcf $VCF_FILTERED_GZ"
   ],
   "metadata": {
    "collapsed": false,
    "pycharm": {
     "name": "#%%\n"
    }
   }
  }
 ],
 "metadata": {
  "kernelspec": {
   "display_name": "Python 3",
   "language": "python",
   "name": "python3"
  },
  "language_info": {
   "codemirror_mode": {
    "name": "ipython",
    "version": 2
   },
   "file_extension": ".py",
   "mimetype": "text/x-python",
   "name": "python",
   "nbconvert_exporter": "python",
   "pygments_lexer": "ipython2",
   "version": "2.7.6"
  }
 },
 "nbformat": 4,
 "nbformat_minor": 0
}