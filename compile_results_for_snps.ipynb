{
 "cells": [
  {
   "cell_type": "markdown",
   "metadata": {
    "pycharm": {
     "name": "#%% md\n"
    }
   },
   "source": [
    "# Get results based on my snp values"
   ]
  },
  {
   "cell_type": "code",
   "execution_count": null,
   "metadata": {
    "pycharm": {
     "name": "#%%\n"
    }
   },
   "outputs": [],
   "source": [
    "import json\n",
    "import sqlite3\n",
    "import time\n",
    "from functools import reduce\n",
    "from pathlib import Path\n",
    "\n",
    "import numpy as np\n",
    "import pandas as pd\n",
    "import pysam\n",
    "from IPython.core.display import display\n",
    "\n",
    "from search_your_dna.pgscatalog import get_all_pgs_api_data, read_or_download_pgs_scoring_file\n",
    "from search_your_dna.snp_store import persist_all_snps_to_db\n",
    "from search_your_dna.util import chrom_list, get_genotype_for_chrom_pos, calc_genotype_for_chrom_snp_reads, \\\n",
    "    get_chrom_reads_in_pos, get_my_genotypes_for_pgs, merge_pgs_with_my_genotype, filter_out_none_effect_alleles, \\\n",
    "    filter_out_effect_alleles, get_my_snps_for_chromosome, load_vcf_to_df, read_raw_zipped_polygenic_score_file"
   ]
  },
  {
   "cell_type": "code",
   "execution_count": null,
   "metadata": {
    "pycharm": {
     "name": "#%%\n"
    }
   },
   "outputs": [],
   "source": [
    "cache_file_name = \"data/vcf_records.parquet.gz\"\n",
    "vcf_database_file = \"/home/s/src/search_your_dna/data/ncbi_snpdb_all_ids.sqlite\"\n",
    "vcf_file_paths = [Path(f) for f in [\n",
    "    \"/home/s/Dropbox/Siim/health/genetest_2020/GFX0237425.cnv.vcf.gz\",\n",
    "    \"/home/s/Dropbox/Siim/health/genetest_2020/GFX0237425.filtered.indel.vcf.gz\",\n",
    "    \"/home/s/Dropbox/Siim/health/genetest_2020/GFX0237425.filtered.snp.vcf.gz\",\n",
    "    \"/home/s/Dropbox/Siim/health/genetest_2020/GFX0237425.sv.vcf.gz\"\n",
    "]]\n"
   ]
  },
  {
   "cell_type": "markdown",
   "metadata": {
    "pycharm": {
     "name": "#%% md\n"
    }
   },
   "source": [
    "## Load variant files"
   ]
  },
  {
   "cell_type": "code",
   "execution_count": null,
   "metadata": {
    "pycharm": {
     "name": "#%%\n"
    }
   },
   "outputs": [],
   "source": [
    "vcf_df = load_vcf_to_df(vcf_files=vcf_file_paths, cache_file_name=cache_file_name)\n",
    "vcf_df.shape"
   ]
  },
  {
   "cell_type": "code",
   "execution_count": null,
   "metadata": {
    "pycharm": {
     "name": "#%%\n"
    }
   },
   "outputs": [],
   "source": [
    "df1 = vcf_df.loc[vcf_df[\"POS\"] == 7383583]"
   ]
  },
  {
   "cell_type": "markdown",
   "metadata": {
    "pycharm": {
     "name": "#%% md\n"
    }
   },
   "source": [
    "## Load polygenic risk scores to analyse"
   ]
  },
  {
   "cell_type": "markdown",
   "metadata": {},
   "source": [
    "### For Alzheimer's"
   ]
  },
  {
   "cell_type": "code",
   "execution_count": null,
   "metadata": {
    "pycharm": {
     "name": "#%%\n"
    }
   },
   "outputs": [],
   "source": [
    "polygenic_risk_score_file_alzheimer = \"data/PGS000025.txt.gz\"\n",
    "pgs_025_df = read_raw_zipped_polygenic_score_file(polygenic_risk_score_file_alzheimer)\n",
    "pgs_025_df"
   ]
  },
  {
   "cell_type": "markdown",
   "metadata": {},
   "source": [
    "### For Schizophrenia"
   ]
  },
  {
   "cell_type": "code",
   "execution_count": null,
   "metadata": {
    "pycharm": {
     "name": "#%%\n"
    }
   },
   "outputs": [],
   "source": [
    "polygenic_risk_score_file_schizophrenia = \"data/PGS000133.txt.gz\"\n",
    "pgs_133_df = read_raw_zipped_polygenic_score_file(polygenic_risk_score_file_schizophrenia)\n",
    "pgs_133_df"
   ]
  },
  {
   "cell_type": "markdown",
   "metadata": {
    "pycharm": {
     "name": "#%% md\n"
    }
   },
   "source": [
    "## Get my genotype for the disease"
   ]
  },
  {
   "cell_type": "code",
   "execution_count": null,
   "metadata": {
    "pycharm": {
     "name": "#%%\n"
    }
   },
   "outputs": [],
   "source": [
    "bam_file = \"/home/s/Dropbox/Siim/health/genetest_2020/GFX0237425.bam\"\n",
    "alignment_data = pysam.AlignmentFile(bam_file, \"rb\")"
   ]
  },
  {
   "cell_type": "code",
   "execution_count": null,
   "outputs": [],
   "source": [
    "print(\"ALPHA-1 ANTITRYPSIN DEFICIENCY\")\n",
    "display((get_genotype_for_chrom_pos(alignment_data, \"14\", 94847386),))\n",
    "print(\"Aspirin\")\n",
    "display((get_genotype_for_chrom_pos(alignment_data, \"5\", 179220638),))"
   ],
   "metadata": {
    "collapsed": false,
    "pycharm": {
     "name": "#%%\n"
    }
   }
  },
  {
   "cell_type": "code",
   "execution_count": null,
   "outputs": [],
   "source": [
    "calc_genotype_for_chrom_snp_reads(get_chrom_reads_in_pos(alignment_data, \"14\", {94847386}))\n"
   ],
   "metadata": {
    "collapsed": false,
    "pycharm": {
     "name": "#%%\n"
    }
   }
  },
  {
   "cell_type": "code",
   "execution_count": null,
   "metadata": {
    "pycharm": {
     "name": "#%%\n"
    }
   },
   "outputs": [],
   "source": [
    "%%time\n",
    "my_genotypes_for_pgs_025_cache_file = \"my_genotypes_for_pgs_025.csv\"\n",
    "my_genotypes_for_pgs_025 = get_my_genotypes_for_pgs(alignment_data, pgs_025_df, my_genotypes_for_pgs_025_cache_file)\n",
    "display(my_genotypes_for_pgs_025)"
   ]
  },
  {
   "cell_type": "code",
   "execution_count": null,
   "metadata": {
    "pycharm": {
     "name": "#%%\n"
    }
   },
   "outputs": [],
   "source": [
    "%%time\n",
    "my_genotypes_for_pgs_133_cache_file = \"my_genotypes_for_pgs_133.csv\"\n",
    "my_genotypes_for_pgs_133 = get_my_genotypes_for_pgs(alignment_data, pgs_133_df, my_genotypes_for_pgs_133_cache_file, filter=False)\n",
    "display(my_genotypes_for_pgs_133)"
   ]
  },
  {
   "cell_type": "markdown",
   "metadata": {
    "pycharm": {
     "name": "#%% md\n"
    }
   },
   "source": [
    "## Search for Alzheimer's"
   ]
  },
  {
   "cell_type": "markdown",
   "metadata": {
    "pycharm": {
     "name": "#%% md\n"
    }
   },
   "source": [
    "### Polygenic risk score"
   ]
  },
  {
   "cell_type": "code",
   "execution_count": null,
   "metadata": {
    "pycharm": {
     "name": "#%%\n"
    }
   },
   "outputs": [],
   "source": [
    "pgs_025_df"
   ]
  },
  {
   "cell_type": "markdown",
   "metadata": {
    "pycharm": {
     "name": "#%% md\n"
    }
   },
   "source": [
    "### Select my alleles for list in PGS"
   ]
  },
  {
   "cell_type": "code",
   "execution_count": null,
   "metadata": {
    "pycharm": {
     "name": "#%%\n"
    }
   },
   "outputs": [],
   "source": [
    "my_genotypes_for_pgs_025"
   ]
  },
  {
   "cell_type": "code",
   "execution_count": null,
   "metadata": {
    "pycharm": {
     "name": "#%%\n"
    }
   },
   "outputs": [],
   "source": [
    "my_alzheimers_snps_df = merge_pgs_with_my_genotype(pgs_025_df, my_genotypes_for_pgs_025)\n",
    "my_alzheimers_snps_df = filter_out_none_effect_alleles(my_alzheimers_snps_df)\n",
    "my_alzheimers_snps_df"
   ]
  },
  {
   "cell_type": "code",
   "execution_count": null,
   "metadata": {
    "pycharm": {
     "name": "#%%\n"
    }
   },
   "outputs": [],
   "source": [
    "my_alzheimers_snps_df[\"effect_weight\"].sum()"
   ]
  },
  {
   "cell_type": "markdown",
   "metadata": {
    "pycharm": {
     "name": "#%% md\n"
    }
   },
   "source": [
    "### combined using a weighted sum of allele dosages multiplied by their corresponding effect sizes"
   ]
  },
  {
   "cell_type": "code",
   "execution_count": null,
   "metadata": {
    "pycharm": {
     "name": "#%%\n"
    }
   },
   "outputs": [],
   "source": [
    "merged_df = merge_pgs_with_my_genotype(pgs_025_df, my_genotypes_for_pgs_025)\n",
    "# sum(count effect allele in genotype * effect_weight)\n",
    "merged_df[\"effect_allele_1\"] = merged_df[\"genotype\"].map(lambda x: x[0]) == merged_df[\"effect_allele\"]\n",
    "merged_df[\"effect_allele_2\"] = merged_df[\"genotype\"].map(lambda x: x[1]) == merged_df[\"effect_allele\"]\n",
    "merged_df[\"effect_allele_1\"] = merged_df[\"effect_allele_1\"].astype(int)\n",
    "merged_df[\"effect_allele_2\"] = merged_df[\"effect_allele_2\"].astype(int)\n",
    "merged_df[\"gene_dosage\"] = merged_df[\"effect_allele_1\"] + merged_df[\"effect_allele_2\"]\n",
    "merged_df[\"effect\"] = merged_df[\"gene_dosage\"] * merged_df[\"effect_weight\"]\n",
    "merged_df"
   ]
  },
  {
   "cell_type": "code",
   "execution_count": null,
   "metadata": {
    "pycharm": {
     "name": "#%%\n"
    }
   },
   "outputs": [],
   "source": [
    "merged_df[\"effect\"].sum()"
   ]
  },
  {
   "cell_type": "markdown",
   "metadata": {
    "pycharm": {
     "name": "#%% md\n"
    }
   },
   "source": [
    "## Search for schizophrenia"
   ]
  },
  {
   "cell_type": "markdown",
   "metadata": {
    "pycharm": {
     "name": "#%% md\n"
    }
   },
   "source": [
    "### Get disease related SNPs"
   ]
  },
  {
   "cell_type": "code",
   "execution_count": null,
   "metadata": {
    "pycharm": {
     "name": "#%%\n"
    }
   },
   "outputs": [],
   "source": [
    "schizophrenia_snvs_ncbi_response = \"/home/s/src/search_your_dna/.idea/httpRequests/2020-10-28T094336.200.json\"\n",
    "with open(schizophrenia_snvs_ncbi_response) as f:\n",
    "    schizophrenia_data = json.load(f)\n",
    "rsIDs_schizophrenia = schizophrenia_data[\"result\"][\"uids\"]\n",
    "\n",
    "\n",
    "schizophrenia_chr_positions = {}\n",
    "for rsID in rsIDs_schizophrenia:\n",
    "    variant = schizophrenia_data[\"result\"][rsID]\n",
    "    chromosome = variant[\"chr_sort\"].lstrip(\"0\")\n",
    "    position = int(variant[\"location_sort\"].lstrip(\"0\"))\n",
    "    schizophrenia_chr_positions[rsID] = [chromosome, position]"
   ]
  },
  {
   "cell_type": "markdown",
   "metadata": {
    "pycharm": {
     "name": "#%% md\n"
    }
   },
   "source": [
    "### Select only disease variance that I have"
   ]
  },
  {
   "cell_type": "code",
   "execution_count": null,
   "metadata": {
    "pycharm": {
     "name": "#%%\n"
    }
   },
   "outputs": [],
   "source": [
    "schizophrenia_snv_positions = list(map(lambda x: np.int64(x[1]), filter(lambda x: x[1] != 99999999999999999999, schizophrenia_chr_positions.values())))\n",
    "df_row_selector = vcf_df[\"POS\"].isin(schizophrenia_snv_positions)\n",
    "my_schizophrenia_matches = vcf_df.loc[df_row_selector]\n",
    "my_schizophrenia_matches"
   ]
  },
  {
   "cell_type": "markdown",
   "metadata": {
    "pycharm": {
     "name": "#%% md\n"
    }
   },
   "source": [
    "### Select my alleles for list in PGS"
   ]
  },
  {
   "cell_type": "code",
   "execution_count": null,
   "metadata": {
    "pycharm": {
     "name": "#%%\n"
    }
   },
   "outputs": [],
   "source": [
    "my_genotypes_for_pgs_133"
   ]
  },
  {
   "cell_type": "code",
   "execution_count": null,
   "metadata": {
    "pycharm": {
     "name": "#%%\n"
    }
   },
   "outputs": [],
   "source": [
    "my_schizophrenia_snps_df = merge_pgs_with_my_genotype(pgs_133_df, my_genotypes_for_pgs_133)\n",
    "my_for_schizophrenia_snps_df = filter_out_none_effect_alleles(my_schizophrenia_snps_df)\n",
    "my_against_schizophrenia_snps_df = filter_out_effect_alleles(my_schizophrenia_snps_df)\n",
    "display(my_for_schizophrenia_snps_df)\n",
    "display(my_against_schizophrenia_snps_df)"
   ]
  },
  {
   "cell_type": "code",
   "execution_count": null,
   "metadata": {
    "pycharm": {
     "name": "#%%\n"
    }
   },
   "outputs": [],
   "source": [
    "merged_df = merge_pgs_with_my_genotype(pgs_133_df, my_genotypes_for_pgs_133)\n",
    "# sum(count effect allele in genotype * effect_weight)\n",
    "merged_df[\"effect_allele_1\"] = merged_df[\"genotype\"].map(lambda x: x[0]) == merged_df[\"effect_allele\"]\n",
    "merged_df[\"effect_allele_2\"] = merged_df[\"genotype\"].map(lambda x: x[1]) == merged_df[\"effect_allele\"]\n",
    "merged_df[\"effect_allele_1\"] = merged_df[\"effect_allele_1\"].astype(int)\n",
    "merged_df[\"effect_allele_2\"] = merged_df[\"effect_allele_2\"].astype(int)\n",
    "merged_df[\"gene_dosage\"] = merged_df[\"effect_allele_1\"] + merged_df[\"effect_allele_2\"]\n",
    "merged_df[\"effect\"] = merged_df[\"gene_dosage\"] * merged_df[\"effect_weight\"]\n",
    "merged_df"
   ]
  },
  {
   "cell_type": "code",
   "execution_count": null,
   "outputs": [],
   "source": [
    "merged_df[\"effect\"].sum()"
   ],
   "metadata": {
    "collapsed": false,
    "pycharm": {
     "name": "#%%\n"
    }
   }
  },
  {
   "cell_type": "code",
   "execution_count": null,
   "outputs": [],
   "source": [
    "alignment_data.close()"
   ],
   "metadata": {
    "collapsed": false,
    "pycharm": {
     "name": "#%%\n"
    }
   }
  },
  {
   "cell_type": "markdown",
   "source": [
    "### Collect PGS data"
   ],
   "metadata": {
    "collapsed": false,
    "pycharm": {
     "name": "#%% md\n"
    }
   }
  },
  {
   "cell_type": "markdown",
   "source": [
    "#### Get all traits available in pgs catalogue"
   ],
   "metadata": {
    "collapsed": false,
    "pycharm": {
     "name": "#%% md\n"
    }
   }
  },
  {
   "cell_type": "code",
   "execution_count": null,
   "outputs": [],
   "source": [
    "all_traits_result = get_all_pgs_api_data(\"trait/all\")"
   ],
   "metadata": {
    "collapsed": false,
    "pycharm": {
     "name": "#%%\n"
    }
   }
  },
  {
   "cell_type": "code",
   "execution_count": null,
   "outputs": [],
   "source": [
    "all_pgs_traits_df = pd.DataFrame(all_traits_result)\n",
    "print(all_pgs_traits_df.columns)\n",
    "all_pgs_traits_df"
   ],
   "metadata": {
    "collapsed": false,
    "pycharm": {
     "name": "#%%\n"
    }
   }
  },
  {
   "cell_type": "code",
   "execution_count": null,
   "outputs": [],
   "source": [
    "pgs_ids = set(reduce(lambda a, b: a + b, all_pgs_traits_df[\"associated_pgs_ids\"].to_list(), []))"
   ],
   "metadata": {
    "collapsed": false,
    "pycharm": {
     "name": "#%%\n"
    }
   }
  },
  {
   "cell_type": "markdown",
   "source": [
    "#### Get pgs entities from pgs"
   ],
   "metadata": {
    "collapsed": false,
    "pycharm": {
     "name": "#%% md\n"
    }
   }
  },
  {
   "cell_type": "markdown",
   "source": [
    "#### Download all pgs scoring files"
   ],
   "metadata": {
    "collapsed": false
   }
  },
  {
   "cell_type": "code",
   "execution_count": null,
   "outputs": [],
   "source": [
    "for pgs_id in sorted(pgs_ids):\n",
    "    try:\n",
    "        read_or_download_pgs_scoring_file(pgs_id)\n",
    "        time.sleep(0.5)  # Not to overload api with requests\n",
    "    except Exception as e:\n",
    "        print(f\"Something went wrong when parsing pgs file\", e)"
   ],
   "metadata": {
    "collapsed": false,
    "pycharm": {
     "name": "#%%\n"
    }
   }
  },
  {
   "cell_type": "markdown",
   "source": [
    "### Creating snp database\n",
    "#### get all SNP chr/pos values from ncbi"
   ],
   "metadata": {
    "collapsed": false,
    "pycharm": {
     "name": "#%% md\n"
    }
   }
  },
  {
   "cell_type": "markdown",
   "source": [
    "available for download in: https://ftp.ncbi.nih.gov/snp/organisms/human_9606/VCF/\n",
    "as `00-All.vcf.gz`"
   ],
   "metadata": {
    "collapsed": false,
    "pycharm": {
     "name": "#%% md\n"
    }
   }
  },
  {
   "cell_type": "markdown",
   "source": [
    "#### Store results in a sqlite db"
   ],
   "metadata": {
    "collapsed": false,
    "pycharm": {
     "name": "#%% md\n"
    }
   }
  },
  {
   "cell_type": "code",
   "execution_count": null,
   "outputs": [],
   "source": [
    "all_rsid_file = \"/home/s/src/search_your_dna/data/00-All.vcf\"\n",
    "conn = sqlite3.connect(vcf_database_file)"
   ],
   "metadata": {
    "collapsed": false,
    "pycharm": {
     "name": "#%%\n"
    }
   }
  },
  {
   "cell_type": "code",
   "execution_count": null,
   "outputs": [],
   "source": [],
   "metadata": {
    "collapsed": false,
    "pycharm": {
     "name": "#%%\n"
    }
   }
  },
  {
   "cell_type": "code",
   "execution_count": null,
   "outputs": [],
   "source": [
    "persist_all_snps_to_db(conn, all_rsid_file)"
   ],
   "metadata": {
    "collapsed": false,
    "pycharm": {
     "name": "#%%\n"
    }
   }
  },
  {
   "cell_type": "code",
   "execution_count": null,
   "outputs": [],
   "source": [
    "all_snp_pos = pd.read_sql(\"SELECT distinct (chrom) FROM all_snp_pos\", con=conn)\n",
    "all_snp_pos"
   ],
   "metadata": {
    "collapsed": false,
    "pycharm": {
     "name": "#%%\n"
    }
   }
  },
  {
   "cell_type": "markdown",
   "source": [
    "#### find my genotype for all SNP values"
   ],
   "metadata": {
    "collapsed": false,
    "pycharm": {
     "name": "#%% md\n"
    }
   }
  },
  {
   "cell_type": "code",
   "execution_count": null,
   "outputs": [],
   "source": [
    "%%time\n",
    "for chrom in chrom_list:\n",
    "    get_my_snps_for_chromosome(snp_db_file=vcf_database_file, chrom=chrom)"
   ],
   "metadata": {
    "collapsed": false,
    "pycharm": {
     "name": "#%%\n"
    }
   }
  },
  {
   "cell_type": "markdown",
   "source": [
    "#### store SNP values in sqlite database"
   ],
   "metadata": {
    "collapsed": false,
    "pycharm": {
     "name": "#%% md\n"
    }
   }
  },
  {
   "cell_type": "code",
   "execution_count": null,
   "outputs": [],
   "source": [
    "my_chrom_16_snps_file = Path(\"data/my_chrom_16_snp.csv\")\n",
    "my_chrom_16_snps = pd.read_csv(my_chrom_16_snps_file, index_col=0)\n",
    "my_chrom_16_snps"
   ],
   "metadata": {
    "collapsed": false,
    "pycharm": {
     "name": "#%%\n"
    }
   }
  },
  {
   "cell_type": "code",
   "execution_count": null,
   "outputs": [],
   "source": [
    "vcf_database_file = \"/home/s/src/search_your_dna/data/ncbi_snpdb_all_ids.sqlite_backup\"\n",
    "conn = sqlite3.connect(vcf_database_file)\n",
    "cur = conn.cursor()\n",
    "cur.execute(\"ALTER TABLE all_snp_pos ADD genotype CHAR(2)\")\n",
    "conn.commit()"
   ],
   "metadata": {
    "collapsed": false,
    "pycharm": {
     "name": "#%%\n"
    }
   }
  },
  {
   "cell_type": "code",
   "execution_count": null,
   "outputs": [],
   "source": [
    "%%time\n",
    "vcf_database_file = \"/home/s/src/search_your_dna/data/ncbi_snpdb_all_ids.sqlite_backup\"\n",
    "conn = sqlite3.connect(vcf_database_file)\n",
    "cur = conn.cursor()\n",
    "for pos, genotype in my_chrom_16_snps.to_dict()[\"genotype\"].items():\n",
    "    cur.execute(f\"UPDATE all_snp_pos SET genotype = '{genotype}' WHERE chrom = '16' and pos = {pos}\")\n",
    "conn.commit()"
   ],
   "metadata": {
    "collapsed": false,
    "pycharm": {
     "name": "#%%\n"
    }
   }
  },
  {
   "cell_type": "markdown",
   "source": [
    "### Calculate PGS for my dna\n",
    "\n"
   ],
   "metadata": {
    "collapsed": false,
    "pycharm": {
     "name": "#%% md\n"
    }
   }
  }
 ],
 "metadata": {
  "kernelspec": {
   "display_name": "Python 3",
   "language": "python",
   "name": "python3"
  },
  "language_info": {
   "codemirror_mode": {
    "name": "ipython",
    "version": 3
   },
   "file_extension": ".py",
   "mimetype": "text/x-python",
   "name": "python",
   "nbconvert_exporter": "python",
   "pygments_lexer": "ipython3",
   "version": "3.8.3"
  }
 },
 "nbformat": 4,
 "nbformat_minor": 1
}