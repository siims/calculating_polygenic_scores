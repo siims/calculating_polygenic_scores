{
 "cells": [
  {
   "cell_type": "markdown",
   "metadata": {
    "pycharm": {
     "name": "#%% md\n"
    }
   },
   "source": [
    "# Get results based on my snp values"
   ]
  },
  {
   "cell_type": "markdown",
   "metadata": {
    "pycharm": {
     "name": "#%% md\n"
    }
   },
   "source": [
    "## read in vcf files"
   ]
  },
  {
   "cell_type": "code",
   "execution_count": null,
   "metadata": {
    "pycharm": {
     "name": "#%%\n"
    }
   },
   "outputs": [],
   "source": [
    "import pickle\n",
    "from pathlib import Path\n",
    "from typing import List\n",
    "\n",
    "import vcf"
   ]
  },
  {
   "cell_type": "code",
   "execution_count": null,
   "metadata": {
    "pycharm": {
     "name": "#%%\n"
    }
   },
   "outputs": [],
   "source": [
    "cache_file_name = \"/home/s/src/search_your_dna/data/vcf_records.pkl\"\n",
    "vcf_file_paths = [Path(f) for f in [\n",
    "    \"/home/s/Dropbox/Siim/health/genetest_2020/GFX0237425.cnv.vcf.gz\",\n",
    "    \"/home/s/Dropbox/Siim/health/genetest_2020/GFX0237425.filtered.indel.vcf.gz\",\n",
    "    # \"/home/s/Dropbox/Siim/health/genetest_2020/GFX0237425.filtered.snp.vcf.gz\",\n",
    "    \"/home/s/Dropbox/Siim/health/genetest_2020/GFX0237425.sv.vcf.gz\"\n",
    "]]\n",
    "\n",
    "def cache_vcf_records(records: List, overwrite: bool = False) -> None:\n",
    "    if overwrite and Path(cache_file_name).exists():\n",
    "        raise Exception(\"Won't overwrite existing cache file. Please set flag specifically to do that\")\n",
    "    with open(cache_file_name, \"wb\") as f:\n",
    "        print(f\"Caching records to {cache_file_name}\")\n",
    "\n",
    "        pickle.dump(records, f)\n",
    "\n",
    "def read_vcf_files(vcf_file_paths):\n",
    "    if Path(cache_file_name).exists():\n",
    "        print(f\"Reading cached files from {cache_file_name}\")\n",
    "        with open(cache_file_name, 'rb') as f:\n",
    "            records = pickle.load(f)\n",
    "    else:\n",
    "        records = []\n",
    "        for vcf_file_path in vcf_file_paths:\n",
    "            print(f\"Reading in source vcf file {vcf_file_path}\")\n",
    "            vcf_reader = vcf.Reader(filename=str(vcf_file_path))\n",
    "            for record in vcf_reader:\n",
    "                records.append(record)\n",
    "        cache_vcf_records(records=records)\n",
    "    return records\n",
    "\n",
    "records = read_vcf_files(vcf_file_paths=vcf_file_paths)"
   ]
  },
  {
   "cell_type": "code",
   "execution_count": null,
   "metadata": {
    "pycharm": {
     "name": "#%%\n"
    }
   },
   "outputs": [],
   "source": [
    "len(records)"
   ]
  },
  {
   "cell_type": "code",
   "execution_count": null,
   "metadata": {
    "pycharm": {
     "name": "#%%\n"
    }
   },
   "outputs": [],
   "source": [
    "print(records[0])"
   ]
  },
  {
   "cell_type": "code",
   "execution_count": null,
   "metadata": {
    "pycharm": {
     "name": "#%%\n"
    }
   },
   "outputs": [],
   "source": [
    "import mwclient\n",
    "\n",
    "agent = 'MySNPBot. Run by User:siim. Using mwclient/' + mwclient.__version__\n",
    "# tokens and secrets are only necessary if your bot will write into SNPedia.\n",
    "# get your own tokens at http://bots.snpedia.com/index.php/Special:OAuthConsumerRegistration\n",
    "site = mwclient.Site(('https', 'bots.snpedia.com'), path='/',\n",
    "                    clients_useragent=agent,\n",
    "                    consumer_token='???',\n",
    "                    consumer_secret='???',\n",
    "                    access_token='???',\n",
    "                    access_secret='???')\n",
    "\n",
    "\n",
    "res = site.search(\"Alzheimer\")"
   ]
  },
  {
   "cell_type": "code",
   "execution_count": null,
   "metadata": {
    "pycharm": {
     "name": "#%%\n"
    }
   },
   "outputs": [],
   "source": [
    "a = site.pages[\"Alzheimer\"]\n",
    "b = a.resolve_redirect()"
   ]
  },
  {
   "cell_type": "code",
   "execution_count": null,
   "metadata": {
    "pycharm": {
     "name": "#%%\n"
    }
   },
   "outputs": [],
   "source": [
    "c = b.text()"
   ]
  },
  {
   "cell_type": "code",
   "execution_count": null,
   "metadata": {
    "pycharm": {
     "name": "#%%\n"
    }
   },
   "outputs": [],
   "source": [
    "print(c)"
   ]
  },
  {
   "cell_type": "markdown",
   "metadata": {
    "pycharm": {
     "name": "#%% md\n"
    }
   },
   "source": [
    "## create mapping from rsID to alleles"
   ]
  },
  {
   "cell_type": "markdown",
   "metadata": {},
   "source": [
    "## ask for a search word"
   ]
  },
  {
   "cell_type": "markdown",
   "metadata": {},
   "source": [
    "## request data from snpedia"
   ]
  },
  {
   "cell_type": "markdown",
   "metadata": {},
   "source": [
    "## compile a view"
   ]
  }
 ],
 "metadata": {
  "kernelspec": {
   "display_name": "Python 3",
   "language": "python",
   "name": "python3"
  },
  "language_info": {
   "codemirror_mode": {
    "name": "ipython",
    "version": 2
   },
   "file_extension": ".py",
   "mimetype": "text/x-python",
   "name": "python",
   "nbconvert_exporter": "python",
   "pygments_lexer": "ipython2",
   "version": "2.7.6"
  }
 },
 "nbformat": 4,
 "nbformat_minor": 0
}
