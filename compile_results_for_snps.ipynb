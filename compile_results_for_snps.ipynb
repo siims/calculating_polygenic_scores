{
 "cells": [
  {
   "cell_type": "markdown",
   "source": [
    "# Get results based on my snp values"
   ],
   "metadata": {
    "collapsed": false
   }
  },
  {
   "cell_type": "code",
   "execution_count": null,
   "outputs": [],
   "source": [
    "from functools import reduce\n",
    "from pathlib import Path\n",
    "\n",
    "import pandas as pd\n",
    "import pysam\n",
    "from IPython.core.display import display\n",
    "\n",
    "from search_your_dna.pgscatalog import get_all_pgs_api_data, read_or_download_pgs_scoring_file, calc_polygenic_score, \\\n",
    "    PGS_METHOD_MAPPING_TO_METHOD_CATEGORIES, MethodCategories\n",
    "from search_your_dna.util import get_genotype_for_chrom_pos"
   ],
   "metadata": {
    "collapsed": false,
    "pycharm": {
     "name": "#%%\n"
    }
   }
  },
  {
   "cell_type": "code",
   "execution_count": null,
   "outputs": [],
   "source": [
    "cache_file_name = \"data/vcf_records.parquet.gz\"\n",
    "snp_db_file = \"/home/s/src/search_your_dna/data/ncbi_snpdb_all_ids.sqlite\"\n",
    "vcf_file_paths = [Path(f) for f in [\n",
    "    \"/home/s/Dropbox/Siim/health/genetest_2020/GFX0237425.cnv.vcf.gz\",\n",
    "    \"/home/s/Dropbox/Siim/health/genetest_2020/GFX0237425.filtered.indel.vcf.gz\",\n",
    "    \"/home/s/Dropbox/Siim/health/genetest_2020/GFX0237425.filtered.snp.vcf.gz\",\n",
    "    \"/home/s/Dropbox/Siim/health/genetest_2020/GFX0237425.sv.vcf.gz\"\n",
    "]]"
   ],
   "metadata": {
    "collapsed": false,
    "pycharm": {
     "name": "#%%\n"
    }
   }
  },
  {
   "cell_type": "markdown",
   "source": [
    "## Get my genotype for the disease"
   ],
   "metadata": {
    "collapsed": false
   }
  },
  {
   "cell_type": "code",
   "execution_count": null,
   "outputs": [],
   "source": [
    "bam_file_old = \"/home/s/Dropbox/Siim/health/genetest_2020/GFX0237425.bam\"\n",
    "bam_file = \"/home/s/Dropbox/Siim/health/genetest_2020/GFX0237425.GRCh38.p7.bam\"\n",
    "alignment_data_old = pysam.AlignmentFile(bam_file_old, \"rb\")\n",
    "alignment_data = pysam.AlignmentFile(bam_file, \"rb\")"
   ],
   "metadata": {
    "collapsed": false,
    "pycharm": {
     "name": "#%%\n"
    }
   }
  },
  {
   "cell_type": "code",
   "execution_count": null,
   "outputs": [],
   "source": [
    "print(\"ALPHA-1 ANTITRYPSIN DEFICIENCY\")\n",
    "display((get_genotype_for_chrom_pos(alignment_data, \"14\", 94847386),))\n",
    "print(\"Aspirin\")\n",
    "display((get_genotype_for_chrom_pos(alignment_data, \"5\", 179220638),))"
   ],
   "metadata": {
    "collapsed": false,
    "pycharm": {
     "name": "#%%\n"
    }
   }
  },
  {
   "cell_type": "markdown",
   "source": [
    "### Collect PGS data"
   ],
   "metadata": {
    "collapsed": false
   }
  },
  {
   "cell_type": "markdown",
   "source": [
    "#### Get all traits available in pgs catalogue"
   ],
   "metadata": {
    "collapsed": false
   }
  },
  {
   "cell_type": "code",
   "execution_count": null,
   "outputs": [],
   "source": [
    "all_traits_result = get_all_pgs_api_data(\"trait/all\")"
   ],
   "metadata": {
    "collapsed": false,
    "pycharm": {
     "name": "#%%\n"
    }
   }
  },
  {
   "cell_type": "code",
   "execution_count": null,
   "outputs": [],
   "source": [
    "all_pgs_traits_df = pd.DataFrame(all_traits_result)\n",
    "print(all_pgs_traits_df.columns)"
   ],
   "metadata": {
    "collapsed": false,
    "pycharm": {
     "name": "#%%\n"
    }
   }
  },
  {
   "cell_type": "code",
   "execution_count": null,
   "outputs": [],
   "source": [
    "pgs_ids = set(reduce(lambda a, b: a + b, all_pgs_traits_df[\"associated_pgs_ids\"].to_list(), []))\n",
    "len(pgs_ids)"
   ],
   "metadata": {
    "collapsed": false,
    "pycharm": {
     "name": "#%%\n"
    }
   }
  },
  {
   "cell_type": "markdown",
   "source": [
    "#### Get pgs entities from pgs"
   ],
   "metadata": {
    "collapsed": false
   }
  },
  {
   "cell_type": "markdown",
   "source": [
    "##### Get or download all pgs scoring files"
   ],
   "metadata": {
    "collapsed": false
   }
  },
  {
   "cell_type": "code",
   "execution_count": null,
   "outputs": [],
   "source": [
    "%%time\n",
    "pgs_score_dfs = []\n",
    "for pgs_id in sorted(pgs_ids):\n",
    "    try:\n",
    "        response_data, score_df = read_or_download_pgs_scoring_file(pgs_id)\n",
    "        score_df.attrs[\"metadata\"] = response_data\n",
    "        pgs_score_dfs.append(score_df)\n",
    "    except Exception as e:\n",
    "        print(f\"Something went wrong when parsing pgs {pgs_id} file.\", e)"
   ],
   "metadata": {
    "collapsed": false,
    "pycharm": {
     "name": "#%%\n"
    }
   }
  },
  {
   "cell_type": "markdown",
   "source": [
    "##### Calc some PGS score metadata"
   ],
   "metadata": {
    "collapsed": false,
    "pycharm": {
     "name": "#%% md\n"
    }
   }
  },
  {
   "cell_type": "code",
   "execution_count": null,
   "outputs": [],
   "source": [
    "methods = set()\n",
    "traits = set()\n",
    "efo_terms = set()  # for more about efo see: https://www.ebi.ac.uk/ols/ontologies/efo\n",
    "for pgs_score_df in pgs_score_dfs:\n",
    "    methods.add(pgs_score_df.attrs[\"metadata\"][\"method_name\"])\n",
    "    traits.add(pgs_score_df.attrs[\"metadata\"][\"trait_reported\"])\n",
    "    for trait in pgs_score_df.attrs[\"metadata\"][\"trait_efo\"]:\n",
    "        if trait[\"id\"].startswith(\"EFO_\"):\n",
    "            efo_terms.add(trait[\"label\"])\n",
    "with open(\"data/pgs/metadata_methods.txt\", \"w\") as f:\n",
    "    f.write(str(methods))\n",
    "with open(\"data/pgs/metadata_traits.txt\", \"w\") as f:\n",
    "    f.write(str(traits))\n",
    "with open(\"data/pgs/metadata_efo_terms.txt\", \"w\") as f:\n",
    "    f.write(str(efo_terms))\n",
    "f\"#methods: {len(methods)} and #traits: {len(traits)} and #terms {len(efo_terms)}\""
   ],
   "metadata": {
    "collapsed": false,
    "pycharm": {
     "name": "#%%\n"
    }
   }
  },
  {
   "cell_type": "markdown",
   "source": [
    "### Calculate PGS for my dna"
   ],
   "metadata": {
    "collapsed": false
   }
  },
  {
   "cell_type": "markdown",
   "source": [
    "#### Run all PGS calculations"
   ],
   "metadata": {
    "collapsed": false,
    "pycharm": {
     "name": "#%% md\n"
    }
   }
  },
  {
   "cell_type": "code",
   "execution_count": null,
   "outputs": [],
   "source": [
    "%time\n",
    "my_pgs_dfs = []\n",
    "for pgs_score_df in pgs_score_dfs:\n",
    "    analysis_method = PGS_METHOD_MAPPING_TO_METHOD_CATEGORIES.get(pgs_score_df.attrs[\"metadata\"][\"method_name\"])\n",
    "    if analysis_method is None or analysis_method == MethodCategories.UNKNOWN:\n",
    "        continue\n",
    "    try:\n",
    "        my_pgs, my_pgs_df = calc_polygenic_score(snp_db_file=snp_db_file, max_pgs_alleles=50, pgs_df=pgs_score_df)\n",
    "        my_pgs_df.attrs[\"metadata\"] = pgs_score_df.attrs[\"metadata\"]\n",
    "        my_pgs_df.attrs[\"score\"] = my_pgs\n",
    "        my_pgs_dfs.append(my_pgs_df)\n",
    "    except Exception as e:\n",
    "        print(f\"Failed {pgs_score_df.attrs['metadata']['id']} with error:\", e)"
   ],
   "metadata": {
    "collapsed": false,
    "pycharm": {
     "name": "#%%\n"
    }
   }
  },
  {
   "cell_type": "code",
   "execution_count": null,
   "outputs": [],
   "source": [],
   "metadata": {
    "collapsed": false,
    "pycharm": {
     "name": "#%%\n"
    }
   }
  }
 ],
 "metadata": {
  "kernelspec": {
   "display_name": "Python 3",
   "language": "python",
   "name": "python3"
  },
  "language_info": {
   "codemirror_mode": {
    "name": "ipython",
    "version": 3
   },
   "file_extension": ".py",
   "mimetype": "text/x-python",
   "name": "python",
   "nbconvert_exporter": "python",
   "pygments_lexer": "ipython3",
   "version": "3.8.3"
  }
 },
 "nbformat": 4,
 "nbformat_minor": 1
}