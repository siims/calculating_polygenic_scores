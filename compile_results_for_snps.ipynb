{
 "cells": [
  {
   "cell_type": "markdown",
   "metadata": {
    "pycharm": {
     "name": "#%% md\n"
    }
   },
   "source": [
    "# Get results based on my snp values"
   ]
  },
  {
   "cell_type": "code",
   "execution_count": null,
   "metadata": {
    "pycharm": {
     "name": "#%%\n"
    }
   },
   "outputs": [],
   "source": [
    "import gzip\n",
    "import json\n",
    "import re\n",
    "from collections import defaultdict\n",
    "from pathlib import Path\n",
    "from typing import Any, List, Union, Dict\n",
    "\n",
    "import numpy as np\n",
    "import pandas as pd\n",
    "from IPython.core.display import display\n"
   ]
  },
  {
   "cell_type": "code",
   "execution_count": null,
   "metadata": {
    "pycharm": {
     "name": "#%%\n"
    }
   },
   "outputs": [],
   "source": [
    "cache_file_name = \"data/vcf_records.parquet.gz\"\n",
    "vcf_file_paths = [Path(f) for f in [\n",
    "    \"/home/s/Dropbox/Siim/health/genetest_2020/GFX0237425.cnv.vcf.gz\",\n",
    "    \"/home/s/Dropbox/Siim/health/genetest_2020/GFX0237425.filtered.indel.vcf.gz\",\n",
    "    \"/home/s/Dropbox/Siim/health/genetest_2020/GFX0237425.filtered.snp.vcf.gz\",\n",
    "    \"/home/s/Dropbox/Siim/health/genetest_2020/GFX0237425.sv.vcf.gz\"\n",
    "]]"
   ]
  },
  {
   "cell_type": "code",
   "execution_count": null,
   "metadata": {
    "pycharm": {
     "name": "#%%\n"
    }
   },
   "outputs": [],
   "source": [
    "def get_file_header_line_number(file_name: Union[str, Path], header_pattern: str) -> int:\n",
    "    with gzip.open(str(file_name), \"r\") as f:\n",
    "        line_number = 0\n",
    "        for line in f:\n",
    "            if re.search(header_pattern, line.decode(\"utf-8\")):\n",
    "                return line_number\n",
    "            line_number += 1\n",
    "    raise Exception(f\"Couldn't find header in file {file_name}. Expected header: {header_pattern}\")\n",
    "\n",
    "def get_vcf_file_header_line_number(file_name: Union[str, Path]) -> int:\n",
    "    return get_file_header_line_number(\n",
    "        file_name=file_name,\n",
    "        header_pattern=\"#CHROM\\s+POS\\s+ID\\s+REF\\s+ALT\\s+QUAL\\s+FILTER\\s+INFO\\s+FORMAT\"\n",
    "    )\n",
    "\n",
    "def get_polygenic_score_file_header_line_number(file_name: Union[str, Path]) -> int:\n",
    "    return get_file_header_line_number(\n",
    "        file_name=file_name,\n",
    "        header_pattern=\"rsID\\s+chr_name\\s+chr_position\\s+effect_allele\"\n",
    "    )\n",
    "\n",
    "def read_raw_zipped_vcf_file(file_name: Union[str, Path]) -> pd.DataFrame:\n",
    "    header_row_number = get_vcf_file_header_line_number(file_name=file_name)\n",
    "    result = pd.read_csv(file_name, sep=\"\\s+\", skiprows=header_row_number, dtype=str)\n",
    "    result[\"POS\"] = result[\"POS\"].astype(np.int64)\n",
    "    return result\n",
    "\n",
    "def read_raw_zipped_polygenic_score_file(file_name: Union[str, Path]) -> pd.DataFrame:\n",
    "    header_row_number = get_polygenic_score_file_header_line_number(file_name=file_name)\n",
    "    result = pd.read_csv(file_name, sep=\"\\s+\", skiprows=header_row_number, dtype=str)\n",
    "    result[\"effect_weight\"] = result[\"effect_weight\"].astype(np.float)\n",
    "    result[\"chr_position\"] = result[\"chr_position\"].astype(np.int64)\n",
    "    return result\n",
    "\n",
    "\n",
    "def load_vcf_to_df(vcf_files: List[Union[str, Path]], cache_file_name: str = \"data/vcf_records.parquet.gz\"):\n",
    "    if Path(cache_file_name).exists():\n",
    "        return pd.read_parquet(cache_file_name)\n",
    "\n",
    "    dfs = []\n",
    "    for vcf_file_path in vcf_files:\n",
    "        print(f\"Reading in source vcf file {vcf_file_path}\")\n",
    "        dfs.append(read_raw_zipped_vcf_file(vcf_file_path))\n",
    "    raw_vcf_data = pd.concat(dfs, ignore_index=True)\n",
    "    raw_vcf_data.to_parquet(cache_file_name)\n",
    "    return raw_vcf_data\n",
    "\n",
    "def load_polygenic_score_file_to_df(file_name: Union[str, Path]) -> pd.DataFrame:\n",
    "    return read_raw_zipped_polygenic_score_file(file_name=file_name)"
   ]
  },
  {
   "cell_type": "markdown",
   "metadata": {
    "pycharm": {
     "name": "#%% md\n"
    }
   },
   "source": [
    "## Load variant files"
   ]
  },
  {
   "cell_type": "code",
   "execution_count": null,
   "metadata": {
    "pycharm": {
     "name": "#%%\n"
    }
   },
   "outputs": [],
   "source": [
    "vcf_df = load_vcf_to_df(vcf_files=vcf_file_paths, cache_file_name=cache_file_name)\n",
    "vcf_df.shape"
   ]
  },
  {
   "cell_type": "code",
   "execution_count": null,
   "metadata": {
    "pycharm": {
     "name": "#%%\n"
    }
   },
   "outputs": [],
   "source": [
    "df1 = vcf_df.loc[vcf_df[\"POS\"] == 7383583]"
   ]
  },
  {
   "cell_type": "markdown",
   "metadata": {},
   "source": [
    "## Search for Alzheimer's"
   ]
  },
  {
   "cell_type": "code",
   "execution_count": null,
   "metadata": {
    "pycharm": {
     "name": "#%%\n"
    }
   },
   "outputs": [],
   "source": [
    "polygenic_risk_score_file_alzheimer = \"data/PGS000025.txt.gz\"\n",
    "pgs_025_df = read_raw_zipped_polygenic_score_file(polygenic_risk_score_file_alzheimer)\n",
    "pgs_025_df"
   ]
  },
  {
   "cell_type": "markdown",
   "metadata": {
    "pycharm": {
     "name": "#%% md\n"
    }
   },
   "source": [
    "## Search for schizophrenia"
   ]
  },
  {
   "cell_type": "markdown",
   "metadata": {
    "pycharm": {
     "name": "#%% md\n"
    }
   },
   "source": [
    "### Get disease related SNPs"
   ]
  },
  {
   "cell_type": "code",
   "execution_count": null,
   "metadata": {
    "pycharm": {
     "name": "#%%\n"
    }
   },
   "outputs": [],
   "source": [
    "schizophrenia_snvs_ncbi_response = \"/home/s/src/search_your_dna/.idea/httpRequests/2020-10-28T094336.200.json\"\n",
    "with open(schizophrenia_snvs_ncbi_response) as f:\n",
    "    schizophrenia_data = json.load(f)\n",
    "rsIDs_schizophrenia = schizophrenia_data[\"result\"][\"uids\"]\n",
    "\n",
    "\n",
    "schizophrenia_chr_positions = {}\n",
    "for rsID in rsIDs_schizophrenia:\n",
    "    variant = schizophrenia_data[\"result\"][rsID]\n",
    "    chromosome = variant[\"chr_sort\"].lstrip(\"0\")\n",
    "    position = int(variant[\"location_sort\"].lstrip(\"0\"))\n",
    "    schizophrenia_chr_positions[rsID] = [chromosome, position]"
   ]
  },
  {
   "cell_type": "markdown",
   "metadata": {
    "pycharm": {
     "name": "#%% md\n"
    }
   },
   "source": [
    "### Select only disease variance that I have"
   ]
  },
  {
   "cell_type": "code",
   "execution_count": null,
   "metadata": {
    "pycharm": {
     "name": "#%%\n"
    }
   },
   "outputs": [],
   "source": [
    "schizophrenia_snv_positions = list(map(lambda x: np.int64(x[1]), filter(lambda x: x[1] != 99999999999999999999, schizophrenia_chr_positions.values())))\n",
    "df_row_selector = vcf_df[\"POS\"].isin(schizophrenia_snv_positions)\n",
    "my_schizophrenia_matches = vcf_df.loc[df_row_selector]\n",
    "my_schizophrenia_matches"
   ]
  },
  {
   "cell_type": "markdown",
   "metadata": {
    "pycharm": {
     "name": "#%% md\n"
    }
   },
   "source": [
    "### Calculate polygenic score"
   ]
  },
  {
   "cell_type": "code",
   "execution_count": null,
   "metadata": {
    "pycharm": {
     "name": "#%%\n"
    }
   },
   "outputs": [],
   "source": [
    "polygenic_risk_score_file = \"data/PGS000133.txt.gz\"\n",
    "pgs_133_df = read_raw_zipped_polygenic_score_file(polygenic_risk_score_file)\n",
    "pgs_133_df"
   ]
  },
  {
   "cell_type": "markdown",
   "metadata": {
    "pycharm": {
     "name": "#%% md\n"
    }
   },
   "source": [
    "## Get genotype"
   ]
  },
  {
   "cell_type": "code",
   "execution_count": null,
   "metadata": {
    "pycharm": {
     "name": "#%%\n"
    }
   },
   "outputs": [],
   "source": [
    "import pysam\n",
    "bam_file = \"/home/s/Dropbox/Siim/health/genetest_2020/GFX0237425.bam\"\n",
    "alignment_data = pysam.AlignmentFile(bam_file, \"rb\")\n",
    "ref_data = pysam.FastaFile(\"/home/s/src/data/ncbi-genomes-2020-11-01/GCF_000001405.25_GRCh37.p13_genomic.fna\")\n"
   ]
  },
  {
   "cell_type": "code",
   "execution_count": null,
   "metadata": {
    "pycharm": {
     "name": "#%%\n"
    }
   },
   "outputs": [],
   "source": [
    "def get_read_values_for_allele(chrom: str, pos: int) -> Dict[int, List[str]]:\n",
    "    sequence = defaultdict()\n",
    "    for pileupcolumn in alignment_data.pileup(chrom, pos, pos + 1):\n",
    "#         print (\"\\ncoverage at base %s = %s\" %\n",
    "#                (pileupcolumn.pos, pileupcolumn.n), \"pileups\", len(pileupcolumn.pileups))\n",
    "        if pos == pileupcolumn.pos:\n",
    "            if len(pileupcolumn.pileups) == 0:\n",
    "                print(f\"Chromosome {chrom} position {pos} does not have any READS\")\n",
    "                continue\n",
    "            reads_at_current_position = []\n",
    "            for pileupread in pileupcolumn.pileups:\n",
    "                if pileupread.is_del:\n",
    "                    reads_at_current_position.append(\"DEL\")\n",
    "                else:\n",
    "#                     print(pileupread.alignment.query_name, pileupread.alignment.query_sequence[pileupread.query_position])\n",
    "#                     print ('\\tbase in read %s = %s' % (pileupread.alignment.query_name, pileupread.alignment.query_sequence[pileupread.query_position]))\n",
    "                    reads_at_current_position.append(pileupread.alignment.query_sequence[pileupread.query_position])\n",
    "            sequence[pileupcolumn.pos] = reads_at_current_position\n",
    "    return sequence\n",
    "\n",
    "def genotype_from_reads(reads):\n",
    "    counts = {\"A\": 0, \"C\": 0, \"G\": 0, \"T\": 0, \"DEL\": 0}\n",
    "    for read in reads:\n",
    "        counts[read] += 1\n",
    "    sorted_count_keys = sorted(counts, key=counts.__getitem__, reverse=True)\n",
    "    sorted_count_values = [counts[k] for k in sorted_count_keys]\n",
    "    if sorted_count_values[0] / sum(sorted_count_values) > 0.9:\n",
    "        return f\"{sorted_count_keys[0]}{sorted_count_keys[0]}\"\n",
    "    else:\n",
    "        return f\"{sorted_count_keys[0]}{sorted_count_keys[1]}\"\n",
    "\n",
    "def calculate_chromosome_read_values(loci_df: pd.DataFrame) -> Dict[str, Any]:\n",
    "    chromosome_read_values = defaultdict()\n",
    "    for entry in loci_df.to_dict(orient=\"records\"):\n",
    "        chrom = entry[\"chr_name\"]\n",
    "        pos = entry[\"chr_position\"]\n",
    "        if chrom not in chromosome_read_values:\n",
    "            chromosome_read_values[chrom] = {}\n",
    "        allele_read_values = get_read_values_for_allele(chrom, int(pos))\n",
    "\n",
    "        chromosome_read_values[chrom] = {**chromosome_read_values[chrom], **allele_read_values}\n",
    "    return chromosome_read_values\n",
    "\n",
    "def calc_genotypes(loci_df: pd.DataFrame) -> pd.DataFrame:\n",
    "    chromosome_read_values = calculate_chromosome_read_values(loci_df)\n",
    "    \n",
    "    seq = pd.DataFrame(columns=[\"chr\",\"pos\",\"value\"])\n",
    "    for chrom, pos_reads in chromosome_read_values.items():\n",
    "        for pos, reads in pos_reads.items():\n",
    "            allele = genotype_from_reads(reads)\n",
    "            seq = seq.append({\"chr\": chrom, \"pos\": pos, \"value\": allele}, ignore_index=True)\n",
    "    return seq\n",
    "\n",
    "def get_my_genotypes_for_pgs(pgs_df: pd.DataFrame, cache_file_name: str, filter: bool = False) -> pd.DataFrame:\n",
    "    cache_file = f\"data/{cache_file_name}\"\n",
    "    if not Path(cache_file).exists():\n",
    "        if filter:\n",
    "            pgs_df_abs_weight = np.abs(pgs_df[\"effect_weight\"])\n",
    "            pgs_df = pgs_df[pgs_df_abs_weight > pgs_df_abs_weight.mean()]\n",
    "        my_genotypes = calc_genotypes(pgs_df)\n",
    "        my_genotypes.to_csv(cache_file, index=None)\n",
    "    else:\n",
    "        my_genotypes = pd.read_csv(cache_file, index_col=None)\n",
    "    return my_genotypes"
   ]
  },
  {
   "cell_type": "code",
   "execution_count": null,
   "metadata": {
    "pycharm": {
     "name": "#%%\n"
    }
   },
   "outputs": [],
   "source": [
    "%%time\n",
    "my_genotypes_for_pgs_025_cache_file = \"my_genotypes_for_pgs_025.csv\"\n",
    "my_genotypes_for_pgs_025 = get_my_genotypes_for_pgs(pgs_025_df, my_genotypes_for_pgs_025_cache_file)\n",
    "display(my_genotypes_for_pgs_025)"
   ]
  },
  {
   "cell_type": "code",
   "execution_count": null,
   "metadata": {
    "pycharm": {
     "name": "#%%\n"
    }
   },
   "outputs": [],
   "source": [
    "%%time\n",
    "my_genotypes_for_pgs_133_cache_file = \"my_genotypes_for_pgs_133.csv\"\n",
    "my_genotypes_for_pgs_133 = get_my_genotypes_for_pgs(pgs_133_df, my_genotypes_for_pgs_133_cache_file, filter=True)\n",
    "display(my_genotypes_for_pgs_133)"
   ]
  },
  {
   "cell_type": "code",
   "execution_count": null,
   "metadata": {
    "pycharm": {
     "name": "#%%\n"
    }
   },
   "outputs": [],
   "source": [
    "a = my_genotypes_for_pgs_133[\"value\"].map(lambda x: x[0])\n",
    "b = my_genotypes_for_pgs_133[\"value\"].map(lambda x: x[1])\n",
    "\n",
    "my_genotypes_for_pgs_133[a != b]"
   ]
  },
  {
   "cell_type": "code",
   "execution_count": null,
   "metadata": {
    "pycharm": {
     "name": "#%%\n"
    }
   },
   "outputs": [],
   "source": [
    "bam_file.close()\n",
    "alignment_data.close()"
   ]
  },
  {
   "cell_type": "code",
   "execution_count": null,
   "metadata": {
    "pycharm": {
     "name": "#%%\n"
    }
   },
   "outputs": [],
   "source": [
    "my_genotypes_for_pgs_025.to_csv()"
   ]
  },
  {
   "cell_type": "code",
   "execution_count": null,
   "metadata": {
    "pycharm": {
     "name": "#%%\n"
    }
   },
   "outputs": [],
   "source": [
    "bam_file.close()\n",
    "alignment_data.close()"
   ]
  },
  {
   "cell_type": "code",
   "execution_count": null,
   "metadata": {
    "pycharm": {
     "name": "#%%\n"
    }
   },
   "outputs": [],
   "source": [
    "my_genotypes_for_pgs_025.to_csv()"
   ]
  },
  {
   "cell_type": "code",
   "execution_count": null,
   "metadata": {
    "pycharm": {
     "name": "#%%\n"
    }
   },
   "outputs": [],
   "source": [
    "bam_file.close()\n",
    "alignment_data.close()"
   ]
  },
  {
   "cell_type": "code",
   "execution_count": null,
   "metadata": {
    "pycharm": {
     "name": "#%%\n"
    }
   },
   "outputs": [],
   "source": [
    "my_genotypes_for_pgs_025.to_csv()"
   ]
  },
  {
   "cell_type": "code",
   "execution_count": null,
   "metadata": {
    "pycharm": {
     "name": "#%%\n"
    }
   },
   "outputs": [],
   "source": [
    "bam_file.close()\n",
    "alignment_data.close()"
   ]
  },
  {
   "cell_type": "code",
   "execution_count": null,
   "metadata": {
    "pycharm": {
     "name": "#%%\n"
    }
   },
   "outputs": [],
   "source": [
    "my_genotypes_for_pgs_025.to_csv()"
   ]
  },
  {
   "cell_type": "code",
   "execution_count": null,
   "metadata": {
    "pycharm": {
     "name": "#%%\n"
    }
   },
   "outputs": [],
   "source": [
    "bam_file.close()\n",
    "alignment_data.close()"
   ]
  },
  {
   "cell_type": "code",
   "execution_count": null,
   "metadata": {
    "pycharm": {
     "name": "#%%\n"
    }
   },
   "outputs": [],
   "source": [
    "my_genotypes_for_pgs_025.to_csv()"
   ]
  },
  {
   "cell_type": "code",
   "execution_count": null,
   "metadata": {},
   "outputs": [],
   "source": [
    "bam_file.close()\n",
    "alignment_data.close()"
   ]
  },
  {
   "cell_type": "code",
   "execution_count": null,
   "metadata": {},
   "outputs": [],
   "source": [
    "my_genotypes_for_pgs_025.to_csv()"
   ]
  },
  {
   "cell_type": "code",
   "execution_count": null,
   "metadata": {
    "pycharm": {
     "name": "#%%\n"
    }
   },
   "outputs": [],
   "source": [
    "bam_file.close()\n",
    "alignment_data.close()"
   ]
  },
  {
   "cell_type": "markdown",
   "metadata": {
    "pycharm": {
     "name": "#%% md\n"
    }
   },
   "source": [
    "### Compile an overview"
   ]
  }
 ],
 "metadata": {
  "kernelspec": {
   "display_name": "Python 3",
   "language": "python",
   "name": "python3"
  },
  "language_info": {
   "codemirror_mode": {
    "name": "ipython",
    "version": 3
   },
   "file_extension": ".py",
   "mimetype": "text/x-python",
   "name": "python",
   "nbconvert_exporter": "python",
   "pygments_lexer": "ipython3",
   "version": "3.8.3"
  }
 },
 "nbformat": 4,
 "nbformat_minor": 1
}
