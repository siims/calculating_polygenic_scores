{
 "cells": [
  {
   "cell_type": "markdown",
   "metadata": {
    "collapsed": true,
    "pycharm": {
     "name": "#%% md\n"
    }
   },
   "source": [
    "# How to calculate individual's all PGS catalog polygenic scores\n",
    "\n",
    ">  A polygenic score (PGS) aggregates the effects of many genetic variants into a single number which predicts genetic predisposition for a phenotype. PGS are typically composed of hundreds-to-millions of genetic variants (usually SNPs) which are combined using a weighted sum of allele dosages multiplied by their corresponding effect sizes, as estimated from a relevant genome-wide association study (GWAS). [Source: https://www.pgscatalog.org/about/#score]\n",
    "\n",
    "This notebook outlines steps to get individual's polygenic score values for all traits reported in the [PGS Catalog](https://www.pgscatalog.org/).\n",
    "\n",
    "\n",
    "*Current shortcomings:*\n",
    "* Interpretation: there are different methods for calculating polygenic scores and this notebook doesn't cover interpretation for the scores. User would need to do it themselves.\n",
    "* not handling any other values in polygenic score file rsid column that is not truly a rsid value in the format `rs12345`\n",
    "  * just values left empty by pgs study\n",
    "  * other nomenclature (like SNP_DQA1_32717072 and AA_DQB1_57_32740666_AS)\n",
    "  * values that are not variances from the reference genome (not sure about this)\n",
    "* For chrom-pos based polygenic score file only handling hg19 (there is only as single score file which is created with hg38 `PGS000325` at the time of writing)"
   ]
  },
  {
   "cell_type": "code",
   "execution_count": null,
   "outputs": [],
   "source": [
    "import pandas as pd\n",
    "\n",
    "from search_your_dna.pgscatalog import calc_all_polygenic_scores_parallel, \\\n",
    "    get_pgs_metadata, get_all_pgs_api_data, do_calc_polygenic_score"
   ],
   "metadata": {
    "collapsed": false,
    "pycharm": {
     "name": "#%%\n"
    }
   }
  },
  {
   "cell_type": "markdown",
   "source": [
    "## Inputs"
   ],
   "metadata": {
    "collapsed": false
   }
  },
  {
   "cell_type": "code",
   "execution_count": null,
   "outputs": [],
   "source": [
    "# individual's genome variant call file. vcf file *must* be annotated with rsids\n",
    "vcf_file = \"data/GFX0237425.GRCh38.p7.annotated.hg38_multianno.updated.vcf\"\n",
    "vcf_rsid_index_file = f\"{vcf_file}.rsid\"\n",
    "vcf_compressed_file = f\"{vcf_file}.gz\"\n",
    "vcf_chrom_pos_index_file = f\"{vcf_file}.gz.tbi\"\n",
    "\n",
    "# metadata\n",
    "hg19_ref_genome_dir = \"data/hg19\"\n",
    "hg19_rsid_chrom_pos_mapping_file = f\"{hg19_ref_genome_dir}/hg19_avsnp150.txt.gz\"\n",
    "hg19_rsid_chrom_pos_mapping_file_index = f\"{hg19_ref_genome_dir}/hg19_avsnp150.txt.gz.tbi\"\n",
    "\n",
    "# other inputs\n",
    "num_parallel_processes = 7 # num of cores to use to calculate pgs\n",
    "max_pgs_alleles = 100_000 # won't calculate pgs score for file with more than `max_pgs_alleles`"
   ],
   "metadata": {
    "collapsed": false,
    "pycharm": {
     "name": "#%%\n"
    }
   }
  },
  {
   "cell_type": "markdown",
   "source": [
    "### How to get snp metadata file for mapping hg19 chrom-pos to rsids\n",
    "\n",
    "#### Download hg19 snp metadata file with annovar\n",
    "\n",
    "Direct download from [annovar's server]( http://www.openbioinformatics.org/annovar/download/hg19_avsnp150.txt.gz) or using annovar:"
   ],
   "metadata": {
    "collapsed": false,
    "pycharm": {
     "name": "#%% md\n"
    }
   }
  },
  {
   "cell_type": "code",
   "execution_count": null,
   "outputs": [],
   "source": [
    "# set /path/to/hg19 to be the same as `hg19_ref_genome_dir`\n",
    "!/path/to/annovar/annotate_variation.pl -buildver hg19 -downdb -webfrom annovar avsnp150 /path/to/hg19"
   ],
   "metadata": {
    "collapsed": false,
    "pycharm": {
     "name": "#%%\n"
    }
   }
  },
  {
   "cell_type": "markdown",
   "source": [
    "#### Create tabix index\n",
    "\n",
    "*tabix is packaged with samtools installation*"
   ],
   "metadata": {
    "collapsed": false
   }
  },
  {
   "cell_type": "code",
   "execution_count": null,
   "outputs": [],
   "source": [
    "# set /path/to/hg19 to be the same as `hg19_ref_genome_dir`\n",
    "!bgzip -c /path/to/hg19/hg19_avsnp150.txt > d/path/to/hg19/hg19_avsnp150.txt.gz\n",
    "!tabix --begin 2 --end 3 --sequence 1 /path/to/hg19/hg19_avsnp150.txt.gz"
   ],
   "metadata": {
    "collapsed": false,
    "pycharm": {
     "name": "#%%\n"
    }
   }
  },
  {
   "cell_type": "markdown",
   "source": [
    "## Outputs"
   ],
   "metadata": {
    "collapsed": false,
    "pycharm": {
     "name": "#%% md\n"
    }
   }
  },
  {
   "cell_type": "code",
   "execution_count": null,
   "outputs": [],
   "source": [
    "pgs_results_summary_csv = \"data/pgs_results.csv\" # summary polygenic score values with metadata\n",
    "pgs_catalog_input_cache_dir = \"data/pgs\" # directory containing score file with metadata from PGS catalog API\n",
    "pgs_results_cache_dir = \"data/pgs_results\" # directory containing individual's pgs analysis results"
   ],
   "metadata": {
    "collapsed": false,
    "pycharm": {
     "name": "#%%\n"
    }
   }
  },
  {
   "cell_type": "markdown",
   "source": [
    "## Get all PGS catalog score info from their API"
   ],
   "metadata": {
    "collapsed": false,
    "pycharm": {
     "name": "#%% md\n"
    }
   }
  },
  {
   "cell_type": "code",
   "execution_count": null,
   "outputs": [],
   "source": [
    "pgs_catalog_score_metadata = get_all_pgs_api_data(\"score/all\", cache_dir=pgs_catalog_input_cache_dir)"
   ],
   "metadata": {
    "collapsed": false,
    "pycharm": {
     "name": "#%%\n"
    }
   }
  },
  {
   "cell_type": "markdown",
   "source": [
    "## Calculating all polygenic values for score found from the PGS catalog"
   ],
   "metadata": {
    "collapsed": false
   }
  },
  {
   "cell_type": "code",
   "execution_count": null,
   "outputs": [],
   "source": [
    "%%time\n",
    "\n",
    "pgs_ids = [pgs_id for pgs_id in sorted([item[\"id\"] for item in pgs_catalog_score_metadata])]\n",
    "\n",
    "all_pgs_scores = calc_all_polygenic_scores_parallel(\n",
    "    pgs_ids=pgs_ids,\n",
    "    vcf_file=vcf_file,\n",
    "    num_parallel_processes=num_parallel_processes,\n",
    "    max_pgs_alleles=max_pgs_alleles,\n",
    "    hg19_rsid_chrom_pos_mapping_file=hg19_rsid_chrom_pos_mapping_file,\n",
    "    pgs_catalog_input_cache_dir = pgs_catalog_input_cache_dir,\n",
    "    pgs_result_cache_dir = pgs_results_cache_dir\n",
    ")\n",
    "all_pgs_scores"
   ],
   "metadata": {
    "collapsed": false,
    "pycharm": {
     "name": "#%%\n"
    }
   }
  },
  {
   "cell_type": "markdown",
   "source": [
    "## Attach polygenic score metadata"
   ],
   "metadata": {
    "collapsed": false,
    "pycharm": {
     "name": "#%% md\n"
    }
   }
  },
  {
   "cell_type": "code",
   "execution_count": null,
   "outputs": [],
   "source": [
    "errors = all_pgs_scores[[\"pgs_id\", \"error\"]][~all_pgs_scores[\"error\"].isna()].set_index(\"pgs_id\")\n",
    "errors"
   ],
   "metadata": {
    "collapsed": false,
    "pycharm": {
     "name": "#%%\n"
    }
   }
  },
  {
   "cell_type": "code",
   "execution_count": null,
   "outputs": [],
   "source": [
    "pgs_metadata_df = pd.DataFrame(columns=[\"pgs_id\", \"trait\", \"method_categorized\", \"method\", \"ancestry\"])\n",
    "for pgs_id in pgs_ids:\n",
    "    pgs_metadata_df = pgs_metadata_df.append(get_pgs_metadata(pgs_id, pgs_catalog_input_cache_dir), ignore_index=True)\n",
    "\n",
    "result_df = all_pgs_scores[[\"pgs_id\", \"score\"]].set_index(\"pgs_id\").join(pgs_metadata_df.set_index(\"pgs_id\"), on=\"pgs_id\")\n",
    "result_df = result_df.join(errors, on=\"pgs_id\")\n",
    "\n",
    "result_df.to_csv(f\"{pgs_results_cache_dir}/pgs_results.csv\", index=None, sep=\"\\t\")"
   ],
   "metadata": {
    "collapsed": false,
    "pycharm": {
     "name": "#%%\n"
    }
   }
  },
  {
   "cell_type": "markdown",
   "source": [
    "## Calculating a single score\n",
    "\n",
    "### Example of calculating a score which have rsids in the pgs score files"
   ],
   "metadata": {
    "collapsed": false,
    "pycharm": {
     "name": "#%% md\n"
    }
   }
  },
  {
   "cell_type": "code",
   "execution_count": null,
   "outputs": [],
   "source": [
    "%%time\n",
    "\n",
    "pgs_325_id = \"PGS000325\"\n",
    "pgs_325_score = do_calc_polygenic_score(\n",
    "    vcf_file=vcf_file,\n",
    "    pgs_id=pgs_325_id,\n",
    "    hg19_rsid_chrom_pos_mapping_file=hg19_rsid_chrom_pos_mapping_file,\n",
    "    max_pgs_alleles=200,\n",
    "    pgs_catalog_input_cache_dir=pgs_catalog_input_cache_dir,\n",
    "    pgs_result_cache_dir=pgs_results_cache_dir\n",
    ")\n",
    "pgs_325_score\n"
   ],
   "metadata": {
    "collapsed": false,
    "pycharm": {
     "name": "#%%\n"
    }
   }
  },
  {
   "cell_type": "markdown",
   "source": [
    "### Example of calculating a score which have only chrom/pos values in the pgs score files"
   ],
   "metadata": {
    "collapsed": false,
    "pycharm": {
     "name": "#%% md\n"
    }
   }
  },
  {
   "cell_type": "code",
   "execution_count": null,
   "outputs": [],
   "source": [
    "%%time\n",
    "\n",
    "pgs_004_id = \"PGS000004\"\n",
    "pgs_004_score = do_calc_polygenic_score(\n",
    "    vcf_file=vcf_file,\n",
    "    pgs_id=pgs_004_id,\n",
    "    hg19_rsid_chrom_pos_mapping_file=hg19_rsid_chrom_pos_mapping_file,\n",
    "    max_pgs_alleles=2000,\n",
    "    pgs_catalog_input_cache_dir=pgs_catalog_input_cache_dir,\n",
    "    pgs_result_cache_dir=pgs_results_cache_dir\n",
    ")\n",
    "pgs_004_score\n",
    "\n"
   ],
   "metadata": {
    "collapsed": false,
    "pycharm": {
     "name": "#%%\n"
    }
   }
  },
  {
   "cell_type": "code",
   "execution_count": null,
   "outputs": [],
   "source": [],
   "metadata": {
    "collapsed": false,
    "pycharm": {
     "name": "#%%\n"
    }
   }
  }
 ],
 "metadata": {
  "kernelspec": {
   "display_name": "Python 3",
   "language": "python",
   "name": "python3"
  },
  "language_info": {
   "codemirror_mode": {
    "name": "ipython",
    "version": 2
   },
   "file_extension": ".py",
   "mimetype": "text/x-python",
   "name": "python",
   "nbconvert_exporter": "python",
   "pygments_lexer": "ipython2",
   "version": "2.7.6"
  }
 },
 "nbformat": 4,
 "nbformat_minor": 0
}